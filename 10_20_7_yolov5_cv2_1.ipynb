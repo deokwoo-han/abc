{
  "nbformat": 4,
  "nbformat_minor": 5,
  "metadata": {
    "kernelspec": {
      "display_name": "Python KOSA",
      "language": "python",
      "name": "kosa"
    },
    "language_info": {
      "codemirror_mode": {
        "name": "ipython",
        "version": 3
      },
      "file_extension": ".py",
      "mimetype": "text/x-python",
      "name": "python",
      "nbconvert_exporter": "python",
      "pygments_lexer": "ipython3",
      "version": "3.8.12"
    },
    "colab": {
      "name": "10.20-7 yolov5_cv2_1.ipynb",
      "provenance": [],
      "collapsed_sections": [],
      "include_colab_link": true
    }
  },
  "cells": [
    {
      "cell_type": "markdown",
      "metadata": {
        "id": "view-in-github",
        "colab_type": "text"
      },
      "source": [
        "<a href=\"https://colab.research.google.com/github/deokwoo-han/abc/blob/master/10_20_7_yolov5_cv2_1.ipynb\" target=\"_parent\"><img src=\"https://colab.research.google.com/assets/colab-badge.svg\" alt=\"Open In Colab\"/></a>"
      ]
    },
    {
      "cell_type": "code",
      "metadata": {
        "id": "4516e1d5-fe27-4a0a-8e25-2b9d305a0496"
      },
      "source": [
        ""
      ],
      "id": "4516e1d5-fe27-4a0a-8e25-2b9d305a0496",
      "execution_count": null,
      "outputs": []
    },
    {
      "cell_type": "code",
      "metadata": {
        "id": "d0897080-2d21-4dd4-952f-cffb7a2523c0",
        "outputId": "9ee79b86-7d36-4071-f982-10ea02c62c74"
      },
      "source": [
        "import torch\n",
        "\n",
        "# Model#라지모델도 가능\n",
        "model = torch.hub.load('ultralytics/yolov5', 'yolov5s')"
      ],
      "id": "d0897080-2d21-4dd4-952f-cffb7a2523c0",
      "execution_count": null,
      "outputs": [
        {
          "name": "stderr",
          "output_type": "stream",
          "text": [
            "Using cache found in C:\\Users\\SAMSUNG/.cache\\torch\\hub\\ultralytics_yolov5_master\n",
            "YOLOv5  2021-10-20 torch 1.9.1 CPU\n",
            "\n",
            "Fusing layers... \n",
            "Model Summary: 367 layers, 46533693 parameters, 0 gradients\n",
            "Adding AutoShape... \n"
          ]
        }
      ]
    },
    {
      "cell_type": "code",
      "metadata": {
        "id": "d2b2ab4a-4087-4c4e-b335-d4e2d7a180c5",
        "outputId": "1924dd4d-9a71-4100-eef3-4769f4de842d"
      },
      "source": [
        "# Image\n",
        "img = '.\\\\elephant2.png'\n",
        "\n",
        "# Inference\n",
        "results = model(img)\n",
        "\n",
        "results.pandas().xyxy[0] #x와 y의 차이가 작은 코끼리가 작은?"
      ],
      "id": "d2b2ab4a-4087-4c4e-b335-d4e2d7a180c5",
      "execution_count": null,
      "outputs": [
        {
          "data": {
            "text/html": [
              "<div>\n",
              "<style scoped>\n",
              "    .dataframe tbody tr th:only-of-type {\n",
              "        vertical-align: middle;\n",
              "    }\n",
              "\n",
              "    .dataframe tbody tr th {\n",
              "        vertical-align: top;\n",
              "    }\n",
              "\n",
              "    .dataframe thead th {\n",
              "        text-align: right;\n",
              "    }\n",
              "</style>\n",
              "<table border=\"1\" class=\"dataframe\">\n",
              "  <thead>\n",
              "    <tr style=\"text-align: right;\">\n",
              "      <th></th>\n",
              "      <th>xmin</th>\n",
              "      <th>ymin</th>\n",
              "      <th>xmax</th>\n",
              "      <th>ymax</th>\n",
              "      <th>confidence</th>\n",
              "      <th>class</th>\n",
              "      <th>name</th>\n",
              "    </tr>\n",
              "  </thead>\n",
              "  <tbody>\n",
              "    <tr>\n",
              "      <th>0</th>\n",
              "      <td>252.712250</td>\n",
              "      <td>71.421753</td>\n",
              "      <td>863.918091</td>\n",
              "      <td>517.659424</td>\n",
              "      <td>0.961684</td>\n",
              "      <td>20</td>\n",
              "      <td>elephant</td>\n",
              "    </tr>\n",
              "    <tr>\n",
              "      <th>1</th>\n",
              "      <td>72.390297</td>\n",
              "      <td>171.121826</td>\n",
              "      <td>204.954865</td>\n",
              "      <td>319.469574</td>\n",
              "      <td>0.927160</td>\n",
              "      <td>20</td>\n",
              "      <td>elephant</td>\n",
              "    </tr>\n",
              "  </tbody>\n",
              "</table>\n",
              "</div>"
            ],
            "text/plain": [
              "         xmin        ymin        xmax        ymax  confidence  class      name\n",
              "0  252.712250   71.421753  863.918091  517.659424    0.961684     20  elephant\n",
              "1   72.390297  171.121826  204.954865  319.469574    0.927160     20  elephant"
            ]
          },
          "execution_count": 2,
          "metadata": {},
          "output_type": "execute_result"
        }
      ]
    },
    {
      "cell_type": "code",
      "metadata": {
        "id": "7f45ee31-b463-4b23-8393-3a5c2bccf98f"
      },
      "source": [
        "import cv2"
      ],
      "id": "7f45ee31-b463-4b23-8393-3a5c2bccf98f",
      "execution_count": null,
      "outputs": []
    },
    {
      "cell_type": "code",
      "metadata": {
        "id": "66aed092-e8a2-4870-aff9-f1f564110f7e"
      },
      "source": [
        "src = cv2.imread('.\\\\elephant2.png')"
      ],
      "id": "66aed092-e8a2-4870-aff9-f1f564110f7e",
      "execution_count": null,
      "outputs": []
    },
    {
      "cell_type": "code",
      "metadata": {
        "id": "4f538adb-54f0-4b0f-b70b-7fbe54348598"
      },
      "source": [
        "elephant1 = src[171:318, 71:205]"
      ],
      "id": "4f538adb-54f0-4b0f-b70b-7fbe54348598",
      "execution_count": null,
      "outputs": []
    },
    {
      "cell_type": "code",
      "metadata": {
        "id": "994cc466-dec5-4e0c-8586-72ee3202cc0b"
      },
      "source": [
        "elephant2 = src[71:518, 254:869]"
      ],
      "id": "994cc466-dec5-4e0c-8586-72ee3202cc0b",
      "execution_count": null,
      "outputs": []
    },
    {
      "cell_type": "code",
      "metadata": {
        "id": "45008b5c-db83-4f4e-91ae-b3e2268dde46",
        "outputId": "8924f6ff-833c-4506-d12b-4c9b1e0fce90"
      },
      "source": [
        "cv2.imshow('Image', src)\n",
        "cv2.imshow('Crop 1', elephant1)\n",
        "cv2.imshow('Crop 2', elephant2)\n",
        "cv2.waitKey(10000)"
      ],
      "id": "45008b5c-db83-4f4e-91ae-b3e2268dde46",
      "execution_count": null,
      "outputs": [
        {
          "data": {
            "text/plain": [
              "-1"
            ]
          },
          "execution_count": 7,
          "metadata": {},
          "output_type": "execute_result"
        }
      ]
    },
    {
      "cell_type": "code",
      "metadata": {
        "id": "a7caff91-9d96-4589-8aad-c50e5b143b70",
        "outputId": "f3ea8230-9336-4286-ef7b-93b1e6f4aa84"
      },
      "source": [
        "cv2.imwrite('.\\\\crop_elephant1.png', elephant1)\n",
        "cv2.imwrite('.\\\\crop_elephant2.png', elephant2)"
      ],
      "id": "a7caff91-9d96-4589-8aad-c50e5b143b70",
      "execution_count": null,
      "outputs": [
        {
          "data": {
            "text/plain": [
              "True"
            ]
          },
          "execution_count": 8,
          "metadata": {},
          "output_type": "execute_result"
        }
      ]
    },
    {
      "cell_type": "code",
      "metadata": {
        "id": "d95f06f1-df3e-45eb-bcd7-1dc326ac29d5"
      },
      "source": [
        "cv2.destroyAllWindows() "
      ],
      "id": "d95f06f1-df3e-45eb-bcd7-1dc326ac29d5",
      "execution_count": null,
      "outputs": []
    }
  ]
}
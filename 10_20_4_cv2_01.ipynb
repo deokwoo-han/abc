{
  "nbformat": 4,
  "nbformat_minor": 5,
  "metadata": {
    "kernelspec": {
      "display_name": "Python KOSA",
      "language": "python",
      "name": "kosa"
    },
    "language_info": {
      "codemirror_mode": {
        "name": "ipython",
        "version": 3
      },
      "file_extension": ".py",
      "mimetype": "text/x-python",
      "name": "python",
      "nbconvert_exporter": "python",
      "pygments_lexer": "ipython3",
      "version": "3.8.12"
    },
    "colab": {
      "name": "10.20-4 cv2_01.ipynb",
      "provenance": [],
      "collapsed_sections": [],
      "include_colab_link": true
    }
  },
  "cells": [
    {
      "cell_type": "markdown",
      "metadata": {
        "id": "view-in-github",
        "colab_type": "text"
      },
      "source": [
        "<a href=\"https://colab.research.google.com/github/deokwoo-han/abc/blob/master/10_20_4_cv2_01.ipynb\" target=\"_parent\"><img src=\"https://colab.research.google.com/assets/colab-badge.svg\" alt=\"Open In Colab\"/></a>"
      ]
    },
    {
      "cell_type": "code",
      "metadata": {
        "id": "321148ed-e86d-425a-9671-05a1de13d08d"
      },
      "source": [
        "import os"
      ],
      "id": "321148ed-e86d-425a-9671-05a1de13d08d",
      "execution_count": null,
      "outputs": []
    },
    {
      "cell_type": "code",
      "metadata": {
        "id": "32b6d0ed-e10e-4528-aca5-9ae42ab68440",
        "outputId": "a46ecbca-0682-41f4-d327-9a9e1d4ff0a5"
      },
      "source": [
        "import sys\n",
        "print(sys.version)"
      ],
      "id": "32b6d0ed-e10e-4528-aca5-9ae42ab68440",
      "execution_count": null,
      "outputs": [
        {
          "name": "stdout",
          "output_type": "stream",
          "text": [
            "3.8.12 (default, Oct 12 2021, 03:01:40) [MSC v.1916 64 bit (AMD64)]\n"
          ]
        }
      ]
    },
    {
      "cell_type": "code",
      "metadata": {
        "id": "eff5cff9-87ad-4890-85a6-f388e1896473"
      },
      "source": [
        "import cv2"
      ],
      "id": "eff5cff9-87ad-4890-85a6-f388e1896473",
      "execution_count": null,
      "outputs": []
    },
    {
      "cell_type": "code",
      "metadata": {
        "id": "4d406ed4-4cc8-45de-8b4e-567dcedeff47",
        "outputId": "62bb9731-0509-42ff-e315-e936d054edf1"
      },
      "source": [
        "cv2.__version__"
      ],
      "id": "4d406ed4-4cc8-45de-8b4e-567dcedeff47",
      "execution_count": null,
      "outputs": [
        {
          "data": {
            "text/plain": [
              "'4.3.0'"
            ]
          },
          "execution_count": 4,
          "metadata": {},
          "output_type": "execute_result"
        }
      ]
    },
    {
      "cell_type": "code",
      "metadata": {
        "id": "c493fc4b-9aef-409a-b900-bb3999f8a2d4"
      },
      "source": [
        "src = cv2.imread('.\\\\elephant2.png')"
      ],
      "id": "c493fc4b-9aef-409a-b900-bb3999f8a2d4",
      "execution_count": null,
      "outputs": []
    },
    {
      "cell_type": "code",
      "metadata": {
        "id": "c6697d0f-fc2b-4b2a-886c-e6f823bcb53d",
        "outputId": "fdc70a01-17a9-4352-a70a-d7063d918dc2"
      },
      "source": [
        "type(src)"
      ],
      "id": "c6697d0f-fc2b-4b2a-886c-e6f823bcb53d",
      "execution_count": null,
      "outputs": [
        {
          "data": {
            "text/plain": [
              "numpy.ndarray"
            ]
          },
          "execution_count": 6,
          "metadata": {},
          "output_type": "execute_result"
        }
      ]
    },
    {
      "cell_type": "code",
      "metadata": {
        "id": "d32a66fa-31f2-4045-a5c2-944c4c7872d8",
        "outputId": "b1244838-337a-41af-d888-aa8d129169a4"
      },
      "source": [
        "src.shape"
      ],
      "id": "d32a66fa-31f2-4045-a5c2-944c4c7872d8",
      "execution_count": null,
      "outputs": [
        {
          "data": {
            "text/plain": [
              "(532, 946, 3)"
            ]
          },
          "execution_count": 7,
          "metadata": {},
          "output_type": "execute_result"
        }
      ]
    },
    {
      "cell_type": "code",
      "metadata": {
        "id": "d4e75ba8-aad2-4db7-b186-a5b629543395"
      },
      "source": [
        "crop1 = src[100:500,250:800]"
      ],
      "id": "d4e75ba8-aad2-4db7-b186-a5b629543395",
      "execution_count": null,
      "outputs": []
    },
    {
      "cell_type": "code",
      "metadata": {
        "id": "0128a41d-83ae-45d9-bf28-b5fb45482e88"
      },
      "source": [
        "#upside_down = cv2.flip(src, -1)"
      ],
      "id": "0128a41d-83ae-45d9-bf28-b5fb45482e88",
      "execution_count": null,
      "outputs": []
    },
    {
      "cell_type": "code",
      "metadata": {
        "id": "9c8f3755-300d-4fcf-ad59-dbdcdf52a28d",
        "outputId": "bda4f1df-7bd1-4842-e372-e26aceb111d6"
      },
      "source": [
        "cv2.imshow('Image', src)\n",
        "cv2.imshow('Crop 1', crop1)\n",
        "#cv2.imshow('Upside Down', upside_down)\n",
        "#윈도우 화면, 본래 창 바깥에도 뜸, 코랩은 곤란(불가능함)\n",
        "cv2.waitKey(10000) "
      ],
      "id": "9c8f3755-300d-4fcf-ad59-dbdcdf52a28d",
      "execution_count": null,
      "outputs": [
        {
          "data": {
            "text/plain": [
              "-1"
            ]
          },
          "execution_count": 20,
          "metadata": {},
          "output_type": "execute_result"
        }
      ]
    },
    {
      "cell_type": "code",
      "metadata": {
        "id": "22958707-c574-4dd4-bcf6-fb4ff5fd77ff",
        "outputId": "d3a06803-3d01-4631-8e75-70077a8a272f"
      },
      "source": [
        "#cv2.waitKey(7000) # 0 forever #인도코끼리, 살아있는 코끼리... 0을 눌러\n",
        "#팝업창을 코랩에선 못함"
      ],
      "id": "22958707-c574-4dd4-bcf6-fb4ff5fd77ff",
      "execution_count": null,
      "outputs": [
        {
          "data": {
            "text/plain": [
              "-1"
            ]
          },
          "execution_count": 19,
          "metadata": {},
          "output_type": "execute_result"
        }
      ]
    },
    {
      "cell_type": "code",
      "metadata": {
        "id": "3a48c3c1-cbed-4a35-8a46-132cfedcfa3d"
      },
      "source": [
        "cv2.destroyAllWindows() "
      ],
      "id": "3a48c3c1-cbed-4a35-8a46-132cfedcfa3d",
      "execution_count": null,
      "outputs": []
    }
  ]
}
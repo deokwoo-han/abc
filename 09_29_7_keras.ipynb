{
  "nbformat": 4,
  "nbformat_minor": 0,
  "metadata": {
    "colab": {
      "name": "09.29-7-keras.ipynb",
      "provenance": [],
      "collapsed_sections": [],
      "authorship_tag": "ABX9TyO78WaMPlT+pXlHl5S3p3Ar",
      "include_colab_link": true
    },
    "kernelspec": {
      "name": "python3",
      "display_name": "Python 3"
    },
    "language_info": {
      "name": "python"
    }
  },
  "cells": [
    {
      "cell_type": "markdown",
      "metadata": {
        "id": "view-in-github",
        "colab_type": "text"
      },
      "source": [
        "<a href=\"https://colab.research.google.com/github/deokwoo-han/abc/blob/master/09_29_7_keras.ipynb\" target=\"_parent\"><img src=\"https://colab.research.google.com/assets/colab-badge.svg\" alt=\"Open In Colab\"/></a>"
      ]
    },
    {
      "cell_type": "code",
      "metadata": {
        "id": "XxzwMKf0RYWo"
      },
      "source": [
        ""
      ],
      "execution_count": null,
      "outputs": []
    },
    {
      "cell_type": "code",
      "metadata": {
        "id": "b45WuMacRTk-"
      },
      "source": [
        "from tensorflow import keras\n",
        "from tensorflow.keras import layers"
      ],
      "execution_count": null,
      "outputs": []
    },
    {
      "cell_type": "code",
      "metadata": {
        "id": "MoNtjs3jRbJz"
      },
      "source": [
        "# Create a network with 1 linear unit\n",
        "#model = keras.Sequential([\n",
        "#    layers.Dense(units=1, input_shape=[3])\n",
        "#])"
      ],
      "execution_count": null,
      "outputs": []
    },
    {
      "cell_type": "code",
      "metadata": {
        "id": "wgiyviyeSO_g"
      },
      "source": [
        "# Create a network with 1 linear unit\n",
        "model = keras.Sequential([\n",
        "    layers.Dense(units=50, input_shape=[24]),\n",
        "    layers.Dense(units=50),\n",
        "    layers.Dense(units=30),\n",
        "    layers.Dense(units=2)#컬럼이 24 출력값이 50 웨이트는?\n",
        "    #24X50 나머지 50은? 바이어스\n",
        "])#전 레이어의 출력이 인풋, 다 달라붙어 있어서 1250\n",
        "#몇 개를 학습을 시킬지 확인할 것 출력 두개로 하는 건 내일"
      ],
      "execution_count": null,
      "outputs": []
    },
    {
      "cell_type": "code",
      "metadata": {
        "colab": {
          "base_uri": "https://localhost:8080/"
        },
        "id": "Q9fMJkpXRl3f",
        "outputId": "ab900181-055a-4645-f114-c0d91578cace"
      },
      "source": [
        "model.summary()"
      ],
      "execution_count": null,
      "outputs": [
        {
          "output_type": "stream",
          "name": "stdout",
          "text": [
            "Model: \"sequential_1\"\n",
            "_________________________________________________________________\n",
            "Layer (type)                 Output Shape              Param #   \n",
            "=================================================================\n",
            "dense_1 (Dense)              (None, 50)                1250      \n",
            "_________________________________________________________________\n",
            "dense_2 (Dense)              (None, 50)                2550      \n",
            "_________________________________________________________________\n",
            "dense_3 (Dense)              (None, 30)                1530      \n",
            "_________________________________________________________________\n",
            "dense_4 (Dense)              (None, 2)                 62        \n",
            "=================================================================\n",
            "Total params: 5,392\n",
            "Trainable params: 5,392\n",
            "Non-trainable params: 0\n",
            "_________________________________________________________________\n"
          ]
        }
      ]
    }
  ]
}
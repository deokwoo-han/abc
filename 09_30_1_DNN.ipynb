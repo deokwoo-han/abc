{
  "nbformat": 4,
  "nbformat_minor": 0,
  "metadata": {
    "colab": {
      "name": "09.30-1 DNN.ipynb",
      "provenance": [],
      "collapsed_sections": [],
      "authorship_tag": "ABX9TyMgggsp6ePral79uNhujaZN",
      "include_colab_link": true
    },
    "kernelspec": {
      "name": "python3",
      "display_name": "Python 3"
    },
    "language_info": {
      "name": "python"
    }
  },
  "cells": [
    {
      "cell_type": "markdown",
      "metadata": {
        "id": "view-in-github",
        "colab_type": "text"
      },
      "source": [
        "<a href=\"https://colab.research.google.com/github/deokwoo-han/abc/blob/master/09_30_1_DNN.ipynb\" target=\"_parent\"><img src=\"https://colab.research.google.com/assets/colab-badge.svg\" alt=\"Open In Colab\"/></a>"
      ]
    },
    {
      "cell_type": "code",
      "metadata": {
        "id": "zibWpPhgUdaQ"
      },
      "source": [
        "import pandas as pd"
      ],
      "execution_count": null,
      "outputs": []
    },
    {
      "cell_type": "code",
      "metadata": {
        "id": "L5INzeIzXubW"
      },
      "source": [
        "import tensorflow as tf"
      ],
      "execution_count": null,
      "outputs": []
    },
    {
      "cell_type": "code",
      "metadata": {
        "id": "7utRyt8xS2ry"
      },
      "source": [
        "df = pd.read_csv('credit_cards_dataset.csv')"
      ],
      "execution_count": null,
      "outputs": []
    },
    {
      "cell_type": "code",
      "metadata": {
        "id": "70DWISlDUS73"
      },
      "source": [
        "X = df.drop(['default.payment.next.month'], axis=1).values"
      ],
      "execution_count": null,
      "outputs": []
    },
    {
      "cell_type": "code",
      "metadata": {
        "id": "Oj2rDwvLQwTT"
      },
      "source": [
        "Y = df['default.payment.next.month'].values"
      ],
      "execution_count": null,
      "outputs": []
    },
    {
      "cell_type": "code",
      "metadata": {
        "id": "SZ16nsjxQzdw"
      },
      "source": [
        "from sklearn.model_selection import train_test_split"
      ],
      "execution_count": null,
      "outputs": []
    },
    {
      "cell_type": "code",
      "metadata": {
        "id": "puAdMZemUg9t"
      },
      "source": [
        "X_train, X_test, Y_train, Y_test = train_test_split(X, Y, test_size=0.3, random_state=42)"
      ],
      "execution_count": null,
      "outputs": []
    },
    {
      "cell_type": "markdown",
      "metadata": {
        "id": "o9hljNwaVhxe"
      },
      "source": [
        "Standard Scale"
      ]
    },
    {
      "cell_type": "code",
      "metadata": {
        "id": "WEkWZulqUoA8"
      },
      "source": [
        "from sklearn.preprocessing import StandardScaler"
      ],
      "execution_count": null,
      "outputs": []
    },
    {
      "cell_type": "code",
      "metadata": {
        "id": "YdderT0EVOHl"
      },
      "source": [
        "sc = StandardScaler()"
      ],
      "execution_count": null,
      "outputs": []
    },
    {
      "cell_type": "code",
      "metadata": {
        "id": "2PuCcGbXVQ3E"
      },
      "source": [
        "X_train = sc.fit_transform(X_train)"
      ],
      "execution_count": null,
      "outputs": []
    },
    {
      "cell_type": "code",
      "metadata": {
        "colab": {
          "base_uri": "https://localhost:8080/",
          "height": 320
        },
        "id": "KyiCqJNlVkc1",
        "outputId": "a4ba53b3-2108-454a-ecca-be5a3b47acb7"
      },
      "source": [
        "pd.DataFrame(X_train).describe().round(2)#평균값이 제로 분산값이 1, 함수영 언어, 데이터셋만 준비"
      ],
      "execution_count": null,
      "outputs": [
        {
          "output_type": "execute_result",
          "data": {
            "text/html": [
              "<div>\n",
              "<style scoped>\n",
              "    .dataframe tbody tr th:only-of-type {\n",
              "        vertical-align: middle;\n",
              "    }\n",
              "\n",
              "    .dataframe tbody tr th {\n",
              "        vertical-align: top;\n",
              "    }\n",
              "\n",
              "    .dataframe thead th {\n",
              "        text-align: right;\n",
              "    }\n",
              "</style>\n",
              "<table border=\"1\" class=\"dataframe\">\n",
              "  <thead>\n",
              "    <tr style=\"text-align: right;\">\n",
              "      <th></th>\n",
              "      <th>0</th>\n",
              "      <th>1</th>\n",
              "      <th>2</th>\n",
              "      <th>3</th>\n",
              "      <th>4</th>\n",
              "      <th>5</th>\n",
              "      <th>6</th>\n",
              "      <th>7</th>\n",
              "      <th>8</th>\n",
              "      <th>9</th>\n",
              "      <th>10</th>\n",
              "      <th>11</th>\n",
              "      <th>12</th>\n",
              "      <th>13</th>\n",
              "      <th>14</th>\n",
              "      <th>15</th>\n",
              "      <th>16</th>\n",
              "      <th>17</th>\n",
              "      <th>18</th>\n",
              "      <th>19</th>\n",
              "      <th>20</th>\n",
              "      <th>21</th>\n",
              "      <th>22</th>\n",
              "      <th>23</th>\n",
              "    </tr>\n",
              "  </thead>\n",
              "  <tbody>\n",
              "    <tr>\n",
              "      <th>count</th>\n",
              "      <td>21000.00</td>\n",
              "      <td>21000.00</td>\n",
              "      <td>21000.00</td>\n",
              "      <td>21000.00</td>\n",
              "      <td>21000.00</td>\n",
              "      <td>21000.00</td>\n",
              "      <td>21000.00</td>\n",
              "      <td>21000.00</td>\n",
              "      <td>21000.00</td>\n",
              "      <td>21000.00</td>\n",
              "      <td>21000.00</td>\n",
              "      <td>21000.00</td>\n",
              "      <td>21000.00</td>\n",
              "      <td>21000.00</td>\n",
              "      <td>21000.00</td>\n",
              "      <td>21000.00</td>\n",
              "      <td>21000.00</td>\n",
              "      <td>21000.00</td>\n",
              "      <td>21000.00</td>\n",
              "      <td>21000.00</td>\n",
              "      <td>21000.00</td>\n",
              "      <td>21000.00</td>\n",
              "      <td>21000.00</td>\n",
              "      <td>21000.00</td>\n",
              "    </tr>\n",
              "    <tr>\n",
              "      <th>mean</th>\n",
              "      <td>-0.00</td>\n",
              "      <td>-0.00</td>\n",
              "      <td>-0.00</td>\n",
              "      <td>-0.00</td>\n",
              "      <td>-0.00</td>\n",
              "      <td>-0.00</td>\n",
              "      <td>-0.00</td>\n",
              "      <td>-0.00</td>\n",
              "      <td>0.00</td>\n",
              "      <td>0.00</td>\n",
              "      <td>0.00</td>\n",
              "      <td>-0.00</td>\n",
              "      <td>-0.00</td>\n",
              "      <td>-0.00</td>\n",
              "      <td>0.00</td>\n",
              "      <td>0.00</td>\n",
              "      <td>0.00</td>\n",
              "      <td>0.00</td>\n",
              "      <td>-0.00</td>\n",
              "      <td>-0.00</td>\n",
              "      <td>0.00</td>\n",
              "      <td>0.00</td>\n",
              "      <td>0.00</td>\n",
              "      <td>-0.00</td>\n",
              "    </tr>\n",
              "    <tr>\n",
              "      <th>std</th>\n",
              "      <td>1.00</td>\n",
              "      <td>1.00</td>\n",
              "      <td>1.00</td>\n",
              "      <td>1.00</td>\n",
              "      <td>1.00</td>\n",
              "      <td>1.00</td>\n",
              "      <td>1.00</td>\n",
              "      <td>1.00</td>\n",
              "      <td>1.00</td>\n",
              "      <td>1.00</td>\n",
              "      <td>1.00</td>\n",
              "      <td>1.00</td>\n",
              "      <td>1.00</td>\n",
              "      <td>1.00</td>\n",
              "      <td>1.00</td>\n",
              "      <td>1.00</td>\n",
              "      <td>1.00</td>\n",
              "      <td>1.00</td>\n",
              "      <td>1.00</td>\n",
              "      <td>1.00</td>\n",
              "      <td>1.00</td>\n",
              "      <td>1.00</td>\n",
              "      <td>1.00</td>\n",
              "      <td>1.00</td>\n",
              "    </tr>\n",
              "    <tr>\n",
              "      <th>min</th>\n",
              "      <td>-1.73</td>\n",
              "      <td>-1.22</td>\n",
              "      <td>-1.24</td>\n",
              "      <td>-2.34</td>\n",
              "      <td>-2.97</td>\n",
              "      <td>-1.57</td>\n",
              "      <td>-1.76</td>\n",
              "      <td>-1.56</td>\n",
              "      <td>-1.53</td>\n",
              "      <td>-1.52</td>\n",
              "      <td>-1.53</td>\n",
              "      <td>-1.48</td>\n",
              "      <td>-2.95</td>\n",
              "      <td>-1.68</td>\n",
              "      <td>-1.56</td>\n",
              "      <td>-3.33</td>\n",
              "      <td>-2.01</td>\n",
              "      <td>-4.19</td>\n",
              "      <td>-0.33</td>\n",
              "      <td>-0.24</td>\n",
              "      <td>-0.29</td>\n",
              "      <td>-0.30</td>\n",
              "      <td>-0.31</td>\n",
              "      <td>-0.30</td>\n",
              "    </tr>\n",
              "    <tr>\n",
              "      <th>25%</th>\n",
              "      <td>-0.87</td>\n",
              "      <td>-0.91</td>\n",
              "      <td>-1.24</td>\n",
              "      <td>-1.08</td>\n",
              "      <td>-1.05</td>\n",
              "      <td>-0.81</td>\n",
              "      <td>-0.87</td>\n",
              "      <td>-0.72</td>\n",
              "      <td>-0.70</td>\n",
              "      <td>-0.67</td>\n",
              "      <td>-0.65</td>\n",
              "      <td>-0.61</td>\n",
              "      <td>-0.65</td>\n",
              "      <td>-0.65</td>\n",
              "      <td>-0.64</td>\n",
              "      <td>-0.64</td>\n",
              "      <td>-0.64</td>\n",
              "      <td>-0.64</td>\n",
              "      <td>-0.28</td>\n",
              "      <td>-0.20</td>\n",
              "      <td>-0.26</td>\n",
              "      <td>-0.29</td>\n",
              "      <td>-0.29</td>\n",
              "      <td>-0.29</td>\n",
              "    </tr>\n",
              "    <tr>\n",
              "      <th>50%</th>\n",
              "      <td>0.01</td>\n",
              "      <td>-0.21</td>\n",
              "      <td>0.81</td>\n",
              "      <td>0.19</td>\n",
              "      <td>0.86</td>\n",
              "      <td>-0.16</td>\n",
              "      <td>0.01</td>\n",
              "      <td>0.11</td>\n",
              "      <td>0.14</td>\n",
              "      <td>0.19</td>\n",
              "      <td>0.23</td>\n",
              "      <td>0.25</td>\n",
              "      <td>-0.39</td>\n",
              "      <td>-0.39</td>\n",
              "      <td>-0.39</td>\n",
              "      <td>-0.38</td>\n",
              "      <td>-0.37</td>\n",
              "      <td>-0.37</td>\n",
              "      <td>-0.21</td>\n",
              "      <td>-0.16</td>\n",
              "      <td>-0.19</td>\n",
              "      <td>-0.21</td>\n",
              "      <td>-0.21</td>\n",
              "      <td>-0.21</td>\n",
              "    </tr>\n",
              "    <tr>\n",
              "      <th>75%</th>\n",
              "      <td>0.86</td>\n",
              "      <td>0.56</td>\n",
              "      <td>0.81</td>\n",
              "      <td>0.19</td>\n",
              "      <td>0.86</td>\n",
              "      <td>0.70</td>\n",
              "      <td>0.01</td>\n",
              "      <td>0.11</td>\n",
              "      <td>0.14</td>\n",
              "      <td>0.19</td>\n",
              "      <td>0.23</td>\n",
              "      <td>0.25</td>\n",
              "      <td>0.22</td>\n",
              "      <td>0.20</td>\n",
              "      <td>0.19</td>\n",
              "      <td>0.18</td>\n",
              "      <td>0.17</td>\n",
              "      <td>0.18</td>\n",
              "      <td>-0.04</td>\n",
              "      <td>-0.04</td>\n",
              "      <td>-0.04</td>\n",
              "      <td>-0.06</td>\n",
              "      <td>-0.05</td>\n",
              "      <td>-0.07</td>\n",
              "    </tr>\n",
              "    <tr>\n",
              "      <th>max</th>\n",
              "      <td>1.73</td>\n",
              "      <td>6.44</td>\n",
              "      <td>0.81</td>\n",
              "      <td>5.24</td>\n",
              "      <td>2.78</td>\n",
              "      <td>4.28</td>\n",
              "      <td>7.11</td>\n",
              "      <td>6.77</td>\n",
              "      <td>6.84</td>\n",
              "      <td>7.03</td>\n",
              "      <td>7.29</td>\n",
              "      <td>7.17</td>\n",
              "      <td>12.47</td>\n",
              "      <td>13.19</td>\n",
              "      <td>23.35</td>\n",
              "      <td>13.28</td>\n",
              "      <td>14.66</td>\n",
              "      <td>15.60</td>\n",
              "      <td>51.47</td>\n",
              "      <td>66.83</td>\n",
              "      <td>48.89</td>\n",
              "      <td>38.23</td>\n",
              "      <td>26.62</td>\n",
              "      <td>29.46</td>\n",
              "    </tr>\n",
              "  </tbody>\n",
              "</table>\n",
              "</div>"
            ],
            "text/plain": [
              "             0         1         2   ...        21        22        23\n",
              "count  21000.00  21000.00  21000.00  ...  21000.00  21000.00  21000.00\n",
              "mean      -0.00     -0.00     -0.00  ...      0.00      0.00     -0.00\n",
              "std        1.00      1.00      1.00  ...      1.00      1.00      1.00\n",
              "min       -1.73     -1.22     -1.24  ...     -0.30     -0.31     -0.30\n",
              "25%       -0.87     -0.91     -1.24  ...     -0.29     -0.29     -0.29\n",
              "50%        0.01     -0.21      0.81  ...     -0.21     -0.21     -0.21\n",
              "75%        0.86      0.56      0.81  ...     -0.06     -0.05     -0.07\n",
              "max        1.73      6.44      0.81  ...     38.23     26.62     29.46\n",
              "\n",
              "[8 rows x 24 columns]"
            ]
          },
          "metadata": {},
          "execution_count": 11
        }
      ]
    },
    {
      "cell_type": "code",
      "metadata": {
        "id": "HEZzlxk1VQ6U"
      },
      "source": [
        "X_test = sc.fit_transform(X_test)"
      ],
      "execution_count": null,
      "outputs": []
    },
    {
      "cell_type": "code",
      "metadata": {
        "id": "79ALtVx1VcZE"
      },
      "source": [
        "#0과 1로 갈라줘야 함"
      ],
      "execution_count": null,
      "outputs": []
    },
    {
      "cell_type": "code",
      "metadata": {
        "id": "FATH2C3ly4UH"
      },
      "source": [
        "from tensorflow import keras#모델만 준비\n",
        "from tensorflow.keras import layers\n",
        "\n",
        "# Create a network with 1 linear unit #24 하나는 모델이 망가짐, 출력값을 더 큰 걸로...\n",
        "model = keras.Sequential([\n",
        "    layers.Dense(units=30, input_shape=[24], activation='relu'), #출력값만 바꿀 것 #레이어를 백개 하면 안좋게? 30 50 30 20 10\n",
        "    layers.Dropout(rate=0.3),\n",
        "    layers.BatchNormalization(),\n",
        "\n",
        "    #layers.Dense(units=50, activation='relu'), #배치는 두번 만 넣어도 상관 없음\n",
        "    #layers.Dropout(rate=0.3),\n",
        "    #layers.BatchNormalization(),\n",
        "    \n",
        "    layers.Dense(units=30, activation='relu'),\n",
        "    layers.Dropout(rate=0.3),\n",
        "    layers.BatchNormalization(),\n",
        "\n",
        "    layers.Dense(units=15, activation='relu'),\n",
        "    layers.Dropout(rate=0.3),\n",
        "\n",
        "    layers.Dense(units=5, activation='relu'),\n",
        "    layers.Dropout(rate=0.3),\n",
        "\n",
        "    layers.Dense(units=1, activation='sigmoid')#0과 1값으로 바꿔주는 함수, 액티베이션 함수를 그냥 쓴다, 두개2로 한다면은 또 바뀜\n",
        "])#하나짜리 쉬운 것\n",
        "#변수 바꾸기 안에 숫자, 레이어 늘리기 줄이기 덴스 개수"
      ],
      "execution_count": null,
      "outputs": []
    },
    {
      "cell_type": "code",
      "metadata": {
        "id": "Qkcbm7dYS3Oc"
      },
      "source": [
        "#from tensorflow import keras#모델만 준비\n",
        "#from tensorflow.keras import layers\n",
        "\n",
        "# Create a network with 1 linear unit #24 하나는 모델이 망가짐, 출력값을 더 큰 걸로...\n",
        "#model = keras.Sequential([\n",
        "#    layers.Dense(units=30, input_shape=[24], activation='relu'), #출력값만 바꿀 것 #레이어를 백개 하면 안좋게? 30 50 30 20 10\n",
        "#    layers.Dropout(rate=0.3),\n",
        "#    layers.BatchNormalization(),\n",
        "#    layers.Dense(units=50, activation='relu'), #배치는 두번 만 넣어도 상관 없음\n",
        "#    layers.Dropout(rate=0.3),\n",
        "#    layers.BatchNormalization(),\n",
        "#    layers.Dense(units=30, activation='relu'),\n",
        "#    layers.Dropout(rate=0.3),\n",
        "#    layers.BatchNormalization(),\n",
        "#    layers.Dense(units=15, activation='relu'),\n",
        "#    layers.Dropout(rate=0.3),\n",
        "#    layers.BatchNormalization(),\n",
        "#    layers.Dense(units=5, activation='relu'),\n",
        "#    layers.Dropout(rate=0.3),\n",
        "#    layers.BatchNormalization(),\n",
        "#    layers.Dense(units=1, activation='sigmoid')#0과 1값으로 바꿔주는 함수, 액티베이션 함수를 그냥 쓴다, 두개2로 한다면은 또 바뀜\n",
        "#])#하나짜리 쉬운 것\n",
        "#변수 바꾸기 안에 숫자, 레이어 늘리기 줄이기 덴스 개수"
      ],
      "execution_count": null,
      "outputs": []
    },
    {
      "cell_type": "code",
      "metadata": {
        "id": "UIvaqfthmnjz"
      },
      "source": [
        "#keras.Sequential([\n",
        "    # ...\n",
        "#    layers.Dropout(rate=0.3), # apply 30% dropout to the next layer\n",
        "#    layers.Dense(16),\n",
        "    # ...\n",
        "#])"
      ],
      "execution_count": null,
      "outputs": []
    },
    {
      "cell_type": "code",
      "metadata": {
        "id": "_Zyrbw5-eVTa"
      },
      "source": [
        "#from tensorflow import keras#모델만 준비\n",
        "#from tensorflow.keras import layers\n",
        "\n",
        "# Create a network with 1 linear unit #24 하나는 모델이 망가짐, 출력값을 더 큰 걸로...\n",
        "#model = keras.Sequential([\n",
        "#    layers.Dense(units=50, input_shape=[24]), #출력값만 바꿀 것 #레이어를 백개 하면 안좋게?\n",
        "#    layers.Dense(units=60),\n",
        "#    layers.Dense(units=25),\n",
        "#    layers.Dense(units=10),\n",
        "#    layers.Dense(units=1, activation='sigmoid')#0과 1값으로 바꿔주는 함수, 액티베이션 함수를 그냥 쓴다, 두개2로 한다면은 또 바뀜\n",
        "#])#하나짜리 쉬운 것"
      ],
      "execution_count": null,
      "outputs": []
    },
    {
      "cell_type": "code",
      "metadata": {
        "colab": {
          "base_uri": "https://localhost:8080/"
        },
        "id": "556GDj2NTz8l",
        "outputId": "f4f95392-7a69-4e30-8d5e-7e1daed4591a"
      },
      "source": [
        "model.summary()"
      ],
      "execution_count": null,
      "outputs": [
        {
          "output_type": "stream",
          "name": "stdout",
          "text": [
            "Model: \"sequential\"\n",
            "_________________________________________________________________\n",
            "Layer (type)                 Output Shape              Param #   \n",
            "=================================================================\n",
            "dense (Dense)                (None, 30)                750       \n",
            "_________________________________________________________________\n",
            "dropout (Dropout)            (None, 30)                0         \n",
            "_________________________________________________________________\n",
            "batch_normalization (BatchNo (None, 30)                120       \n",
            "_________________________________________________________________\n",
            "dense_1 (Dense)              (None, 30)                930       \n",
            "_________________________________________________________________\n",
            "dropout_1 (Dropout)          (None, 30)                0         \n",
            "_________________________________________________________________\n",
            "batch_normalization_1 (Batch (None, 30)                120       \n",
            "_________________________________________________________________\n",
            "dense_2 (Dense)              (None, 15)                465       \n",
            "_________________________________________________________________\n",
            "dropout_2 (Dropout)          (None, 15)                0         \n",
            "_________________________________________________________________\n",
            "dense_3 (Dense)              (None, 5)                 80        \n",
            "_________________________________________________________________\n",
            "dropout_3 (Dropout)          (None, 5)                 0         \n",
            "_________________________________________________________________\n",
            "dense_4 (Dense)              (None, 1)                 6         \n",
            "=================================================================\n",
            "Total params: 2,471\n",
            "Trainable params: 2,351\n",
            "Non-trainable params: 120\n",
            "_________________________________________________________________\n"
          ]
        }
      ]
    },
    {
      "cell_type": "code",
      "metadata": {
        "id": "aN8WKCc5W1X5"
      },
      "source": [
        "model.compile(optimizer='adam', loss=tf.keras.losses.BinaryCrossentropy(), metrics=[tf.keras.metrics.BinaryAccuracy()])\n",
        "#어뎁티브 메트릭을 찾는 여러가지 방법\n",
        "#로스는 일단 바이너리 크로스 엔트로피로 쓴다."
      ],
      "execution_count": null,
      "outputs": []
    },
    {
      "cell_type": "code",
      "metadata": {
        "id": "rg1oy9NzW1i3"
      },
      "source": [
        "#컴파일 옵션을 준다"
      ],
      "execution_count": null,
      "outputs": []
    },
    {
      "cell_type": "code",
      "metadata": {
        "id": "JN2aCjhBW1e2"
      },
      "source": [
        "#미분의 절편을 찾을 방법은 무엇인가? "
      ],
      "execution_count": null,
      "outputs": []
    },
    {
      "cell_type": "code",
      "metadata": {
        "colab": {
          "base_uri": "https://localhost:8080/"
        },
        "id": "0ddCLssrW1ll",
        "outputId": "886bfdab-fab3-4e11-f585-4fa076b6f091"
      },
      "source": [
        "model.fit(X_train, Y_train, epochs=30, shuffle=True, verbose='auto', batch_size=64)#epoch 60?\n",
        "#학습 몇번이 세번재, 네번째는 포커 등에서 패섞고, 다섯번째는 과정보여주기#버킷사이즈가 64로 두배로 커짐 657이 얼마로? 329로 바뀔것\n",
        "#또한 번 체크하고 로스 값 비교하고 등등"
      ],
      "execution_count": null,
      "outputs": [
        {
          "output_type": "stream",
          "name": "stdout",
          "text": [
            "Epoch 1/30\n",
            "329/329 [==============================] - 2s 3ms/step - loss: 0.6426 - binary_accuracy: 0.6844\n",
            "Epoch 2/30\n",
            "329/329 [==============================] - 1s 3ms/step - loss: 0.5269 - binary_accuracy: 0.7723\n",
            "Epoch 3/30\n",
            "329/329 [==============================] - 1s 3ms/step - loss: 0.5077 - binary_accuracy: 0.7831\n",
            "Epoch 4/30\n",
            "329/329 [==============================] - 1s 3ms/step - loss: 0.4952 - binary_accuracy: 0.7888\n",
            "Epoch 5/30\n",
            "329/329 [==============================] - 1s 3ms/step - loss: 0.4862 - binary_accuracy: 0.7924\n",
            "Epoch 6/30\n",
            "329/329 [==============================] - 1s 3ms/step - loss: 0.4831 - binary_accuracy: 0.7956\n",
            "Epoch 7/30\n",
            "329/329 [==============================] - 1s 3ms/step - loss: 0.4780 - binary_accuracy: 0.7978\n",
            "Epoch 8/30\n",
            "329/329 [==============================] - 1s 3ms/step - loss: 0.4753 - binary_accuracy: 0.7998\n",
            "Epoch 9/30\n",
            "329/329 [==============================] - 1s 3ms/step - loss: 0.4693 - binary_accuracy: 0.8013\n",
            "Epoch 10/30\n",
            "329/329 [==============================] - 1s 3ms/step - loss: 0.4681 - binary_accuracy: 0.8024\n",
            "Epoch 11/30\n",
            "329/329 [==============================] - 1s 3ms/step - loss: 0.4689 - binary_accuracy: 0.7978\n",
            "Epoch 12/30\n",
            "329/329 [==============================] - 1s 3ms/step - loss: 0.4663 - binary_accuracy: 0.8025\n",
            "Epoch 13/30\n",
            "329/329 [==============================] - 1s 3ms/step - loss: 0.4635 - binary_accuracy: 0.8035\n",
            "Epoch 14/30\n",
            "329/329 [==============================] - 1s 3ms/step - loss: 0.4629 - binary_accuracy: 0.8013\n",
            "Epoch 15/30\n",
            "329/329 [==============================] - 1s 3ms/step - loss: 0.4607 - binary_accuracy: 0.8030\n",
            "Epoch 16/30\n",
            "329/329 [==============================] - 1s 3ms/step - loss: 0.4613 - binary_accuracy: 0.8010\n",
            "Epoch 17/30\n",
            "329/329 [==============================] - 1s 3ms/step - loss: 0.4588 - binary_accuracy: 0.8017\n",
            "Epoch 18/30\n",
            "329/329 [==============================] - 1s 3ms/step - loss: 0.4614 - binary_accuracy: 0.8006\n",
            "Epoch 19/30\n",
            "329/329 [==============================] - 1s 3ms/step - loss: 0.4573 - binary_accuracy: 0.8030\n",
            "Epoch 20/30\n",
            "329/329 [==============================] - 1s 3ms/step - loss: 0.4607 - binary_accuracy: 0.8031\n",
            "Epoch 21/30\n",
            "329/329 [==============================] - 1s 3ms/step - loss: 0.4561 - binary_accuracy: 0.8040\n",
            "Epoch 22/30\n",
            "329/329 [==============================] - 1s 3ms/step - loss: 0.4533 - binary_accuracy: 0.8055\n",
            "Epoch 23/30\n",
            "329/329 [==============================] - 1s 3ms/step - loss: 0.4577 - binary_accuracy: 0.8041\n",
            "Epoch 24/30\n",
            "329/329 [==============================] - 1s 3ms/step - loss: 0.4528 - binary_accuracy: 0.8041\n",
            "Epoch 25/30\n",
            "329/329 [==============================] - 1s 3ms/step - loss: 0.4559 - binary_accuracy: 0.8047\n",
            "Epoch 26/30\n",
            "329/329 [==============================] - 1s 3ms/step - loss: 0.4539 - binary_accuracy: 0.8021\n",
            "Epoch 27/30\n",
            "329/329 [==============================] - 1s 3ms/step - loss: 0.4531 - binary_accuracy: 0.8060\n",
            "Epoch 28/30\n",
            "329/329 [==============================] - 1s 3ms/step - loss: 0.4568 - binary_accuracy: 0.8035\n",
            "Epoch 29/30\n",
            "329/329 [==============================] - 1s 3ms/step - loss: 0.4529 - binary_accuracy: 0.8051\n",
            "Epoch 30/30\n",
            "329/329 [==============================] - 1s 3ms/step - loss: 0.4518 - binary_accuracy: 0.8037\n"
          ]
        },
        {
          "output_type": "execute_result",
          "data": {
            "text/plain": [
              "<keras.callbacks.History at 0x7f6d74190fd0>"
            ]
          },
          "metadata": {},
          "execution_count": 22
        }
      ]
    },
    {
      "cell_type": "code",
      "metadata": {
        "id": "_VlXfz8KcJLt"
      },
      "source": [
        "y_predict = model.predict(X_test)"
      ],
      "execution_count": null,
      "outputs": []
    },
    {
      "cell_type": "code",
      "metadata": {
        "colab": {
          "base_uri": "https://localhost:8080/"
        },
        "id": "FdGhBdnOcRs_",
        "outputId": "4862ccf2-bb1a-4603-89c3-858c1277f5a8"
      },
      "source": [
        "y_predict[:30]"
      ],
      "execution_count": null,
      "outputs": [
        {
          "output_type": "execute_result",
          "data": {
            "text/plain": [
              "array([[0.182699  ],\n",
              "       [0.09020588],\n",
              "       [0.15923306],\n",
              "       [0.10939404],\n",
              "       [0.16546226],\n",
              "       [0.16199574],\n",
              "       [0.36333615],\n",
              "       [0.24994463],\n",
              "       [0.08576244],\n",
              "       [0.15703472],\n",
              "       [0.5757797 ],\n",
              "       [0.08614674],\n",
              "       [0.16744658],\n",
              "       [0.841388  ],\n",
              "       [0.14582899],\n",
              "       [0.10966274],\n",
              "       [0.13343501],\n",
              "       [0.19486004],\n",
              "       [0.18551049],\n",
              "       [0.59982204],\n",
              "       [0.16513678],\n",
              "       [0.20022842],\n",
              "       [0.17966288],\n",
              "       [0.10114259],\n",
              "       [0.19536808],\n",
              "       [0.18842775],\n",
              "       [0.13296267],\n",
              "       [0.55869156],\n",
              "       [0.17662403],\n",
              "       [0.17936352]], dtype=float32)"
            ]
          },
          "metadata": {},
          "execution_count": 24
        }
      ]
    },
    {
      "cell_type": "code",
      "metadata": {
        "id": "wMI5ob_ece8y"
      },
      "source": [
        "import numpy as np"
      ],
      "execution_count": null,
      "outputs": []
    },
    {
      "cell_type": "code",
      "metadata": {
        "id": "u5WHrqHYcW4l"
      },
      "source": [
        "y_predict = np.rint(y_predict)"
      ],
      "execution_count": null,
      "outputs": []
    },
    {
      "cell_type": "code",
      "metadata": {
        "colab": {
          "base_uri": "https://localhost:8080/"
        },
        "id": "DYY9xGJkciLx",
        "outputId": "5363dafb-3f18-41e0-d493-fa367c7fdbe3"
      },
      "source": [
        "y_predict[:30]"
      ],
      "execution_count": null,
      "outputs": [
        {
          "output_type": "execute_result",
          "data": {
            "text/plain": [
              "array([[0.],\n",
              "       [0.],\n",
              "       [0.],\n",
              "       [0.],\n",
              "       [0.],\n",
              "       [0.],\n",
              "       [0.],\n",
              "       [0.],\n",
              "       [0.],\n",
              "       [0.],\n",
              "       [1.],\n",
              "       [0.],\n",
              "       [0.],\n",
              "       [1.],\n",
              "       [0.],\n",
              "       [0.],\n",
              "       [0.],\n",
              "       [0.],\n",
              "       [0.],\n",
              "       [1.],\n",
              "       [0.],\n",
              "       [0.],\n",
              "       [0.],\n",
              "       [0.],\n",
              "       [0.],\n",
              "       [0.],\n",
              "       [0.],\n",
              "       [1.],\n",
              "       [0.],\n",
              "       [0.]], dtype=float32)"
            ]
          },
          "metadata": {},
          "execution_count": 27
        }
      ]
    },
    {
      "cell_type": "code",
      "metadata": {
        "id": "B_Qqn33Fcq3v"
      },
      "source": [
        "from sklearn.metrics import recall_score"
      ],
      "execution_count": null,
      "outputs": []
    },
    {
      "cell_type": "code",
      "metadata": {
        "colab": {
          "base_uri": "https://localhost:8080/"
        },
        "id": "-rFNK50fcxeQ",
        "outputId": "1d2a7ca2-b73a-4665-f534-1f75506fb6eb"
      },
      "source": [
        "recall_score(Y_test, y_predict)"
      ],
      "execution_count": null,
      "outputs": [
        {
          "output_type": "execute_result",
          "data": {
            "text/plain": [
              "0.225"
            ]
          },
          "metadata": {},
          "execution_count": 29
        }
      ]
    },
    {
      "cell_type": "code",
      "metadata": {
        "id": "dO8O2oeQcxg4"
      },
      "source": [
        "#표상 러닝은 주관적?\n",
        "#0.21683673469387754\n",
        "#0.1836734693877551\n",
        "#0.24948979591836734\n",
        "#0.2545918367346939"
      ],
      "execution_count": null,
      "outputs": []
    },
    {
      "cell_type": "code",
      "metadata": {
        "id": "CZ3ru7whgtSr"
      },
      "source": [
        "#레이어 줄인 0.20408163265306123"
      ],
      "execution_count": null,
      "outputs": []
    },
    {
      "cell_type": "code",
      "metadata": {
        "colab": {
          "base_uri": "https://localhost:8080/",
          "height": 35
        },
        "id": "C2E2_Y1ri2Xp",
        "outputId": "bffb619f-3c66-4ffb-93b3-d64df4413aa6"
      },
      "source": [
        "tf.__version__"
      ],
      "execution_count": null,
      "outputs": [
        {
          "output_type": "execute_result",
          "data": {
            "application/vnd.google.colaboratory.intrinsic+json": {
              "type": "string"
            },
            "text/plain": [
              "'2.6.0'"
            ]
          },
          "metadata": {},
          "execution_count": 32
        }
      ]
    },
    {
      "cell_type": "code",
      "metadata": {
        "id": "OO4ZZ-H0gtU3"
      },
      "source": [
        "#늘린 0.1576530612244898"
      ],
      "execution_count": null,
      "outputs": []
    },
    {
      "cell_type": "code",
      "metadata": {
        "id": "Sir-7MtKhpdF"
      },
      "source": [
        "#변수를 바꾼 0.2755102040816326"
      ],
      "execution_count": null,
      "outputs": []
    },
    {
      "cell_type": "code",
      "metadata": {
        "id": "hc66YilyiChV"
      },
      "source": [
        "#0.30306122448979594 같은 원본인데...\n",
        "#0.24693877551020407"
      ],
      "execution_count": null,
      "outputs": []
    },
    {
      "cell_type": "code",
      "metadata": {
        "id": "zOTHu6JNjMW1"
      },
      "source": [
        "#편차가 심한 걸 어덯게 해결하는가?\n",
        "#웨이트의 값을 바꾸는 것"
      ],
      "execution_count": null,
      "outputs": []
    },
    {
      "cell_type": "code",
      "metadata": {
        "id": "M8_d7WAjrXzO"
      },
      "source": [
        "#0.21581632653061225"
      ],
      "execution_count": null,
      "outputs": []
    },
    {
      "cell_type": "code",
      "metadata": {
        "id": "QimJSHX8rpfK"
      },
      "source": [
        "#0.3\n",
        "#0.26326530612244897"
      ],
      "execution_count": null,
      "outputs": []
    },
    {
      "cell_type": "code",
      "metadata": {
        "id": "g0aXGDu6tZgi"
      },
      "source": [
        ""
      ],
      "execution_count": null,
      "outputs": []
    },
    {
      "cell_type": "code",
      "metadata": {
        "id": "NaQZkF2FtZi-"
      },
      "source": [
        "#0.21785714285714286\n",
        "#0.1903061224489796\n",
        "#0.06581632653061224"
      ],
      "execution_count": null,
      "outputs": []
    },
    {
      "cell_type": "code",
      "metadata": {
        "id": "UFPxyF0rurQY"
      },
      "source": [
        ""
      ],
      "execution_count": null,
      "outputs": []
    },
    {
      "cell_type": "code",
      "metadata": {
        "id": "e0qflgD3urUg"
      },
      "source": [
        "#레이러 줄고 바꾼 버전 0.21479591836734693\n",
        "#0.23265306122448978"
      ],
      "execution_count": null,
      "outputs": []
    },
    {
      "cell_type": "code",
      "metadata": {
        "id": "o1p6dZ8ZvFtr"
      },
      "source": [
        "#액티베이션 추가 0.286734693877551\n",
        "#0.27908163265306124\n",
        "#0.27908163265306124\n",
        "#0.32857142857142857"
      ],
      "execution_count": null,
      "outputs": []
    },
    {
      "cell_type": "code",
      "metadata": {
        "id": "7BotJm0IxJU5"
      },
      "source": [
        "#배치 노멀라이제이션 추가 0.3229591836734694"
      ],
      "execution_count": null,
      "outputs": []
    },
    {
      "cell_type": "code",
      "metadata": {
        "id": "YQRZyTzhxJcK"
      },
      "source": [
        "#0.22857142857142856 0.23214285714285715"
      ],
      "execution_count": null,
      "outputs": []
    },
    {
      "cell_type": "code",
      "metadata": {
        "id": "10E8-zOZziJ5"
      },
      "source": [
        "#최종본 0.25816326530612244 0.26887755102040817"
      ],
      "execution_count": null,
      "outputs": []
    }
  ]
}
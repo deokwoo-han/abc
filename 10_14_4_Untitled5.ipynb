{
  "nbformat": 4,
  "nbformat_minor": 0,
  "metadata": {
    "colab": {
      "name": "10.14-4 Untitled5.ipynb",
      "provenance": [],
      "collapsed_sections": [],
      "authorship_tag": "ABX9TyOZUVfttJ2jekYQvHKW+Kvx",
      "include_colab_link": true
    },
    "kernelspec": {
      "name": "python3",
      "display_name": "Python 3"
    },
    "language_info": {
      "name": "python"
    },
    "accelerator": "GPU"
  },
  "cells": [
    {
      "cell_type": "markdown",
      "metadata": {
        "id": "view-in-github",
        "colab_type": "text"
      },
      "source": [
        "<a href=\"https://colab.research.google.com/github/deokwoo-han/abc/blob/master/10_14_4_Untitled5.ipynb\" target=\"_parent\"><img src=\"https://colab.research.google.com/assets/colab-badge.svg\" alt=\"Open In Colab\"/></a>"
      ]
    },
    {
      "cell_type": "code",
      "metadata": {
        "id": "uQlp15Z-kFpR"
      },
      "source": [
        "import numpy as np\n",
        "from tensorflow import keras #텐서플로우 케라스\n",
        "from tensorflow.keras import layers"
      ],
      "execution_count": null,
      "outputs": []
    },
    {
      "cell_type": "code",
      "metadata": {
        "colab": {
          "base_uri": "https://localhost:8080/",
          "height": 35
        },
        "id": "q7lTTRHBkOWw",
        "outputId": "c29563cd-70eb-44a5-9f0a-3ff51cc56f31"
      },
      "source": [
        "keras.__version__"
      ],
      "execution_count": null,
      "outputs": [
        {
          "output_type": "execute_result",
          "data": {
            "application/vnd.google.colaboratory.intrinsic+json": {
              "type": "string"
            },
            "text/plain": [
              "'2.6.0'"
            ]
          },
          "metadata": {},
          "execution_count": 2
        }
      ]
    },
    {
      "cell_type": "code",
      "metadata": {
        "colab": {
          "base_uri": "https://localhost:8080/"
        },
        "id": "pOBrym-EkaCk",
        "outputId": "c146d02d-5e5e-4dc3-a5f9-1cad2c0a9099"
      },
      "source": [
        "# Model / data parameters\n",
        "num_classes = 10\n",
        "input_shape = (28, 28, 1)\n",
        "\n",
        "# the data, split between train and test sets\n",
        "(x_train, y_train), (x_test, y_test) = keras.datasets.mnist.load_data()\n",
        "#6만 1만\n",
        "# Scale images to the [0, 1] range\n",
        "x_train = x_train.astype(\"float32\") / 255\n",
        "x_test = x_test.astype(\"float32\") / 255\n",
        "# Make sure images have shape (28, 28, 1)\n",
        "x_train = np.expand_dims(x_train, -1)\n",
        "x_test = np.expand_dims(x_test, -1)\n",
        "print(\"x_train shape:\", x_train.shape)\n",
        "print(x_train.shape[0], \"train samples\")\n",
        "print(x_test.shape[0], \"test samples\")\n",
        "\n",
        "\n",
        "# convert class vectors to binary class matrices\n",
        "y_train = keras.utils.to_categorical(y_train, num_classes)\n",
        "y_test = keras.utils.to_categorical(y_test, num_classes)"
      ],
      "execution_count": null,
      "outputs": [
        {
          "output_type": "stream",
          "name": "stdout",
          "text": [
            "Downloading data from https://storage.googleapis.com/tensorflow/tf-keras-datasets/mnist.npz\n",
            "11493376/11490434 [==============================] - 0s 0us/step\n",
            "11501568/11490434 [==============================] - 0s 0us/step\n",
            "x_train shape: (60000, 28, 28, 1)\n",
            "60000 train samples\n",
            "10000 test samples\n"
          ]
        }
      ]
    },
    {
      "cell_type": "code",
      "metadata": {
        "colab": {
          "base_uri": "https://localhost:8080/"
        },
        "id": "3gp3laRekqwq",
        "outputId": "32d784f7-a329-4866-cf5c-46a94b1f2166"
      },
      "source": [
        "type(y_train)"
      ],
      "execution_count": null,
      "outputs": [
        {
          "output_type": "execute_result",
          "data": {
            "text/plain": [
              "numpy.ndarray"
            ]
          },
          "metadata": {},
          "execution_count": 4
        }
      ]
    },
    {
      "cell_type": "code",
      "metadata": {
        "colab": {
          "base_uri": "https://localhost:8080/"
        },
        "id": "8QNYvFKqkq4k",
        "outputId": "0e5cb6b1-6d8c-4cbc-d98f-3de2ed0cf631"
      },
      "source": [
        "y_train.shape"
      ],
      "execution_count": null,
      "outputs": [
        {
          "output_type": "execute_result",
          "data": {
            "text/plain": [
              "(60000, 10)"
            ]
          },
          "metadata": {},
          "execution_count": 5
        }
      ]
    },
    {
      "cell_type": "code",
      "metadata": {
        "colab": {
          "base_uri": "https://localhost:8080/"
        },
        "id": "mzrnxj8Mk-op",
        "outputId": "12cce502-3b49-4720-abbf-e5473ffd07ef"
      },
      "source": [
        "y_test.shape"
      ],
      "execution_count": null,
      "outputs": [
        {
          "output_type": "execute_result",
          "data": {
            "text/plain": [
              "(10000, 10)"
            ]
          },
          "metadata": {},
          "execution_count": 6
        }
      ]
    },
    {
      "cell_type": "code",
      "metadata": {
        "colab": {
          "base_uri": "https://localhost:8080/"
        },
        "id": "g_MI9rojlA-v",
        "outputId": "fbc8b790-08a9-4000-93c9-3494251f40b3"
      },
      "source": [
        "y_test[:,0]"
      ],
      "execution_count": null,
      "outputs": [
        {
          "output_type": "execute_result",
          "data": {
            "text/plain": [
              "array([0., 0., 0., ..., 0., 0., 0.], dtype=float32)"
            ]
          },
          "metadata": {},
          "execution_count": 7
        }
      ]
    },
    {
      "cell_type": "code",
      "metadata": {
        "colab": {
          "base_uri": "https://localhost:8080/"
        },
        "id": "ifViZ7i7lBBi",
        "outputId": "298b1698-9975-4e42-9bdb-570c07f18764"
      },
      "source": [
        "y_test[:,1]"
      ],
      "execution_count": null,
      "outputs": [
        {
          "output_type": "execute_result",
          "data": {
            "text/plain": [
              "array([0., 0., 1., ..., 0., 0., 0.], dtype=float32)"
            ]
          },
          "metadata": {},
          "execution_count": 8
        }
      ]
    },
    {
      "cell_type": "code",
      "metadata": {
        "id": "pN1yPFQJuexI"
      },
      "source": [
        "from keras import regularizers"
      ],
      "execution_count": null,
      "outputs": []
    },
    {
      "cell_type": "code",
      "metadata": {
        "colab": {
          "base_uri": "https://localhost:8080/"
        },
        "id": "0U4jiMBnlTkz",
        "outputId": "8580fb83-cdf7-4366-dee1-2b14bfce32e6"
      },
      "source": [
        "model = keras.Sequential(\n",
        "    [\n",
        "        keras.Input(shape=input_shape), \n",
        "     #32\n",
        "        layers.Conv2D(32, kernel_size=(3, 3), padding='same', activation=\"relu\", kernel_regularizer=regularizers.l2(0.01)), #l2 normalization\n",
        "     #kernel_regularizer=None #버전에 따라 달라져서 오류?\n",
        "        layers.MaxPooling2D(pool_size=(2, 2)), #4분의 1\n",
        "        layers.Conv2D(64, kernel_size=(3, 3), padding='same', activation=\"relu\", kernel_regularizer=regularizers.l2(0.01)),\n",
        "        layers.MaxPooling2D(pool_size=(2, 2)), #사이즈를 7,7까지 줄여나감\n",
        "        layers.Flatten(),\n",
        "        layers.Dropout(0.5), #막은 이유, 성능이 부족하면?\n",
        "        layers.Dense(1024, activation='relu'),\n",
        "        layers.Dense(10, activation=\"softmax\"), #num_classes->10\n",
        "    ]\n",
        ")\n",
        "\n",
        "model.summary() #필터의 개수 설정하는 법 128 이렇게 하는 것은 의미가 없음"
      ],
      "execution_count": null,
      "outputs": [
        {
          "output_type": "stream",
          "name": "stdout",
          "text": [
            "Model: \"sequential_1\"\n",
            "_________________________________________________________________\n",
            "Layer (type)                 Output Shape              Param #   \n",
            "=================================================================\n",
            "conv2d_2 (Conv2D)            (None, 28, 28, 32)        320       \n",
            "_________________________________________________________________\n",
            "max_pooling2d_2 (MaxPooling2 (None, 14, 14, 32)        0         \n",
            "_________________________________________________________________\n",
            "conv2d_3 (Conv2D)            (None, 14, 14, 64)        18496     \n",
            "_________________________________________________________________\n",
            "max_pooling2d_3 (MaxPooling2 (None, 7, 7, 64)          0         \n",
            "_________________________________________________________________\n",
            "flatten_1 (Flatten)          (None, 3136)              0         \n",
            "_________________________________________________________________\n",
            "dropout (Dropout)            (None, 3136)              0         \n",
            "_________________________________________________________________\n",
            "dense_2 (Dense)              (None, 1024)              3212288   \n",
            "_________________________________________________________________\n",
            "dense_3 (Dense)              (None, 10)                10250     \n",
            "=================================================================\n",
            "Total params: 3,241,354\n",
            "Trainable params: 3,241,354\n",
            "Non-trainable params: 0\n",
            "_________________________________________________________________\n"
          ]
        }
      ]
    },
    {
      "cell_type": "code",
      "metadata": {
        "colab": {
          "base_uri": "https://localhost:8080/"
        },
        "id": "T9A9jWqQmLjo",
        "outputId": "4863b4c9-c8d9-4f14-dec8-d62792ce843f"
      },
      "source": [
        "input_shape"
      ],
      "execution_count": null,
      "outputs": [
        {
          "output_type": "execute_result",
          "data": {
            "text/plain": [
              "(28, 28, 1)"
            ]
          },
          "metadata": {},
          "execution_count": 10
        }
      ]
    },
    {
      "cell_type": "code",
      "metadata": {
        "id": "nI-jTj37p6HC"
      },
      "source": [
        "model.compile(loss=\"categorical_crossentropy\", optimizer=\"adam\", metrics=[\"accuracy\"])"
      ],
      "execution_count": null,
      "outputs": []
    },
    {
      "cell_type": "code",
      "metadata": {
        "colab": {
          "base_uri": "https://localhost:8080/"
        },
        "id": "7B8g-qpXp8QY",
        "outputId": "a524d324-370b-458a-991d-4b6298da2aa3"
      },
      "source": [
        "model.fit(x_train, y_train, batch_size=64, epochs=50, validation_split=0.1, verbose=1)#모델피팅 제일 먼저 트레인 데이터 셋 정답값 y 에포크, 디폴트?"
      ],
      "execution_count": null,
      "outputs": [
        {
          "output_type": "stream",
          "name": "stdout",
          "text": [
            "Epoch 1/50\n",
            "844/844 [==============================] - 8s 9ms/step - loss: 0.2899 - accuracy: 0.9428 - val_loss: 0.1135 - val_accuracy: 0.9837\n",
            "Epoch 2/50\n",
            "844/844 [==============================] - 8s 9ms/step - loss: 0.1278 - accuracy: 0.9741 - val_loss: 0.0864 - val_accuracy: 0.9875\n",
            "Epoch 3/50\n",
            "844/844 [==============================] - 7s 9ms/step - loss: 0.1041 - accuracy: 0.9788 - val_loss: 0.0768 - val_accuracy: 0.9872\n",
            "Epoch 4/50\n",
            "844/844 [==============================] - 7s 9ms/step - loss: 0.0896 - accuracy: 0.9823 - val_loss: 0.0709 - val_accuracy: 0.9888\n",
            "Epoch 5/50\n",
            "844/844 [==============================] - 7s 9ms/step - loss: 0.0811 - accuracy: 0.9843 - val_loss: 0.0679 - val_accuracy: 0.9905\n",
            "Epoch 6/50\n",
            "844/844 [==============================] - 7s 9ms/step - loss: 0.0739 - accuracy: 0.9858 - val_loss: 0.0788 - val_accuracy: 0.9845\n",
            "Epoch 7/50\n",
            "844/844 [==============================] - 7s 9ms/step - loss: 0.0710 - accuracy: 0.9859 - val_loss: 0.0784 - val_accuracy: 0.9837\n",
            "Epoch 8/50\n",
            "844/844 [==============================] - 7s 9ms/step - loss: 0.0657 - accuracy: 0.9880 - val_loss: 0.0637 - val_accuracy: 0.9900\n",
            "Epoch 9/50\n",
            "844/844 [==============================] - 7s 9ms/step - loss: 0.0612 - accuracy: 0.9888 - val_loss: 0.0533 - val_accuracy: 0.9917\n",
            "Epoch 10/50\n",
            "844/844 [==============================] - 7s 9ms/step - loss: 0.0584 - accuracy: 0.9888 - val_loss: 0.0567 - val_accuracy: 0.9908\n",
            "Epoch 11/50\n",
            "844/844 [==============================] - 7s 9ms/step - loss: 0.0534 - accuracy: 0.9902 - val_loss: 0.0504 - val_accuracy: 0.9923\n",
            "Epoch 12/50\n",
            "844/844 [==============================] - 7s 9ms/step - loss: 0.0548 - accuracy: 0.9895 - val_loss: 0.0499 - val_accuracy: 0.9937\n",
            "Epoch 13/50\n",
            "844/844 [==============================] - 7s 9ms/step - loss: 0.0492 - accuracy: 0.9914 - val_loss: 0.0504 - val_accuracy: 0.9918\n",
            "Epoch 14/50\n",
            "844/844 [==============================] - 8s 9ms/step - loss: 0.0496 - accuracy: 0.9909 - val_loss: 0.0555 - val_accuracy: 0.9918\n",
            "Epoch 15/50\n",
            "844/844 [==============================] - 7s 9ms/step - loss: 0.0459 - accuracy: 0.9916 - val_loss: 0.0524 - val_accuracy: 0.9910\n",
            "Epoch 16/50\n",
            "844/844 [==============================] - 8s 9ms/step - loss: 0.0477 - accuracy: 0.9915 - val_loss: 0.0550 - val_accuracy: 0.9910\n",
            "Epoch 17/50\n",
            "844/844 [==============================] - 8s 9ms/step - loss: 0.0442 - accuracy: 0.9923 - val_loss: 0.0600 - val_accuracy: 0.9897\n",
            "Epoch 18/50\n",
            "844/844 [==============================] - 7s 9ms/step - loss: 0.0440 - accuracy: 0.9921 - val_loss: 0.0511 - val_accuracy: 0.9913\n",
            "Epoch 19/50\n",
            "844/844 [==============================] - 8s 9ms/step - loss: 0.0414 - accuracy: 0.9927 - val_loss: 0.0514 - val_accuracy: 0.9932\n",
            "Epoch 20/50\n",
            "844/844 [==============================] - 7s 9ms/step - loss: 0.0404 - accuracy: 0.9929 - val_loss: 0.0510 - val_accuracy: 0.9923\n",
            "Epoch 21/50\n",
            "844/844 [==============================] - 7s 9ms/step - loss: 0.0399 - accuracy: 0.9930 - val_loss: 0.0503 - val_accuracy: 0.9917\n",
            "Epoch 22/50\n",
            "844/844 [==============================] - 7s 9ms/step - loss: 0.0394 - accuracy: 0.9927 - val_loss: 0.0506 - val_accuracy: 0.9918\n",
            "Epoch 23/50\n",
            "844/844 [==============================] - 7s 9ms/step - loss: 0.0375 - accuracy: 0.9938 - val_loss: 0.0538 - val_accuracy: 0.9903\n",
            "Epoch 24/50\n",
            "844/844 [==============================] - 7s 9ms/step - loss: 0.0380 - accuracy: 0.9937 - val_loss: 0.0517 - val_accuracy: 0.9917\n",
            "Epoch 25/50\n",
            "844/844 [==============================] - 8s 9ms/step - loss: 0.0376 - accuracy: 0.9937 - val_loss: 0.0434 - val_accuracy: 0.9938\n",
            "Epoch 26/50\n",
            "844/844 [==============================] - 8s 9ms/step - loss: 0.0354 - accuracy: 0.9942 - val_loss: 0.0487 - val_accuracy: 0.9938\n",
            "Epoch 27/50\n",
            "844/844 [==============================] - 7s 9ms/step - loss: 0.0348 - accuracy: 0.9943 - val_loss: 0.0480 - val_accuracy: 0.9927\n",
            "Epoch 28/50\n",
            "844/844 [==============================] - 7s 9ms/step - loss: 0.0351 - accuracy: 0.9943 - val_loss: 0.0514 - val_accuracy: 0.9905\n",
            "Epoch 29/50\n",
            "844/844 [==============================] - 7s 9ms/step - loss: 0.0363 - accuracy: 0.9934 - val_loss: 0.0515 - val_accuracy: 0.9917\n",
            "Epoch 30/50\n",
            "844/844 [==============================] - 7s 9ms/step - loss: 0.0343 - accuracy: 0.9944 - val_loss: 0.0487 - val_accuracy: 0.9932\n",
            "Epoch 31/50\n",
            "844/844 [==============================] - 7s 9ms/step - loss: 0.0329 - accuracy: 0.9946 - val_loss: 0.0455 - val_accuracy: 0.9927\n",
            "Epoch 32/50\n",
            "844/844 [==============================] - 7s 9ms/step - loss: 0.0330 - accuracy: 0.9945 - val_loss: 0.0468 - val_accuracy: 0.9927\n",
            "Epoch 33/50\n",
            "844/844 [==============================] - 8s 9ms/step - loss: 0.0322 - accuracy: 0.9947 - val_loss: 0.0529 - val_accuracy: 0.9928\n",
            "Epoch 34/50\n",
            "844/844 [==============================] - 8s 9ms/step - loss: 0.0345 - accuracy: 0.9945 - val_loss: 0.0464 - val_accuracy: 0.9930\n",
            "Epoch 35/50\n",
            "844/844 [==============================] - 8s 9ms/step - loss: 0.0329 - accuracy: 0.9946 - val_loss: 0.0532 - val_accuracy: 0.9915\n",
            "Epoch 36/50\n",
            "844/844 [==============================] - 8s 9ms/step - loss: 0.0301 - accuracy: 0.9954 - val_loss: 0.0458 - val_accuracy: 0.9933\n",
            "Epoch 37/50\n",
            "844/844 [==============================] - 8s 9ms/step - loss: 0.0323 - accuracy: 0.9945 - val_loss: 0.0492 - val_accuracy: 0.9937\n",
            "Epoch 38/50\n",
            "844/844 [==============================] - 8s 9ms/step - loss: 0.0313 - accuracy: 0.9951 - val_loss: 0.0529 - val_accuracy: 0.9922\n",
            "Epoch 39/50\n",
            "844/844 [==============================] - 8s 9ms/step - loss: 0.0319 - accuracy: 0.9949 - val_loss: 0.0437 - val_accuracy: 0.9938\n",
            "Epoch 40/50\n",
            "844/844 [==============================] - 8s 9ms/step - loss: 0.0296 - accuracy: 0.9957 - val_loss: 0.0438 - val_accuracy: 0.9950\n",
            "Epoch 41/50\n",
            "844/844 [==============================] - 8s 9ms/step - loss: 0.0312 - accuracy: 0.9949 - val_loss: 0.0476 - val_accuracy: 0.9923\n",
            "Epoch 42/50\n",
            "844/844 [==============================] - 8s 9ms/step - loss: 0.0291 - accuracy: 0.9956 - val_loss: 0.0489 - val_accuracy: 0.9938\n",
            "Epoch 43/50\n",
            "844/844 [==============================] - 8s 9ms/step - loss: 0.0283 - accuracy: 0.9961 - val_loss: 0.0491 - val_accuracy: 0.9927\n",
            "Epoch 44/50\n",
            "844/844 [==============================] - 8s 9ms/step - loss: 0.0312 - accuracy: 0.9947 - val_loss: 0.0462 - val_accuracy: 0.9938\n",
            "Epoch 45/50\n",
            "844/844 [==============================] - 8s 9ms/step - loss: 0.0301 - accuracy: 0.9954 - val_loss: 0.0464 - val_accuracy: 0.9928\n",
            "Epoch 46/50\n",
            "844/844 [==============================] - 8s 9ms/step - loss: 0.0290 - accuracy: 0.9958 - val_loss: 0.0509 - val_accuracy: 0.9917\n",
            "Epoch 47/50\n",
            "844/844 [==============================] - 8s 9ms/step - loss: 0.0304 - accuracy: 0.9953 - val_loss: 0.0509 - val_accuracy: 0.9925\n",
            "Epoch 48/50\n",
            "844/844 [==============================] - 8s 9ms/step - loss: 0.0295 - accuracy: 0.9954 - val_loss: 0.0513 - val_accuracy: 0.9920\n",
            "Epoch 49/50\n",
            "844/844 [==============================] - 8s 9ms/step - loss: 0.0274 - accuracy: 0.9960 - val_loss: 0.0512 - val_accuracy: 0.9925\n",
            "Epoch 50/50\n",
            "844/844 [==============================] - 8s 9ms/step - loss: 0.0277 - accuracy: 0.9960 - val_loss: 0.0476 - val_accuracy: 0.9932\n"
          ]
        },
        {
          "output_type": "execute_result",
          "data": {
            "text/plain": [
              "<keras.callbacks.History at 0x7f1aa03a9690>"
            ]
          },
          "metadata": {},
          "execution_count": 19
        }
      ]
    },
    {
      "cell_type": "code",
      "metadata": {
        "colab": {
          "base_uri": "https://localhost:8080/"
        },
        "id": "R6-Zm_yasEPo",
        "outputId": "5f5d2d09-a598-4f19-fd51-91673e941184"
      },
      "source": [
        "score = model.evaluate(x_test, y_test, verbose=0)\n",
        "print(\"Test loss:\", score[0])\n",
        "print(\"Test accuracy:\", score[1])"
      ],
      "execution_count": null,
      "outputs": [
        {
          "output_type": "stream",
          "name": "stdout",
          "text": [
            "Test loss: 0.04126317799091339\n",
            "Test accuracy: 0.9923999905586243\n"
          ]
        }
      ]
    },
    {
      "cell_type": "code",
      "metadata": {
        "id": "IiMGht4Fq4Sr"
      },
      "source": [
        "#model.predict()"
      ],
      "execution_count": null,
      "outputs": []
    },
    {
      "cell_type": "markdown",
      "metadata": {
        "id": "37WCiicjsJwf"
      },
      "source": [
        "https://keras.io/examples/vision/mnist_convnet/"
      ]
    }
  ]
}
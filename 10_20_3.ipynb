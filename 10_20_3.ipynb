{
  "nbformat": 4,
  "nbformat_minor": 0,
  "metadata": {
    "colab": {
      "name": "10.20-3.ipynb",
      "provenance": [],
      "collapsed_sections": [],
      "authorship_tag": "ABX9TyPKLO02C8PJfAyQSa5rfZ9l",
      "include_colab_link": true
    },
    "kernelspec": {
      "name": "python3",
      "display_name": "Python 3"
    },
    "language_info": {
      "name": "python"
    },
    "accelerator": "GPU"
  },
  "cells": [
    {
      "cell_type": "markdown",
      "metadata": {
        "id": "view-in-github",
        "colab_type": "text"
      },
      "source": [
        "<a href=\"https://colab.research.google.com/github/deokwoo-han/abc/blob/master/10_20_3.ipynb\" target=\"_parent\"><img src=\"https://colab.research.google.com/assets/colab-badge.svg\" alt=\"Open In Colab\"/></a>"
      ]
    },
    {
      "cell_type": "code",
      "metadata": {
        "id": "p6MzUbsRvC6l"
      },
      "source": [
        "import pandas as pd\n",
        "import numpy as np"
      ],
      "execution_count": null,
      "outputs": []
    },
    {
      "cell_type": "code",
      "metadata": {
        "id": "FKQZQ6lZvHu5"
      },
      "source": [
        "new_result = pd.read_excel('GDP.xlsx')"
      ],
      "execution_count": null,
      "outputs": []
    },
    {
      "cell_type": "code",
      "metadata": {
        "colab": {
          "base_uri": "https://localhost:8080/",
          "height": 417
        },
        "id": "QtQMOGCXwSnS",
        "outputId": "c71fb179-f4eb-4344-c39c-3e6064166f6f"
      },
      "source": [
        "new_result"
      ],
      "execution_count": null,
      "outputs": [
        {
          "output_type": "execute_result",
          "data": {
            "text/html": [
              "<div>\n",
              "<style scoped>\n",
              "    .dataframe tbody tr th:only-of-type {\n",
              "        vertical-align: middle;\n",
              "    }\n",
              "\n",
              "    .dataframe tbody tr th {\n",
              "        vertical-align: top;\n",
              "    }\n",
              "\n",
              "    .dataframe thead th {\n",
              "        text-align: right;\n",
              "    }\n",
              "</style>\n",
              "<table border=\"1\" class=\"dataframe\">\n",
              "  <thead>\n",
              "    <tr style=\"text-align: right;\">\n",
              "      <th></th>\n",
              "      <th>분기</th>\n",
              "      <th>국내총생산(명목GDP, 단위 십억)</th>\n",
              "    </tr>\n",
              "  </thead>\n",
              "  <tbody>\n",
              "    <tr>\n",
              "      <th>0</th>\n",
              "      <td>1960.1/4</td>\n",
              "      <td>49.1</td>\n",
              "    </tr>\n",
              "    <tr>\n",
              "      <th>1</th>\n",
              "      <td>1960.2/4</td>\n",
              "      <td>68.0</td>\n",
              "    </tr>\n",
              "    <tr>\n",
              "      <th>2</th>\n",
              "      <td>1960.3/4</td>\n",
              "      <td>61.0</td>\n",
              "    </tr>\n",
              "    <tr>\n",
              "      <th>3</th>\n",
              "      <td>1960.4/4</td>\n",
              "      <td>71.8</td>\n",
              "    </tr>\n",
              "    <tr>\n",
              "      <th>4</th>\n",
              "      <td>1961.1/4</td>\n",
              "      <td>62.0</td>\n",
              "    </tr>\n",
              "    <tr>\n",
              "      <th>...</th>\n",
              "      <td>...</td>\n",
              "      <td>...</td>\n",
              "    </tr>\n",
              "    <tr>\n",
              "      <th>241</th>\n",
              "      <td>2020.2/4</td>\n",
              "      <td>472,328.1</td>\n",
              "    </tr>\n",
              "    <tr>\n",
              "      <th>242</th>\n",
              "      <td>2020.3/4</td>\n",
              "      <td>491,181.5</td>\n",
              "    </tr>\n",
              "    <tr>\n",
              "      <th>243</th>\n",
              "      <td>2020.4/4</td>\n",
              "      <td>492,100.1</td>\n",
              "    </tr>\n",
              "    <tr>\n",
              "      <th>244</th>\n",
              "      <td>2021.1/4</td>\n",
              "      <td>501,248.1</td>\n",
              "    </tr>\n",
              "    <tr>\n",
              "      <th>245</th>\n",
              "      <td>2021.2/4</td>\n",
              "      <td>511,233.1</td>\n",
              "    </tr>\n",
              "  </tbody>\n",
              "</table>\n",
              "<p>246 rows × 2 columns</p>\n",
              "</div>"
            ],
            "text/plain": [
              "           분기 국내총생산(명목GDP, 단위 십억)\n",
              "0    1960.1/4                49.1\n",
              "1    1960.2/4                68.0\n",
              "2    1960.3/4                61.0\n",
              "3    1960.4/4                71.8\n",
              "4    1961.1/4                62.0\n",
              "..        ...                 ...\n",
              "241  2020.2/4           472,328.1\n",
              "242  2020.3/4           491,181.5\n",
              "243  2020.4/4           492,100.1\n",
              "244  2021.1/4           501,248.1\n",
              "245  2021.2/4           511,233.1\n",
              "\n",
              "[246 rows x 2 columns]"
            ]
          },
          "metadata": {},
          "execution_count": 15
        }
      ]
    },
    {
      "cell_type": "code",
      "metadata": {
        "id": "WMSUF9QGwAF4"
      },
      "source": [
        "n1= new_result.set_index('분기')"
      ],
      "execution_count": null,
      "outputs": []
    },
    {
      "cell_type": "code",
      "metadata": {
        "colab": {
          "base_uri": "https://localhost:8080/",
          "height": 447
        },
        "id": "r3yLQBYk3VaH",
        "outputId": "66235784-b95a-451b-e00c-764484fe222e"
      },
      "source": [
        "n1"
      ],
      "execution_count": null,
      "outputs": [
        {
          "output_type": "execute_result",
          "data": {
            "text/html": [
              "<div>\n",
              "<style scoped>\n",
              "    .dataframe tbody tr th:only-of-type {\n",
              "        vertical-align: middle;\n",
              "    }\n",
              "\n",
              "    .dataframe tbody tr th {\n",
              "        vertical-align: top;\n",
              "    }\n",
              "\n",
              "    .dataframe thead th {\n",
              "        text-align: right;\n",
              "    }\n",
              "</style>\n",
              "<table border=\"1\" class=\"dataframe\">\n",
              "  <thead>\n",
              "    <tr style=\"text-align: right;\">\n",
              "      <th></th>\n",
              "      <th>국내총생산(명목GDP, 단위 십억)</th>\n",
              "    </tr>\n",
              "    <tr>\n",
              "      <th>분기</th>\n",
              "      <th></th>\n",
              "    </tr>\n",
              "  </thead>\n",
              "  <tbody>\n",
              "    <tr>\n",
              "      <th>1960.1/4</th>\n",
              "      <td>49.1</td>\n",
              "    </tr>\n",
              "    <tr>\n",
              "      <th>1960.2/4</th>\n",
              "      <td>68.0</td>\n",
              "    </tr>\n",
              "    <tr>\n",
              "      <th>1960.3/4</th>\n",
              "      <td>61.0</td>\n",
              "    </tr>\n",
              "    <tr>\n",
              "      <th>1960.4/4</th>\n",
              "      <td>71.8</td>\n",
              "    </tr>\n",
              "    <tr>\n",
              "      <th>1961.1/4</th>\n",
              "      <td>62.0</td>\n",
              "    </tr>\n",
              "    <tr>\n",
              "      <th>...</th>\n",
              "      <td>...</td>\n",
              "    </tr>\n",
              "    <tr>\n",
              "      <th>2020.2/4</th>\n",
              "      <td>472,328.1</td>\n",
              "    </tr>\n",
              "    <tr>\n",
              "      <th>2020.3/4</th>\n",
              "      <td>491,181.5</td>\n",
              "    </tr>\n",
              "    <tr>\n",
              "      <th>2020.4/4</th>\n",
              "      <td>492,100.1</td>\n",
              "    </tr>\n",
              "    <tr>\n",
              "      <th>2021.1/4</th>\n",
              "      <td>501,248.1</td>\n",
              "    </tr>\n",
              "    <tr>\n",
              "      <th>2021.2/4</th>\n",
              "      <td>511,233.1</td>\n",
              "    </tr>\n",
              "  </tbody>\n",
              "</table>\n",
              "<p>246 rows × 1 columns</p>\n",
              "</div>"
            ],
            "text/plain": [
              "         국내총생산(명목GDP, 단위 십억)\n",
              "분기                          \n",
              "1960.1/4                49.1\n",
              "1960.2/4                68.0\n",
              "1960.3/4                61.0\n",
              "1960.4/4                71.8\n",
              "1961.1/4                62.0\n",
              "...                      ...\n",
              "2020.2/4           472,328.1\n",
              "2020.3/4           491,181.5\n",
              "2020.4/4           492,100.1\n",
              "2021.1/4           501,248.1\n",
              "2021.2/4           511,233.1\n",
              "\n",
              "[246 rows x 1 columns]"
            ]
          },
          "metadata": {},
          "execution_count": 17
        }
      ]
    },
    {
      "cell_type": "code",
      "metadata": {
        "colab": {
          "base_uri": "https://localhost:8080/"
        },
        "id": "kdEwqfsZmq5B",
        "outputId": "33907867-a4dc-4a71-a9df-f554ceea0c0b"
      },
      "source": [
        "new_result.dtypes"
      ],
      "execution_count": null,
      "outputs": [
        {
          "output_type": "execute_result",
          "data": {
            "text/plain": [
              "분기                     object\n",
              "국내총생산(명목GDP, 단위 십억)    object\n",
              "dtype: object"
            ]
          },
          "metadata": {},
          "execution_count": 18
        }
      ]
    },
    {
      "cell_type": "code",
      "metadata": {
        "colab": {
          "base_uri": "https://localhost:8080/"
        },
        "id": "lF44wEfPmzKs",
        "outputId": "5ee5c9c2-060e-4934-d8ff-68e86f44c33f"
      },
      "source": [
        "n1.dtypes"
      ],
      "execution_count": null,
      "outputs": [
        {
          "output_type": "execute_result",
          "data": {
            "text/plain": [
              "국내총생산(명목GDP, 단위 십억)    object\n",
              "dtype: object"
            ]
          },
          "metadata": {},
          "execution_count": 19
        }
      ]
    },
    {
      "cell_type": "code",
      "metadata": {
        "colab": {
          "base_uri": "https://localhost:8080/",
          "height": 447
        },
        "id": "nIMZZXMQmU2M",
        "outputId": "21553f12-0f24-472e-9026-7dd8cce6b3aa"
      },
      "source": [
        "# str형 숫자를 float식으로 변경하는 코드\n",
        "for i in np.arange(0,1):\n",
        "    n1.iloc[:,i] = n1.iloc[:,i].str.replace(',','').astype(float)\n",
        "\n",
        "# 결측치 0 대입\n",
        "n1.fillna(0, inplace=True)\n",
        "n1"
      ],
      "execution_count": null,
      "outputs": [
        {
          "output_type": "execute_result",
          "data": {
            "text/html": [
              "<div>\n",
              "<style scoped>\n",
              "    .dataframe tbody tr th:only-of-type {\n",
              "        vertical-align: middle;\n",
              "    }\n",
              "\n",
              "    .dataframe tbody tr th {\n",
              "        vertical-align: top;\n",
              "    }\n",
              "\n",
              "    .dataframe thead th {\n",
              "        text-align: right;\n",
              "    }\n",
              "</style>\n",
              "<table border=\"1\" class=\"dataframe\">\n",
              "  <thead>\n",
              "    <tr style=\"text-align: right;\">\n",
              "      <th></th>\n",
              "      <th>국내총생산(명목GDP, 단위 십억)</th>\n",
              "    </tr>\n",
              "    <tr>\n",
              "      <th>분기</th>\n",
              "      <th></th>\n",
              "    </tr>\n",
              "  </thead>\n",
              "  <tbody>\n",
              "    <tr>\n",
              "      <th>1960.1/4</th>\n",
              "      <td>49.1</td>\n",
              "    </tr>\n",
              "    <tr>\n",
              "      <th>1960.2/4</th>\n",
              "      <td>68.0</td>\n",
              "    </tr>\n",
              "    <tr>\n",
              "      <th>1960.3/4</th>\n",
              "      <td>61.0</td>\n",
              "    </tr>\n",
              "    <tr>\n",
              "      <th>1960.4/4</th>\n",
              "      <td>71.8</td>\n",
              "    </tr>\n",
              "    <tr>\n",
              "      <th>1961.1/4</th>\n",
              "      <td>62.0</td>\n",
              "    </tr>\n",
              "    <tr>\n",
              "      <th>...</th>\n",
              "      <td>...</td>\n",
              "    </tr>\n",
              "    <tr>\n",
              "      <th>2020.2/4</th>\n",
              "      <td>472328.1</td>\n",
              "    </tr>\n",
              "    <tr>\n",
              "      <th>2020.3/4</th>\n",
              "      <td>491181.5</td>\n",
              "    </tr>\n",
              "    <tr>\n",
              "      <th>2020.4/4</th>\n",
              "      <td>492100.1</td>\n",
              "    </tr>\n",
              "    <tr>\n",
              "      <th>2021.1/4</th>\n",
              "      <td>501248.1</td>\n",
              "    </tr>\n",
              "    <tr>\n",
              "      <th>2021.2/4</th>\n",
              "      <td>511233.1</td>\n",
              "    </tr>\n",
              "  </tbody>\n",
              "</table>\n",
              "<p>246 rows × 1 columns</p>\n",
              "</div>"
            ],
            "text/plain": [
              "          국내총생산(명목GDP, 단위 십억)\n",
              "분기                           \n",
              "1960.1/4                 49.1\n",
              "1960.2/4                 68.0\n",
              "1960.3/4                 61.0\n",
              "1960.4/4                 71.8\n",
              "1961.1/4                 62.0\n",
              "...                       ...\n",
              "2020.2/4             472328.1\n",
              "2020.3/4             491181.5\n",
              "2020.4/4             492100.1\n",
              "2021.1/4             501248.1\n",
              "2021.2/4             511233.1\n",
              "\n",
              "[246 rows x 1 columns]"
            ]
          },
          "metadata": {},
          "execution_count": 20
        }
      ]
    },
    {
      "cell_type": "code",
      "metadata": {
        "colab": {
          "base_uri": "https://localhost:8080/"
        },
        "id": "rZDgw4US5ZAw",
        "outputId": "fd1697be-dae9-4dc0-ed60-75c8404c82cb"
      },
      "source": [
        "new_result.dtypes"
      ],
      "execution_count": null,
      "outputs": [
        {
          "output_type": "execute_result",
          "data": {
            "text/plain": [
              "분기                     object\n",
              "국내총생산(명목GDP, 단위 십억)    object\n",
              "dtype: object"
            ]
          },
          "metadata": {},
          "execution_count": 21
        }
      ]
    },
    {
      "cell_type": "code",
      "metadata": {
        "id": "p0Aswo4Nv-6Y"
      },
      "source": [
        "#n1.fillna(0, inplace=True)\n",
        "#n1"
      ],
      "execution_count": null,
      "outputs": []
    },
    {
      "cell_type": "code",
      "metadata": {
        "id": "X0dkkjjR-QmY"
      },
      "source": [
        "n1.to_excel('명목GDP.xlsx')"
      ],
      "execution_count": null,
      "outputs": []
    }
  ]
}
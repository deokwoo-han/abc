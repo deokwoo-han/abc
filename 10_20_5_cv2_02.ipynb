{
  "nbformat": 4,
  "nbformat_minor": 5,
  "metadata": {
    "kernelspec": {
      "display_name": "Python KOSA",
      "language": "python",
      "name": "kosa"
    },
    "language_info": {
      "codemirror_mode": {
        "name": "ipython",
        "version": 3
      },
      "file_extension": ".py",
      "mimetype": "text/x-python",
      "name": "python",
      "nbconvert_exporter": "python",
      "pygments_lexer": "ipython3",
      "version": "3.8.12"
    },
    "colab": {
      "name": "10.20-5 cv2_02.ipynb",
      "provenance": [],
      "collapsed_sections": [],
      "include_colab_link": true
    }
  },
  "cells": [
    {
      "cell_type": "markdown",
      "metadata": {
        "id": "view-in-github",
        "colab_type": "text"
      },
      "source": [
        "<a href=\"https://colab.research.google.com/github/deokwoo-han/abc/blob/master/10_20_5_cv2_02.ipynb\" target=\"_parent\"><img src=\"https://colab.research.google.com/assets/colab-badge.svg\" alt=\"Open In Colab\"/></a>"
      ]
    },
    {
      "cell_type": "code",
      "metadata": {
        "id": "07c579fe-6adf-4ba7-aeb3-69963d6fda6e"
      },
      "source": [
        "import cv2\n",
        "import time"
      ],
      "id": "07c579fe-6adf-4ba7-aeb3-69963d6fda6e",
      "execution_count": null,
      "outputs": []
    },
    {
      "cell_type": "code",
      "metadata": {
        "id": "4b9718b0-676a-4887-8505-0b987b104f17"
      },
      "source": [
        "cap = cv2.VideoCapture('.\\\\aquarium.mkv')"
      ],
      "id": "4b9718b0-676a-4887-8505-0b987b104f17",
      "execution_count": null,
      "outputs": []
    },
    {
      "cell_type": "code",
      "metadata": {
        "id": "f4866b6c-4321-4258-b427-bc974a0e1bde"
      },
      "source": [
        "prev_time = 0\n",
        "FPS = 1\n",
        "#10 근데 32나 다를바 없음 원본이 1초에 32장이라..."
      ],
      "id": "f4866b6c-4321-4258-b427-bc974a0e1bde",
      "execution_count": null,
      "outputs": []
    },
    {
      "cell_type": "code",
      "metadata": {
        "id": "d7007c20-a860-4175-a278-48a5a6348921"
      },
      "source": [
        "while True:\n",
        "    ret, frame = cap.read()\n",
        "\n",
        "    if not ret:\n",
        "        break\n",
        "        \n",
        "    frame = cv2.resize(frame, (0, 0), fx=0.5, fy=0.5)\n",
        "    \n",
        "    current_time = time.time() - prev_time\n",
        "\n",
        "    if (ret is True) and (current_time > 1./ FPS):\n",
        "        prev_time = time.time()\n",
        "     \n",
        "        cv2.imshow('frame', frame)\n",
        "\n",
        "    if cv2.waitKey(10) == 27:\n",
        "        break\n",
        "\n",
        "cap.release()\n",
        "cv2.destroyAllWindows()"
      ],
      "id": "d7007c20-a860-4175-a278-48a5a6348921",
      "execution_count": null,
      "outputs": []
    }
  ]
}
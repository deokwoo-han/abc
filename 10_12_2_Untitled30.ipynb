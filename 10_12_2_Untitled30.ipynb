{
  "nbformat": 4,
  "nbformat_minor": 0,
  "metadata": {
    "colab": {
      "name": "10.12-2 Untitled30.ipynb",
      "provenance": [],
      "collapsed_sections": [],
      "include_colab_link": true
    },
    "kernelspec": {
      "name": "python3",
      "display_name": "Python 3"
    },
    "language_info": {
      "name": "python"
    }
  },
  "cells": [
    {
      "cell_type": "markdown",
      "metadata": {
        "id": "view-in-github",
        "colab_type": "text"
      },
      "source": [
        "<a href=\"https://colab.research.google.com/github/deokwoo-han/abc/blob/master/10_12_2_Untitled30.ipynb\" target=\"_parent\"><img src=\"https://colab.research.google.com/assets/colab-badge.svg\" alt=\"Open In Colab\"/></a>"
      ]
    },
    {
      "cell_type": "code",
      "metadata": {
        "colab": {
          "base_uri": "https://localhost:8080/"
        },
        "id": "iBHJx760V-QY",
        "outputId": "123df83e-38ee-410a-eafe-91e1dc0b3894"
      },
      "source": [
        "!pwd"
      ],
      "execution_count": 1,
      "outputs": [
        {
          "output_type": "stream",
          "name": "stdout",
          "text": [
            "/content\n"
          ]
        }
      ]
    },
    {
      "cell_type": "code",
      "metadata": {
        "colab": {
          "base_uri": "https://localhost:8080/"
        },
        "id": "fOb_HgvXWAT3",
        "outputId": "4510dee7-9744-41d9-9809-4f727eeb04c9"
      },
      "source": [
        "!ls -l"
      ],
      "execution_count": 2,
      "outputs": [
        {
          "output_type": "stream",
          "name": "stdout",
          "text": [
            "total 11256\n",
            "-rw-r--r-- 1 root root 7563542 Oct 12 08:35 converted_savedmodel.zip\n",
            "drwxr-xr-x 1 root root    4096 Oct  8 13:45 sample_data\n",
            "-rw-r--r-- 1 root root 1259177 Oct 12 08:34 종이컵-samples.zip\n",
            "-rw-r--r-- 1 root root 1582274 Oct 12 08:34 리모컨-samples.zip\n",
            "-rw-r--r-- 1 root root 1109068 Oct 12 08:34 지우게-samples.zip\n"
          ]
        }
      ]
    },
    {
      "cell_type": "code",
      "metadata": {
        "id": "pijetQBNXUgy"
      },
      "source": [
        "!mkdir ./remote"
      ],
      "execution_count": 3,
      "outputs": []
    },
    {
      "cell_type": "code",
      "metadata": {
        "colab": {
          "base_uri": "https://localhost:8080/"
        },
        "id": "lKT4GI2-WAWd",
        "outputId": "90bd7595-58d1-43e4-a5c9-735fce8931ea"
      },
      "source": [
        "!unzip ./converted_savedmodel.zip"
      ],
      "execution_count": 4,
      "outputs": [
        {
          "output_type": "stream",
          "name": "stdout",
          "text": [
            "Archive:  ./converted_savedmodel.zip\n",
            "   creating: model.savedmodel/\n",
            " extracting: model.savedmodel/saved_model.pb  \n",
            "   creating: model.savedmodel/assets/\n",
            "   creating: model.savedmodel/variables/\n",
            " extracting: model.savedmodel/variables/variables.index  \n",
            " extracting: model.savedmodel/variables/variables.data-00000-of-00001  \n",
            " extracting: labels.txt              \n"
          ]
        }
      ]
    },
    {
      "cell_type": "code",
      "metadata": {
        "id": "TSc64bgwpHZ4"
      },
      "source": [
        ""
      ],
      "execution_count": 4,
      "outputs": []
    },
    {
      "cell_type": "code",
      "metadata": {
        "colab": {
          "base_uri": "https://localhost:8080/"
        },
        "id": "UjyRavb4V9V1",
        "outputId": "997bac7e-86d6-4ff9-bca6-96602e057243"
      },
      "source": [
        "!unzip ./리모컨-samples.zip"
      ],
      "execution_count": 5,
      "outputs": [
        {
          "output_type": "stream",
          "name": "stdout",
          "text": [
            "Archive:  ./리모컨-samples.zip\n",
            " extracting: 0.jpg                   \n",
            " extracting: 1.jpg                   \n",
            " extracting: 2.jpg                   \n",
            " extracting: 3.jpg                   \n",
            " extracting: 4.jpg                   \n",
            " extracting: 5.jpg                   \n",
            " extracting: 6.jpg                   \n",
            " extracting: 7.jpg                   \n",
            " extracting: 8.jpg                   \n",
            " extracting: 9.jpg                   \n",
            " extracting: 10.jpg                  \n",
            " extracting: 11.jpg                  \n",
            " extracting: 12.jpg                  \n",
            " extracting: 13.jpg                  \n",
            " extracting: 14.jpg                  \n",
            " extracting: 15.jpg                  \n",
            " extracting: 16.jpg                  \n",
            " extracting: 17.jpg                  \n",
            " extracting: 18.jpg                  \n",
            " extracting: 19.jpg                  \n",
            " extracting: 20.jpg                  \n",
            " extracting: 21.jpg                  \n",
            " extracting: 22.jpg                  \n",
            " extracting: 23.jpg                  \n",
            " extracting: 24.jpg                  \n",
            " extracting: 25.jpg                  \n",
            " extracting: 26.jpg                  \n",
            " extracting: 27.jpg                  \n",
            " extracting: 28.jpg                  \n",
            " extracting: 29.jpg                  \n",
            " extracting: 30.jpg                  \n",
            " extracting: 31.jpg                  \n",
            " extracting: 32.jpg                  \n",
            " extracting: 33.jpg                  \n",
            " extracting: 34.jpg                  \n",
            " extracting: 35.jpg                  \n",
            " extracting: 36.jpg                  \n",
            " extracting: 37.jpg                  \n",
            " extracting: 38.jpg                  \n",
            " extracting: 39.jpg                  \n",
            " extracting: 40.jpg                  \n",
            " extracting: 41.jpg                  \n",
            " extracting: 42.jpg                  \n",
            " extracting: 43.jpg                  \n",
            " extracting: 44.jpg                  \n",
            " extracting: 45.jpg                  \n",
            " extracting: 46.jpg                  \n",
            " extracting: 47.jpg                  \n",
            " extracting: 48.jpg                  \n",
            " extracting: 49.jpg                  \n",
            " extracting: 50.jpg                  \n",
            " extracting: 51.jpg                  \n",
            " extracting: 52.jpg                  \n",
            " extracting: 53.jpg                  \n",
            " extracting: 54.jpg                  \n",
            " extracting: 55.jpg                  \n",
            " extracting: 56.jpg                  \n",
            " extracting: 57.jpg                  \n",
            " extracting: 58.jpg                  \n",
            " extracting: 59.jpg                  \n",
            " extracting: 60.jpg                  \n",
            " extracting: 61.jpg                  \n",
            " extracting: 62.jpg                  \n",
            " extracting: 63.jpg                  \n",
            " extracting: 64.jpg                  \n",
            " extracting: 65.jpg                  \n",
            " extracting: 66.jpg                  \n",
            " extracting: 67.jpg                  \n",
            " extracting: 68.jpg                  \n",
            " extracting: 69.jpg                  \n",
            " extracting: 70.jpg                  \n",
            " extracting: 71.jpg                  \n",
            " extracting: 72.jpg                  \n",
            " extracting: 73.jpg                  \n",
            " extracting: 74.jpg                  \n",
            " extracting: 75.jpg                  \n",
            " extracting: 76.jpg                  \n",
            " extracting: 77.jpg                  \n",
            " extracting: 78.jpg                  \n",
            " extracting: 79.jpg                  \n",
            " extracting: 80.jpg                  \n",
            " extracting: 81.jpg                  \n",
            " extracting: 82.jpg                  \n",
            " extracting: 83.jpg                  \n",
            " extracting: 84.jpg                  \n",
            " extracting: 85.jpg                  \n",
            " extracting: 86.jpg                  \n",
            " extracting: 87.jpg                  \n",
            " extracting: 88.jpg                  \n",
            " extracting: 89.jpg                  \n",
            " extracting: 90.jpg                  \n",
            " extracting: 91.jpg                  \n",
            " extracting: 92.jpg                  \n",
            " extracting: 93.jpg                  \n",
            " extracting: 94.jpg                  \n",
            " extracting: 95.jpg                  \n",
            " extracting: 96.jpg                  \n",
            " extracting: 97.jpg                  \n",
            " extracting: 98.jpg                  \n",
            " extracting: 99.jpg                  \n",
            " extracting: 100.jpg                 \n",
            " extracting: 101.jpg                 \n",
            " extracting: 102.jpg                 \n",
            " extracting: 103.jpg                 \n",
            " extracting: 104.jpg                 \n",
            " extracting: 105.jpg                 \n",
            " extracting: 106.jpg                 \n",
            " extracting: 107.jpg                 \n",
            " extracting: 108.jpg                 \n",
            " extracting: 109.jpg                 \n",
            " extracting: 110.jpg                 \n",
            " extracting: 111.jpg                 \n",
            " extracting: 112.jpg                 \n",
            " extracting: 113.jpg                 \n",
            " extracting: 114.jpg                 \n",
            " extracting: 115.jpg                 \n",
            " extracting: 116.jpg                 \n",
            " extracting: 117.jpg                 \n",
            " extracting: 118.jpg                 \n",
            " extracting: 119.jpg                 \n",
            " extracting: 120.jpg                 \n",
            " extracting: 121.jpg                 \n",
            " extracting: 122.jpg                 \n",
            " extracting: 123.jpg                 \n",
            " extracting: 124.jpg                 \n",
            " extracting: 125.jpg                 \n",
            " extracting: 126.jpg                 \n",
            " extracting: 127.jpg                 \n",
            " extracting: 128.jpg                 \n",
            " extracting: 129.jpg                 \n",
            " extracting: 130.jpg                 \n",
            " extracting: 131.jpg                 \n",
            " extracting: 132.jpg                 \n",
            " extracting: 133.jpg                 \n",
            " extracting: 134.jpg                 \n",
            " extracting: 135.jpg                 \n",
            " extracting: 136.jpg                 \n",
            " extracting: 137.jpg                 \n",
            " extracting: 138.jpg                 \n",
            " extracting: 139.jpg                 \n",
            " extracting: 140.jpg                 \n",
            " extracting: 141.jpg                 \n",
            " extracting: 142.jpg                 \n",
            " extracting: 143.jpg                 \n",
            " extracting: 144.jpg                 \n",
            " extracting: 145.jpg                 \n",
            " extracting: 146.jpg                 \n",
            " extracting: 147.jpg                 \n",
            " extracting: 148.jpg                 \n",
            " extracting: 149.jpg                 \n",
            " extracting: 150.jpg                 \n",
            " extracting: 151.jpg                 \n",
            " extracting: 152.jpg                 \n",
            " extracting: 153.jpg                 \n",
            " extracting: 154.jpg                 \n",
            " extracting: 155.jpg                 \n",
            " extracting: 156.jpg                 \n",
            " extracting: 157.jpg                 \n",
            " extracting: 158.jpg                 \n",
            " extracting: 159.jpg                 \n",
            " extracting: 160.jpg                 \n",
            " extracting: 161.jpg                 \n",
            " extracting: 162.jpg                 \n",
            " extracting: 163.jpg                 \n",
            " extracting: 164.jpg                 \n",
            " extracting: 165.jpg                 \n",
            " extracting: 166.jpg                 \n",
            " extracting: 167.jpg                 \n",
            " extracting: 168.jpg                 \n",
            " extracting: 169.jpg                 \n",
            " extracting: 170.jpg                 \n",
            " extracting: 171.jpg                 \n",
            " extracting: 172.jpg                 \n",
            " extracting: 173.jpg                 \n",
            " extracting: 174.jpg                 \n",
            " extracting: 175.jpg                 \n",
            " extracting: 176.jpg                 \n",
            " extracting: 177.jpg                 \n",
            " extracting: 178.jpg                 \n",
            " extracting: 179.jpg                 \n",
            " extracting: 180.jpg                 \n",
            " extracting: 181.jpg                 \n",
            " extracting: 182.jpg                 \n",
            " extracting: 183.jpg                 \n",
            " extracting: 184.jpg                 \n",
            " extracting: 185.jpg                 \n",
            " extracting: 186.jpg                 \n",
            " extracting: 187.jpg                 \n",
            " extracting: 188.jpg                 \n",
            " extracting: 189.jpg                 \n",
            " extracting: 190.jpg                 \n",
            " extracting: 191.jpg                 \n",
            " extracting: 192.jpg                 \n",
            " extracting: 193.jpg                 \n",
            " extracting: 194.jpg                 \n",
            " extracting: 195.jpg                 \n",
            " extracting: 196.jpg                 \n",
            " extracting: 197.jpg                 \n",
            " extracting: 198.jpg                 \n",
            " extracting: 199.jpg                 \n",
            " extracting: 200.jpg                 \n",
            " extracting: 201.jpg                 \n",
            " extracting: 202.jpg                 \n",
            " extracting: 203.jpg                 \n",
            " extracting: 204.jpg                 \n",
            " extracting: 205.jpg                 \n"
          ]
        }
      ]
    },
    {
      "cell_type": "code",
      "metadata": {
        "colab": {
          "base_uri": "https://localhost:8080/"
        },
        "id": "DsHrNg6yiTnd",
        "outputId": "f1467865-5473-420f-f599-67addb4c0f8c"
      },
      "source": [
        "!mkdir ./remote"
      ],
      "execution_count": 6,
      "outputs": [
        {
          "output_type": "stream",
          "name": "stdout",
          "text": [
            "mkdir: cannot create directory ‘./remote’: File exists\n"
          ]
        }
      ]
    },
    {
      "cell_type": "code",
      "metadata": {
        "id": "9s__w0MnXNCB"
      },
      "source": [
        "!mv ./*.jpg ./remote/"
      ],
      "execution_count": 7,
      "outputs": []
    },
    {
      "cell_type": "code",
      "metadata": {
        "id": "3IXzE3kZiYFx"
      },
      "source": [
        "!mv ./리모컨-samples.zip ./remote"
      ],
      "execution_count": 8,
      "outputs": []
    },
    {
      "cell_type": "code",
      "metadata": {
        "id": "j3ZvdNF6iMrC"
      },
      "source": [
        "#cd ./remote/"
      ],
      "execution_count": 9,
      "outputs": []
    },
    {
      "cell_type": "code",
      "metadata": {
        "id": "BlQ44bN3pIVk"
      },
      "source": [
        ""
      ],
      "execution_count": 9,
      "outputs": []
    },
    {
      "cell_type": "code",
      "metadata": {
        "colab": {
          "base_uri": "https://localhost:8080/"
        },
        "id": "LiKW91sGWttB",
        "outputId": "ef820e58-981b-4d8b-b393-5327987564c3"
      },
      "source": [
        "!unzip ./종이컵-samples.zip"
      ],
      "execution_count": 10,
      "outputs": [
        {
          "output_type": "stream",
          "name": "stdout",
          "text": [
            "Archive:  ./종이컵-samples.zip\n",
            " extracting: 0.jpg                   \n",
            " extracting: 1.jpg                   \n",
            " extracting: 2.jpg                   \n",
            " extracting: 3.jpg                   \n",
            " extracting: 4.jpg                   \n",
            " extracting: 5.jpg                   \n",
            " extracting: 6.jpg                   \n",
            " extracting: 7.jpg                   \n",
            " extracting: 8.jpg                   \n",
            " extracting: 9.jpg                   \n",
            " extracting: 10.jpg                  \n",
            " extracting: 11.jpg                  \n",
            " extracting: 12.jpg                  \n",
            " extracting: 13.jpg                  \n",
            " extracting: 14.jpg                  \n",
            " extracting: 15.jpg                  \n",
            " extracting: 16.jpg                  \n",
            " extracting: 17.jpg                  \n",
            " extracting: 18.jpg                  \n",
            " extracting: 19.jpg                  \n",
            " extracting: 20.jpg                  \n",
            " extracting: 21.jpg                  \n",
            " extracting: 22.jpg                  \n",
            " extracting: 23.jpg                  \n",
            " extracting: 24.jpg                  \n",
            " extracting: 25.jpg                  \n",
            " extracting: 26.jpg                  \n",
            " extracting: 27.jpg                  \n",
            " extracting: 28.jpg                  \n",
            " extracting: 29.jpg                  \n",
            " extracting: 30.jpg                  \n",
            " extracting: 31.jpg                  \n",
            " extracting: 32.jpg                  \n",
            " extracting: 33.jpg                  \n",
            " extracting: 34.jpg                  \n",
            " extracting: 35.jpg                  \n",
            " extracting: 36.jpg                  \n",
            " extracting: 37.jpg                  \n",
            " extracting: 38.jpg                  \n",
            " extracting: 39.jpg                  \n",
            " extracting: 40.jpg                  \n",
            " extracting: 41.jpg                  \n",
            " extracting: 42.jpg                  \n",
            " extracting: 43.jpg                  \n",
            " extracting: 44.jpg                  \n",
            " extracting: 45.jpg                  \n",
            " extracting: 46.jpg                  \n",
            " extracting: 47.jpg                  \n",
            " extracting: 48.jpg                  \n",
            " extracting: 49.jpg                  \n",
            " extracting: 50.jpg                  \n",
            " extracting: 51.jpg                  \n",
            " extracting: 52.jpg                  \n",
            " extracting: 53.jpg                  \n",
            " extracting: 54.jpg                  \n",
            " extracting: 55.jpg                  \n",
            " extracting: 56.jpg                  \n",
            " extracting: 57.jpg                  \n",
            " extracting: 58.jpg                  \n",
            " extracting: 59.jpg                  \n",
            " extracting: 60.jpg                  \n",
            " extracting: 61.jpg                  \n",
            " extracting: 62.jpg                  \n",
            " extracting: 63.jpg                  \n",
            " extracting: 64.jpg                  \n",
            " extracting: 65.jpg                  \n",
            " extracting: 66.jpg                  \n",
            " extracting: 67.jpg                  \n",
            " extracting: 68.jpg                  \n",
            " extracting: 69.jpg                  \n",
            " extracting: 70.jpg                  \n",
            " extracting: 71.jpg                  \n",
            " extracting: 72.jpg                  \n",
            " extracting: 73.jpg                  \n",
            " extracting: 74.jpg                  \n",
            " extracting: 75.jpg                  \n",
            " extracting: 76.jpg                  \n",
            " extracting: 77.jpg                  \n",
            " extracting: 78.jpg                  \n",
            " extracting: 79.jpg                  \n",
            " extracting: 80.jpg                  \n",
            " extracting: 81.jpg                  \n",
            " extracting: 82.jpg                  \n",
            " extracting: 83.jpg                  \n",
            " extracting: 84.jpg                  \n",
            " extracting: 85.jpg                  \n",
            " extracting: 86.jpg                  \n",
            " extracting: 87.jpg                  \n",
            " extracting: 88.jpg                  \n",
            " extracting: 89.jpg                  \n",
            " extracting: 90.jpg                  \n",
            " extracting: 91.jpg                  \n",
            " extracting: 92.jpg                  \n",
            " extracting: 93.jpg                  \n",
            " extracting: 94.jpg                  \n",
            " extracting: 95.jpg                  \n",
            " extracting: 96.jpg                  \n",
            " extracting: 97.jpg                  \n",
            " extracting: 98.jpg                  \n",
            " extracting: 99.jpg                  \n",
            " extracting: 100.jpg                 \n",
            " extracting: 101.jpg                 \n",
            " extracting: 102.jpg                 \n",
            " extracting: 103.jpg                 \n",
            " extracting: 104.jpg                 \n",
            " extracting: 105.jpg                 \n",
            " extracting: 106.jpg                 \n",
            " extracting: 107.jpg                 \n",
            " extracting: 108.jpg                 \n",
            " extracting: 109.jpg                 \n",
            " extracting: 110.jpg                 \n",
            " extracting: 111.jpg                 \n",
            " extracting: 112.jpg                 \n",
            " extracting: 113.jpg                 \n",
            " extracting: 114.jpg                 \n",
            " extracting: 115.jpg                 \n",
            " extracting: 116.jpg                 \n",
            " extracting: 117.jpg                 \n",
            " extracting: 118.jpg                 \n",
            " extracting: 119.jpg                 \n",
            " extracting: 120.jpg                 \n",
            " extracting: 121.jpg                 \n",
            " extracting: 122.jpg                 \n",
            " extracting: 123.jpg                 \n",
            " extracting: 124.jpg                 \n",
            " extracting: 125.jpg                 \n",
            " extracting: 126.jpg                 \n",
            " extracting: 127.jpg                 \n",
            " extracting: 128.jpg                 \n",
            " extracting: 129.jpg                 \n",
            " extracting: 130.jpg                 \n",
            " extracting: 131.jpg                 \n",
            " extracting: 132.jpg                 \n",
            " extracting: 133.jpg                 \n",
            " extracting: 134.jpg                 \n",
            " extracting: 135.jpg                 \n",
            " extracting: 136.jpg                 \n",
            " extracting: 137.jpg                 \n",
            " extracting: 138.jpg                 \n",
            " extracting: 139.jpg                 \n",
            " extracting: 140.jpg                 \n",
            " extracting: 141.jpg                 \n",
            " extracting: 142.jpg                 \n",
            " extracting: 143.jpg                 \n",
            " extracting: 144.jpg                 \n",
            " extracting: 145.jpg                 \n",
            " extracting: 146.jpg                 \n",
            " extracting: 147.jpg                 \n",
            " extracting: 148.jpg                 \n",
            " extracting: 149.jpg                 \n",
            " extracting: 150.jpg                 \n",
            " extracting: 151.jpg                 \n",
            " extracting: 152.jpg                 \n",
            " extracting: 153.jpg                 \n",
            " extracting: 154.jpg                 \n",
            " extracting: 155.jpg                 \n",
            " extracting: 156.jpg                 \n",
            " extracting: 157.jpg                 \n",
            " extracting: 158.jpg                 \n",
            " extracting: 159.jpg                 \n",
            " extracting: 160.jpg                 \n",
            " extracting: 161.jpg                 \n",
            " extracting: 162.jpg                 \n",
            " extracting: 163.jpg                 \n",
            " extracting: 164.jpg                 \n",
            " extracting: 165.jpg                 \n",
            " extracting: 166.jpg                 \n",
            " extracting: 167.jpg                 \n",
            " extracting: 168.jpg                 \n",
            " extracting: 169.jpg                 \n",
            " extracting: 170.jpg                 \n",
            " extracting: 171.jpg                 \n",
            " extracting: 172.jpg                 \n",
            " extracting: 173.jpg                 \n",
            " extracting: 174.jpg                 \n"
          ]
        }
      ]
    },
    {
      "cell_type": "code",
      "metadata": {
        "id": "8OuGZ2B3W8le"
      },
      "source": [
        "!mkdir ./cup"
      ],
      "execution_count": 11,
      "outputs": []
    },
    {
      "cell_type": "code",
      "metadata": {
        "id": "5ldwVq3EhcLg"
      },
      "source": [
        "!mv ./*.jpg ./cup/"
      ],
      "execution_count": 12,
      "outputs": []
    },
    {
      "cell_type": "code",
      "metadata": {
        "id": "QtRAijpIhcJZ"
      },
      "source": [
        "!mv ./종이컵-samples.zip ./cup"
      ],
      "execution_count": 13,
      "outputs": []
    },
    {
      "cell_type": "code",
      "metadata": {
        "id": "J3dhMQYIpJLI"
      },
      "source": [
        ""
      ],
      "execution_count": 13,
      "outputs": []
    },
    {
      "cell_type": "code",
      "metadata": {
        "id": "ktfDH9JoiCLZ"
      },
      "source": [
        "#%cd ./cup/"
      ],
      "execution_count": 14,
      "outputs": []
    },
    {
      "cell_type": "code",
      "metadata": {
        "colab": {
          "base_uri": "https://localhost:8080/"
        },
        "id": "ptwRJqp5XnUm",
        "outputId": "432cdd56-db49-4323-c91c-a2336610c71a"
      },
      "source": [
        "!unzip ./지우게-samples.zip"
      ],
      "execution_count": 15,
      "outputs": [
        {
          "output_type": "stream",
          "name": "stdout",
          "text": [
            "Archive:  ./지우게-samples.zip\n",
            " extracting: 0.jpg                   \n",
            " extracting: 1.jpg                   \n",
            " extracting: 2.jpg                   \n",
            " extracting: 3.jpg                   \n",
            " extracting: 4.jpg                   \n",
            " extracting: 5.jpg                   \n",
            " extracting: 6.jpg                   \n",
            " extracting: 7.jpg                   \n",
            " extracting: 8.jpg                   \n",
            " extracting: 9.jpg                   \n",
            " extracting: 10.jpg                  \n",
            " extracting: 11.jpg                  \n",
            " extracting: 12.jpg                  \n",
            " extracting: 13.jpg                  \n",
            " extracting: 14.jpg                  \n",
            " extracting: 15.jpg                  \n",
            " extracting: 16.jpg                  \n",
            " extracting: 17.jpg                  \n",
            " extracting: 18.jpg                  \n",
            " extracting: 19.jpg                  \n",
            " extracting: 20.jpg                  \n",
            " extracting: 21.jpg                  \n",
            " extracting: 22.jpg                  \n",
            " extracting: 23.jpg                  \n",
            " extracting: 24.jpg                  \n",
            " extracting: 25.jpg                  \n",
            " extracting: 26.jpg                  \n",
            " extracting: 27.jpg                  \n",
            " extracting: 28.jpg                  \n",
            " extracting: 29.jpg                  \n",
            " extracting: 30.jpg                  \n",
            " extracting: 31.jpg                  \n",
            " extracting: 32.jpg                  \n",
            " extracting: 33.jpg                  \n",
            " extracting: 34.jpg                  \n",
            " extracting: 35.jpg                  \n",
            " extracting: 36.jpg                  \n",
            " extracting: 37.jpg                  \n",
            " extracting: 38.jpg                  \n",
            " extracting: 39.jpg                  \n",
            " extracting: 40.jpg                  \n",
            " extracting: 41.jpg                  \n",
            " extracting: 42.jpg                  \n",
            " extracting: 43.jpg                  \n",
            " extracting: 44.jpg                  \n",
            " extracting: 45.jpg                  \n",
            " extracting: 46.jpg                  \n",
            " extracting: 47.jpg                  \n",
            " extracting: 48.jpg                  \n",
            " extracting: 49.jpg                  \n",
            " extracting: 50.jpg                  \n",
            " extracting: 51.jpg                  \n",
            " extracting: 52.jpg                  \n",
            " extracting: 53.jpg                  \n",
            " extracting: 54.jpg                  \n",
            " extracting: 55.jpg                  \n",
            " extracting: 56.jpg                  \n",
            " extracting: 57.jpg                  \n",
            " extracting: 58.jpg                  \n",
            " extracting: 59.jpg                  \n",
            " extracting: 60.jpg                  \n",
            " extracting: 61.jpg                  \n",
            " extracting: 62.jpg                  \n",
            " extracting: 63.jpg                  \n",
            " extracting: 64.jpg                  \n",
            " extracting: 65.jpg                  \n",
            " extracting: 66.jpg                  \n",
            " extracting: 67.jpg                  \n",
            " extracting: 68.jpg                  \n",
            " extracting: 69.jpg                  \n",
            " extracting: 70.jpg                  \n",
            " extracting: 71.jpg                  \n",
            " extracting: 72.jpg                  \n",
            " extracting: 73.jpg                  \n",
            " extracting: 74.jpg                  \n",
            " extracting: 75.jpg                  \n",
            " extracting: 76.jpg                  \n",
            " extracting: 77.jpg                  \n",
            " extracting: 78.jpg                  \n",
            " extracting: 79.jpg                  \n",
            " extracting: 80.jpg                  \n",
            " extracting: 81.jpg                  \n",
            " extracting: 82.jpg                  \n",
            " extracting: 83.jpg                  \n",
            " extracting: 84.jpg                  \n",
            " extracting: 85.jpg                  \n",
            " extracting: 86.jpg                  \n",
            " extracting: 87.jpg                  \n",
            " extracting: 88.jpg                  \n",
            " extracting: 89.jpg                  \n",
            " extracting: 90.jpg                  \n",
            " extracting: 91.jpg                  \n",
            " extracting: 92.jpg                  \n",
            " extracting: 93.jpg                  \n",
            " extracting: 94.jpg                  \n",
            " extracting: 95.jpg                  \n",
            " extracting: 96.jpg                  \n",
            " extracting: 97.jpg                  \n",
            " extracting: 98.jpg                  \n",
            " extracting: 99.jpg                  \n",
            " extracting: 100.jpg                 \n",
            " extracting: 101.jpg                 \n",
            " extracting: 102.jpg                 \n",
            " extracting: 103.jpg                 \n",
            " extracting: 104.jpg                 \n",
            " extracting: 105.jpg                 \n",
            " extracting: 106.jpg                 \n",
            " extracting: 107.jpg                 \n",
            " extracting: 108.jpg                 \n",
            " extracting: 109.jpg                 \n",
            " extracting: 110.jpg                 \n",
            " extracting: 111.jpg                 \n",
            " extracting: 112.jpg                 \n",
            " extracting: 113.jpg                 \n",
            " extracting: 114.jpg                 \n",
            " extracting: 115.jpg                 \n",
            " extracting: 116.jpg                 \n",
            " extracting: 117.jpg                 \n",
            " extracting: 118.jpg                 \n",
            " extracting: 119.jpg                 \n",
            " extracting: 120.jpg                 \n",
            " extracting: 121.jpg                 \n",
            " extracting: 122.jpg                 \n",
            " extracting: 123.jpg                 \n",
            " extracting: 124.jpg                 \n",
            " extracting: 125.jpg                 \n",
            " extracting: 126.jpg                 \n",
            " extracting: 127.jpg                 \n",
            " extracting: 128.jpg                 \n",
            " extracting: 129.jpg                 \n",
            " extracting: 130.jpg                 \n",
            " extracting: 131.jpg                 \n",
            " extracting: 132.jpg                 \n",
            " extracting: 133.jpg                 \n",
            " extracting: 134.jpg                 \n",
            " extracting: 135.jpg                 \n",
            " extracting: 136.jpg                 \n",
            " extracting: 137.jpg                 \n",
            " extracting: 138.jpg                 \n",
            " extracting: 139.jpg                 \n",
            " extracting: 140.jpg                 \n",
            " extracting: 141.jpg                 \n",
            " extracting: 142.jpg                 \n",
            " extracting: 143.jpg                 \n",
            " extracting: 144.jpg                 \n",
            " extracting: 145.jpg                 \n",
            " extracting: 146.jpg                 \n",
            " extracting: 147.jpg                 \n",
            " extracting: 148.jpg                 \n",
            " extracting: 149.jpg                 \n"
          ]
        }
      ]
    },
    {
      "cell_type": "code",
      "metadata": {
        "id": "ekkB5JekW5Cm"
      },
      "source": [
        "!mkdir ./eraser"
      ],
      "execution_count": 16,
      "outputs": []
    },
    {
      "cell_type": "code",
      "metadata": {
        "id": "YJpM3RJkhyQl"
      },
      "source": [
        "!mv ./*.jpg ./eraser/"
      ],
      "execution_count": 17,
      "outputs": []
    },
    {
      "cell_type": "code",
      "metadata": {
        "id": "fmXWO7s7XBRu"
      },
      "source": [
        "!mv ./지우게-samples.zip ./eraser"
      ],
      "execution_count": 18,
      "outputs": []
    },
    {
      "cell_type": "code",
      "metadata": {
        "id": "fMXniHkhpKjg"
      },
      "source": [
        ""
      ],
      "execution_count": 18,
      "outputs": []
    },
    {
      "cell_type": "code",
      "metadata": {
        "id": "spY9qjm8X4kt"
      },
      "source": [
        "#%cd ./eraser/"
      ],
      "execution_count": 19,
      "outputs": []
    },
    {
      "cell_type": "code",
      "metadata": {
        "colab": {
          "base_uri": "https://localhost:8080/"
        },
        "id": "Ne9JAX_7Y-be",
        "outputId": "64a1b7ca-8ca1-42b0-9444-20d78b93168a"
      },
      "source": [
        "!ls -l"
      ],
      "execution_count": 20,
      "outputs": [
        {
          "output_type": "stream",
          "name": "stdout",
          "text": [
            "total 7412\n",
            "-rw-r--r-- 1 root root 7563542 Oct 12 08:35 converted_savedmodel.zip\n",
            "drwxr-xr-x 2 root root    4096 Oct 12 08:36 cup\n",
            "drwxr-xr-x 2 root root    4096 Oct 12 08:36 eraser\n",
            "-rw-r--r-- 1 root root      36 Oct 12 06:53 labels.txt\n",
            "drwxr-xr-x 4 root root    4096 Oct 12 06:53 model.savedmodel\n",
            "drwxr-xr-x 2 root root    4096 Oct 12 08:35 remote\n",
            "drwxr-xr-x 1 root root    4096 Oct  8 13:45 sample_data\n"
          ]
        }
      ]
    },
    {
      "cell_type": "code",
      "metadata": {
        "colab": {
          "base_uri": "https://localhost:8080/"
        },
        "id": "LwY7UaDNYzme",
        "outputId": "ce4fc6d8-d447-4262-d6f8-50b89d9e4277"
      },
      "source": [
        "!pwd"
      ],
      "execution_count": 21,
      "outputs": [
        {
          "output_type": "stream",
          "name": "stdout",
          "text": [
            "/content\n"
          ]
        }
      ]
    },
    {
      "cell_type": "code",
      "metadata": {
        "id": "yJbnnsc8YoC3"
      },
      "source": [
        "#%cd /content/"
      ],
      "execution_count": 22,
      "outputs": []
    },
    {
      "cell_type": "code",
      "metadata": {
        "id": "PdoFOsohYp27"
      },
      "source": [
        "#%cd .."
      ],
      "execution_count": 23,
      "outputs": []
    },
    {
      "cell_type": "code",
      "metadata": {
        "id": "9TlSshu1Y2CB"
      },
      "source": [
        "#!pwd"
      ],
      "execution_count": 24,
      "outputs": []
    },
    {
      "cell_type": "code",
      "metadata": {
        "id": "mr_g31X2Y4Xl"
      },
      "source": [
        "#%cd /content/"
      ],
      "execution_count": 25,
      "outputs": []
    },
    {
      "cell_type": "code",
      "metadata": {
        "colab": {
          "base_uri": "https://localhost:8080/"
        },
        "id": "VauwnjEnXfpt",
        "outputId": "858ad756-8ae0-4648-c011-21c34b1bf9da"
      },
      "source": [
        "from google.colab import drive\n",
        "drive.mount('/content/drive')"
      ],
      "execution_count": 26,
      "outputs": [
        {
          "output_type": "stream",
          "name": "stdout",
          "text": [
            "Mounted at /content/drive\n"
          ]
        }
      ]
    },
    {
      "cell_type": "code",
      "metadata": {
        "id": "5r3SGV1taMOe"
      },
      "source": [
        "from keras.models import load_model\n",
        "from PIL import Image, ImageOps\n",
        "import numpy as np"
      ],
      "execution_count": 27,
      "outputs": []
    },
    {
      "cell_type": "code",
      "metadata": {
        "colab": {
          "base_uri": "https://localhost:8080/"
        },
        "id": "8gPtlkIFaMRK",
        "outputId": "dce8cd1b-273b-42bf-b911-60886409c45b"
      },
      "source": [
        "# Load the model\n",
        "model = load_model('./model.savedmodel')\n",
        "#('keras_model.h5')"
      ],
      "execution_count": 28,
      "outputs": [
        {
          "output_type": "stream",
          "name": "stdout",
          "text": [
            "WARNING:tensorflow:SavedModel saved prior to TF 2.5 detected when loading Keras model. Please ensure that you are saving the model with model.save() or tf.keras.models.save_model(), *NOT* tf.saved_model.save(). To confirm, there should be a file named \"keras_metadata.pb\" in the SavedModel directory.\n",
            "WARNING:tensorflow:No training configuration found in save file, so the model was *not* compiled. Compile it manually.\n"
          ]
        }
      ]
    },
    {
      "cell_type": "code",
      "metadata": {
        "colab": {
          "base_uri": "https://localhost:8080/"
        },
        "id": "24gmaz6HaSw4",
        "outputId": "4783068f-40a8-4521-df4e-880a0423fc48"
      },
      "source": [
        "model.summary()"
      ],
      "execution_count": 29,
      "outputs": [
        {
          "output_type": "stream",
          "name": "stdout",
          "text": [
            "Model: \"sequential_40\"\n",
            "_________________________________________________________________\n",
            "Layer (type)                 Output Shape              Param #   \n",
            "=================================================================\n",
            "sequential_37 (Sequential)   (None, 1280)              410208    \n",
            "_________________________________________________________________\n",
            "sequential_39 (Sequential)   (None, 3)                 128400    \n",
            "=================================================================\n",
            "Total params: 538,608\n",
            "Trainable params: 524,528\n",
            "Non-trainable params: 14,080\n",
            "_________________________________________________________________\n"
          ]
        }
      ]
    },
    {
      "cell_type": "code",
      "metadata": {
        "id": "K8KY3euhdYlB"
      },
      "source": [
        ""
      ],
      "execution_count": 29,
      "outputs": []
    },
    {
      "cell_type": "code",
      "metadata": {
        "id": "4MAuZTbHawr4"
      },
      "source": [
        "data = np.ndarray(shape=(1, 224, 224, 3), dtype=np.float32) #인풋 사이즈가 224로 매핑"
      ],
      "execution_count": 30,
      "outputs": []
    },
    {
      "cell_type": "code",
      "metadata": {
        "id": "6SvoCGxha480"
      },
      "source": [
        "image = Image.open('./eraser/129.jpg') #컵으로 바꿀 수 있음"
      ],
      "execution_count": 79,
      "outputs": []
    },
    {
      "cell_type": "code",
      "metadata": {
        "id": "80xcmdjqbHNf"
      },
      "source": [
        "size = (224, 224)\n",
        "image = ImageOps.fit(image, size, Image.ANTIALIAS)"
      ],
      "execution_count": 80,
      "outputs": []
    },
    {
      "cell_type": "code",
      "metadata": {
        "id": "GC1FKPXVbR5P"
      },
      "source": [
        "image_array = np.asarray(image)"
      ],
      "execution_count": 81,
      "outputs": []
    },
    {
      "cell_type": "code",
      "metadata": {
        "colab": {
          "base_uri": "https://localhost:8080/"
        },
        "id": "BvIDHj2EbYYU",
        "outputId": "8ad2d7fd-6504-4bab-c621-1ae0e284a885"
      },
      "source": [
        "image_array.shape"
      ],
      "execution_count": 82,
      "outputs": [
        {
          "output_type": "execute_result",
          "data": {
            "text/plain": [
              "(224, 224, 3)"
            ]
          },
          "metadata": {},
          "execution_count": 82
        }
      ]
    },
    {
      "cell_type": "code",
      "metadata": {
        "colab": {
          "base_uri": "https://localhost:8080/"
        },
        "id": "ZOiNgsilbR_H",
        "outputId": "48a037af-6aa0-4ed7-dc59-c572490e89a8"
      },
      "source": [
        "image_array[:10, :10, 0] #0은 레드, 뒤에 1을 넣으면 그린 채널"
      ],
      "execution_count": 83,
      "outputs": [
        {
          "output_type": "execute_result",
          "data": {
            "text/plain": [
              "array([[107, 107, 107, 107, 108, 108, 108, 108, 109, 109],\n",
              "       [107, 107, 107, 107, 108, 108, 108, 108, 109, 109],\n",
              "       [107, 107, 108, 108, 108, 108, 108, 109, 109, 109],\n",
              "       [108, 108, 108, 108, 108, 109, 109, 109, 109, 109],\n",
              "       [108, 108, 109, 109, 109, 109, 109, 109, 109, 109],\n",
              "       [109, 109, 109, 109, 109, 109, 109, 109, 109, 109],\n",
              "       [109, 109, 109, 109, 109, 109, 109, 109, 110, 110],\n",
              "       [110, 110, 110, 110, 110, 109, 109, 109, 111, 111],\n",
              "       [109, 109, 109, 109, 109, 110, 110, 111, 111, 111],\n",
              "       [109, 109, 109, 109, 109, 110, 110, 111, 111, 112]], dtype=uint8)"
            ]
          },
          "metadata": {},
          "execution_count": 83
        }
      ]
    },
    {
      "cell_type": "code",
      "metadata": {
        "colab": {
          "base_uri": "https://localhost:8080/"
        },
        "id": "FbOGwQqEb1_X",
        "outputId": "041d8f32-538c-452a-f230-43d07375bc9f"
      },
      "source": [
        "image_array[:10, :10, 1]"
      ],
      "execution_count": 84,
      "outputs": [
        {
          "output_type": "execute_result",
          "data": {
            "text/plain": [
              "array([[108, 108, 108, 108, 109, 109, 108, 108, 109, 109],\n",
              "       [108, 108, 108, 108, 109, 108, 108, 108, 109, 109],\n",
              "       [108, 108, 109, 109, 109, 108, 108, 109, 109, 109],\n",
              "       [109, 109, 109, 109, 108, 109, 109, 109, 109, 109],\n",
              "       [109, 109, 110, 110, 109, 109, 109, 109, 109, 109],\n",
              "       [110, 109, 109, 109, 109, 109, 109, 109, 109, 109],\n",
              "       [109, 109, 109, 109, 109, 109, 109, 109, 110, 110],\n",
              "       [110, 110, 110, 110, 110, 109, 109, 109, 111, 111],\n",
              "       [109, 109, 109, 109, 109, 110, 110, 111, 111, 111],\n",
              "       [109, 109, 109, 109, 109, 110, 110, 111, 111, 112]], dtype=uint8)"
            ]
          },
          "metadata": {},
          "execution_count": 84
        }
      ]
    },
    {
      "cell_type": "code",
      "metadata": {
        "colab": {
          "base_uri": "https://localhost:8080/"
        },
        "id": "vA3VmEZXb2B1",
        "outputId": "c4e9ecfb-bf44-4543-a78d-5ced00e8ee5f"
      },
      "source": [
        "image_array[:10, :10, 2] #블루"
      ],
      "execution_count": 85,
      "outputs": [
        {
          "output_type": "execute_result",
          "data": {
            "text/plain": [
              "array([[103, 103, 103, 103, 104, 104, 106, 106, 107, 107],\n",
              "       [103, 103, 103, 103, 104, 106, 106, 106, 107, 107],\n",
              "       [103, 103, 104, 104, 104, 106, 106, 107, 107, 109],\n",
              "       [104, 104, 104, 104, 106, 107, 107, 107, 107, 109],\n",
              "       [104, 104, 105, 105, 107, 107, 107, 107, 107, 109],\n",
              "       [105, 107, 107, 107, 107, 107, 107, 107, 107, 109],\n",
              "       [107, 107, 107, 107, 107, 107, 107, 107, 110, 110],\n",
              "       [108, 108, 108, 108, 108, 107, 107, 109, 111, 111],\n",
              "       [107, 107, 107, 107, 107, 108, 110, 111, 111, 111],\n",
              "       [107, 107, 109, 109, 109, 110, 110, 111, 111, 112]], dtype=uint8)"
            ]
          },
          "metadata": {},
          "execution_count": 85
        }
      ]
    },
    {
      "cell_type": "code",
      "metadata": {
        "id": "pYw1FCKTdSWz"
      },
      "source": [
        "#normalized_image_array[:10, :10, 2] #오류남"
      ],
      "execution_count": 86,
      "outputs": []
    },
    {
      "cell_type": "code",
      "metadata": {
        "id": "j-l6Np2zbcO0"
      },
      "source": [
        "normalized_image_array = (image_array.astype(np.float32) / 127.0) - 1\n",
        "#255면 0에서 1값으로 바꿔버리는, 이미지 자체를 노멀라이즈"
      ],
      "execution_count": 87,
      "outputs": []
    },
    {
      "cell_type": "code",
      "metadata": {
        "id": "Fhy9PHOdcRED"
      },
      "source": [
        "#normalized_image_array = (image_array.astype(np.float32) / 255)"
      ],
      "execution_count": 88,
      "outputs": []
    },
    {
      "cell_type": "code",
      "metadata": {
        "id": "H-vSgF4bcaSc"
      },
      "source": [
        "data[0] = normalized_image_array"
      ],
      "execution_count": 89,
      "outputs": []
    },
    {
      "cell_type": "code",
      "metadata": {
        "id": "TtNtdKOPcaVB"
      },
      "source": [
        "prediction = model.predict(data)"
      ],
      "execution_count": 90,
      "outputs": []
    },
    {
      "cell_type": "code",
      "metadata": {
        "colab": {
          "base_uri": "https://localhost:8080/"
        },
        "id": "lPPgruBzc8JP",
        "outputId": "2dbf5315-c056-4734-c942-91ad35f5592c"
      },
      "source": [
        "prediction"
      ],
      "execution_count": 91,
      "outputs": [
        {
          "output_type": "execute_result",
          "data": {
            "text/plain": [
              "array([[9.9167073e-01, 8.3280103e-03, 1.3295695e-06]], dtype=float32)"
            ]
          },
          "metadata": {},
          "execution_count": 91
        }
      ]
    },
    {
      "cell_type": "code",
      "metadata": {
        "colab": {
          "base_uri": "https://localhost:8080/"
        },
        "id": "Adee2XqEe2wU",
        "outputId": "728ac0c0-e344-4e4a-c988-8dfbd12e1499"
      },
      "source": [
        "print(prediction) #순서대로 나와야 하는데...\n",
        "#소프트 맥스 값으로 해서 제일 큰 값이 중간에 나와야\n",
        "#모델에 순서를 안 가르쳐 줌\n",
        "#label.txt를 안 읽음\n",
        "#디렉토리 이름을 바꿈"
      ],
      "execution_count": 92,
      "outputs": [
        {
          "output_type": "stream",
          "name": "stdout",
          "text": [
            "[[9.9167073e-01 8.3280103e-03 1.3295695e-06]]\n"
          ]
        }
      ]
    },
    {
      "cell_type": "code",
      "metadata": {
        "colab": {
          "base_uri": "https://localhost:8080/"
        },
        "id": "Zna5oAgVc8FX",
        "outputId": "e6ca05a7-8f5e-4493-e0d3-41d043dd22f2"
      },
      "source": [
        "prediction.max()"
      ],
      "execution_count": 93,
      "outputs": [
        {
          "output_type": "execute_result",
          "data": {
            "text/plain": [
              "0.9916707"
            ]
          },
          "metadata": {},
          "execution_count": 93
        }
      ]
    },
    {
      "cell_type": "code",
      "metadata": {
        "id": "gh_c2IQUcm5R"
      },
      "source": [
        "#소프트맥스 3개의 확률 값"
      ],
      "execution_count": 94,
      "outputs": []
    },
    {
      "cell_type": "code",
      "metadata": {
        "colab": {
          "base_uri": "https://localhost:8080/"
        },
        "id": "wDuxsR8Rcr3R",
        "outputId": "30195540-b90b-47e3-8624-c631ab555bda"
      },
      "source": [
        "prediction.round(2)"
      ],
      "execution_count": 95,
      "outputs": [
        {
          "output_type": "execute_result",
          "data": {
            "text/plain": [
              "array([[0.99, 0.01, 0.  ]], dtype=float32)"
            ]
          },
          "metadata": {},
          "execution_count": 95
        }
      ]
    },
    {
      "cell_type": "code",
      "metadata": {
        "id": "9hcegaDQRZCb"
      },
      "source": [
        "# Create the array of the right shape to feed into the keras model\n",
        "# The 'length' or number of images you can put into the array is\n",
        "# determined by the first position in the shape tuple, in this case 1.\n",
        "##data = np.ndarray(shape=(1, 224, 224, 3), dtype=np.float32)\n",
        "# Replace this with the path to your image\n",
        "##image = Image.open('<IMAGE_PATH>')\n",
        "#resize the image to a 224x224 with the same strategy as in TM2:\n",
        "#resizing the image to be at least 224x224 and then cropping from the center\n",
        "##size = (224, 224)\n",
        "##image = ImageOps.fit(image, size, Image.ANTIALIAS)\n",
        "\n",
        "#turn the image into a numpy array\n",
        "##image_array = np.asarray(image)\n",
        "# Normalize the image\n",
        "##normalized_image_array = (image_array.astype(np.float32) / 127.0) - 1\n",
        "# Load the image into the array\n",
        "##data[0] = normalized_image_array\n",
        "\n",
        "# run the inference\n",
        "##prediction = model.predict(data)\n",
        "##print(prediction)"
      ],
      "execution_count": 96,
      "outputs": []
    },
    {
      "cell_type": "code",
      "metadata": {
        "colab": {
          "base_uri": "https://localhost:8080/"
        },
        "id": "ldWrO0s9kqpj",
        "outputId": "5b0a6fcf-f182-4730-9e68-a7266aab1a1c"
      },
      "source": [
        "!pip list\n",
        "#Tensorflow.__version__\n",
        "#예제 깃허브\n",
        "#deeplearning with python notebooks"
      ],
      "execution_count": 97,
      "outputs": [
        {
          "output_type": "stream",
          "name": "stdout",
          "text": [
            "Package                       Version\n",
            "----------------------------- --------------\n",
            "absl-py                       0.12.0\n",
            "alabaster                     0.7.12\n",
            "albumentations                0.1.12\n",
            "altair                        4.1.0\n",
            "appdirs                       1.4.4\n",
            "argcomplete                   1.12.3\n",
            "argon2-cffi                   21.1.0\n",
            "arviz                         0.11.4\n",
            "astor                         0.8.1\n",
            "astropy                       4.3.1\n",
            "astunparse                    1.6.3\n",
            "atari-py                      0.2.9\n",
            "atomicwrites                  1.4.0\n",
            "attrs                         21.2.0\n",
            "audioread                     2.1.9\n",
            "autograd                      1.3\n",
            "Babel                         2.9.1\n",
            "backcall                      0.2.0\n",
            "beautifulsoup4                4.6.3\n",
            "bleach                        4.1.0\n",
            "blis                          0.4.1\n",
            "bokeh                         2.3.3\n",
            "Bottleneck                    1.3.2\n",
            "branca                        0.4.2\n",
            "bs4                           0.0.1\n",
            "CacheControl                  0.12.6\n",
            "cached-property               1.5.2\n",
            "cachetools                    4.2.4\n",
            "catalogue                     1.0.0\n",
            "certifi                       2021.5.30\n",
            "cffi                          1.14.6\n",
            "cftime                        1.5.1\n",
            "chardet                       3.0.4\n",
            "charset-normalizer            2.0.6\n",
            "clang                         5.0\n",
            "click                         7.1.2\n",
            "cloudpickle                   1.3.0\n",
            "cmake                         3.12.0\n",
            "cmdstanpy                     0.9.5\n",
            "colorcet                      2.0.6\n",
            "colorlover                    0.3.0\n",
            "community                     1.0.0b1\n",
            "contextlib2                   0.5.5\n",
            "convertdate                   2.3.2\n",
            "coverage                      3.7.1\n",
            "coveralls                     0.5\n",
            "crcmod                        1.7\n",
            "cufflinks                     0.17.3\n",
            "cvxopt                        1.2.7\n",
            "cvxpy                         1.0.31\n",
            "cycler                        0.10.0\n",
            "cymem                         2.0.5\n",
            "Cython                        0.29.24\n",
            "daft                          0.0.4\n",
            "dask                          2.12.0\n",
            "datascience                   0.10.6\n",
            "debugpy                       1.0.0\n",
            "decorator                     4.4.2\n",
            "defusedxml                    0.7.1\n",
            "descartes                     1.1.0\n",
            "dill                          0.3.4\n",
            "distributed                   1.25.3\n",
            "dlib                          19.18.0\n",
            "dm-tree                       0.1.6\n",
            "docopt                        0.6.2\n",
            "docutils                      0.17.1\n",
            "dopamine-rl                   1.0.5\n",
            "earthengine-api               0.1.284\n",
            "easydict                      1.9\n",
            "ecos                          2.0.7.post1\n",
            "editdistance                  0.5.3\n",
            "en-core-web-sm                2.2.5\n",
            "entrypoints                   0.3\n",
            "ephem                         4.1\n",
            "et-xmlfile                    1.1.0\n",
            "fa2                           0.3.5\n",
            "fastai                        1.0.61\n",
            "fastdtw                       0.3.4\n",
            "fastprogress                  1.0.0\n",
            "fastrlock                     0.6\n",
            "fbprophet                     0.7.1\n",
            "feather-format                0.4.1\n",
            "filelock                      3.3.0\n",
            "firebase-admin                4.4.0\n",
            "fix-yahoo-finance             0.0.22\n",
            "Flask                         1.1.4\n",
            "flatbuffers                   1.12\n",
            "folium                        0.8.3\n",
            "future                        0.16.0\n",
            "gast                          0.4.0\n",
            "GDAL                          2.2.2\n",
            "gdown                         3.6.4\n",
            "gensim                        3.6.0\n",
            "geographiclib                 1.52\n",
            "geopy                         1.17.0\n",
            "gin-config                    0.4.0\n",
            "glob2                         0.7\n",
            "google                        2.0.3\n",
            "google-api-core               1.26.3\n",
            "google-api-python-client      1.12.8\n",
            "google-auth                   1.35.0\n",
            "google-auth-httplib2          0.0.4\n",
            "google-auth-oauthlib          0.4.6\n",
            "google-cloud-bigquery         1.21.0\n",
            "google-cloud-bigquery-storage 1.1.0\n",
            "google-cloud-core             1.0.3\n",
            "google-cloud-datastore        1.8.0\n",
            "google-cloud-firestore        1.7.0\n",
            "google-cloud-language         1.2.0\n",
            "google-cloud-storage          1.18.1\n",
            "google-cloud-translate        1.5.0\n",
            "google-colab                  1.0.0\n",
            "google-pasta                  0.2.0\n",
            "google-resumable-media        0.4.1\n",
            "googleapis-common-protos      1.53.0\n",
            "googledrivedownloader         0.4\n",
            "graphviz                      0.10.1\n",
            "greenlet                      1.1.2\n",
            "grpcio                        1.41.0\n",
            "gspread                       3.0.1\n",
            "gspread-dataframe             3.0.8\n",
            "gym                           0.17.3\n",
            "h5py                          3.1.0\n",
            "HeapDict                      1.0.1\n",
            "hijri-converter               2.2.2\n",
            "holidays                      0.10.5.2\n",
            "holoviews                     1.14.6\n",
            "html5lib                      1.0.1\n",
            "httpimport                    0.5.18\n",
            "httplib2                      0.17.4\n",
            "httplib2shim                  0.0.3\n",
            "humanize                      0.5.1\n",
            "hyperopt                      0.1.2\n",
            "ideep4py                      2.0.0.post3\n",
            "idna                          2.10\n",
            "imageio                       2.4.1\n",
            "imagesize                     1.2.0\n",
            "imbalanced-learn              0.4.3\n",
            "imblearn                      0.0\n",
            "imgaug                        0.2.9\n",
            "importlib-metadata            4.8.1\n",
            "importlib-resources           5.2.2\n",
            "imutils                       0.5.4\n",
            "inflect                       2.1.0\n",
            "iniconfig                     1.1.1\n",
            "intel-openmp                  2021.4.0\n",
            "intervaltree                  2.1.0\n",
            "ipykernel                     4.10.1\n",
            "ipython                       5.5.0\n",
            "ipython-genutils              0.2.0\n",
            "ipython-sql                   0.3.9\n",
            "ipywidgets                    7.6.5\n",
            "itsdangerous                  1.1.0\n",
            "jax                           0.2.21\n",
            "jaxlib                        0.1.71+cuda111\n",
            "jdcal                         1.4.1\n",
            "jedi                          0.18.0\n",
            "jieba                         0.42.1\n",
            "Jinja2                        2.11.3\n",
            "joblib                        1.0.1\n",
            "jpeg4py                       0.1.4\n",
            "jsonschema                    2.6.0\n",
            "jupyter                       1.0.0\n",
            "jupyter-client                5.3.5\n",
            "jupyter-console               5.2.0\n",
            "jupyter-core                  4.8.1\n",
            "jupyterlab-pygments           0.1.2\n",
            "jupyterlab-widgets            1.0.2\n",
            "kaggle                        1.5.12\n",
            "kapre                         0.3.5\n",
            "keras                         2.6.0\n",
            "Keras-Preprocessing           1.1.2\n",
            "keras-vis                     0.4.1\n",
            "kiwisolver                    1.3.2\n",
            "korean-lunar-calendar         0.2.1\n",
            "librosa                       0.8.1\n",
            "lightgbm                      2.2.3\n",
            "llvmlite                      0.34.0\n",
            "lmdb                          0.99\n",
            "LunarCalendar                 0.0.9\n",
            "lxml                          4.2.6\n",
            "Markdown                      3.3.4\n",
            "MarkupSafe                    2.0.1\n",
            "matplotlib                    3.2.2\n",
            "matplotlib-inline             0.1.3\n",
            "matplotlib-venn               0.11.6\n",
            "missingno                     0.5.0\n",
            "mistune                       0.8.4\n",
            "mizani                        0.6.0\n",
            "mkl                           2019.0\n",
            "mlxtend                       0.14.0\n",
            "more-itertools                8.10.0\n",
            "moviepy                       0.2.3.5\n",
            "mpmath                        1.2.1\n",
            "msgpack                       1.0.2\n",
            "multiprocess                  0.70.12.2\n",
            "multitasking                  0.0.9\n",
            "murmurhash                    1.0.5\n",
            "music21                       5.5.0\n",
            "natsort                       5.5.0\n",
            "nbclient                      0.5.4\n",
            "nbconvert                     5.6.1\n",
            "nbformat                      5.1.3\n",
            "nest-asyncio                  1.5.1\n",
            "netCDF4                       1.5.7\n",
            "networkx                      2.6.3\n",
            "nibabel                       3.0.2\n",
            "nltk                          3.2.5\n",
            "notebook                      5.3.1\n",
            "numba                         0.51.2\n",
            "numexpr                       2.7.3\n",
            "numpy                         1.19.5\n",
            "nvidia-ml-py3                 7.352.0\n",
            "oauth2client                  4.1.3\n",
            "oauthlib                      3.1.1\n",
            "okgrade                       0.4.3\n",
            "opencv-contrib-python         4.1.2.30\n",
            "opencv-python                 4.1.2.30\n",
            "openpyxl                      2.5.9\n",
            "opt-einsum                    3.3.0\n",
            "osqp                          0.6.2.post0\n",
            "packaging                     21.0\n",
            "palettable                    3.3.0\n",
            "pandas                        1.1.5\n",
            "pandas-datareader             0.9.0\n",
            "pandas-gbq                    0.13.3\n",
            "pandas-profiling              1.4.1\n",
            "pandocfilters                 1.5.0\n",
            "panel                         0.12.1\n",
            "param                         1.11.1\n",
            "parso                         0.8.2\n",
            "pathlib                       1.0.1\n",
            "patsy                         0.5.2\n",
            "pep517                        0.11.0\n",
            "pexpect                       4.8.0\n",
            "pickleshare                   0.7.5\n",
            "Pillow                        7.1.2\n",
            "pip                           21.1.3\n",
            "pip-tools                     6.2.0\n",
            "plac                          1.1.3\n",
            "plotly                        4.4.1\n",
            "plotnine                      0.6.0\n",
            "pluggy                        0.7.1\n",
            "pooch                         1.5.1\n",
            "portpicker                    1.3.9\n",
            "prefetch-generator            1.0.1\n",
            "preshed                       3.0.5\n",
            "prettytable                   2.2.1\n",
            "progressbar2                  3.38.0\n",
            "prometheus-client             0.11.0\n",
            "promise                       2.3\n",
            "prompt-toolkit                1.0.18\n",
            "protobuf                      3.17.3\n",
            "psutil                        5.4.8\n",
            "psycopg2                      2.7.6.1\n",
            "ptyprocess                    0.7.0\n",
            "py                            1.10.0\n",
            "pyarrow                       3.0.0\n",
            "pyasn1                        0.4.8\n",
            "pyasn1-modules                0.2.8\n",
            "pycocotools                   2.0.2\n",
            "pycparser                     2.20\n",
            "pyct                          0.4.8\n",
            "pydata-google-auth            1.2.0\n",
            "pydot                         1.3.0\n",
            "pydot-ng                      2.0.0\n",
            "pydotplus                     2.0.2\n",
            "PyDrive                       1.3.1\n",
            "pyemd                         0.5.1\n",
            "pyerfa                        2.0.0\n",
            "pyglet                        1.5.0\n",
            "Pygments                      2.6.1\n",
            "pygobject                     3.26.1\n",
            "pymc3                         3.11.4\n",
            "PyMeeus                       0.5.11\n",
            "pymongo                       3.12.0\n",
            "pymystem3                     0.2.0\n",
            "PyOpenGL                      3.1.5\n",
            "pyparsing                     2.4.7\n",
            "pyrsistent                    0.18.0\n",
            "pysndfile                     1.3.8\n",
            "PySocks                       1.7.1\n",
            "pystan                        2.19.1.1\n",
            "pytest                        3.6.4\n",
            "python-apt                    0.0.0\n",
            "python-chess                  0.23.11\n",
            "python-dateutil               2.8.2\n",
            "python-louvain                0.15\n",
            "python-slugify                5.0.2\n",
            "python-utils                  2.5.6\n",
            "pytz                          2018.9\n",
            "pyviz-comms                   2.1.0\n",
            "PyWavelets                    1.1.1\n",
            "PyYAML                        3.13\n",
            "pyzmq                         22.3.0\n",
            "qdldl                         0.1.5.post0\n",
            "qtconsole                     5.1.1\n",
            "QtPy                          1.11.2\n",
            "regex                         2019.12.20\n",
            "requests                      2.23.0\n",
            "requests-oauthlib             1.3.0\n",
            "resampy                       0.2.2\n",
            "retrying                      1.3.3\n",
            "rpy2                          3.4.5\n",
            "rsa                           4.7.2\n",
            "scikit-image                  0.16.2\n",
            "scikit-learn                  0.22.2.post1\n",
            "scipy                         1.4.1\n",
            "screen-resolution-extra       0.0.0\n",
            "scs                           2.1.4\n",
            "seaborn                       0.11.2\n",
            "semver                        2.13.0\n",
            "Send2Trash                    1.8.0\n",
            "setuptools                    57.4.0\n",
            "setuptools-git                1.2\n",
            "Shapely                       1.7.1\n",
            "simplegeneric                 0.8.1\n",
            "six                           1.15.0\n",
            "sklearn                       0.0\n",
            "sklearn-pandas                1.8.0\n",
            "smart-open                    5.2.1\n",
            "snowballstemmer               2.1.0\n",
            "sortedcontainers              2.4.0\n",
            "SoundFile                     0.10.3.post1\n",
            "spacy                         2.2.4\n",
            "Sphinx                        1.8.5\n",
            "sphinxcontrib-serializinghtml 1.1.5\n",
            "sphinxcontrib-websupport      1.2.4\n",
            "SQLAlchemy                    1.4.25\n",
            "sqlparse                      0.4.2\n",
            "srsly                         1.0.5\n",
            "statsmodels                   0.10.2\n",
            "sympy                         1.7.1\n",
            "tables                        3.4.4\n",
            "tabulate                      0.8.9\n",
            "tblib                         1.7.0\n",
            "tensorboard                   2.6.0\n",
            "tensorboard-data-server       0.6.1\n",
            "tensorboard-plugin-wit        1.8.0\n",
            "tensorflow                    2.6.0\n",
            "tensorflow-datasets           4.0.1\n",
            "tensorflow-estimator          2.6.0\n",
            "tensorflow-gcs-config         2.6.0\n",
            "tensorflow-hub                0.12.0\n",
            "tensorflow-metadata           1.2.0\n",
            "tensorflow-probability        0.14.1\n",
            "termcolor                     1.1.0\n",
            "terminado                     0.12.1\n",
            "testpath                      0.5.0\n",
            "text-unidecode                1.3\n",
            "textblob                      0.15.3\n",
            "Theano-PyMC                   1.1.2\n",
            "thinc                         7.4.0\n",
            "tifffile                      2021.8.30\n",
            "toml                          0.10.2\n",
            "tomli                         1.2.1\n",
            "toolz                         0.11.1\n",
            "torch                         1.9.0+cu111\n",
            "torchsummary                  1.5.1\n",
            "torchtext                     0.10.0\n",
            "torchvision                   0.10.0+cu111\n",
            "tornado                       5.1.1\n",
            "tqdm                          4.62.3\n",
            "traitlets                     5.1.0\n",
            "tweepy                        3.10.0\n",
            "typeguard                     2.7.1\n",
            "typing-extensions             3.7.4.3\n",
            "tzlocal                       1.5.1\n",
            "uritemplate                   3.0.1\n",
            "urllib3                       1.24.3\n",
            "vega-datasets                 0.9.0\n",
            "wasabi                        0.8.2\n",
            "wcwidth                       0.2.5\n",
            "webencodings                  0.5.1\n",
            "Werkzeug                      1.0.1\n",
            "wheel                         0.37.0\n",
            "widgetsnbextension            3.5.1\n",
            "wordcloud                     1.5.0\n",
            "wrapt                         1.12.1\n",
            "xarray                        0.18.2\n",
            "xgboost                       0.90\n",
            "xkit                          0.0.0\n",
            "xlrd                          1.1.0\n",
            "xlwt                          1.3.0\n",
            "yellowbrick                   0.9.1\n",
            "zict                          2.0.0\n",
            "zipp                          3.6.0\n"
          ]
        }
      ]
    },
    {
      "cell_type": "code",
      "metadata": {
        "id": "4FDMdC2ploB_"
      },
      "source": [
        "import tensorflow"
      ],
      "execution_count": 98,
      "outputs": []
    },
    {
      "cell_type": "code",
      "metadata": {
        "colab": {
          "base_uri": "https://localhost:8080/",
          "height": 35
        },
        "id": "ste9vz0PllJY",
        "outputId": "6a3f05fc-a4ca-4943-f4b5-b6ae4c1532c0"
      },
      "source": [
        "tensorflow.__version__"
      ],
      "execution_count": 99,
      "outputs": [
        {
          "output_type": "execute_result",
          "data": {
            "application/vnd.google.colaboratory.intrinsic+json": {
              "type": "string"
            },
            "text/plain": [
              "'2.6.0'"
            ]
          },
          "metadata": {},
          "execution_count": 99
        }
      ]
    },
    {
      "cell_type": "code",
      "metadata": {
        "id": "O6xEaI53lW0p"
      },
      "source": [
        "import keras"
      ],
      "execution_count": 100,
      "outputs": []
    },
    {
      "cell_type": "code",
      "metadata": {
        "colab": {
          "base_uri": "https://localhost:8080/",
          "height": 35
        },
        "id": "zTbFXXBhlUDc",
        "outputId": "59ebecbc-dda9-40e4-ca1c-b56bfec5359f"
      },
      "source": [
        "keras.__version__"
      ],
      "execution_count": 101,
      "outputs": [
        {
          "output_type": "execute_result",
          "data": {
            "application/vnd.google.colaboratory.intrinsic+json": {
              "type": "string"
            },
            "text/plain": [
              "'2.6.0'"
            ]
          },
          "metadata": {},
          "execution_count": 101
        }
      ]
    },
    {
      "cell_type": "code",
      "metadata": {
        "id": "1W0bKTIHlUFs"
      },
      "source": [
        "#!pip -r requirements.txt"
      ],
      "execution_count": 102,
      "outputs": []
    }
  ]
}
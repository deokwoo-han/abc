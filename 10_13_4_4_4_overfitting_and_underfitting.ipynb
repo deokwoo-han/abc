{
  "nbformat": 4,
  "nbformat_minor": 0,
  "metadata": {
    "kernelspec": {
      "display_name": "Python 3",
      "language": "python",
      "name": "python3"
    },
    "language_info": {
      "codemirror_mode": {
        "name": "ipython",
        "version": 3
      },
      "file_extension": ".py",
      "mimetype": "text/x-python",
      "name": "python",
      "nbconvert_exporter": "python",
      "pygments_lexer": "ipython3",
      "version": "3.6.6"
    },
    "colab": {
      "name": "10.13-4 4.4-overfitting-and-underfitting.ipynb",
      "provenance": [],
      "collapsed_sections": [],
      "include_colab_link": true
    },
    "accelerator": "GPU"
  },
  "cells": [
    {
      "cell_type": "markdown",
      "metadata": {
        "id": "view-in-github",
        "colab_type": "text"
      },
      "source": [
        "<a href=\"https://colab.research.google.com/github/deokwoo-han/abc/blob/master/10_13_4_4_4_overfitting_and_underfitting.ipynb\" target=\"_parent\"><img src=\"https://colab.research.google.com/assets/colab-badge.svg\" alt=\"Open In Colab\"/></a>"
      ]
    },
    {
      "cell_type": "code",
      "metadata": {
        "colab": {
          "base_uri": "https://localhost:8080/",
          "height": 35
        },
        "id": "56hBzoxfLAVo",
        "outputId": "73081b3d-29df-45d6-dc96-5b4780a6ec90"
      },
      "source": [
        "import keras\n",
        "keras.__version__"
      ],
      "execution_count": 1,
      "outputs": [
        {
          "output_type": "execute_result",
          "data": {
            "application/vnd.google.colaboratory.intrinsic+json": {
              "type": "string"
            },
            "text/plain": [
              "'2.6.0'"
            ]
          },
          "metadata": {},
          "execution_count": 1
        }
      ]
    },
    {
      "cell_type": "markdown",
      "metadata": {
        "id": "7JLla-ScLAVt"
      },
      "source": [
        "# 과대적합과 과소적합\n",
        "\n",
        "이 노트북은 [케라스 창시자에게 배우는 딥러닝](https://tensorflow.blog/케라스-창시자에게-배우는-딥러닝/) 책의 4장 4절의 코드 예제입니다. 책에는 더 많은 내용과 그림이 있습니다. 이 노트북에는 소스 코드에 관련된 설명만 포함합니다. 이 노트북의 설명은 케라스 버전 2.2.2에 맞추어져 있습니다. 케라스 최신 버전이 릴리스되면 노트북을 다시 테스트하기 때문에 설명과 코드의 결과가 조금 다를 수 있습니다.\n",
        "\n",
        "----\n",
        "\n",
        "이전 장에 있던 세 가지 예제인 영화 리뷰 예측, 토픽 분류, 주택 가격 회귀 모두 홀드아웃 데이터에서 모델의 성능이 몇 번의 에포크 후에 최고치에 다다랐다가 감소되기 시작했습니다. 즉, 모델이 금방 훈련 데이터에 과대적합되기 시작합니다. 과대적합은 모든 머신 러닝 문제에서 발생합니다. 머신 러닝을 마스터하려면 과대적합을 다루는 방법을 꼭 배워야 합니다.\n",
        "\n",
        "머신 러닝의 근본적인 이슈는 최적화와 일반화 사이의 줄다리기입니다. 최적화는 가능한 훈련 데이터에서 최고의 성능을 얻으려고 모델을 조정하는 과정입니다(머신 러닝의 학습). 반면 일반화는 훈련된 모델이 이전에 본 적 없는 데이터에서 얼마나 잘 수행되는지를 의미합니다. 물론 모델을 만드는 목적은 좋은 일반화 성능을 얻는 것입니다. 하지만 일반화 성능을 제어할 방법이 없습니다. 단지 훈련 데이터를 기반으로 모델을 조정할 수만 있습니다.\n",
        "\n",
        "훈련 초기에 최적화와 일반화는 상호 연관되어 있습니다. 훈련 데이터의 손실이 낮을수록 테스트 데이터의 손실이 낮습니다. 이런 상황이 발생할 때 모델이 과소적합되었다고 말합니다. 모델의 성능이 계속 발전될 여지가 있습니다. 즉, 네트워크가 훈련 데이터에 있는 관련 특성을 모두 학습하지 못했습니다. 하지만 훈련 데이터에 여러 번 반복 학습하고 나면 어느 시점부터 일반화 성능이 더이상 높아지지 않습니다. 검증 세트의 성능이 멈추고 감소되기 시작합니다. 즉, 모델이 과대적합되기 시작합니다. 이는 훈련 데이터에 특화된 패턴을 학습하기 시작했다는 의미입니다. 이 패턴은 새로운 데이터와 관련성이 적어 잘못된 판단을 하게 만듭니다.\n",
        "\n",
        "모델이 관련성이 없고 좋지 못한 패턴을 훈련 데이터에서 학습하지 못하도록 하려면 가장 좋은 방법은 더 많은 훈련 데이터를 모으는 것입니다. 더 많은 데이터에서 훈련된 모델은 자연히 일반화 성능이 더 뛰어 납니다. 데이터를 더 모으는 것이 불가능할 때 차선책은 모델이 수용할 수 있는 정보의 양을 조절하거나 저장할 수 있는 정보에 제약을 가하는 것입니다. 네트워크가 적은 수의 패턴만을 기억할 수 있다면 최적화 과정에서 가장 중요한 패턴에 집중하게 될 것입니다. 이런 패턴은 더 나은 일반화 성능을 제공할 수 있습니다.\n",
        "\n",
        "이런 식으로 과대적합을 피하는 처리 과정을 규제라고 합니다. 가장 널리 사용되는 규제 기법을 알아보고 이전 장에서 본 영화 리뷰 분류 모델에 실제로 적용해 성능을 향상시켜 보겠습니다."
      ]
    },
    {
      "cell_type": "markdown",
      "metadata": {
        "id": "wvTxUSh4LAVv"
      },
      "source": [
        "노트: 이 노트북에서는 편의상 IMDB 테스트 세트를 검증 세트로 사용합니다.\n",
        "\n",
        "3장 5절에 있는 코드를 사용해 데이터를 준비합니다:"
      ]
    },
    {
      "cell_type": "code",
      "metadata": {
        "colab": {
          "base_uri": "https://localhost:8080/"
        },
        "id": "tqwjqvhqLAVw",
        "outputId": "dd75c14d-6bd4-4584-8fc4-050648368397"
      },
      "source": [
        "from keras.datasets import imdb\n",
        "import numpy as np\n",
        "\n",
        "(train_data, train_labels), (test_data, test_labels) = imdb.load_data(num_words=10000)\n",
        "\n",
        "def vectorize_sequences(sequences, dimension=10000):\n",
        "    # 크기가 (len(sequences), dimension))이고 모든 원소가 0인 행렬을 만듭니다\n",
        "    results = np.zeros((len(sequences), dimension))\n",
        "    for i, sequence in enumerate(sequences):\n",
        "        results[i, sequence] = 1.  # results[i]에서 특정 인덱스의 위치를 1로 만듭니다\n",
        "    return results\n",
        "\n",
        "# 훈련 데이터를 벡터로 변환합니다\n",
        "x_train = vectorize_sequences(train_data)\n",
        "# 테스트 데이터를 벡터로 변환합니다\n",
        "x_test = vectorize_sequences(test_data)\n",
        "# 레이블을 벡터로 변환합니다\n",
        "y_train = np.asarray(train_labels).astype('float32')\n",
        "y_test = np.asarray(test_labels).astype('float32')"
      ],
      "execution_count": 2,
      "outputs": [
        {
          "output_type": "stream",
          "name": "stdout",
          "text": [
            "Downloading data from https://storage.googleapis.com/tensorflow/tf-keras-datasets/imdb.npz\n",
            "17465344/17464789 [==============================] - 0s 0us/step\n",
            "17473536/17464789 [==============================] - 0s 0us/step\n"
          ]
        }
      ]
    },
    {
      "cell_type": "code",
      "metadata": {
        "colab": {
          "base_uri": "https://localhost:8080/"
        },
        "id": "uEqWp-R5W3Ss",
        "outputId": "19f9b80e-ae7b-4e53-e60b-c1ef68b2ea05"
      },
      "source": [
        "x_train.shape"
      ],
      "execution_count": 32,
      "outputs": [
        {
          "output_type": "execute_result",
          "data": {
            "text/plain": [
              "(25000, 10000)"
            ]
          },
          "metadata": {},
          "execution_count": 32
        }
      ]
    },
    {
      "cell_type": "code",
      "metadata": {
        "colab": {
          "base_uri": "https://localhost:8080/"
        },
        "id": "HVqxzw7vWSd7",
        "outputId": "49c6677b-ad48-4ff4-9277-cd510f7d9a25"
      },
      "source": [
        "train_data.shape"
      ],
      "execution_count": 33,
      "outputs": [
        {
          "output_type": "execute_result",
          "data": {
            "text/plain": [
              "(25000,)"
            ]
          },
          "metadata": {},
          "execution_count": 33
        }
      ]
    },
    {
      "cell_type": "code",
      "metadata": {
        "colab": {
          "base_uri": "https://localhost:8080/"
        },
        "id": "T-tTmpJ2WV-0",
        "outputId": "4db1e094-6988-4ac7-9138-1c9ca16cc220"
      },
      "source": [
        "test_data[0]"
      ],
      "execution_count": 34,
      "outputs": [
        {
          "output_type": "execute_result",
          "data": {
            "text/plain": [
              "[1,\n",
              " 591,\n",
              " 202,\n",
              " 14,\n",
              " 31,\n",
              " 6,\n",
              " 717,\n",
              " 10,\n",
              " 10,\n",
              " 2,\n",
              " 2,\n",
              " 5,\n",
              " 4,\n",
              " 360,\n",
              " 7,\n",
              " 4,\n",
              " 177,\n",
              " 5760,\n",
              " 394,\n",
              " 354,\n",
              " 4,\n",
              " 123,\n",
              " 9,\n",
              " 1035,\n",
              " 1035,\n",
              " 1035,\n",
              " 10,\n",
              " 10,\n",
              " 13,\n",
              " 92,\n",
              " 124,\n",
              " 89,\n",
              " 488,\n",
              " 7944,\n",
              " 100,\n",
              " 28,\n",
              " 1668,\n",
              " 14,\n",
              " 31,\n",
              " 23,\n",
              " 27,\n",
              " 7479,\n",
              " 29,\n",
              " 220,\n",
              " 468,\n",
              " 8,\n",
              " 124,\n",
              " 14,\n",
              " 286,\n",
              " 170,\n",
              " 8,\n",
              " 157,\n",
              " 46,\n",
              " 5,\n",
              " 27,\n",
              " 239,\n",
              " 16,\n",
              " 179,\n",
              " 2,\n",
              " 38,\n",
              " 32,\n",
              " 25,\n",
              " 7944,\n",
              " 451,\n",
              " 202,\n",
              " 14,\n",
              " 6,\n",
              " 717]"
            ]
          },
          "metadata": {},
          "execution_count": 34
        }
      ]
    },
    {
      "cell_type": "code",
      "metadata": {
        "colab": {
          "base_uri": "https://localhost:8080/"
        },
        "id": "_SU4wh3RWkif",
        "outputId": "bc2e10b6-c644-4e22-8c12-a6404329275b"
      },
      "source": [
        "test_data.shape"
      ],
      "execution_count": 36,
      "outputs": [
        {
          "output_type": "execute_result",
          "data": {
            "text/plain": [
              "(25000,)"
            ]
          },
          "metadata": {},
          "execution_count": 36
        }
      ]
    },
    {
      "cell_type": "markdown",
      "metadata": {
        "id": "14YkzhGGLAVx"
      },
      "source": [
        "# 과대적합\n",
        "\n",
        "## 네트워크 크기 축소\n",
        "\n",
        "과대적합을 막는 가장 단순한 방법은 모델의 크기, 즉 모델에 있는 학습 파라미터의 수를 줄이는 것입니다. 파라미터의 수는 층의 수와 각 층의 유닛 수에 의해 결정됩니다. 딥러닝에서 모델에 있는 학습 파라미터의 수를 종종 모델의 용량이라고 말합니다. 당연하게 파라미터가 많은 모델이 기억 용량이 더 많습니다. 훈련 샘플과 타깃 사이를 딕셔너리와 같은 1:1 매핑으로 완벽하게 학습할 수도 있습니다. 이런 매핑은 일반화 능력이 없습니다. 예를 들어 500,000개의 이진 파라미터가 있는 모델은 MNIST 훈련 세트의 숫자 이미지의 클래스를 쉽게 모두 학습할 수 있습니다. 50,000개의 숫자 이미지 하나마다 10개의 이진 파라미터만 있으면 됩니다. 하지만 이런 모델은 새로운 숫자 샘플을 분류하는 용도로는 쓸모가 없습니다. 항상 유념해야 할 것은 딥러닝 모델은 훈련 데이터에 잘 맞으려는 경향을 가진다는 점입니다. 하지만 진짜 문제는 최적화가 아니고 일반화입니다.\n",
        "\n",
        "다른 한편으로 네트워크가 기억 용량에 제한이 있다면 이런 매핑을 쉽게 학습하지 못할 것입니다. 따라서 손실을 최소화하기 위해 타깃에 대한 예측 성능을 가진 압축된 표현을 학습해야 합니다. 정확히 이런 표현이 우리의 관심 대상입니다. 동시에 기억해야할 것은 과소적합되지 않도록 충분한 파라미터를 가진 모델을 사용해야 한다는 점입니다. 모델의 기억 용량이 부족해서는 안 됩니다. 너무 많은 용량과 충분하지 않은 용량 사이의 절충점을 찾아야 합니다.\n",
        "\n",
        "안타깝지만 알맞은 층의 수나 각 층의 유닛 수를 결정할 수 있는 마법 같은 공식은 없습니다. 데이터에 알맞는 모델 크기를 찾으려면 각기 다른 구조를 (당연히 테스트 세트가 아니고 검증 세트에서) 평가해 보아야 합니다. 적절한 모델 크기를 찾는 일반적인 작업 흐름은 비교적 적은 수의 층과 파라미터로 시작합니다. 그다음 검증 손실이 감소되기 시작할 때까지 층이나 유닛의 수를 늘리는 것입니다.\n",
        "\n",
        "영화 리뷰 분류 모델에 적용해 보죠. 원래 네트워크는 다음과 같습니다:"
      ]
    },
    {
      "cell_type": "code",
      "metadata": {
        "id": "KJZQjcjRLAVy"
      },
      "source": [
        "from keras import models\n",
        "from keras import layers\n",
        "\n",
        "original_model = models.Sequential()\n",
        "original_model.add(layers.Dense(16, activation='relu', input_shape=(10000,)))\n",
        "original_model.add(layers.Dense(16, activation='relu'))\n",
        "original_model.add(layers.Dense(1, activation='sigmoid'))\n",
        "\n",
        "original_model.compile(optimizer='rmsprop',\n",
        "                       loss='binary_crossentropy',\n",
        "                       metrics=['acc'])"
      ],
      "execution_count": 3,
      "outputs": []
    },
    {
      "cell_type": "code",
      "metadata": {
        "colab": {
          "base_uri": "https://localhost:8080/"
        },
        "id": "ZaJO7Yp-XzEZ",
        "outputId": "15531158-1583-4d84-ff35-68521df64a58"
      },
      "source": [
        "original_model.summary()"
      ],
      "execution_count": 38,
      "outputs": [
        {
          "output_type": "stream",
          "name": "stdout",
          "text": [
            "Model: \"sequential\"\n",
            "_________________________________________________________________\n",
            "Layer (type)                 Output Shape              Param #   \n",
            "=================================================================\n",
            "dense (Dense)                (None, 16)                160016    \n",
            "_________________________________________________________________\n",
            "dense_1 (Dense)              (None, 16)                272       \n",
            "_________________________________________________________________\n",
            "dense_2 (Dense)              (None, 1)                 17        \n",
            "=================================================================\n",
            "Total params: 160,305\n",
            "Trainable params: 160,305\n",
            "Non-trainable params: 0\n",
            "_________________________________________________________________\n"
          ]
        }
      ]
    },
    {
      "cell_type": "markdown",
      "metadata": {
        "id": "OxlmFRz9LAVz"
      },
      "source": [
        "더 작은 네트워크로 바꾸어 보죠:"
      ]
    },
    {
      "cell_type": "code",
      "metadata": {
        "id": "BvEtnCASLAV0"
      },
      "source": [
        "smaller_model = models.Sequential()\n",
        "smaller_model.add(layers.Dense(6, activation='relu', input_shape=(10000,)))\n",
        "smaller_model.add(layers.Dense(6, activation='relu'))\n",
        "smaller_model.add(layers.Dense(1, activation='sigmoid'))\n",
        "\n",
        "smaller_model.compile(optimizer='rmsprop',\n",
        "                      loss='binary_crossentropy',\n",
        "                      metrics=['acc'])"
      ],
      "execution_count": 4,
      "outputs": []
    },
    {
      "cell_type": "code",
      "metadata": {
        "colab": {
          "base_uri": "https://localhost:8080/"
        },
        "id": "YA2o4FozXt9z",
        "outputId": "96bb1c6f-5168-40ff-c60a-ad633d964746"
      },
      "source": [
        "smaller_model.summary()"
      ],
      "execution_count": 37,
      "outputs": [
        {
          "output_type": "stream",
          "name": "stdout",
          "text": [
            "Model: \"sequential_1\"\n",
            "_________________________________________________________________\n",
            "Layer (type)                 Output Shape              Param #   \n",
            "=================================================================\n",
            "dense_3 (Dense)              (None, 6)                 60006     \n",
            "_________________________________________________________________\n",
            "dense_4 (Dense)              (None, 6)                 42        \n",
            "_________________________________________________________________\n",
            "dense_5 (Dense)              (None, 1)                 7         \n",
            "=================================================================\n",
            "Total params: 60,055\n",
            "Trainable params: 60,055\n",
            "Non-trainable params: 0\n",
            "_________________________________________________________________\n"
          ]
        }
      ]
    },
    {
      "cell_type": "markdown",
      "metadata": {
        "id": "Xi4K67WDLAV0"
      },
      "source": [
        "원본 네트워크와 축소된 네트워크의 검증 손실을 비교해 보죠. 점으로 표현된 것이 작은 네트워크이고 덧셈 기호가 원래 네트워크 입니다(검증 손실이 작은 것이 좋은 모델입니다)."
      ]
    },
    {
      "cell_type": "code",
      "metadata": {
        "colab": {
          "base_uri": "https://localhost:8080/"
        },
        "id": "aSypGwqALAV1",
        "outputId": "2c3db0de-b65e-4ea8-8a4d-1cdf5b663f16"
      },
      "source": [
        "original_hist = original_model.fit(x_train, y_train,\n",
        "                                   epochs=20,\n",
        "                                   batch_size=512,\n",
        "                                   validation_data=(x_test, y_test))"
      ],
      "execution_count": 5,
      "outputs": [
        {
          "output_type": "stream",
          "name": "stdout",
          "text": [
            "Epoch 1/20\n",
            "49/49 [==============================] - 6s 54ms/step - loss: 0.4492 - acc: 0.8186 - val_loss: 0.3315 - val_acc: 0.8833\n",
            "Epoch 2/20\n",
            "49/49 [==============================] - 1s 23ms/step - loss: 0.2549 - acc: 0.9110 - val_loss: 0.2812 - val_acc: 0.8912\n",
            "Epoch 3/20\n",
            "49/49 [==============================] - 1s 22ms/step - loss: 0.1977 - acc: 0.9294 - val_loss: 0.3019 - val_acc: 0.8782\n",
            "Epoch 4/20\n",
            "49/49 [==============================] - 1s 23ms/step - loss: 0.1675 - acc: 0.9395 - val_loss: 0.3021 - val_acc: 0.8802\n",
            "Epoch 5/20\n",
            "49/49 [==============================] - 1s 23ms/step - loss: 0.1450 - acc: 0.9485 - val_loss: 0.3292 - val_acc: 0.8751\n",
            "Epoch 6/20\n",
            "49/49 [==============================] - 1s 23ms/step - loss: 0.1276 - acc: 0.9546 - val_loss: 0.3743 - val_acc: 0.8641\n",
            "Epoch 7/20\n",
            "49/49 [==============================] - 1s 23ms/step - loss: 0.1119 - acc: 0.9618 - val_loss: 0.3729 - val_acc: 0.8668\n",
            "Epoch 8/20\n",
            "49/49 [==============================] - 1s 23ms/step - loss: 0.1008 - acc: 0.9658 - val_loss: 0.3927 - val_acc: 0.8658\n",
            "Epoch 9/20\n",
            "49/49 [==============================] - 1s 23ms/step - loss: 0.0900 - acc: 0.9689 - val_loss: 0.4158 - val_acc: 0.8649\n",
            "Epoch 10/20\n",
            "49/49 [==============================] - 1s 23ms/step - loss: 0.0804 - acc: 0.9732 - val_loss: 0.4371 - val_acc: 0.8636\n",
            "Epoch 11/20\n",
            "49/49 [==============================] - 1s 24ms/step - loss: 0.0707 - acc: 0.9776 - val_loss: 0.4711 - val_acc: 0.8606\n",
            "Epoch 12/20\n",
            "49/49 [==============================] - 1s 23ms/step - loss: 0.0614 - acc: 0.9808 - val_loss: 0.5022 - val_acc: 0.8596\n",
            "Epoch 13/20\n",
            "49/49 [==============================] - 1s 23ms/step - loss: 0.0532 - acc: 0.9838 - val_loss: 0.5345 - val_acc: 0.8578\n",
            "Epoch 14/20\n",
            "49/49 [==============================] - 1s 23ms/step - loss: 0.0461 - acc: 0.9866 - val_loss: 0.6292 - val_acc: 0.8477\n",
            "Epoch 15/20\n",
            "49/49 [==============================] - 1s 24ms/step - loss: 0.0402 - acc: 0.9883 - val_loss: 0.5987 - val_acc: 0.8554\n",
            "Epoch 16/20\n",
            "49/49 [==============================] - 1s 23ms/step - loss: 0.0343 - acc: 0.9902 - val_loss: 0.6426 - val_acc: 0.8524\n",
            "Epoch 17/20\n",
            "49/49 [==============================] - 1s 23ms/step - loss: 0.0292 - acc: 0.9922 - val_loss: 0.6740 - val_acc: 0.8524\n",
            "Epoch 18/20\n",
            "49/49 [==============================] - 1s 23ms/step - loss: 0.0251 - acc: 0.9936 - val_loss: 0.7825 - val_acc: 0.8443\n",
            "Epoch 19/20\n",
            "49/49 [==============================] - 1s 23ms/step - loss: 0.0219 - acc: 0.9940 - val_loss: 0.7547 - val_acc: 0.8500\n",
            "Epoch 20/20\n",
            "49/49 [==============================] - 1s 23ms/step - loss: 0.0145 - acc: 0.9968 - val_loss: 0.8404 - val_acc: 0.8448\n"
          ]
        }
      ]
    },
    {
      "cell_type": "code",
      "metadata": {
        "colab": {
          "base_uri": "https://localhost:8080/"
        },
        "id": "-zGgp02_LAV2",
        "outputId": "f9aa4291-e1e0-45ba-ca31-820a9a2e67e0"
      },
      "source": [
        "smaller_model_hist = smaller_model.fit(x_train, y_train,\n",
        "                                       epochs=20,\n",
        "                                       batch_size=512,\n",
        "                                       validation_data=(x_test, y_test))#validation dataset추가"
      ],
      "execution_count": 6,
      "outputs": [
        {
          "output_type": "stream",
          "name": "stdout",
          "text": [
            "Epoch 1/20\n",
            "49/49 [==============================] - 3s 52ms/step - loss: 0.5329 - acc: 0.7968 - val_loss: 0.4334 - val_acc: 0.8544\n",
            "Epoch 2/20\n",
            "49/49 [==============================] - 1s 23ms/step - loss: 0.3427 - acc: 0.8969 - val_loss: 0.3274 - val_acc: 0.8852\n",
            "Epoch 3/20\n",
            "49/49 [==============================] - 1s 23ms/step - loss: 0.2536 - acc: 0.9165 - val_loss: 0.2928 - val_acc: 0.8869\n",
            "Epoch 4/20\n",
            "49/49 [==============================] - 1s 23ms/step - loss: 0.2094 - acc: 0.9285 - val_loss: 0.2821 - val_acc: 0.8884\n",
            "Epoch 5/20\n",
            "49/49 [==============================] - 1s 23ms/step - loss: 0.1811 - acc: 0.9379 - val_loss: 0.2967 - val_acc: 0.8797\n",
            "Epoch 6/20\n",
            "49/49 [==============================] - 1s 23ms/step - loss: 0.1607 - acc: 0.9462 - val_loss: 0.2941 - val_acc: 0.8826\n",
            "Epoch 7/20\n",
            "49/49 [==============================] - 1s 24ms/step - loss: 0.1452 - acc: 0.9519 - val_loss: 0.3019 - val_acc: 0.8822\n",
            "Epoch 8/20\n",
            "49/49 [==============================] - 1s 24ms/step - loss: 0.1320 - acc: 0.9566 - val_loss: 0.3124 - val_acc: 0.8798\n",
            "Epoch 9/20\n",
            "49/49 [==============================] - 1s 25ms/step - loss: 0.1196 - acc: 0.9613 - val_loss: 0.3301 - val_acc: 0.8772\n",
            "Epoch 10/20\n",
            "49/49 [==============================] - 1s 24ms/step - loss: 0.1108 - acc: 0.9639 - val_loss: 0.3527 - val_acc: 0.8722\n",
            "Epoch 11/20\n",
            "49/49 [==============================] - 1s 23ms/step - loss: 0.1017 - acc: 0.9677 - val_loss: 0.3645 - val_acc: 0.8714\n",
            "Epoch 12/20\n",
            "49/49 [==============================] - 1s 23ms/step - loss: 0.0939 - acc: 0.9702 - val_loss: 0.3793 - val_acc: 0.8707\n",
            "Epoch 13/20\n",
            "49/49 [==============================] - 1s 23ms/step - loss: 0.0868 - acc: 0.9738 - val_loss: 0.3970 - val_acc: 0.8681\n",
            "Epoch 14/20\n",
            "49/49 [==============================] - 1s 23ms/step - loss: 0.0807 - acc: 0.9756 - val_loss: 0.4190 - val_acc: 0.8658\n",
            "Epoch 15/20\n",
            "49/49 [==============================] - 1s 25ms/step - loss: 0.0747 - acc: 0.9783 - val_loss: 0.4404 - val_acc: 0.8638\n",
            "Epoch 16/20\n",
            "49/49 [==============================] - 1s 24ms/step - loss: 0.0692 - acc: 0.9800 - val_loss: 0.4615 - val_acc: 0.8632\n",
            "Epoch 17/20\n",
            "49/49 [==============================] - 1s 24ms/step - loss: 0.0642 - acc: 0.9815 - val_loss: 0.4824 - val_acc: 0.8610\n",
            "Epoch 18/20\n",
            "49/49 [==============================] - 1s 24ms/step - loss: 0.0593 - acc: 0.9839 - val_loss: 0.5057 - val_acc: 0.8590\n",
            "Epoch 19/20\n",
            "49/49 [==============================] - 1s 23ms/step - loss: 0.0552 - acc: 0.9847 - val_loss: 0.5496 - val_acc: 0.8537\n",
            "Epoch 20/20\n",
            "49/49 [==============================] - 1s 23ms/step - loss: 0.0500 - acc: 0.9874 - val_loss: 0.5744 - val_acc: 0.8529\n"
          ]
        }
      ]
    },
    {
      "cell_type": "code",
      "metadata": {
        "id": "6hBCmMrmLAV2"
      },
      "source": [
        "epochs = range(1, 21)\n",
        "original_val_loss = original_hist.history['val_loss']\n",
        "smaller_model_val_loss = smaller_model_hist.history['val_loss']"
      ],
      "execution_count": 7,
      "outputs": []
    },
    {
      "cell_type": "code",
      "metadata": {
        "id": "O1UupDsuLAV3"
      },
      "source": [
        "import matplotlib.pyplot as plt"
      ],
      "execution_count": 8,
      "outputs": []
    },
    {
      "cell_type": "code",
      "metadata": {
        "scrolled": true,
        "colab": {
          "base_uri": "https://localhost:8080/",
          "height": 279
        },
        "id": "Qu9pTUy3LAV3",
        "outputId": "f60eaa6f-ba87-4f8d-fe7e-2b12141cff1c"
      },
      "source": [
        "# ‘b+’는 파란색 덧셈 기호을 의미합니다\n",
        "plt.plot(epochs, original_val_loss, 'b+', label='Original model')\n",
        "# ‘bo’는 파란색 점을 의미합니다\n",
        "plt.plot(epochs, smaller_model_val_loss, 'bo', label='Smaller model')\n",
        "plt.xlabel('Epochs')\n",
        "plt.ylabel('Validation loss')\n",
        "plt.legend()\n",
        "\n",
        "plt.show()#모델의 최저값은 비슷하지만... 오리지널은 바로 과적합으로 넘어가 버림 베리데이션 증가"
      ],
      "execution_count": 9,
      "outputs": [
        {
          "output_type": "display_data",
          "data": {
            "image/png": "[encoded data removed]",
            "text/plain": [
              "<Figure size 432x288 with 1 Axes>"
            ]
          },
          "metadata": {
            "needs_background": "light"
          }
        }
      ]
    },
    {
      "cell_type": "markdown",
      "metadata": {
        "id": "FIOyJHiKLAV4"
      },
      "source": [
        "여기서 볼 수 있듯이 작은 네트워크가 기본 네트워크보다 더 나중에 과대적합되기 시작했습니다(네 번째 에포크가 아니라 여섯 번째 에포크에서). 과대적합이 시작되었을 때 성능이 더 천천히 감소되었습니다.\n",
        "\n",
        "이번에는 문제에 필요한 것보다 훨씬 더 많은 용량을 가진 네트워크를 비교해 보겠습니다:"
      ]
    },
    {
      "cell_type": "code",
      "metadata": {
        "id": "miuXKaw4LAV4"
      },
      "source": [
        "bigger_model = models.Sequential()#파라미터를 엄청나게 늘림\n",
        "bigger_model.add(layers.Dense(1024, activation='relu', input_shape=(10000,)))\n",
        "bigger_model.add(layers.Dense(1024, activation='relu'))\n",
        "bigger_model.add(layers.Dense(1, activation='sigmoid'))\n",
        "\n",
        "bigger_model.compile(optimizer='rmsprop',\n",
        "                     loss='binary_crossentropy',\n",
        "                     metrics=['acc'])"
      ],
      "execution_count": 10,
      "outputs": []
    },
    {
      "cell_type": "code",
      "metadata": {
        "colab": {
          "base_uri": "https://localhost:8080/"
        },
        "id": "wEImQJqcYYfP",
        "outputId": "25f6873b-fe64-4c7c-abb5-dbba67368954"
      },
      "source": [
        "bigger_model.summary()"
      ],
      "execution_count": 39,
      "outputs": [
        {
          "output_type": "stream",
          "name": "stdout",
          "text": [
            "Model: \"sequential_2\"\n",
            "_________________________________________________________________\n",
            "Layer (type)                 Output Shape              Param #   \n",
            "=================================================================\n",
            "dense_6 (Dense)              (None, 1024)              10241024  \n",
            "_________________________________________________________________\n",
            "dense_7 (Dense)              (None, 1024)              1049600   \n",
            "_________________________________________________________________\n",
            "dense_8 (Dense)              (None, 1)                 1025      \n",
            "=================================================================\n",
            "Total params: 11,291,649\n",
            "Trainable params: 11,291,649\n",
            "Non-trainable params: 0\n",
            "_________________________________________________________________\n"
          ]
        }
      ]
    },
    {
      "cell_type": "code",
      "metadata": {
        "colab": {
          "base_uri": "https://localhost:8080/"
        },
        "id": "71TQA2X1LAV5",
        "outputId": "8941e919-bb43-4d23-d7df-c0cc7bf1f1ad"
      },
      "source": [
        "bigger_model_hist = bigger_model.fit(x_train, y_train,\n",
        "                                     epochs=20,\n",
        "                                     batch_size=512,\n",
        "                                     validation_data=(x_test, y_test))"
      ],
      "execution_count": 11,
      "outputs": [
        {
          "output_type": "stream",
          "name": "stdout",
          "text": [
            "Epoch 1/20\n",
            "49/49 [==============================] - 4s 76ms/step - loss: 0.5659 - acc: 0.7886 - val_loss: 0.3479 - val_acc: 0.8509\n",
            "Epoch 2/20\n",
            "49/49 [==============================] - 2s 40ms/step - loss: 0.2180 - acc: 0.9149 - val_loss: 0.2828 - val_acc: 0.8891\n",
            "Epoch 3/20\n",
            "49/49 [==============================] - 2s 41ms/step - loss: 0.1140 - acc: 0.9587 - val_loss: 0.5936 - val_acc: 0.8225\n",
            "Epoch 4/20\n",
            "49/49 [==============================] - 2s 41ms/step - loss: 0.0808 - acc: 0.9829 - val_loss: 0.5241 - val_acc: 0.8700\n",
            "Epoch 5/20\n",
            "49/49 [==============================] - 2s 41ms/step - loss: 0.1361 - acc: 0.9855 - val_loss: 0.4550 - val_acc: 0.8811\n",
            "Epoch 6/20\n",
            "49/49 [==============================] - 2s 41ms/step - loss: 0.0016 - acc: 0.9997 - val_loss: 1.5507 - val_acc: 0.7793\n",
            "Epoch 7/20\n",
            "49/49 [==============================] - 2s 41ms/step - loss: 0.0784 - acc: 0.9880 - val_loss: 0.7043 - val_acc: 0.8775\n",
            "Epoch 8/20\n",
            "49/49 [==============================] - 2s 41ms/step - loss: 5.7406e-05 - acc: 1.0000 - val_loss: 0.8308 - val_acc: 0.8803\n",
            "Epoch 9/20\n",
            "49/49 [==============================] - 2s 41ms/step - loss: 6.0674e-06 - acc: 1.0000 - val_loss: 0.9732 - val_acc: 0.8801\n",
            "Epoch 10/20\n",
            "49/49 [==============================] - 2s 41ms/step - loss: 7.9477e-07 - acc: 1.0000 - val_loss: 1.0909 - val_acc: 0.8804\n",
            "Epoch 11/20\n",
            "49/49 [==============================] - 2s 41ms/step - loss: 1.3088e-07 - acc: 1.0000 - val_loss: 1.2385 - val_acc: 0.8804\n",
            "Epoch 12/20\n",
            "49/49 [==============================] - 2s 40ms/step - loss: 3.2219e-08 - acc: 1.0000 - val_loss: 1.3136 - val_acc: 0.8811\n",
            "Epoch 13/20\n",
            "49/49 [==============================] - 2s 41ms/step - loss: 1.4859e-08 - acc: 1.0000 - val_loss: 1.3648 - val_acc: 0.8806\n",
            "Epoch 14/20\n",
            "49/49 [==============================] - 2s 41ms/step - loss: 9.4857e-09 - acc: 1.0000 - val_loss: 1.3945 - val_acc: 0.8804\n",
            "Epoch 15/20\n",
            "49/49 [==============================] - 2s 40ms/step - loss: 6.9961e-09 - acc: 1.0000 - val_loss: 1.4139 - val_acc: 0.8804\n",
            "Epoch 16/20\n",
            "49/49 [==============================] - 2s 42ms/step - loss: 5.5687e-09 - acc: 1.0000 - val_loss: 1.4304 - val_acc: 0.8802\n",
            "Epoch 17/20\n",
            "49/49 [==============================] - 2s 41ms/step - loss: 4.6267e-09 - acc: 1.0000 - val_loss: 1.4443 - val_acc: 0.8803\n",
            "Epoch 18/20\n",
            "49/49 [==============================] - 2s 41ms/step - loss: 3.9720e-09 - acc: 1.0000 - val_loss: 1.4551 - val_acc: 0.8804\n",
            "Epoch 19/20\n",
            "49/49 [==============================] - 2s 39ms/step - loss: 3.4858e-09 - acc: 1.0000 - val_loss: 1.4656 - val_acc: 0.8803\n",
            "Epoch 20/20\n",
            "49/49 [==============================] - 2s 40ms/step - loss: 3.1144e-09 - acc: 1.0000 - val_loss: 1.4747 - val_acc: 0.8803\n"
          ]
        }
      ]
    },
    {
      "cell_type": "markdown",
      "metadata": {
        "id": "WJ-v5qq9LAV5"
      },
      "source": [
        "다음은 더 큰 네트워크가 기본 네트워크에 비해 얼마나 차이나는지를 보여줍니다. 점이 용량이 큰 네트워크의 검증 손실이고 덧셈 기호는 원본 네트워크의 검증 손실입니다."
      ]
    },
    {
      "cell_type": "code",
      "metadata": {
        "colab": {
          "base_uri": "https://localhost:8080/",
          "height": 281
        },
        "id": "6cFUATGaLAV5",
        "outputId": "88899cf6-d6e0-4f06-95e6-af05c20e1aac"
      },
      "source": [
        "bigger_model_val_loss = bigger_model_hist.history['val_loss']\n",
        "\n",
        "plt.plot(epochs, original_val_loss, 'b+', label='Original model')\n",
        "plt.plot(epochs, bigger_model_val_loss, 'bo', label='Bigger model')\n",
        "plt.xlabel('Epochs')\n",
        "plt.ylabel('Validation loss')\n",
        "plt.legend()\n",
        "\n",
        "plt.show()#비거 모델은 난리가 남, 학습해야할 웨이트 개수가 너무 많아서..."
      ],
      "execution_count": 12,
      "outputs": [
        {
          "output_type": "display_data",
          "data": {
            "image/png": "[encoded data removed]",
            "text/plain": [
              "<Figure size 432x288 with 1 Axes>"
            ]
          },
          "metadata": {
            "needs_background": "light"
          }
        }
      ]
    },
    {
      "cell_type": "markdown",
      "metadata": {
        "id": "P5h2YsNjLAV6"
      },
      "source": [
        "용량이 큰 네트워크는 첫 번째 에포크 이후 거의 바로 과대적합이 시작되어 갈수록 더 심해집니다. 검증 손실도 매우 불안정합니다.\n",
        "\n",
        "다음은 두 네트워크의 훈련 손실입니다:"
      ]
    },
    {
      "cell_type": "code",
      "metadata": {
        "colab": {
          "base_uri": "https://localhost:8080/",
          "height": 279
        },
        "id": "Vhy0A6-QLAV6",
        "outputId": "3382d686-988e-42e7-9d98-bccc429c630a"
      },
      "source": [
        "original_train_loss = original_hist.history['loss']\n",
        "bigger_model_train_loss = bigger_model_hist.history['loss']\n",
        "\n",
        "plt.plot(epochs, original_train_loss, 'b+', label='Original model')\n",
        "plt.plot(epochs, bigger_model_train_loss, 'bo', label='Bigger model')\n",
        "plt.xlabel('Epochs')\n",
        "plt.ylabel('Training loss')\n",
        "plt.legend()\n",
        "\n",
        "plt.show()#비거모델은 로스가 중구난방으로 떨어짐"
      ],
      "execution_count": 13,
      "outputs": [
        {
          "output_type": "display_data",
          "data": {
            "image/png": "[encoded data removed]",
            "text/plain": [
              "<Figure size 432x288 with 1 Axes>"
            ]
          },
          "metadata": {
            "needs_background": "light"
          }
        }
      ]
    },
    {
      "cell_type": "markdown",
      "metadata": {
        "id": "0AaudJnVLAV6"
      },
      "source": [
        "여기서 볼 수 있듯이 용량이 큰 네트워크는 훈련 손실이 매우 빠르게 0에 가까워집니다. 용량이 많은 네트워크일수록 더 빠르게 훈련 데이터를 모델링할 수 있습니다(결국 훈련 손실이 낮아집니다). 하지만 더욱 과대적합에 민감해집니다(결국 훈련과 검증 손실 사이에 큰 차이가 발생합니다)."
      ]
    },
    {
      "cell_type": "markdown",
      "metadata": {
        "id": "XNvAUlO-LAV7"
      },
      "source": [
        "## 가중치 규제 추가\n",
        "\n",
        "오캄의 면도날 이론을 알고 있을지 모르겠습니다. 어떤 것에 대한 두 가지의 설명이 있다면 더 적은 가정을 필요하는 간단한 설명이 옳을 것이라는 이론입니다. 이 개념은 신경망으로 학습되는 모델에도 적용됩니다. 어떤 훈련 데이터와 네트워크 구조가 주어졌을 때 데이터를 설명할 수 있는 가중치 값의 집합은 여러 개(여러 개의 모델)입니다. 간단한 모델이 복잡한 모델보다 덜 과대적합될 가능성이 높습니다.\n",
        "\n",
        "여기에서 간단한 모델은 파라미터 값 분포의 엔트로피가 작은 모델입니다(또는 앞 절에서 본 것처럼 적은 수의 파라미터를 가진 모델입니다). 그러므로 과대적합을 완화시키기 위한 일반적인 방법은 네트워크의 복잡도에 제한을 두어 가중치가 작은 값을 가지도록 강제하는 것입니다. 가중치 값의 분포가 더 균일하게 됩니다. 이를 가중치 규제라고 하고 네트워크의 손실 함수에 큰 가중치에 연관된 비용을 추가합니다. 두 가지 형태의 비용이 있습니다.\n",
        "\n",
        "* L1 규제 : 가중치의 절대값에 비례하는 비용이 추가됩니다(가중치의 L1 노름).\n",
        "* L2 규제 : 가중치의 제곱에 비례하는 비용이 추가됩니다(가중치의 L2 노름). L2 규제는 신경망에서 가중치 감쇠라고도 부릅니다. 다른 이름 때문에 혼돈하지 마세요. 가중치 감쇠는 수학적으로 L2 규제와 동일합니다.\n",
        "\n",
        "케라스에서 가중치 규제 인스턴스를 층의 키워드 매개변수로 전달하여 가중치 규제를 추가할 수 있습니다. 영화 리뷰 분류 네트워크에 L2 가중치 규제를 추가해 보죠:"
      ]
    },
    {
      "cell_type": "code",
      "metadata": {
        "id": "kHZuKR4PLAV7"
      },
      "source": [
        "from keras import regularizers\n",
        "\n",
        "l2_model = models.Sequential()\n",
        "l2_model.add(layers.Dense(16, kernel_regularizer=regularizers.l2(0.001),\n",
        "                          activation='relu', input_shape=(10000,)))\n",
        "l2_model.add(layers.Dense(16, kernel_regularizer=regularizers.l2(0.001),\n",
        "                          activation='relu'))\n",
        "l2_model.add(layers.Dense(1, activation='sigmoid'))#튀어나오는 정도를 l1으로? l2로 잡을 것인가?"
      ],
      "execution_count": 14,
      "outputs": []
    },
    {
      "cell_type": "code",
      "metadata": {
        "id": "qPfFq6NXLAV7"
      },
      "source": [
        "l2_model.compile(optimizer='rmsprop',\n",
        "                 loss='binary_crossentropy',\n",
        "                 metrics=['acc'])"
      ],
      "execution_count": 15,
      "outputs": []
    },
    {
      "cell_type": "code",
      "metadata": {
        "colab": {
          "base_uri": "https://localhost:8080/"
        },
        "id": "bom4030PZhkQ",
        "outputId": "d7c50216-d99b-40ff-ef43-bfa1f846e6ad"
      },
      "source": [
        "#레귤러라이제이션 이후의 써머리\n",
        "l2_model.summary()"
      ],
      "execution_count": 40,
      "outputs": [
        {
          "output_type": "stream",
          "name": "stdout",
          "text": [
            "Model: \"sequential_3\"\n",
            "_________________________________________________________________\n",
            "Layer (type)                 Output Shape              Param #   \n",
            "=================================================================\n",
            "dense_9 (Dense)              (None, 16)                160016    \n",
            "_________________________________________________________________\n",
            "dense_10 (Dense)             (None, 16)                272       \n",
            "_________________________________________________________________\n",
            "dense_11 (Dense)             (None, 1)                 17        \n",
            "=================================================================\n",
            "Total params: 160,305\n",
            "Trainable params: 160,305\n",
            "Non-trainable params: 0\n",
            "_________________________________________________________________\n"
          ]
        }
      ]
    },
    {
      "cell_type": "markdown",
      "metadata": {
        "id": "r4Tl9VR4LAV7"
      },
      "source": [
        "`l2(0.001)`는 가중치 행렬의 모든 원소를 제곱하고 `0.001`을 곱하여 네트워크의 전체 손실에 더해진다는 의미입니다. 이 페널티 항은 훈련할 때만 추가됩니다. 이 네트워크의 손실은 테스트보다 훈련할 때 더 높을 것입니다.\n",
        "\n",
        "L2 규제 페널티의 효과를 확인해 보죠:"
      ]
    },
    {
      "cell_type": "code",
      "metadata": {
        "colab": {
          "base_uri": "https://localhost:8080/"
        },
        "id": "jToC82UlLAV8",
        "outputId": "65464373-eea6-499d-f6bb-37058b1bd093"
      },
      "source": [
        "l2_model_hist = l2_model.fit(x_train, y_train,\n",
        "                             epochs=20,\n",
        "                             batch_size=64,\n",
        "                             validation_data=(x_test, y_test)) \n",
        "#여기서 죽었음, ㅣ2 가중치 때문 배치 사이즈 512->64\n",
        "#히스토리를 받아가지고서... 밸리데이션 라벨을 줌"
      ],
      "execution_count": 16,
      "outputs": [
        {
          "output_type": "stream",
          "name": "stdout",
          "text": [
            "Epoch 1/20\n",
            "391/391 [==============================] - 5s 12ms/step - loss: 0.3773 - acc: 0.8630 - val_loss: 0.3182 - val_acc: 0.8846\n",
            "Epoch 2/20\n",
            "391/391 [==============================] - 3s 8ms/step - loss: 0.2791 - acc: 0.9046 - val_loss: 0.3247 - val_acc: 0.8833\n",
            "Epoch 3/20\n",
            "391/391 [==============================] - 3s 7ms/step - loss: 0.2642 - acc: 0.9131 - val_loss: 0.3396 - val_acc: 0.8800\n",
            "Epoch 4/20\n",
            "391/391 [==============================] - 3s 7ms/step - loss: 0.2561 - acc: 0.9150 - val_loss: 0.3287 - val_acc: 0.8808\n",
            "Epoch 5/20\n",
            "391/391 [==============================] - 3s 8ms/step - loss: 0.2483 - acc: 0.9184 - val_loss: 0.3468 - val_acc: 0.8713\n",
            "Epoch 6/20\n",
            "391/391 [==============================] - 3s 8ms/step - loss: 0.2400 - acc: 0.9223 - val_loss: 0.3385 - val_acc: 0.8779\n",
            "Epoch 7/20\n",
            "391/391 [==============================] - 3s 7ms/step - loss: 0.2326 - acc: 0.9250 - val_loss: 0.3450 - val_acc: 0.8754\n",
            "Epoch 8/20\n",
            "391/391 [==============================] - 3s 8ms/step - loss: 0.2261 - acc: 0.9279 - val_loss: 0.3664 - val_acc: 0.8686\n",
            "Epoch 9/20\n",
            "391/391 [==============================] - 3s 7ms/step - loss: 0.2187 - acc: 0.9329 - val_loss: 0.3586 - val_acc: 0.8754\n",
            "Epoch 10/20\n",
            "391/391 [==============================] - 3s 7ms/step - loss: 0.2132 - acc: 0.9340 - val_loss: 0.3799 - val_acc: 0.8654\n",
            "Epoch 11/20\n",
            "391/391 [==============================] - 3s 8ms/step - loss: 0.2066 - acc: 0.9377 - val_loss: 0.3771 - val_acc: 0.8706\n",
            "Epoch 12/20\n",
            "391/391 [==============================] - 3s 8ms/step - loss: 0.2013 - acc: 0.9392 - val_loss: 0.4029 - val_acc: 0.8601\n",
            "Epoch 13/20\n",
            "391/391 [==============================] - 3s 7ms/step - loss: 0.1937 - acc: 0.9430 - val_loss: 0.3903 - val_acc: 0.8666\n",
            "Epoch 14/20\n",
            "391/391 [==============================] - 3s 7ms/step - loss: 0.1904 - acc: 0.9459 - val_loss: 0.3997 - val_acc: 0.8662\n",
            "Epoch 15/20\n",
            "391/391 [==============================] - 3s 7ms/step - loss: 0.1859 - acc: 0.9481 - val_loss: 0.4168 - val_acc: 0.8640\n",
            "Epoch 16/20\n",
            "391/391 [==============================] - 3s 7ms/step - loss: 0.1827 - acc: 0.9493 - val_loss: 0.4164 - val_acc: 0.8641\n",
            "Epoch 17/20\n",
            "391/391 [==============================] - 3s 8ms/step - loss: 0.1785 - acc: 0.9505 - val_loss: 0.4300 - val_acc: 0.8618\n",
            "Epoch 18/20\n",
            "391/391 [==============================] - 3s 7ms/step - loss: 0.1783 - acc: 0.9498 - val_loss: 0.4415 - val_acc: 0.8586\n",
            "Epoch 19/20\n",
            "391/391 [==============================] - 3s 7ms/step - loss: 0.1751 - acc: 0.9529 - val_loss: 0.4537 - val_acc: 0.8578\n",
            "Epoch 20/20\n",
            "391/391 [==============================] - 3s 7ms/step - loss: 0.1720 - acc: 0.9533 - val_loss: 0.4684 - val_acc: 0.8583\n"
          ]
        }
      ]
    },
    {
      "cell_type": "code",
      "metadata": {
        "colab": {
          "base_uri": "https://localhost:8080/",
          "height": 279
        },
        "id": "nYbgJqUnLAV8",
        "outputId": "2ac611e6-5234-48af-9eea-2612b629bee7"
      },
      "source": [
        "l2_model_val_loss = l2_model_hist.history['val_loss']\n",
        "\n",
        "plt.plot(epochs, original_val_loss, 'b+', label='Original model')\n",
        "plt.plot(epochs, l2_model_val_loss, 'bo', label='L2-regularized model')\n",
        "plt.xlabel('Epochs')\n",
        "plt.ylabel('Validation loss')\n",
        "plt.legend()\n",
        "\n",
        "plt.show()"
      ],
      "execution_count": 17,
      "outputs": [
        {
          "output_type": "display_data",
          "data": {
            "image/png": "[encoded data removed]",
            "text/plain": [
              "<Figure size 432x288 with 1 Axes>"
            ]
          },
          "metadata": {
            "needs_background": "light"
          }
        }
      ]
    },
    {
      "cell_type": "markdown",
      "metadata": {
        "id": "69p9y1CKLAV9"
      },
      "source": [
        "여기서 볼 수 있듯이 두 모델이 동일한 파라미터 수를 가지고 있더라도 L2 규제를 사용한 모델(점)이 기본 모델(덧셈 기호)보다 훨씬 더 과대적합에 잘 견디고 있습니다.\n",
        "\n",
        "케라스에서 L2 규제 대신에 다음과 같은 가중치 규제 중 하나를 사용할 수 있습니다:"
      ]
    },
    {
      "cell_type": "code",
      "metadata": {
        "id": "1MRHG5JWSewD"
      },
      "source": [
        "# GC 가비지 컬렉션"
      ],
      "execution_count": 18,
      "outputs": []
    },
    {
      "cell_type": "code",
      "metadata": {
        "id": "h-yb8cp0Szw5"
      },
      "source": [
        "import gc"
      ],
      "execution_count": 19,
      "outputs": []
    },
    {
      "cell_type": "code",
      "metadata": {
        "colab": {
          "base_uri": "https://localhost:8080/"
        },
        "id": "S2fmCVWnS2KO",
        "outputId": "0f77461e-d6f4-4c2a-8038-38a2308f4943"
      },
      "source": [
        "gc.collect(generation=2)"
      ],
      "execution_count": 20,
      "outputs": [
        {
          "output_type": "execute_result",
          "data": {
            "text/plain": [
              "15666"
            ]
          },
          "metadata": {},
          "execution_count": 20
        }
      ]
    },
    {
      "cell_type": "markdown",
      "metadata": {
        "collapsed": true,
        "id": "Fb91PcsYLAV9"
      },
      "source": [
        "```python\n",
        "from keras import regularizers\n",
        "\n",
        "# L1 규제\n",
        "regularizers.l1(0.001)\n",
        "\n",
        "# L1과 L2 규제 병행\n",
        "regularizers.l1_l2(l1=0.001, l2=0.001)\n",
        "```"
      ]
    },
    {
      "cell_type": "markdown",
      "metadata": {
        "id": "s1QTgL-QLAV9"
      },
      "source": [
        "### l1(0.0001) 모델과 비교"
      ]
    },
    {
      "cell_type": "code",
      "metadata": {
        "id": "iHUzhtPtLAV9"
      },
      "source": [
        "l1_model = models.Sequential()\n",
        "l1_model.add(layers.Dense(16, kernel_regularizer=regularizers.l1(0.0001),\n",
        "                          activation='relu', input_shape=(10000,)))\n",
        "l1_model.add(layers.Dense(16, kernel_regularizer=regularizers.l1(0.0001),\n",
        "                          activation='relu'))\n",
        "l1_model.add(layers.Dense(1, activation='sigmoid'))"
      ],
      "execution_count": 21,
      "outputs": []
    },
    {
      "cell_type": "code",
      "metadata": {
        "id": "3KcQDR0oLAV9"
      },
      "source": [
        "l1_model.compile(optimizer='rmsprop',\n",
        "                 loss='binary_crossentropy',\n",
        "                 metrics=['acc'])"
      ],
      "execution_count": 22,
      "outputs": []
    },
    {
      "cell_type": "code",
      "metadata": {
        "colab": {
          "base_uri": "https://localhost:8080/"
        },
        "id": "GXaHmT4oaaQJ",
        "outputId": "d5819748-7e06-4218-accd-5ca4e8ac8a7a"
      },
      "source": [
        "#레귤러라이제이션 이후의 써머리\n",
        "l1_model.summary()"
      ],
      "execution_count": 41,
      "outputs": [
        {
          "output_type": "stream",
          "name": "stdout",
          "text": [
            "Model: \"sequential_4\"\n",
            "_________________________________________________________________\n",
            "Layer (type)                 Output Shape              Param #   \n",
            "=================================================================\n",
            "dense_12 (Dense)             (None, 16)                160016    \n",
            "_________________________________________________________________\n",
            "dense_13 (Dense)             (None, 16)                272       \n",
            "_________________________________________________________________\n",
            "dense_14 (Dense)             (None, 1)                 17        \n",
            "=================================================================\n",
            "Total params: 160,305\n",
            "Trainable params: 160,305\n",
            "Non-trainable params: 0\n",
            "_________________________________________________________________\n"
          ]
        }
      ]
    },
    {
      "cell_type": "code",
      "metadata": {
        "colab": {
          "base_uri": "https://localhost:8080/"
        },
        "id": "oYVI-4esLAV-",
        "outputId": "a4134cdd-5ae5-40df-ac05-2278bf188eeb"
      },
      "source": [
        "l1_model_hist = l1_model.fit(x_train, y_train,\n",
        "                             epochs=20,\n",
        "                             batch_size=64,\n",
        "                             validation_data=(x_test, y_test))\n",
        "#이것도 메모리"
      ],
      "execution_count": 23,
      "outputs": [
        {
          "output_type": "stream",
          "name": "stdout",
          "text": [
            "Epoch 1/20\n",
            "391/391 [==============================] - 4s 10ms/step - loss: 0.4144 - acc: 0.8602 - val_loss: 0.3547 - val_acc: 0.8857\n",
            "Epoch 2/20\n",
            "391/391 [==============================] - 3s 7ms/step - loss: 0.3302 - acc: 0.8971 - val_loss: 0.3655 - val_acc: 0.8770\n",
            "Epoch 3/20\n",
            "391/391 [==============================] - 3s 7ms/step - loss: 0.3102 - acc: 0.9060 - val_loss: 0.3535 - val_acc: 0.8833\n",
            "Epoch 4/20\n",
            "391/391 [==============================] - 3s 7ms/step - loss: 0.3004 - acc: 0.9088 - val_loss: 0.3569 - val_acc: 0.8810\n",
            "Epoch 5/20\n",
            "391/391 [==============================] - 3s 7ms/step - loss: 0.2927 - acc: 0.9108 - val_loss: 0.3593 - val_acc: 0.8800\n",
            "Epoch 6/20\n",
            "391/391 [==============================] - 3s 7ms/step - loss: 0.2844 - acc: 0.9144 - val_loss: 0.3579 - val_acc: 0.8822\n",
            "Epoch 7/20\n",
            "391/391 [==============================] - 3s 8ms/step - loss: 0.2722 - acc: 0.9188 - val_loss: 0.3712 - val_acc: 0.8777\n",
            "Epoch 8/20\n",
            "391/391 [==============================] - 3s 7ms/step - loss: 0.2650 - acc: 0.9233 - val_loss: 0.3798 - val_acc: 0.8726\n",
            "Epoch 9/20\n",
            "391/391 [==============================] - 3s 7ms/step - loss: 0.2578 - acc: 0.9271 - val_loss: 0.3804 - val_acc: 0.8762\n",
            "Epoch 10/20\n",
            "391/391 [==============================] - 3s 7ms/step - loss: 0.2502 - acc: 0.9316 - val_loss: 0.3894 - val_acc: 0.8728\n",
            "Epoch 11/20\n",
            "391/391 [==============================] - 3s 7ms/step - loss: 0.2421 - acc: 0.9358 - val_loss: 0.4071 - val_acc: 0.8737\n",
            "Epoch 12/20\n",
            "391/391 [==============================] - 3s 7ms/step - loss: 0.2331 - acc: 0.9389 - val_loss: 0.4211 - val_acc: 0.8658\n",
            "Epoch 13/20\n",
            "391/391 [==============================] - 3s 7ms/step - loss: 0.2221 - acc: 0.9452 - val_loss: 0.4385 - val_acc: 0.8692\n",
            "Epoch 14/20\n",
            "391/391 [==============================] - 3s 7ms/step - loss: 0.2169 - acc: 0.9468 - val_loss: 0.4454 - val_acc: 0.8692\n",
            "Epoch 15/20\n",
            "391/391 [==============================] - 3s 7ms/step - loss: 0.2097 - acc: 0.9514 - val_loss: 0.4593 - val_acc: 0.8640\n",
            "Epoch 16/20\n",
            "391/391 [==============================] - 3s 7ms/step - loss: 0.2027 - acc: 0.9536 - val_loss: 0.4720 - val_acc: 0.8624\n",
            "Epoch 17/20\n",
            "391/391 [==============================] - 3s 7ms/step - loss: 0.1973 - acc: 0.9549 - val_loss: 0.4992 - val_acc: 0.8584\n",
            "Epoch 18/20\n",
            "391/391 [==============================] - 3s 7ms/step - loss: 0.1920 - acc: 0.9585 - val_loss: 0.5170 - val_acc: 0.8580\n",
            "Epoch 19/20\n",
            "391/391 [==============================] - 3s 8ms/step - loss: 0.1874 - acc: 0.9607 - val_loss: 0.5171 - val_acc: 0.8594\n",
            "Epoch 20/20\n",
            "391/391 [==============================] - 3s 7ms/step - loss: 0.1845 - acc: 0.9608 - val_loss: 0.5491 - val_acc: 0.8549\n"
          ]
        }
      ]
    },
    {
      "cell_type": "code",
      "metadata": {
        "colab": {
          "base_uri": "https://localhost:8080/",
          "height": 279
        },
        "id": "CfcAVtvyLAV-",
        "outputId": "74f6d2b7-3b59-48c3-ef71-cca1208374bb"
      },
      "source": [
        "l1_model_val_loss = l1_model_hist.history['val_loss']\n",
        "\n",
        "plt.plot(epochs, original_val_loss, 'b+', label='Original model')\n",
        "plt.plot(epochs, l1_model_val_loss, 'bo', label='L1-regularized model')\n",
        "plt.xlabel('Epochs')\n",
        "plt.ylabel('Validation loss')\n",
        "plt.legend()\n",
        "\n",
        "plt.show()"
      ],
      "execution_count": 24,
      "outputs": [
        {
          "output_type": "display_data",
          "data": {
            "image/png": "[encoded data removed]",
            "text/plain": [
              "<Figure size 432x288 with 1 Axes>"
            ]
          },
          "metadata": {
            "needs_background": "light"
          }
        }
      ]
    },
    {
      "cell_type": "markdown",
      "metadata": {
        "id": "5fe_QRP5LAV-"
      },
      "source": [
        "### l1_l2(l1=0.0001, l2=0.0001)모델과 비교"
      ]
    },
    {
      "cell_type": "code",
      "metadata": {
        "id": "mJgV0V-TLAV_"
      },
      "source": [
        "l1l2_model = models.Sequential()\n",
        "l1l2_model.add(layers.Dense(16, kernel_regularizer=regularizers.l1_l2(l1=0.0001, l2=0.0001),\n",
        "                            activation='relu', input_shape=(10000,)))\n",
        "l1l2_model.add(layers.Dense(16, kernel_regularizer=regularizers.l1_l2(l1=0.0001, l2=0.0001),\n",
        "                            activation='relu'))\n",
        "l1l2_model.add(layers.Dense(1, activation='sigmoid'))"
      ],
      "execution_count": 25,
      "outputs": []
    },
    {
      "cell_type": "code",
      "metadata": {
        "id": "s5GpzxpwLAV_"
      },
      "source": [
        "l1l2_model.compile(optimizer='rmsprop',\n",
        "                   loss='binary_crossentropy',\n",
        "                   metrics=['acc'])"
      ],
      "execution_count": 26,
      "outputs": []
    },
    {
      "cell_type": "code",
      "metadata": {
        "colab": {
          "base_uri": "https://localhost:8080/"
        },
        "id": "oRLysKEyLAV_",
        "outputId": "98f9fa81-39ea-476d-f339-0a71c074ee74"
      },
      "source": [
        "l1l2_model_hist = l1l2_model.fit(x_train, y_train,\n",
        "                                 epochs=20,\n",
        "                                 batch_size=512,\n",
        "                                 validation_data=(x_test, y_test))"
      ],
      "execution_count": 27,
      "outputs": [
        {
          "output_type": "stream",
          "name": "stdout",
          "text": [
            "Epoch 1/20\n",
            "49/49 [==============================] - 3s 45ms/step - loss: 0.5586 - acc: 0.8210 - val_loss: 0.4316 - val_acc: 0.8759\n",
            "Epoch 2/20\n",
            "49/49 [==============================] - 1s 23ms/step - loss: 0.3712 - acc: 0.8960 - val_loss: 0.3698 - val_acc: 0.8887\n",
            "Epoch 3/20\n",
            "49/49 [==============================] - 1s 23ms/step - loss: 0.3264 - acc: 0.9072 - val_loss: 0.3595 - val_acc: 0.8866\n",
            "Epoch 4/20\n",
            "49/49 [==============================] - 1s 23ms/step - loss: 0.3086 - acc: 0.9131 - val_loss: 0.3742 - val_acc: 0.8807\n",
            "Epoch 5/20\n",
            "49/49 [==============================] - 1s 23ms/step - loss: 0.2991 - acc: 0.9175 - val_loss: 0.3562 - val_acc: 0.8874\n",
            "Epoch 6/20\n",
            "49/49 [==============================] - 1s 24ms/step - loss: 0.2892 - acc: 0.9207 - val_loss: 0.3593 - val_acc: 0.8852\n",
            "Epoch 7/20\n",
            "49/49 [==============================] - 1s 23ms/step - loss: 0.2844 - acc: 0.9221 - val_loss: 0.3989 - val_acc: 0.8697\n",
            "Epoch 8/20\n",
            "49/49 [==============================] - 1s 24ms/step - loss: 0.2739 - acc: 0.9262 - val_loss: 0.3681 - val_acc: 0.8833\n",
            "Epoch 9/20\n",
            "49/49 [==============================] - 1s 24ms/step - loss: 0.2726 - acc: 0.9281 - val_loss: 0.3951 - val_acc: 0.8733\n",
            "Epoch 10/20\n",
            "49/49 [==============================] - 1s 23ms/step - loss: 0.2632 - acc: 0.9315 - val_loss: 0.3793 - val_acc: 0.8796\n",
            "Epoch 11/20\n",
            "49/49 [==============================] - 1s 24ms/step - loss: 0.2638 - acc: 0.9309 - val_loss: 0.3822 - val_acc: 0.8786\n",
            "Epoch 12/20\n",
            "49/49 [==============================] - 1s 23ms/step - loss: 0.2555 - acc: 0.9353 - val_loss: 0.3842 - val_acc: 0.8787\n",
            "Epoch 13/20\n",
            "49/49 [==============================] - 1s 23ms/step - loss: 0.2530 - acc: 0.9352 - val_loss: 0.4124 - val_acc: 0.8695\n",
            "Epoch 14/20\n",
            "49/49 [==============================] - 1s 24ms/step - loss: 0.2506 - acc: 0.9350 - val_loss: 0.3887 - val_acc: 0.8789\n",
            "Epoch 15/20\n",
            "49/49 [==============================] - 1s 23ms/step - loss: 0.2457 - acc: 0.9377 - val_loss: 0.4000 - val_acc: 0.8749\n",
            "Epoch 16/20\n",
            "49/49 [==============================] - 1s 24ms/step - loss: 0.2404 - acc: 0.9406 - val_loss: 0.4021 - val_acc: 0.8746\n",
            "Epoch 17/20\n",
            "49/49 [==============================] - 1s 23ms/step - loss: 0.2366 - acc: 0.9416 - val_loss: 0.4054 - val_acc: 0.8744\n",
            "Epoch 18/20\n",
            "49/49 [==============================] - 1s 23ms/step - loss: 0.2325 - acc: 0.9436 - val_loss: 0.4017 - val_acc: 0.8757\n",
            "Epoch 19/20\n",
            "49/49 [==============================] - 1s 23ms/step - loss: 0.2296 - acc: 0.9436 - val_loss: 0.4037 - val_acc: 0.8749\n",
            "Epoch 20/20\n",
            "49/49 [==============================] - 1s 23ms/step - loss: 0.2237 - acc: 0.9454 - val_loss: 0.4116 - val_acc: 0.8731\n"
          ]
        }
      ]
    },
    {
      "cell_type": "code",
      "metadata": {
        "colab": {
          "base_uri": "https://localhost:8080/",
          "height": 279
        },
        "id": "SDqHv5TKLAWA",
        "outputId": "9cdc6719-daa0-470c-f467-47b0f1630e26"
      },
      "source": [
        "l1l2_model_val_loss = l1l2_model_hist.history['val_loss']\n",
        "\n",
        "plt.plot(epochs, original_val_loss, 'b+', label='Original model')\n",
        "plt.plot(epochs, l1l2_model_val_loss, 'bo', label='L1,L2-regularized model')\n",
        "plt.xlabel('Epochs')\n",
        "plt.ylabel('Validation loss')\n",
        "plt.legend()\n",
        "\n",
        "plt.show()# 크게 오버피팅은 아닌데 최적점을 잘 찾는 것도 아님"
      ],
      "execution_count": 28,
      "outputs": [
        {
          "output_type": "display_data",
          "data": {
            "image/png": "[encoded data removed]",
            "text/plain": [
              "<Figure size 432x288 with 1 Axes>"
            ]
          },
          "metadata": {
            "needs_background": "light"
          }
        }
      ]
    },
    {
      "cell_type": "markdown",
      "metadata": {
        "id": "AcY7YP_wLAWA"
      },
      "source": [
        "## 드롭아웃 추가\n",
        "\n",
        "드롭아웃은 토론토 대학의 제프리 힌튼과 그의 학생들이 개발했습니다. 신경망을 위해 사용되는 규제 기법 중에서 가장 효과적이고 널리 사용되는 방법 중에 하나입니다. 네트워크의 층에 드롭아웃을 적용하면 훈련하는 동안 무작위로 층의 일부 출력 특성을 제외시킵니다(0으로 만듭니다). 한 층이 정상적으로 훈련하는 동안에는 어떤 입력 샘플에 대해 `[0.2, 0.5, 1.3, 0.8, 1.1]` 벡터를 출력한다고 가정합시다. 드롭아웃을 적용하면 이 벡터의 일부가 무작위로 0으로 바뀝니다. 예를 들면 `[0, 0.5, 1.3, 0, 1.1]`이 됩니다. 드롭아웃 비율은 0이 될 특성의 비율입니다. 보통 0.2에서 0.5 사이로 지정됩니다. 테스트 단계에서는 어떤 유닛도 드롭아웃되지 않습니다. 대신에 층의 출력을 드롭아웃 비율에 비례하여 줄여 줍니다. 훈련할 때보다 더 많은 유닛이 활성화되기 때문입니다.\n",
        "\n",
        "크기가 `(batch_size, features)`인 한 층의 출력을 담고 있는 넘파이 행렬을 생각해 보겠습니다. 훈련할 때는 이 행렬의 값의 일부가 랜덤하게 0이 됩니다:"
      ]
    },
    {
      "cell_type": "markdown",
      "metadata": {
        "collapsed": true,
        "id": "nzZZ9mogLAWA"
      },
      "source": [
        "```python\n",
        "# 훈련할 때 유닛의 출력 중 50%를 버립니다\n",
        "layer_output *= np.random.randint(0, high=2, size=layer_output.shape)\n",
        "```"
      ]
    },
    {
      "cell_type": "markdown",
      "metadata": {
        "id": "ywsydpYaLAWB"
      },
      "source": [
        "테스트할 때는 드롭아웃 비율로 출력을 낮추어 주어야 합니다. 여기에서는 0.5배만큼 스케일을 조정했습니다(앞에서 절반의 유닛을 드롭아웃했으므로):"
      ]
    },
    {
      "cell_type": "markdown",
      "metadata": {
        "collapsed": true,
        "id": "GEZ8bUI4LAWB"
      },
      "source": [
        "```python\n",
        "# 테스트 단계\n",
        "layer_output *= 0.5\n",
        "```"
      ]
    },
    {
      "cell_type": "markdown",
      "metadata": {
        "id": "1a-4wvD_LAWB"
      },
      "source": [
        "훈련 단계에 이 두 연산을 포함시켜 테스트 단계에는 출력을 그대로 두도록 구현할 수 있습니다. 실제로 종종 이런 방식으로 구현합니다:"
      ]
    },
    {
      "cell_type": "markdown",
      "metadata": {
        "collapsed": true,
        "id": "cAb9OvD_LAWB"
      },
      "source": [
        "```python\n",
        "# 훈련 단계\n",
        "layer_output *= np.randint(0, high=2, size=layer_output.shape)\n",
        "# 여기에서 스케일을 낮추는 대신 높입니다![image.png](attachment:image.png)\n",
        "layer_output /= 0.5\n",
        "```"
      ]
    },
    {
      "cell_type": "markdown",
      "metadata": {
        "id": "56q7XI1nLAWB"
      },
      "source": [
        "이 기법이 이상하고 무계획적으로 보일 수 있습니다. 왜 드롭아웃이 과대적합을 줄이는 데 도움이 될까요? 힌튼은 은행에서 사용하는 부정 방지 메커니즘에서 착안했다고 합니다. 그의 말을 빌리면 “은행에 갔을 때 행원들이 계속 바뀌길래 왜 그런지를 물었습니다. 자신들도 이유는 모르지만 자주 업무가 바뀐다고 했습니다. 나는 은행에서 부정 행위를 하려면 직원들 사이의 유대가 필요하기 때문이라고 판단했습니다. 각 샘플에 대해 뉴런의 일부를 무작위하게 제거하면 뉴런의 부정한 협업을 방지하고 결국 과대적합을 감소시킨다는 것을 깨달았습니다.\"\n",
        "\n",
        "핵심 아이디어는 층의 출력 값에 노이즈를 추가하여 중요하지 않은 우연한 패턴(힌튼이 이야기한 부정한 협업)을 깨뜨리는 것입니다. 노이즈가 없다면 네트워크가 이 패턴을 기억하기 시작할 것입니다.\n",
        "\n",
        "케라스에서는 층의 출력 바로 뒤에 `Dropout` 층을 추가하여 네트워크에 드롭아웃을 적용할 수 있습니다:"
      ]
    },
    {
      "cell_type": "markdown",
      "metadata": {
        "collapsed": true,
        "id": "3zSb8bmULAWB"
      },
      "source": [
        "```python\n",
        "model.add(layers.Dropout(0.5))\n",
        "```"
      ]
    },
    {
      "cell_type": "markdown",
      "metadata": {
        "id": "8vibWK-tLAWC"
      },
      "source": [
        "IMDB 네트워크에 두 개의 `Dropout` 층을 추가하고 과대적합을 얼마나 줄여주는지 확인해 보겠습니다:"
      ]
    },
    {
      "cell_type": "code",
      "metadata": {
        "id": "y4-knvE7LAWC"
      },
      "source": [
        "dpt_model = models.Sequential()\n",
        "dpt_model.add(layers.Dense(16, activation='relu', input_shape=(10000,)))\n",
        "dpt_model.add(layers.Dropout(0.5))\n",
        "dpt_model.add(layers.Dense(16, activation='relu'))\n",
        "dpt_model.add(layers.Dropout(0.5))\n",
        "dpt_model.add(layers.Dense(1, activation='sigmoid'))\n",
        "\n",
        "dpt_model.compile(optimizer='rmsprop',\n",
        "                  loss='binary_crossentropy',\n",
        "                  metrics=['acc'])"
      ],
      "execution_count": 29,
      "outputs": []
    },
    {
      "cell_type": "code",
      "metadata": {
        "colab": {
          "base_uri": "https://localhost:8080/"
        },
        "id": "C9oavG_UbMQX",
        "outputId": "4db52b65-2302-442c-8b0d-2b2487aa1452"
      },
      "source": [
        "#레귤러라이제이션 이후의 써머리\n",
        "dpt_model.summary()"
      ],
      "execution_count": 42,
      "outputs": [
        {
          "output_type": "stream",
          "name": "stdout",
          "text": [
            "Model: \"sequential_6\"\n",
            "_________________________________________________________________\n",
            "Layer (type)                 Output Shape              Param #   \n",
            "=================================================================\n",
            "dense_18 (Dense)             (None, 16)                160016    \n",
            "_________________________________________________________________\n",
            "dropout (Dropout)            (None, 16)                0         \n",
            "_________________________________________________________________\n",
            "dense_19 (Dense)             (None, 16)                272       \n",
            "_________________________________________________________________\n",
            "dropout_1 (Dropout)          (None, 16)                0         \n",
            "_________________________________________________________________\n",
            "dense_20 (Dense)             (None, 1)                 17        \n",
            "=================================================================\n",
            "Total params: 160,305\n",
            "Trainable params: 160,305\n",
            "Non-trainable params: 0\n",
            "_________________________________________________________________\n"
          ]
        }
      ]
    },
    {
      "cell_type": "code",
      "metadata": {
        "colab": {
          "base_uri": "https://localhost:8080/"
        },
        "id": "e0ikqa1lLAWC",
        "outputId": "cd773766-200b-467c-90b2-38e81afe84d3"
      },
      "source": [
        "dpt_model_hist = dpt_model.fit(x_train, y_train,\n",
        "                               epochs=20,\n",
        "                               batch_size=512,\n",
        "                               validation_data=(x_test, y_test))"
      ],
      "execution_count": 30,
      "outputs": [
        {
          "output_type": "stream",
          "name": "stdout",
          "text": [
            "Epoch 1/20\n",
            "49/49 [==============================] - 3s 42ms/step - loss: 0.6145 - acc: 0.6591 - val_loss: 0.5104 - val_acc: 0.8458\n",
            "Epoch 2/20\n",
            "49/49 [==============================] - 1s 23ms/step - loss: 0.4694 - acc: 0.7913 - val_loss: 0.3662 - val_acc: 0.8791\n",
            "Epoch 3/20\n",
            "49/49 [==============================] - 1s 23ms/step - loss: 0.3763 - acc: 0.8464 - val_loss: 0.3059 - val_acc: 0.8869\n",
            "Epoch 4/20\n",
            "49/49 [==============================] - 1s 23ms/step - loss: 0.3188 - acc: 0.8788 - val_loss: 0.2806 - val_acc: 0.8894\n",
            "Epoch 5/20\n",
            "49/49 [==============================] - 1s 23ms/step - loss: 0.2765 - acc: 0.9016 - val_loss: 0.2751 - val_acc: 0.8908\n",
            "Epoch 6/20\n",
            "49/49 [==============================] - 1s 24ms/step - loss: 0.2456 - acc: 0.9121 - val_loss: 0.2805 - val_acc: 0.8893\n",
            "Epoch 7/20\n",
            "49/49 [==============================] - 1s 23ms/step - loss: 0.2220 - acc: 0.9216 - val_loss: 0.2934 - val_acc: 0.8882\n",
            "Epoch 8/20\n",
            "49/49 [==============================] - 1s 23ms/step - loss: 0.1974 - acc: 0.9284 - val_loss: 0.3092 - val_acc: 0.8869\n",
            "Epoch 9/20\n",
            "49/49 [==============================] - 1s 23ms/step - loss: 0.1835 - acc: 0.9371 - val_loss: 0.3363 - val_acc: 0.8848\n",
            "Epoch 10/20\n",
            "49/49 [==============================] - 1s 23ms/step - loss: 0.1738 - acc: 0.9384 - val_loss: 0.3516 - val_acc: 0.8866\n",
            "Epoch 11/20\n",
            "49/49 [==============================] - 1s 23ms/step - loss: 0.1644 - acc: 0.9430 - val_loss: 0.3683 - val_acc: 0.8828\n",
            "Epoch 12/20\n",
            "49/49 [==============================] - 1s 24ms/step - loss: 0.1520 - acc: 0.9442 - val_loss: 0.3817 - val_acc: 0.8836\n",
            "Epoch 13/20\n",
            "49/49 [==============================] - 1s 23ms/step - loss: 0.1487 - acc: 0.9465 - val_loss: 0.4260 - val_acc: 0.8825\n",
            "Epoch 14/20\n",
            "49/49 [==============================] - 1s 23ms/step - loss: 0.1414 - acc: 0.9500 - val_loss: 0.4306 - val_acc: 0.8812\n",
            "Epoch 15/20\n",
            "49/49 [==============================] - 1s 24ms/step - loss: 0.1347 - acc: 0.9516 - val_loss: 0.4563 - val_acc: 0.8778\n",
            "Epoch 16/20\n",
            "49/49 [==============================] - 1s 23ms/step - loss: 0.1259 - acc: 0.9532 - val_loss: 0.4969 - val_acc: 0.8789\n",
            "Epoch 17/20\n",
            "49/49 [==============================] - 1s 24ms/step - loss: 0.1268 - acc: 0.9536 - val_loss: 0.4954 - val_acc: 0.8782\n",
            "Epoch 18/20\n",
            "49/49 [==============================] - 1s 23ms/step - loss: 0.1241 - acc: 0.9540 - val_loss: 0.4995 - val_acc: 0.8774\n",
            "Epoch 19/20\n",
            "49/49 [==============================] - 1s 23ms/step - loss: 0.1200 - acc: 0.9558 - val_loss: 0.5234 - val_acc: 0.8773\n",
            "Epoch 20/20\n",
            "49/49 [==============================] - 1s 24ms/step - loss: 0.1160 - acc: 0.9561 - val_loss: 0.5268 - val_acc: 0.8766\n"
          ]
        }
      ]
    },
    {
      "cell_type": "markdown",
      "metadata": {
        "id": "fl14XBD9LAWC"
      },
      "source": [
        "결과 그래프를 그려 보죠:"
      ]
    },
    {
      "cell_type": "code",
      "metadata": {
        "colab": {
          "base_uri": "https://localhost:8080/",
          "height": 279
        },
        "id": "r8-5Y1RMLAWC",
        "outputId": "0a17d4f0-2c22-41c5-e854-79d69c880899"
      },
      "source": [
        "dpt_model_val_loss = dpt_model_hist.history['val_loss']\n",
        "\n",
        "plt.plot(epochs, original_val_loss, 'b+', label='Original model')\n",
        "plt.plot(epochs, dpt_model_val_loss, 'bo', label='Dropout-regularized model')\n",
        "plt.xlabel('Epochs')\n",
        "plt.ylabel('Validation loss')\n",
        "plt.legend()\n",
        "\n",
        "plt.show()#드랍아웃이 훨씬 결과가 좋음"
      ],
      "execution_count": 31,
      "outputs": [
        {
          "output_type": "display_data",
          "data": {
            "image/png": "[encoded data removed]",
            "text/plain": [
              "<Figure size 432x288 with 1 Axes>"
            ]
          },
          "metadata": {
            "needs_background": "light"
          }
        }
      ]
    },
    {
      "cell_type": "markdown",
      "metadata": {
        "id": "e2hhPoxPLAWD"
      },
      "source": [
        "여기에서도 기본 네트워크보다 확실히 향상되었습니다.\n",
        "\n",
        "정리하면 신경망에서 과대적합을 방지하기 위해 가장 널리 사용하는 방법은 다음과 같습니다.\n",
        "\n",
        "* 훈련 데이터를 더 모읍니다.\n",
        "* 네트워크의 용량을 감소시킵니다.\n",
        "* 가중치 규제를 추가합니다.\n",
        "* 드롭아웃을 추가합니다"
      ]
    }
  ]
}
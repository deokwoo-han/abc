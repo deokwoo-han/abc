{
  "nbformat": 4,
  "nbformat_minor": 0,
  "metadata": {
    "colab": {
      "name": "10.25-4 cv-bgr-hsv-image.ipynb",
      "provenance": [],
      "collapsed_sections": [],
      "include_colab_link": true
    },
    "kernelspec": {
      "display_name": "Python 3 (ipykernel)",
      "language": "python",
      "name": "python3"
    },
    "language_info": {
      "codemirror_mode": {
        "name": "ipython",
        "version": 3
      },
      "file_extension": ".py",
      "mimetype": "text/x-python",
      "name": "python",
      "nbconvert_exporter": "python",
      "pygments_lexer": "ipython3",
      "version": "3.8.12"
    }
  },
  "cells": [
    {
      "cell_type": "markdown",
      "metadata": {
        "id": "view-in-github",
        "colab_type": "text"
      },
      "source": [
        "<a href=\"https://colab.research.google.com/github/deokwoo-han/abc/blob/master/10_25_4_cv_bgr_hsv_image.ipynb\" target=\"_parent\"><img src=\"https://colab.research.google.com/assets/colab-badge.svg\" alt=\"Open In Colab\"/></a>"
      ]
    },
    {
      "cell_type": "code",
      "metadata": {
        "id": "2jXBBnzQ-fz0"
      },
      "source": [
        "import cv2\n",
        "import numpy as np\n",
        "\n",
        "def nothing(x):\n",
        "    pass\n",
        "\n",
        "cv2.namedWindow(\"Tracking\")\n",
        "cv2.createTrackbar(\"LH\", \"Tracking\", 0, 255, nothing)\n",
        "cv2.createTrackbar(\"LS\", \"Tracking\", 0, 255, nothing)\n",
        "cv2.createTrackbar(\"LV\", \"Tracking\", 0, 255, nothing)\n",
        "cv2.createTrackbar(\"UH\", \"Tracking\", 255, 255, nothing)\n",
        "cv2.createTrackbar(\"US\", \"Tracking\", 255, 255, nothing)\n",
        "cv2.createTrackbar(\"UV\", \"Tracking\", 255, 255, nothing)\n",
        "\n",
        "while True:\n",
        "    frame = cv2.imread('..\\\\banana(progress).jpg')#('.\\\\images\\\\signal1.jpg')\n",
        "\n",
        "    hsv = cv2.cvtColor(frame, cv2.COLOR_BGR2HSV)\n",
        "\n",
        "    l_h = cv2.getTrackbarPos(\"LH\", \"Tracking\")\n",
        "    l_s = cv2.getTrackbarPos(\"LS\", \"Tracking\")\n",
        "    l_v = cv2.getTrackbarPos(\"LV\", \"Tracking\")\n",
        "\n",
        "    u_h = cv2.getTrackbarPos(\"UH\", \"Tracking\")\n",
        "    u_s = cv2.getTrackbarPos(\"US\", \"Tracking\")\n",
        "    u_v = cv2.getTrackbarPos(\"UV\", \"Tracking\")\n",
        "\n",
        "    l_b = np.array([l_h, l_s, l_v])\n",
        "    u_b = np.array([u_h, u_s, u_v])\n",
        "\n",
        "    mask = cv2.inRange(hsv, l_b, u_b)\n",
        "\n",
        "    res = cv2.bitwise_and(frame, frame, mask=mask)\n",
        "\n",
        "    cv2.imshow(\"frame\", frame)\n",
        "    cv2.imshow(\"mask\", mask)\n",
        "    cv2.imshow(\"res\", res)\n",
        "\n",
        "    key = cv2.waitKey(1)\n",
        "    if key == 27:\n",
        "        break\n",
        "\n",
        "cv2.destroyAllWindows()"
      ],
      "execution_count": null,
      "outputs": []
    }
  ]
}
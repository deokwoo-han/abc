{
  "nbformat": 4,
  "nbformat_minor": 5,
  "metadata": {
    "kernelspec": {
      "display_name": "Python KOSA",
      "language": "python",
      "name": "kosa"
    },
    "language_info": {
      "codemirror_mode": {
        "name": "ipython",
        "version": 3
      },
      "file_extension": ".py",
      "mimetype": "text/x-python",
      "name": "python",
      "nbconvert_exporter": "python",
      "pygments_lexer": "ipython3",
      "version": "3.8.12"
    },
    "colab": {
      "name": "10.20-6 yolov5_opencv_crop0.ipynb",
      "provenance": [],
      "collapsed_sections": [],
      "include_colab_link": true
    }
  },
  "cells": [
    {
      "cell_type": "markdown",
      "metadata": {
        "id": "view-in-github",
        "colab_type": "text"
      },
      "source": [
        "<a href=\"https://colab.research.google.com/github/deokwoo-han/abc/blob/master/10_20_6_yolov5_opencv_crop0.ipynb\" target=\"_parent\"><img src=\"https://colab.research.google.com/assets/colab-badge.svg\" alt=\"Open In Colab\"/></a>"
      ]
    },
    {
      "cell_type": "code",
      "metadata": {
        "id": "77944c0e-6b87-4f6e-9133-df64c52dc3af"
      },
      "source": [
        "import torch"
      ],
      "id": "77944c0e-6b87-4f6e-9133-df64c52dc3af",
      "execution_count": null,
      "outputs": []
    },
    {
      "cell_type": "code",
      "metadata": {
        "id": "c9a82cc9-9d60-48fb-8bfa-d50e4e261368"
      },
      "source": [
        "#conda install -c conda-forge ipywidgets 코사 프롬프트에서 설치"
      ],
      "id": "c9a82cc9-9d60-48fb-8bfa-d50e4e261368",
      "execution_count": null,
      "outputs": []
    },
    {
      "cell_type": "code",
      "metadata": {
        "id": "ff05ab10-78d2-48be-b237-c7159e1bdc41",
        "outputId": "e623b2be-16bd-4929-9eed-be7d49223866"
      },
      "source": [
        "# Model\n",
        "model = torch.hub.load('ultralytics/yolov5', 'yolov5s')"
      ],
      "id": "ff05ab10-78d2-48be-b237-c7159e1bdc41",
      "execution_count": null,
      "outputs": [
        {
          "name": "stderr",
          "output_type": "stream",
          "text": [
            "Using cache found in C:\\Users\\SAMSUNG/.cache\\torch\\hub\\ultralytics_yolov5_master\n",
            "YOLOv5  2021-10-20 torch 1.9.1 CPU\n",
            "\n",
            "Fusing layers... \n",
            "Model Summary: 213 layers, 7225885 parameters, 0 gradients\n",
            "Adding AutoShape... \n"
          ]
        }
      ]
    },
    {
      "cell_type": "code",
      "metadata": {
        "id": "5bc7d2ee-769e-4d8b-9375-ce6fcd14edac",
        "outputId": "6670588f-8b3c-4dba-d50e-1c7c3191bcf0"
      },
      "source": [
        "# Images\n",
        "img = '.\\\\zidane.jpg'  # or file, Path, PIL, OpenCV, numpy, list\n",
        "\n",
        "# Inference\n",
        "results = model(img)\n",
        "\n",
        "# Results\n",
        "results.pandas().xyxy[0]  # or .show(), .save(), .crop(), .pandas(), etc."
      ],
      "id": "5bc7d2ee-769e-4d8b-9375-ce6fcd14edac",
      "execution_count": null,
      "outputs": [
        {
          "data": {
            "text/html": [
              "<div>\n",
              "<style scoped>\n",
              "    .dataframe tbody tr th:only-of-type {\n",
              "        vertical-align: middle;\n",
              "    }\n",
              "\n",
              "    .dataframe tbody tr th {\n",
              "        vertical-align: top;\n",
              "    }\n",
              "\n",
              "    .dataframe thead th {\n",
              "        text-align: right;\n",
              "    }\n",
              "</style>\n",
              "<table border=\"1\" class=\"dataframe\">\n",
              "  <thead>\n",
              "    <tr style=\"text-align: right;\">\n",
              "      <th></th>\n",
              "      <th>xmin</th>\n",
              "      <th>ymin</th>\n",
              "      <th>xmax</th>\n",
              "      <th>ymax</th>\n",
              "      <th>confidence</th>\n",
              "      <th>class</th>\n",
              "      <th>name</th>\n",
              "    </tr>\n",
              "  </thead>\n",
              "  <tbody>\n",
              "    <tr>\n",
              "      <th>0</th>\n",
              "      <td>751.908325</td>\n",
              "      <td>45.572327</td>\n",
              "      <td>1148.552368</td>\n",
              "      <td>716.218018</td>\n",
              "      <td>0.875047</td>\n",
              "      <td>0</td>\n",
              "      <td>person</td>\n",
              "    </tr>\n",
              "    <tr>\n",
              "      <th>1</th>\n",
              "      <td>100.012695</td>\n",
              "      <td>201.289734</td>\n",
              "      <td>1002.052612</td>\n",
              "      <td>718.763000</td>\n",
              "      <td>0.579518</td>\n",
              "      <td>0</td>\n",
              "      <td>person</td>\n",
              "    </tr>\n",
              "    <tr>\n",
              "      <th>2</th>\n",
              "      <td>438.405090</td>\n",
              "      <td>421.902405</td>\n",
              "      <td>509.924805</td>\n",
              "      <td>720.000000</td>\n",
              "      <td>0.522343</td>\n",
              "      <td>27</td>\n",
              "      <td>tie</td>\n",
              "    </tr>\n",
              "  </tbody>\n",
              "</table>\n",
              "</div>"
            ],
            "text/plain": [
              "         xmin        ymin         xmax        ymax  confidence  class    name\n",
              "0  751.908325   45.572327  1148.552368  716.218018    0.875047      0  person\n",
              "1  100.012695  201.289734  1002.052612  718.763000    0.579518      0  person\n",
              "2  438.405090  421.902405   509.924805  720.000000    0.522343     27     tie"
            ]
          },
          "execution_count": 4,
          "metadata": {},
          "output_type": "execute_result"
        }
      ]
    },
    {
      "cell_type": "code",
      "metadata": {
        "id": "e1a73622-aea5-4260-b68e-f486f1a45ece"
      },
      "source": [
        ""
      ],
      "id": "e1a73622-aea5-4260-b68e-f486f1a45ece",
      "execution_count": null,
      "outputs": []
    },
    {
      "cell_type": "code",
      "metadata": {
        "id": "28e30f7d-231b-4484-ba09-aa0addc446ab"
      },
      "source": [
        "#zidane_img = img[201:718, 100:1002]"
      ],
      "id": "28e30f7d-231b-4484-ba09-aa0addc446ab",
      "execution_count": null,
      "outputs": []
    },
    {
      "cell_type": "code",
      "metadata": {
        "id": "300d9b33-73c5-4565-8385-ba2f97dc2539"
      },
      "source": [
        "win1 = results.pandas().xyxy[0]"
      ],
      "id": "300d9b33-73c5-4565-8385-ba2f97dc2539",
      "execution_count": null,
      "outputs": []
    },
    {
      "cell_type": "code",
      "metadata": {
        "id": "f9c8be14-e6aa-4958-ab7c-ff17eb1440df",
        "outputId": "816a4442-ae34-4b4e-8aff-939927cfc464"
      },
      "source": [
        "#type(win1)"
      ],
      "id": "f9c8be14-e6aa-4958-ab7c-ff17eb1440df",
      "execution_count": null,
      "outputs": [
        {
          "data": {
            "text/plain": [
              "pandas.core.frame.DataFrame"
            ]
          },
          "execution_count": 7,
          "metadata": {},
          "output_type": "execute_result"
        }
      ]
    },
    {
      "cell_type": "code",
      "metadata": {
        "id": "0449f4cf-3719-4ced-8e19-8bda623de00a"
      },
      "source": [
        "#pandas.core.frame.DataFrame"
      ],
      "id": "0449f4cf-3719-4ced-8e19-8bda623de00a",
      "execution_count": null,
      "outputs": []
    },
    {
      "cell_type": "code",
      "metadata": {
        "id": "dbc1ea55-8fcd-4702-820d-345d36ea8591"
      },
      "source": [
        "xmin = win1.iloc[2, 0]"
      ],
      "id": "dbc1ea55-8fcd-4702-820d-345d36ea8591",
      "execution_count": null,
      "outputs": []
    },
    {
      "cell_type": "code",
      "metadata": {
        "id": "cfc6fc85-2d0e-4c5f-9f9c-1c40ff09bc2a"
      },
      "source": [
        "#import numpy as np"
      ],
      "id": "cfc6fc85-2d0e-4c5f-9f9c-1c40ff09bc2a",
      "execution_count": null,
      "outputs": []
    },
    {
      "cell_type": "code",
      "metadata": {
        "id": "23cfb5b3-ccfb-43b5-91b4-c4169d8dd3c2"
      },
      "source": [
        "#img = []"
      ],
      "id": "23cfb5b3-ccfb-43b5-91b4-c4169d8dd3c2",
      "execution_count": null,
      "outputs": []
    },
    {
      "cell_type": "code",
      "metadata": {
        "id": "e8430f11-2e0d-4419-a82d-042e53fa0cd2"
      },
      "source": [
        "#tie_win = img[201:718, 100:1002]\n",
        "#[421:720,438:509] #폭을 먼저 줘야..."
      ],
      "id": "e8430f11-2e0d-4419-a82d-042e53fa0cd2",
      "execution_count": null,
      "outputs": []
    },
    {
      "cell_type": "code",
      "metadata": {
        "id": "c53cbc11-8c17-49b2-be6b-60cee41eb3d0",
        "outputId": "6c3d95a2-bc7c-40d6-8640-b7ab27c7c26e"
      },
      "source": [
        "#print(xmin)"
      ],
      "id": "c53cbc11-8c17-49b2-be6b-60cee41eb3d0",
      "execution_count": null,
      "outputs": [
        {
          "name": "stdout",
          "output_type": "stream",
          "text": [
            "438.40509033203125\n"
          ]
        }
      ]
    },
    {
      "cell_type": "code",
      "metadata": {
        "id": "9e8f5623-f850-42fe-824b-1086ce12b9b8"
      },
      "source": [
        "import cv2"
      ],
      "id": "9e8f5623-f850-42fe-824b-1086ce12b9b8",
      "execution_count": null,
      "outputs": []
    },
    {
      "cell_type": "code",
      "metadata": {
        "id": "0effa4e6-db6b-4a08-83a2-f07926c1140d"
      },
      "source": [
        "src = cv2.imread(img)"
      ],
      "id": "0effa4e6-db6b-4a08-83a2-f07926c1140d",
      "execution_count": null,
      "outputs": []
    },
    {
      "cell_type": "code",
      "metadata": {
        "id": "9d49f5fc-87ef-45a9-8e2a-11d4e7eadb4f"
      },
      "source": [
        "tie_win = src[201:718, 100:1002] #zidane [201:718, 100:1002]\n",
        "#[421:720,438:509] #폭을 먼저 줘야..."
      ],
      "id": "9d49f5fc-87ef-45a9-8e2a-11d4e7eadb4f",
      "execution_count": null,
      "outputs": []
    },
    {
      "cell_type": "code",
      "metadata": {
        "id": "65df6793-3c58-4284-8bd1-f38cde6968f3"
      },
      "source": [
        "#src = cv2.imread(img)"
      ],
      "id": "65df6793-3c58-4284-8bd1-f38cde6968f3",
      "execution_count": null,
      "outputs": []
    },
    {
      "cell_type": "code",
      "metadata": {
        "id": "4dbd3d08-af63-419a-8402-38430d21e785",
        "outputId": "25a1122e-ba84-4f55-9285-c33532a9ea15"
      },
      "source": [
        "tie_win.shape"
      ],
      "id": "4dbd3d08-af63-419a-8402-38430d21e785",
      "execution_count": null,
      "outputs": [
        {
          "data": {
            "text/plain": [
              "(517, 902, 3)"
            ]
          },
          "execution_count": 15,
          "metadata": {},
          "output_type": "execute_result"
        }
      ]
    },
    {
      "cell_type": "code",
      "metadata": {
        "id": "42fb5db8-2c46-44ec-9fbf-fbad27d0119e",
        "outputId": "55a639f4-e2a4-4406-d472-21c0bc95ff53"
      },
      "source": [
        "cv2.imshow('Image', tie_win)\n",
        "cv2.waitKey(10000)"
      ],
      "id": "42fb5db8-2c46-44ec-9fbf-fbad27d0119e",
      "execution_count": null,
      "outputs": [
        {
          "data": {
            "text/plain": [
              "-1"
            ]
          },
          "execution_count": 16,
          "metadata": {},
          "output_type": "execute_result"
        }
      ]
    },
    {
      "cell_type": "code",
      "metadata": {
        "id": "2729a4e7-0071-4a23-852b-8adce603651f"
      },
      "source": [
        "cv2.destroyAllWindows()"
      ],
      "id": "2729a4e7-0071-4a23-852b-8adce603651f",
      "execution_count": null,
      "outputs": []
    }
  ]
}
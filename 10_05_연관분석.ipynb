{
  "nbformat": 4,
  "nbformat_minor": 0,
  "metadata": {
    "colab": {
      "name": "10.05 연관분석.ipynb",
      "provenance": [],
      "collapsed_sections": [],
      "authorship_tag": "ABX9TyMkBfEbSz7a1IG+HkJJnyof",
      "include_colab_link": true
    },
    "kernelspec": {
      "name": "python3",
      "display_name": "Python 3"
    },
    "language_info": {
      "name": "python"
    }
  },
  "cells": [
    {
      "cell_type": "markdown",
      "metadata": {
        "id": "view-in-github",
        "colab_type": "text"
      },
      "source": [
        "<a href=\"https://colab.research.google.com/github/deokwoo-han/abc/blob/master/10_05_%EC%97%B0%EA%B4%80%EB%B6%84%EC%84%9D.ipynb\" target=\"_parent\"><img src=\"https://colab.research.google.com/assets/colab-badge.svg\" alt=\"Open In Colab\"/></a>"
      ]
    },
    {
      "cell_type": "code",
      "metadata": {
        "id": "dqlkq1WSvjxT"
      },
      "source": [
        "import numpy as np # linear algebra\n",
        "import pandas as pd # data processing, CSV file I/O (e.g. pd.read_csv)\n",
        "import matplotlib.pyplot as plt\n",
        "import seaborn as sns\n",
        "color = sns.color_palette()\n",
        "import sys\n",
        "from itertools import combinations, groupby\n",
        "from collections import Counter\n",
        "from IPython.display import display\n",
        " \n",
        "# 데이터 파일(객체)이 어느정도 사이즈(MB) 인지 확인 하는 함수.\n",
        "def size(obj):\n",
        "    return \"{0:.2f} MB\".format(sys.getsizeof(obj) / (1000 * 1000))\n",
        "\n",
        "%matplotlib inline\n",
        "%config InlineBackend.figure_config = 'retina'\n",
        "\n",
        "#pd.options.mode.chained_assignment = None  # default='warn'"
      ],
      "execution_count": null,
      "outputs": []
    },
    {
      "cell_type": "code",
      "metadata": {
        "colab": {
          "base_uri": "https://localhost:8080/"
        },
        "id": "dRSRKU0PvsuR",
        "outputId": "f07fdbb0-6f4c-462e-bffd-1f80cf22c26f"
      },
      "source": [
        "from google.colab import drive\n",
        "drive.mount('/content/drive')"
      ],
      "execution_count": null,
      "outputs": [
        {
          "output_type": "stream",
          "name": "stdout",
          "text": [
            "Drive already mounted at /content/drive; to attempt to forcibly remount, call drive.mount(\"/content/drive\", force_remount=True).\n"
          ]
        }
      ]
    },
    {
      "cell_type": "code",
      "metadata": {
        "colab": {
          "base_uri": "https://localhost:8080/"
        },
        "id": "Otri1bTFvsxM",
        "outputId": "42f49c66-707f-4c6d-fd5b-e985e9bdcb83"
      },
      "source": [
        "! pwd cd"
      ],
      "execution_count": null,
      "outputs": [
        {
          "output_type": "stream",
          "name": "stdout",
          "text": [
            "/content\n"
          ]
        }
      ]
    },
    {
      "cell_type": "code",
      "metadata": {
        "id": "0-7y0jD9vw6K"
      },
      "source": [
        "file_path = './drive/MyDrive/datas'\n",
        "order_products_train = pd.read_csv(file_path + \"/order_products__train.csv\")\n",
        "order_products_prior = pd.read_csv(file_path + \"/order_products__prior.csv\")\n",
        "order = pd.read_csv(file_path + \"/orders.csv\")\n",
        "products = pd.read_csv(file_path + \"/products.csv\")\n",
        "aisles = pd.read_csv(file_path + \"/aisles.csv\")\n",
        "departments = pd.read_csv(file_path + \"/departments.csv\")"
      ],
      "execution_count": null,
      "outputs": []
    },
    {
      "cell_type": "code",
      "metadata": {
        "colab": {
          "base_uri": "https://localhost:8080/",
          "height": 225
        },
        "id": "GOqBx8RUvw8V",
        "outputId": "cab9acaa-bf29-478c-ee24-bcbf5e91c5b3"
      },
      "source": [
        "print('order -- dimensions: {0};   size: {1}'.format(order.shape, size(order)))\n",
        "display(order.head())"
      ],
      "execution_count": null,
      "outputs": [
        {
          "output_type": "stream",
          "name": "stdout",
          "text": [
            "order -- dimensions: (3421083, 7);   size: 376.24 MB\n"
          ]
        },
        {
          "output_type": "display_data",
          "data": {
            "text/html": [
              "<div>\n",
              "<style scoped>\n",
              "    .dataframe tbody tr th:only-of-type {\n",
              "        vertical-align: middle;\n",
              "    }\n",
              "\n",
              "    .dataframe tbody tr th {\n",
              "        vertical-align: top;\n",
              "    }\n",
              "\n",
              "    .dataframe thead th {\n",
              "        text-align: right;\n",
              "    }\n",
              "</style>\n",
              "<table border=\"1\" class=\"dataframe\">\n",
              "  <thead>\n",
              "    <tr style=\"text-align: right;\">\n",
              "      <th></th>\n",
              "      <th>order_id</th>\n",
              "      <th>user_id</th>\n",
              "      <th>eval_set</th>\n",
              "      <th>order_number</th>\n",
              "      <th>order_dow</th>\n",
              "      <th>order_hour_of_day</th>\n",
              "      <th>days_since_prior_order</th>\n",
              "    </tr>\n",
              "  </thead>\n",
              "  <tbody>\n",
              "    <tr>\n",
              "      <th>0</th>\n",
              "      <td>2539329</td>\n",
              "      <td>1</td>\n",
              "      <td>prior</td>\n",
              "      <td>1</td>\n",
              "      <td>2</td>\n",
              "      <td>8</td>\n",
              "      <td>NaN</td>\n",
              "    </tr>\n",
              "    <tr>\n",
              "      <th>1</th>\n",
              "      <td>2398795</td>\n",
              "      <td>1</td>\n",
              "      <td>prior</td>\n",
              "      <td>2</td>\n",
              "      <td>3</td>\n",
              "      <td>7</td>\n",
              "      <td>15.0</td>\n",
              "    </tr>\n",
              "    <tr>\n",
              "      <th>2</th>\n",
              "      <td>473747</td>\n",
              "      <td>1</td>\n",
              "      <td>prior</td>\n",
              "      <td>3</td>\n",
              "      <td>3</td>\n",
              "      <td>12</td>\n",
              "      <td>21.0</td>\n",
              "    </tr>\n",
              "    <tr>\n",
              "      <th>3</th>\n",
              "      <td>2254736</td>\n",
              "      <td>1</td>\n",
              "      <td>prior</td>\n",
              "      <td>4</td>\n",
              "      <td>4</td>\n",
              "      <td>7</td>\n",
              "      <td>29.0</td>\n",
              "    </tr>\n",
              "    <tr>\n",
              "      <th>4</th>\n",
              "      <td>431534</td>\n",
              "      <td>1</td>\n",
              "      <td>prior</td>\n",
              "      <td>5</td>\n",
              "      <td>4</td>\n",
              "      <td>15</td>\n",
              "      <td>28.0</td>\n",
              "    </tr>\n",
              "  </tbody>\n",
              "</table>\n",
              "</div>"
            ],
            "text/plain": [
              "   order_id  user_id  ... order_hour_of_day  days_since_prior_order\n",
              "0   2539329        1  ...                 8                     NaN\n",
              "1   2398795        1  ...                 7                    15.0\n",
              "2    473747        1  ...                12                    21.0\n",
              "3   2254736        1  ...                 7                    29.0\n",
              "4    431534        1  ...                15                    28.0\n",
              "\n",
              "[5 rows x 7 columns]"
            ]
          },
          "metadata": {}
        }
      ]
    },
    {
      "cell_type": "code",
      "metadata": {
        "id": "L6NrUda45StP"
      },
      "source": [
        "#orders = orders.append(pd.Series(dtype = 'object'), ignore_index=True)"
      ],
      "execution_count": null,
      "outputs": []
    },
    {
      "cell_type": "code",
      "metadata": {
        "id": "nbc6TluaG5Qk"
      },
      "source": [
        "def mem_usage(order_products_prior):\n",
        "    if isinstance(order_products_prior,pd.DataFrame):\n",
        "        usage_b = order_products_prior.memory_usage(deep=True).sum()\n",
        "    else: # we assume if not a df it's a series\n",
        "        usage_b = order_products_prior.memory_usage(deep=True)\n",
        "    usage_mb = usage_b / 1024 ** 2 # convert bytes to megabytes\n",
        "    return \"{:03.2f} MB\".format(usage_mb)"
      ],
      "execution_count": null,
      "outputs": []
    },
    {
      "cell_type": "code",
      "metadata": {
        "colab": {
          "base_uri": "https://localhost:8080/",
          "height": 35
        },
        "id": "aOOrGqmnG_4T",
        "outputId": "285e91d9-32f1-43c9-d702-cd14a5786a30"
      },
      "source": [
        "mem_usage(order_products_prior)"
      ],
      "execution_count": null,
      "outputs": [
        {
          "output_type": "execute_result",
          "data": {
            "application/vnd.google.colaboratory.intrinsic+json": {
              "type": "string"
            },
            "text/plain": [
              "'989.82 MB'"
            ]
          },
          "metadata": {},
          "execution_count": 8
        }
      ]
    },
    {
      "cell_type": "code",
      "metadata": {
        "id": "HN8FErFAFY_m"
      },
      "source": [
        "def int_memory_reduce(order_products_prior) :\n",
        "    data_int = order_products_prior.select_dtypes(include=['int'])\n",
        "    converted_int = data_int.apply(pd.to_numeric,downcast='unsigned')\n",
        "    print(f\"Before : {mem_usage(data_int)} -> After : {mem_usage(converted_int)}\")\n",
        "    order_products_prior[converted_int.columns] = converted_int\n",
        "    return order_products_prior"
      ],
      "execution_count": null,
      "outputs": []
    },
    {
      "cell_type": "code",
      "metadata": {
        "colab": {
          "base_uri": "https://localhost:8080/",
          "height": 442
        },
        "id": "w3bvtgc8Fh-0",
        "outputId": "df0a71b0-efd4-41cf-a2d3-60b8330d3feb"
      },
      "source": [
        "int_memory_reduce(order_products_prior)"
      ],
      "execution_count": null,
      "outputs": [
        {
          "output_type": "stream",
          "name": "stdout",
          "text": [
            "Before : 989.82 MB -> After : 247.46 MB\n"
          ]
        },
        {
          "output_type": "execute_result",
          "data": {
            "text/html": [
              "<div>\n",
              "<style scoped>\n",
              "    .dataframe tbody tr th:only-of-type {\n",
              "        vertical-align: middle;\n",
              "    }\n",
              "\n",
              "    .dataframe tbody tr th {\n",
              "        vertical-align: top;\n",
              "    }\n",
              "\n",
              "    .dataframe thead th {\n",
              "        text-align: right;\n",
              "    }\n",
              "</style>\n",
              "<table border=\"1\" class=\"dataframe\">\n",
              "  <thead>\n",
              "    <tr style=\"text-align: right;\">\n",
              "      <th></th>\n",
              "      <th>order_id</th>\n",
              "      <th>product_id</th>\n",
              "      <th>add_to_cart_order</th>\n",
              "      <th>reordered</th>\n",
              "    </tr>\n",
              "  </thead>\n",
              "  <tbody>\n",
              "    <tr>\n",
              "      <th>0</th>\n",
              "      <td>2</td>\n",
              "      <td>33120</td>\n",
              "      <td>1</td>\n",
              "      <td>1</td>\n",
              "    </tr>\n",
              "    <tr>\n",
              "      <th>1</th>\n",
              "      <td>2</td>\n",
              "      <td>28985</td>\n",
              "      <td>2</td>\n",
              "      <td>1</td>\n",
              "    </tr>\n",
              "    <tr>\n",
              "      <th>2</th>\n",
              "      <td>2</td>\n",
              "      <td>9327</td>\n",
              "      <td>3</td>\n",
              "      <td>0</td>\n",
              "    </tr>\n",
              "    <tr>\n",
              "      <th>3</th>\n",
              "      <td>2</td>\n",
              "      <td>45918</td>\n",
              "      <td>4</td>\n",
              "      <td>1</td>\n",
              "    </tr>\n",
              "    <tr>\n",
              "      <th>4</th>\n",
              "      <td>2</td>\n",
              "      <td>30035</td>\n",
              "      <td>5</td>\n",
              "      <td>0</td>\n",
              "    </tr>\n",
              "    <tr>\n",
              "      <th>...</th>\n",
              "      <td>...</td>\n",
              "      <td>...</td>\n",
              "      <td>...</td>\n",
              "      <td>...</td>\n",
              "    </tr>\n",
              "    <tr>\n",
              "      <th>32434484</th>\n",
              "      <td>3421083</td>\n",
              "      <td>39678</td>\n",
              "      <td>6</td>\n",
              "      <td>1</td>\n",
              "    </tr>\n",
              "    <tr>\n",
              "      <th>32434485</th>\n",
              "      <td>3421083</td>\n",
              "      <td>11352</td>\n",
              "      <td>7</td>\n",
              "      <td>0</td>\n",
              "    </tr>\n",
              "    <tr>\n",
              "      <th>32434486</th>\n",
              "      <td>3421083</td>\n",
              "      <td>4600</td>\n",
              "      <td>8</td>\n",
              "      <td>0</td>\n",
              "    </tr>\n",
              "    <tr>\n",
              "      <th>32434487</th>\n",
              "      <td>3421083</td>\n",
              "      <td>24852</td>\n",
              "      <td>9</td>\n",
              "      <td>1</td>\n",
              "    </tr>\n",
              "    <tr>\n",
              "      <th>32434488</th>\n",
              "      <td>3421083</td>\n",
              "      <td>5020</td>\n",
              "      <td>10</td>\n",
              "      <td>1</td>\n",
              "    </tr>\n",
              "  </tbody>\n",
              "</table>\n",
              "<p>32434489 rows × 4 columns</p>\n",
              "</div>"
            ],
            "text/plain": [
              "          order_id  product_id  add_to_cart_order  reordered\n",
              "0                2       33120                  1          1\n",
              "1                2       28985                  2          1\n",
              "2                2        9327                  3          0\n",
              "3                2       45918                  4          1\n",
              "4                2       30035                  5          0\n",
              "...            ...         ...                ...        ...\n",
              "32434484   3421083       39678                  6          1\n",
              "32434485   3421083       11352                  7          0\n",
              "32434486   3421083        4600                  8          0\n",
              "32434487   3421083       24852                  9          1\n",
              "32434488   3421083        5020                 10          1\n",
              "\n",
              "[32434489 rows x 4 columns]"
            ]
          },
          "metadata": {},
          "execution_count": 10
        }
      ]
    },
    {
      "cell_type": "code",
      "metadata": {
        "id": "5vVakd4wwwn_"
      },
      "source": [
        "#order_products_prior = pd.merge(order_products_prior, products, on='product_id', how='left')\n",
        "#order_products_prior = pd.merge(order_products_prior, aisles, on='aisle_id', how='left')\n",
        "#order_products_prior = pd.merge(order_products_prior, departments, on='department_id', how='left')\n",
        "#order_products_prior.head()"
      ],
      "execution_count": null,
      "outputs": []
    },
    {
      "cell_type": "code",
      "metadata": {
        "id": "MFEuMLrtvw-L",
        "colab": {
          "base_uri": "https://localhost:8080/",
          "height": 225
        },
        "outputId": "6103b3c2-93e6-4c5b-bd35-ed529db2376a"
      },
      "source": [
        "print('order_products_prior -- dimensions: {0};   size: {1}'.format(order_products_prior.shape, size(order_products_prior)))\n",
        "display(order_products_prior.head())"
      ],
      "execution_count": null,
      "outputs": [
        {
          "output_type": "stream",
          "name": "stdout",
          "text": [
            "order_products_prior -- dimensions: (32434489, 4);   size: 259.48 MB\n"
          ]
        },
        {
          "output_type": "display_data",
          "data": {
            "text/html": [
              "<div>\n",
              "<style scoped>\n",
              "    .dataframe tbody tr th:only-of-type {\n",
              "        vertical-align: middle;\n",
              "    }\n",
              "\n",
              "    .dataframe tbody tr th {\n",
              "        vertical-align: top;\n",
              "    }\n",
              "\n",
              "    .dataframe thead th {\n",
              "        text-align: right;\n",
              "    }\n",
              "</style>\n",
              "<table border=\"1\" class=\"dataframe\">\n",
              "  <thead>\n",
              "    <tr style=\"text-align: right;\">\n",
              "      <th></th>\n",
              "      <th>order_id</th>\n",
              "      <th>product_id</th>\n",
              "      <th>add_to_cart_order</th>\n",
              "      <th>reordered</th>\n",
              "    </tr>\n",
              "  </thead>\n",
              "  <tbody>\n",
              "    <tr>\n",
              "      <th>0</th>\n",
              "      <td>2</td>\n",
              "      <td>33120</td>\n",
              "      <td>1</td>\n",
              "      <td>1</td>\n",
              "    </tr>\n",
              "    <tr>\n",
              "      <th>1</th>\n",
              "      <td>2</td>\n",
              "      <td>28985</td>\n",
              "      <td>2</td>\n",
              "      <td>1</td>\n",
              "    </tr>\n",
              "    <tr>\n",
              "      <th>2</th>\n",
              "      <td>2</td>\n",
              "      <td>9327</td>\n",
              "      <td>3</td>\n",
              "      <td>0</td>\n",
              "    </tr>\n",
              "    <tr>\n",
              "      <th>3</th>\n",
              "      <td>2</td>\n",
              "      <td>45918</td>\n",
              "      <td>4</td>\n",
              "      <td>1</td>\n",
              "    </tr>\n",
              "    <tr>\n",
              "      <th>4</th>\n",
              "      <td>2</td>\n",
              "      <td>30035</td>\n",
              "      <td>5</td>\n",
              "      <td>0</td>\n",
              "    </tr>\n",
              "  </tbody>\n",
              "</table>\n",
              "</div>"
            ],
            "text/plain": [
              "   order_id  product_id  add_to_cart_order  reordered\n",
              "0         2       33120                  1          1\n",
              "1         2       28985                  2          1\n",
              "2         2        9327                  3          0\n",
              "3         2       45918                  4          1\n",
              "4         2       30035                  5          0"
            ]
          },
          "metadata": {}
        }
      ]
    },
    {
      "cell_type": "code",
      "metadata": {
        "colab": {
          "base_uri": "https://localhost:8080/"
        },
        "id": "HYyiu6cjvxAB",
        "outputId": "4dad346b-a142-4065-842b-d63bf536c240"
      },
      "source": [
        "orders = order_products_prior.set_index('order_id')['product_id'].rename('item_id')\n",
        "print('dimensions: {0};   size: {1};   unique_orders: {2};   unique_items: {3}'\n",
        "      .format(orders.shape, size(orders), len(orders.index.unique()), len(orders.value_counts())))"
      ],
      "execution_count": null,
      "outputs": [
        {
          "output_type": "stream",
          "name": "stdout",
          "text": [
            "dimensions: (32434489,);   size: 324.34 MB;   unique_orders: 3214874;   unique_items: 49677\n"
          ]
        }
      ]
    },
    {
      "cell_type": "code",
      "metadata": {
        "colab": {
          "base_uri": "https://localhost:8080/",
          "height": 424
        },
        "id": "j_5yDorOvxBj",
        "outputId": "3931f17a-e5e9-4567-e2b7-852dfae1ee42"
      },
      "source": [
        "order_products_prior"
      ],
      "execution_count": null,
      "outputs": [
        {
          "output_type": "execute_result",
          "data": {
            "text/html": [
              "<div>\n",
              "<style scoped>\n",
              "    .dataframe tbody tr th:only-of-type {\n",
              "        vertical-align: middle;\n",
              "    }\n",
              "\n",
              "    .dataframe tbody tr th {\n",
              "        vertical-align: top;\n",
              "    }\n",
              "\n",
              "    .dataframe thead th {\n",
              "        text-align: right;\n",
              "    }\n",
              "</style>\n",
              "<table border=\"1\" class=\"dataframe\">\n",
              "  <thead>\n",
              "    <tr style=\"text-align: right;\">\n",
              "      <th></th>\n",
              "      <th>order_id</th>\n",
              "      <th>product_id</th>\n",
              "      <th>add_to_cart_order</th>\n",
              "      <th>reordered</th>\n",
              "    </tr>\n",
              "  </thead>\n",
              "  <tbody>\n",
              "    <tr>\n",
              "      <th>0</th>\n",
              "      <td>2</td>\n",
              "      <td>33120</td>\n",
              "      <td>1</td>\n",
              "      <td>1</td>\n",
              "    </tr>\n",
              "    <tr>\n",
              "      <th>1</th>\n",
              "      <td>2</td>\n",
              "      <td>28985</td>\n",
              "      <td>2</td>\n",
              "      <td>1</td>\n",
              "    </tr>\n",
              "    <tr>\n",
              "      <th>2</th>\n",
              "      <td>2</td>\n",
              "      <td>9327</td>\n",
              "      <td>3</td>\n",
              "      <td>0</td>\n",
              "    </tr>\n",
              "    <tr>\n",
              "      <th>3</th>\n",
              "      <td>2</td>\n",
              "      <td>45918</td>\n",
              "      <td>4</td>\n",
              "      <td>1</td>\n",
              "    </tr>\n",
              "    <tr>\n",
              "      <th>4</th>\n",
              "      <td>2</td>\n",
              "      <td>30035</td>\n",
              "      <td>5</td>\n",
              "      <td>0</td>\n",
              "    </tr>\n",
              "    <tr>\n",
              "      <th>...</th>\n",
              "      <td>...</td>\n",
              "      <td>...</td>\n",
              "      <td>...</td>\n",
              "      <td>...</td>\n",
              "    </tr>\n",
              "    <tr>\n",
              "      <th>32434484</th>\n",
              "      <td>3421083</td>\n",
              "      <td>39678</td>\n",
              "      <td>6</td>\n",
              "      <td>1</td>\n",
              "    </tr>\n",
              "    <tr>\n",
              "      <th>32434485</th>\n",
              "      <td>3421083</td>\n",
              "      <td>11352</td>\n",
              "      <td>7</td>\n",
              "      <td>0</td>\n",
              "    </tr>\n",
              "    <tr>\n",
              "      <th>32434486</th>\n",
              "      <td>3421083</td>\n",
              "      <td>4600</td>\n",
              "      <td>8</td>\n",
              "      <td>0</td>\n",
              "    </tr>\n",
              "    <tr>\n",
              "      <th>32434487</th>\n",
              "      <td>3421083</td>\n",
              "      <td>24852</td>\n",
              "      <td>9</td>\n",
              "      <td>1</td>\n",
              "    </tr>\n",
              "    <tr>\n",
              "      <th>32434488</th>\n",
              "      <td>3421083</td>\n",
              "      <td>5020</td>\n",
              "      <td>10</td>\n",
              "      <td>1</td>\n",
              "    </tr>\n",
              "  </tbody>\n",
              "</table>\n",
              "<p>32434489 rows × 4 columns</p>\n",
              "</div>"
            ],
            "text/plain": [
              "          order_id  product_id  add_to_cart_order  reordered\n",
              "0                2       33120                  1          1\n",
              "1                2       28985                  2          1\n",
              "2                2        9327                  3          0\n",
              "3                2       45918                  4          1\n",
              "4                2       30035                  5          0\n",
              "...            ...         ...                ...        ...\n",
              "32434484   3421083       39678                  6          1\n",
              "32434485   3421083       11352                  7          0\n",
              "32434486   3421083        4600                  8          0\n",
              "32434487   3421083       24852                  9          1\n",
              "32434488   3421083        5020                 10          1\n",
              "\n",
              "[32434489 rows x 4 columns]"
            ]
          },
          "metadata": {},
          "execution_count": 14
        }
      ]
    },
    {
      "cell_type": "code",
      "metadata": {
        "colab": {
          "base_uri": "https://localhost:8080/"
        },
        "id": "PdMtDeqNvxDc",
        "outputId": "7122c56d-005e-4a68-b367-5335666f88e9"
      },
      "source": [
        "orders"
      ],
      "execution_count": null,
      "outputs": [
        {
          "output_type": "execute_result",
          "data": {
            "text/plain": [
              "order_id\n",
              "2          33120\n",
              "2          28985\n",
              "2           9327\n",
              "2          45918\n",
              "2          30035\n",
              "           ...  \n",
              "3421083    39678\n",
              "3421083    11352\n",
              "3421083     4600\n",
              "3421083    24852\n",
              "3421083     5020\n",
              "Name: item_id, Length: 32434489, dtype: uint16"
            ]
          },
          "metadata": {},
          "execution_count": 15
        }
      ]
    },
    {
      "cell_type": "code",
      "metadata": {
        "colab": {
          "base_uri": "https://localhost:8080/"
        },
        "id": "jzW8NohyBoqR",
        "outputId": "c51d5b8c-7945-4253-a453-2dd741d4c660"
      },
      "source": [
        "orders.shape"
      ],
      "execution_count": null,
      "outputs": [
        {
          "output_type": "execute_result",
          "data": {
            "text/plain": [
              "(32434489,)"
            ]
          },
          "metadata": {},
          "execution_count": 16
        }
      ]
    },
    {
      "cell_type": "code",
      "metadata": {
        "id": "Ao2aCv6Oyxi9",
        "colab": {
          "base_uri": "https://localhost:8080/"
        },
        "outputId": "3ba6b0e8-a02d-4580-caea-6a65e3160018"
      },
      "source": [
        "orders.dtypes"
      ],
      "execution_count": null,
      "outputs": [
        {
          "output_type": "execute_result",
          "data": {
            "text/plain": [
              "dtype('uint16')"
            ]
          },
          "metadata": {},
          "execution_count": 17
        }
      ]
    },
    {
      "cell_type": "code",
      "metadata": {
        "id": "VapeU473B1aa"
      },
      "source": [
        "#orders.astype('object')"
      ],
      "execution_count": null,
      "outputs": []
    },
    {
      "cell_type": "code",
      "metadata": {
        "id": "bqsK0S2u3thf"
      },
      "source": [
        "# 단일 품목이나 품목 집합에 대한 빈도수를 반환한다.\n",
        "def freq(iterable):\n",
        "    if type(iterable) == pd.core.series.Series:\n",
        "        return iterable.value_counts().rename(\"freq\")\n",
        "    else: \n",
        "        return pd.Series(Counter(iterable)).rename(\"freq\")\n",
        "     \n",
        "# 고유한 주문번호 갯수를 반환한다.\n",
        "def order_count(order_item):\n",
        "    return len(set(order_item.index))\n",
        " \n",
        "# 한번에 한 품목 집합을 생성하는 generator를 반환한다.\n",
        "def get_item_pairs(order_item):\n",
        "    order_item = order_item.reset_index().values\n",
        "    for order_id, order_object in groupby(order_item, lambda x: x[0]):\n",
        "        item_list = [item[1] for item in order_object]\n",
        "               \n",
        "        for item_pair in combinations(item_list, 2):\n",
        "            yield item_pair            \n",
        " \n",
        "# 품목에 대한 빈도수와 지지도를 반환한다.\n",
        "def merge_item_stats(item_pairs, item_stats):\n",
        "    return (item_pairs\n",
        "                .merge(item_stats.rename(columns={'freq': 'freqA', 'support': 'supportA'}), left_on='item_A', right_index=True)\n",
        "                .merge(item_stats.rename(columns={'freq': 'freqB', 'support': 'supportB'}), left_on='item_B', right_index=True))\n",
        " \n",
        "# 품목 이름을 반환한다.\n",
        "def merge_item_name(rules, item_name):\n",
        "    columns = ['itemA','itemB','freqAB','supportAB','freqA','supportA','freqB','supportB', \n",
        "               'confidenceAtoB','confidenceBtoA','lift']\n",
        "    rules = (rules\n",
        "                .merge(item_name.rename(columns={'item_name': 'itemA'}), left_on='item_A', right_on='item_id')\n",
        "                .merge(item_name.rename(columns={'item_name': 'itemB'}), left_on='item_B', right_on='item_id'))   \n",
        "    return rules[columns]"
      ],
      "execution_count": null,
      "outputs": []
    },
    {
      "cell_type": "code",
      "metadata": {
        "id": "99xWhGl53sTD"
      },
      "source": [
        "# 미리 준비한 주문 정보(주문번호를 인덱스로 하고 상품번호를 Value로하는 Series)와 최소 지지도를 입력받아 연관 규칙을 반환한다.\n",
        "def association_rules(order_item, min_support):\n",
        " \n",
        "    print(\"Starting order_item: {:22d}\".format(len(order_item)))\n",
        " \n",
        "    # 빈도수와 지지도를 계산한다.\n",
        "    item_stats             = freq(order_item).to_frame(\"freq\")\n",
        "    item_stats['support']  = item_stats['freq'] / order_count(order_item) * 100\n",
        " \n",
        "    # 최소 지지도를 만족하지 못하는 품목은 제외한다. \n",
        "    qualifying_items       = item_stats[item_stats['support'] >= min_support].index\n",
        "    order_item             = order_item[order_item.isin(qualifying_items)]\n",
        " \n",
        "    print(\"Items with support >= {}: {:15d}\".format(min_support, len(qualifying_items)))\n",
        "    print(\"Remaining order_item: {:21d}\".format(len(order_item)))\n",
        " \n",
        "    # 2개 미만의 주문 정보는 제외한다.\n",
        "    order_size             = freq(order_item.index)\n",
        "    qualifying_orders      = order_size[order_size >= 2].index\n",
        "    order_item             = order_item[order_item.index.isin(qualifying_orders)]\n",
        " \n",
        "    print(\"Remaining orders with 2+ items: {:11d}\".format(len(qualifying_orders)))\n",
        "    print(\"Remaining order_item: {:21d}\".format(len(order_item)))\n",
        " \n",
        "    # 빈도수와 지지도를 다시 계산한다.\n",
        "    item_stats             = freq(order_item).to_frame(\"freq\")\n",
        "    item_stats['support']  = item_stats['freq'] / order_count(order_item) * 100\n",
        " \n",
        "    # 품목 집합에 대한 generator를 생성한다.\n",
        "    item_pair_gen          = get_item_pairs(order_item)\n",
        " \n",
        "    # 품목 집합의 빈도수와 지지도를 계산한다. \n",
        "    item_pairs              = freq(item_pair_gen).to_frame(\"freqAB\")\n",
        "    item_pairs['supportAB'] = item_pairs['freqAB'] / len(qualifying_orders) * 100\n",
        " \n",
        "    print(\"Item pairs: {:31d}\".format(len(item_pairs)))\n",
        " \n",
        "    # 최소 지지도를 만족하지 못하는 품목 집합을 제외한다.\n",
        "    item_pairs              = item_pairs[item_pairs['supportAB'] >= min_support]\n",
        " \n",
        "    print(\"Item pairs with support >= {}: {:10d}\\n\".format(min_support, len(item_pairs)))\n",
        " \n",
        "    # 계산된 연관 규칙을 계산된 지표들과 함께 테이블로 만든다.\n",
        "    item_pairs = item_pairs.reset_index().rename(columns={'level_0': 'item_A', 'level_1': 'item_B'})\n",
        "    item_pairs = merge_item_stats(item_pairs, item_stats)\n",
        "     \n",
        "    item_pairs['confidenceAtoB'] = item_pairs['supportAB'] / item_pairs['supportA']\n",
        "    item_pairs['confidenceBtoA'] = item_pairs['supportAB'] / item_pairs['supportB']\n",
        "    item_pairs['lift']           = item_pairs['supportAB'] / (item_pairs['supportA'] * item_pairs['supportB'])\n",
        "     \n",
        "    # 향상도를 내림차순으로 정렬하여 연관 규칙 결과를 반환한다.\n",
        "    return item_pairs.sort_values('lift', ascending=False)"
      ],
      "execution_count": null,
      "outputs": []
    },
    {
      "cell_type": "code",
      "metadata": {
        "colab": {
          "base_uri": "https://localhost:8080/"
        },
        "id": "djCf4BuGzDP8",
        "outputId": "b7d6b7cf-217b-46ad-b948-d17ac56e30ef"
      },
      "source": [
        "%%time\n",
        "rules = association_rules(orders, 0.01)"
      ],
      "execution_count": null,
      "outputs": [
        {
          "output_type": "stream",
          "name": "stdout",
          "text": [
            "Starting order_item:               32434489\n",
            "Items with support >= 0.01:           10906\n",
            "Remaining order_item:              29843570\n",
            "Remaining orders with 2+ items:     3013325\n",
            "Remaining order_item:              29662716\n",
            "Item pairs:                        30622410\n",
            "Item pairs with support >= 0.01:      48751\n",
            "\n",
            "CPU times: user 6min 6s, sys: 9.27 s, total: 6min 15s\n",
            "Wall time: 6min 14s\n"
          ]
        }
      ]
    },
    {
      "cell_type": "code",
      "metadata": {
        "id": "srsqp_EZzDTR",
        "colab": {
          "base_uri": "https://localhost:8080/"
        },
        "outputId": "64be6c55-2e62-4f55-80e1-46a132dbbbeb"
      },
      "source": [
        "item_name   = pd.read_csv(file_path + \"/products.csv\")\n",
        "item_name   = item_name.rename(columns={'product_id':'item_id', 'product_name':'item_name'})\n",
        "rules_final = merge_item_name(rules, item_name).sort_values('lift', ascending=False)\n",
        "display(rules_final)"
      ],
      "execution_count": null,
      "outputs": [
        {
          "output_type": "display_data",
          "data": {
            "text/html": [
              "<div>\n",
              "<style scoped>\n",
              "    .dataframe tbody tr th:only-of-type {\n",
              "        vertical-align: middle;\n",
              "    }\n",
              "\n",
              "    .dataframe tbody tr th {\n",
              "        vertical-align: top;\n",
              "    }\n",
              "\n",
              "    .dataframe thead th {\n",
              "        text-align: right;\n",
              "    }\n",
              "</style>\n",
              "<table border=\"1\" class=\"dataframe\">\n",
              "  <thead>\n",
              "    <tr style=\"text-align: right;\">\n",
              "      <th></th>\n",
              "      <th>itemA</th>\n",
              "      <th>itemB</th>\n",
              "      <th>freqAB</th>\n",
              "      <th>supportAB</th>\n",
              "      <th>freqA</th>\n",
              "      <th>supportA</th>\n",
              "      <th>freqB</th>\n",
              "      <th>supportB</th>\n",
              "      <th>confidenceAtoB</th>\n",
              "      <th>confidenceBtoA</th>\n",
              "      <th>lift</th>\n",
              "    </tr>\n",
              "  </thead>\n",
              "  <tbody>\n",
              "    <tr>\n",
              "      <th>0</th>\n",
              "      <td>Organic Strawberry Chia Lowfat 2% Cottage Cheese</td>\n",
              "      <td>Organic Cottage Cheese Blueberry Acai Chia</td>\n",
              "      <td>306</td>\n",
              "      <td>0.010155</td>\n",
              "      <td>1163</td>\n",
              "      <td>0.038595</td>\n",
              "      <td>839</td>\n",
              "      <td>0.027843</td>\n",
              "      <td>0.263113</td>\n",
              "      <td>0.364720</td>\n",
              "      <td>9.449868</td>\n",
              "    </tr>\n",
              "    <tr>\n",
              "      <th>1</th>\n",
              "      <td>Grain Free Chicken Formula Cat Food</td>\n",
              "      <td>Grain Free Turkey Formula Cat Food</td>\n",
              "      <td>318</td>\n",
              "      <td>0.010553</td>\n",
              "      <td>1809</td>\n",
              "      <td>0.060033</td>\n",
              "      <td>879</td>\n",
              "      <td>0.029170</td>\n",
              "      <td>0.175788</td>\n",
              "      <td>0.361775</td>\n",
              "      <td>6.026229</td>\n",
              "    </tr>\n",
              "    <tr>\n",
              "      <th>3</th>\n",
              "      <td>Organic Fruit Yogurt Smoothie Mixed Berry</td>\n",
              "      <td>Apple Blueberry Fruit Yogurt Smoothie</td>\n",
              "      <td>349</td>\n",
              "      <td>0.011582</td>\n",
              "      <td>1518</td>\n",
              "      <td>0.050376</td>\n",
              "      <td>1249</td>\n",
              "      <td>0.041449</td>\n",
              "      <td>0.229908</td>\n",
              "      <td>0.279424</td>\n",
              "      <td>5.546732</td>\n",
              "    </tr>\n",
              "    <tr>\n",
              "      <th>9</th>\n",
              "      <td>Nonfat Strawberry With Fruit On The Bottom Gre...</td>\n",
              "      <td>0% Greek, Blueberry on the Bottom Yogurt</td>\n",
              "      <td>409</td>\n",
              "      <td>0.013573</td>\n",
              "      <td>1666</td>\n",
              "      <td>0.055288</td>\n",
              "      <td>1391</td>\n",
              "      <td>0.046162</td>\n",
              "      <td>0.245498</td>\n",
              "      <td>0.294033</td>\n",
              "      <td>5.318230</td>\n",
              "    </tr>\n",
              "    <tr>\n",
              "      <th>10</th>\n",
              "      <td>Organic Grapefruit Ginger Sparkling Yerba Mate</td>\n",
              "      <td>Cranberry Pomegranate Sparkling Yerba Mate</td>\n",
              "      <td>351</td>\n",
              "      <td>0.011648</td>\n",
              "      <td>1731</td>\n",
              "      <td>0.057445</td>\n",
              "      <td>1149</td>\n",
              "      <td>0.038131</td>\n",
              "      <td>0.202773</td>\n",
              "      <td>0.305483</td>\n",
              "      <td>5.317849</td>\n",
              "    </tr>\n",
              "    <tr>\n",
              "      <th>...</th>\n",
              "      <td>...</td>\n",
              "      <td>...</td>\n",
              "      <td>...</td>\n",
              "      <td>...</td>\n",
              "      <td>...</td>\n",
              "      <td>...</td>\n",
              "      <td>...</td>\n",
              "      <td>...</td>\n",
              "      <td>...</td>\n",
              "      <td>...</td>\n",
              "      <td>...</td>\n",
              "    </tr>\n",
              "    <tr>\n",
              "      <th>7271</th>\n",
              "      <td>Organic Strawberries</td>\n",
              "      <td>Strawberries</td>\n",
              "      <td>640</td>\n",
              "      <td>0.021239</td>\n",
              "      <td>263416</td>\n",
              "      <td>8.741706</td>\n",
              "      <td>141805</td>\n",
              "      <td>4.705931</td>\n",
              "      <td>0.002430</td>\n",
              "      <td>0.004513</td>\n",
              "      <td>0.000516</td>\n",
              "    </tr>\n",
              "    <tr>\n",
              "      <th>6763</th>\n",
              "      <td>Organic Hass Avocado</td>\n",
              "      <td>Organic Avocado</td>\n",
              "      <td>464</td>\n",
              "      <td>0.015398</td>\n",
              "      <td>212785</td>\n",
              "      <td>7.061469</td>\n",
              "      <td>176241</td>\n",
              "      <td>5.848722</td>\n",
              "      <td>0.002181</td>\n",
              "      <td>0.002633</td>\n",
              "      <td>0.000373</td>\n",
              "    </tr>\n",
              "    <tr>\n",
              "      <th>4387</th>\n",
              "      <td>Organic Avocado</td>\n",
              "      <td>Organic Hass Avocado</td>\n",
              "      <td>443</td>\n",
              "      <td>0.014701</td>\n",
              "      <td>176241</td>\n",
              "      <td>5.848722</td>\n",
              "      <td>212785</td>\n",
              "      <td>7.061469</td>\n",
              "      <td>0.002514</td>\n",
              "      <td>0.002082</td>\n",
              "      <td>0.000356</td>\n",
              "    </tr>\n",
              "    <tr>\n",
              "      <th>2596</th>\n",
              "      <td>Banana</td>\n",
              "      <td>Bag of Organic Bananas</td>\n",
              "      <td>654</td>\n",
              "      <td>0.021704</td>\n",
              "      <td>470096</td>\n",
              "      <td>15.600574</td>\n",
              "      <td>376367</td>\n",
              "      <td>12.490090</td>\n",
              "      <td>0.001391</td>\n",
              "      <td>0.001738</td>\n",
              "      <td>0.000111</td>\n",
              "    </tr>\n",
              "    <tr>\n",
              "      <th>670</th>\n",
              "      <td>Bag of Organic Bananas</td>\n",
              "      <td>Banana</td>\n",
              "      <td>522</td>\n",
              "      <td>0.017323</td>\n",
              "      <td>376367</td>\n",
              "      <td>12.490090</td>\n",
              "      <td>470096</td>\n",
              "      <td>15.600574</td>\n",
              "      <td>0.001387</td>\n",
              "      <td>0.001110</td>\n",
              "      <td>0.000089</td>\n",
              "    </tr>\n",
              "  </tbody>\n",
              "</table>\n",
              "<p>48751 rows × 11 columns</p>\n",
              "</div>"
            ],
            "text/plain": [
              "                                                  itemA  ...      lift\n",
              "0      Organic Strawberry Chia Lowfat 2% Cottage Cheese  ...  9.449868\n",
              "1                   Grain Free Chicken Formula Cat Food  ...  6.026229\n",
              "3             Organic Fruit Yogurt Smoothie Mixed Berry  ...  5.546732\n",
              "9     Nonfat Strawberry With Fruit On The Bottom Gre...  ...  5.318230\n",
              "10       Organic Grapefruit Ginger Sparkling Yerba Mate  ...  5.317849\n",
              "...                                                 ...  ...       ...\n",
              "7271                               Organic Strawberries  ...  0.000516\n",
              "6763                               Organic Hass Avocado  ...  0.000373\n",
              "4387                                    Organic Avocado  ...  0.000356\n",
              "2596                                             Banana  ...  0.000111\n",
              "670                              Bag of Organic Bananas  ...  0.000089\n",
              "\n",
              "[48751 rows x 11 columns]"
            ]
          },
          "metadata": {}
        }
      ]
    }
  ]
}
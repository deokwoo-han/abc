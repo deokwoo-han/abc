{
  "nbformat": 4,
  "nbformat_minor": 0,
  "metadata": {
    "kernelspec": {
      "display_name": "Python 3",
      "language": "python",
      "name": "python3"
    },
    "language_info": {
      "codemirror_mode": {
        "name": "ipython",
        "version": 3
      },
      "file_extension": ".py",
      "mimetype": "text/x-python",
      "name": "python",
      "nbconvert_exporter": "python",
      "pygments_lexer": "ipython3",
      "version": "3.8.8"
    },
    "toc": {
      "base_numbering": 1,
      "nav_menu": {},
      "number_sections": true,
      "sideBar": true,
      "skip_h1_title": false,
      "title_cell": "Table of Contents",
      "title_sidebar": "Contents",
      "toc_cell": false,
      "toc_position": {},
      "toc_section_display": true,
      "toc_window_display": false
    },
    "varInspector": {
      "cols": {
        "lenName": 16,
        "lenType": 16,
        "lenVar": 40
      },
      "kernels_config": {
        "python": {
          "delete_cmd_postfix": "",
          "delete_cmd_prefix": "del ",
          "library": "var_list.py",
          "varRefreshCmd": "print(var_dic_list())"
        },
        "r": {
          "delete_cmd_postfix": ") ",
          "delete_cmd_prefix": "rm(",
          "library": "var_list.r",
          "varRefreshCmd": "cat(var_dic_list()) "
        }
      },
      "types_to_exclude": [
        "module",
        "function",
        "builtin_function_or_method",
        "instance",
        "_Feature"
      ],
      "window_display": false
    },
    "colab": {
      "name": "10.15-4 Chrome_Image_scraper.ipynb",
      "provenance": [],
      "collapsed_sections": [],
      "include_colab_link": true
    }
  },
  "cells": [
    {
      "cell_type": "markdown",
      "metadata": {
        "id": "view-in-github",
        "colab_type": "text"
      },
      "source": [
        "<a href=\"https://colab.research.google.com/github/deokwoo-han/abc/blob/master/10_15_4_Chrome_Image_scraper.ipynb\" target=\"_parent\"><img src=\"https://colab.research.google.com/assets/colab-badge.svg\" alt=\"Open In Colab\"/></a>"
      ]
    },
    {
      "cell_type": "markdown",
      "metadata": {
        "id": "YIbABlocI3ml"
      },
      "source": [
        "# Web Scraper to make Image datasets\n",
        "\n",
        "This is a small script to scrape images from google searching for a particular term, and have images of each term in a separate folder. This is extremely useful if you want to do deep learning with images, and need images from google to make a dataset.\n",
        "\n",
        "Idea and starter Credits : https://towardsdatascience.com/image-scraping-with-python-a96feda8af2d\n",
        "\n"
      ]
    },
    {
      "cell_type": "markdown",
      "metadata": {
        "id": "KX-d6bDZI3ms"
      },
      "source": [
        "## Things to do before this script works\n",
        "1. Install selenium (with conda you can use \"pip install selenium\") \n",
        "2. Download google chrome, if downloaded find chrome version. \n",
        "3. from https://chromedriver.chromium.org/downloads, download the correct chromedriver version. (you can use other browsers too, but have to improvise)\n",
        "\n"
      ]
    },
    {
      "cell_type": "markdown",
      "metadata": {
        "id": "TZcUgwkiI3mt"
      },
      "source": [
        "### Variables to adjust\n",
        "\n",
        "1. set DRIVER_PATH to the path of chromedriver\n",
        "2. set search_term to an array of strings for which you want images\n",
        "3. set number_images to the number of images you want for each class\n",
        "4. set target_path to the path where you want images dataset created."
      ]
    },
    {
      "cell_type": "code",
      "metadata": {
        "ExecuteTime": {
          "end_time": "2021-10-15T05:32:34.096056Z",
          "start_time": "2021-10-15T05:32:34.075107Z"
        },
        "id": "k7sEcjENI3mt"
      },
      "source": [
        "DRIVER_PATH = \".\\webdriver\\chromedriver.exe\"\n",
        "search_term = [\"lizard\"]\n",
        "number_images = 30\n",
        "target_path = './images'"
      ],
      "execution_count": null,
      "outputs": []
    },
    {
      "cell_type": "code",
      "metadata": {
        "ExecuteTime": {
          "end_time": "2021-10-15T05:32:34.481049Z",
          "start_time": "2021-10-15T05:32:34.100041Z"
        },
        "id": "j_k5-Bb1I3mv"
      },
      "source": [
        "from selenium import webdriver"
      ],
      "execution_count": null,
      "outputs": []
    },
    {
      "cell_type": "code",
      "metadata": {
        "ExecuteTime": {
          "end_time": "2021-10-15T05:32:34.512961Z",
          "start_time": "2021-10-15T05:32:34.488028Z"
        },
        "id": "ImIXc9UGI3mv"
      },
      "source": [
        "def fetch_image_urls(query:str, max_links_to_fetch:int, wd:webdriver, sleep_between_interactions:int=1):\n",
        "    def scroll_to_end(wd):\n",
        "        wd.execute_script(\"window.scrollTo(0, document.body.scrollHeight);\")\n",
        "        time.sleep(sleep_between_interactions)    \n",
        "    \n",
        "    # build the google query\n",
        "    search_url = \"https://www.google.com/search?safe=off&site=&tbm=isch&source=hp&q={q}&oq={q}&gs_l=img\"\n",
        "\n",
        "    # load the page\n",
        "    wd.get(search_url.format(q=query))\n",
        "\n",
        "    image_urls = set()\n",
        "    image_count = 0\n",
        "    results_start = 0\n",
        "    while image_count < max_links_to_fetch:\n",
        "        scroll_to_end(wd)\n",
        "\n",
        "        # get all image thumbnail results\n",
        "        thumbnail_results = wd.find_elements_by_css_selector(\"img.Q4LuWd\")\n",
        "        number_results = len(thumbnail_results)\n",
        "        \n",
        "        print(f\"Found: {number_results} search results. Extracting links from {results_start}:{number_results}\")\n",
        "        \n",
        "        for img in thumbnail_results[results_start:number_results]:\n",
        "            # try to click every thumbnail such that we can get the real image behind it\n",
        "            try:\n",
        "                img.click()\n",
        "                time.sleep(sleep_between_interactions)\n",
        "            except Exception:\n",
        "                continue\n",
        "\n",
        "            # extract image urls    \n",
        "            actual_images = wd.find_elements_by_css_selector('img.n3VNCb')\n",
        "            for actual_image in actual_images:\n",
        "                if actual_image.get_attribute('src') and 'http' in actual_image.get_attribute('src'):\n",
        "                    image_urls.add(actual_image.get_attribute('src'))\n",
        "\n",
        "            image_count = len(image_urls)\n",
        "\n",
        "            if len(image_urls) >= max_links_to_fetch:\n",
        "                print(f\"Found: {len(image_urls)} image links, done!\")\n",
        "                break\n",
        "        else:\n",
        "            print(\"Found:\", len(image_urls), \"image links, looking for more ...\")\n",
        "            time.sleep(30)\n",
        "            return\n",
        "            load_more_button = wd.find_element_by_css_selector(\".mye4qd\")\n",
        "            if load_more_button:\n",
        "                wd.execute_script(\"document.querySelector('.mye4qd').click();\")\n",
        "\n",
        "        # move the result startpoint further down\n",
        "        results_start = len(thumbnail_results)\n",
        "\n",
        "    return image_urls"
      ],
      "execution_count": null,
      "outputs": []
    },
    {
      "cell_type": "code",
      "metadata": {
        "ExecuteTime": {
          "end_time": "2021-10-15T05:32:34.546871Z",
          "start_time": "2021-10-15T05:32:34.521938Z"
        },
        "id": "O68z55UTI3mx"
      },
      "source": [
        "\n",
        "def persist_image(folder_path:str,url:str):\n",
        "    try:\n",
        "        image_content = requests.get(url).content\n",
        "\n",
        "    except Exception as e:\n",
        "        print(f\"ERROR - Could not download {url} - {e}\")\n",
        "        \n",
        "\n",
        "    try:\n",
        "        image_file = io.BytesIO(image_content)\n",
        "        image = Image.open(image_file).convert('RGB')\n",
        "        file_path = os.path.join(folder_path,hashlib.sha1(image_content).hexdigest()[:10] + '.jpg')\n",
        "        with open(file_path, 'wb') as f:\n",
        "            image.save(f, \"JPEG\", quality=85)\n",
        "        print(f\"SUCCESS - saved {url} - as {file_path}\")\n",
        "    except Exception as e:\n",
        "        print(f\"ERROR - Could not save {url} - {e}\")\n",
        "    "
      ],
      "execution_count": null,
      "outputs": []
    },
    {
      "cell_type": "code",
      "metadata": {
        "ExecuteTime": {
          "end_time": "2021-10-15T05:32:34.592747Z",
          "start_time": "2021-10-15T05:32:34.558838Z"
        },
        "id": "sCHbBk9sI3my"
      },
      "source": [
        "\n",
        "def search_and_download(search_term:str,driver_path:str,target_path='./images',number_images=5):\n",
        "    target_folder = os.path.join(target_path,'_'.join(search_term.lower().split(' ')))\n",
        "\n",
        "    if not os.path.exists(target_folder):\n",
        "        os.makedirs(target_folder)\n",
        "\n",
        "    with webdriver.Chrome(executable_path=driver_path) as wd:\n",
        "        res = fetch_image_urls(search_term, number_images, wd=wd, sleep_between_interactions=0.5)\n",
        "        \n",
        "    for elem in res:\n",
        "        persist_image(target_folder,elem)"
      ],
      "execution_count": null,
      "outputs": []
    },
    {
      "cell_type": "code",
      "metadata": {
        "ExecuteTime": {
          "end_time": "2021-10-15T05:33:39.494585Z",
          "start_time": "2021-10-15T05:32:34.598734Z"
        },
        "id": "TE2UdTsMI3mz",
        "outputId": "99550628-b074-41ef-a6d6-fc5a62f1250d"
      },
      "source": [
        "import os \n",
        "import time\n",
        "import requests\n",
        "import io\n",
        "from PIL import Image\n",
        "import hashlib\n",
        "\n",
        "for ele in search_term:\n",
        "    search_and_download(search_term = ele, driver_path=DRIVER_PATH, target_path=target_path, number_images=number_images)"
      ],
      "execution_count": null,
      "outputs": [
        {
          "name": "stdout",
          "output_type": "stream",
          "text": [
            "Found: 100 search results. Extracting links from 0:100\n",
            "Found: 60 image links, done!\n",
            "SUCCESS - saved https://www.gannett-cdn.com/presto/2021/05/15/PSAT/d90bb36f-08f1-4d0a-9325-833c0d174e52-Blue_Spiny_Lizard-1.JPG?width=660&height=440&fit=crop&format=pjpg&auto=webp - as ./images\\lizard\\d1bcea8f9d.jpg\n",
            "SUCCESS - saved https://transcode-v2.app.engoo.com/image/fetch/f_auto,c_lfill,h_128,dpr_3/https://assets.app.engoo.com/images/J0pb0l1oeDFCLCxJZgeSWDMv4MczQ6oTrZpS7nQVgiw.jpeg - as ./images\\lizard\\c197e8db36.jpg\n",
            "SUCCESS - saved https://encrypted-tbn0.gstatic.com/images?q=tbn:ANd9GcQr4pzcCF2SY5UugjndSPakRkq7U_aHKvibnQ&usqp=CAU - as ./images\\lizard\\51a7f0bb1b.jpg\n",
            "SUCCESS - saved https://www.researchgate.net/profile/Fabio-Maffei/publication/266911774/figure/fig1/AS:295630799949834@1447495284093/Lizard-species-from-Estacao-Ecologica-de-Santa-Barbara-state-of-Sao-Paulo-Brazil-a_Q640.jpg - as ./images\\lizard\\d3a0434144.jpg\n",
            "ERROR - Could not save https://www.rd.com/wp-content/uploads/2019/07/shutterstock_47641369.jpg?fit=700,768 - cannot identify image file <_io.BytesIO object at 0x000001B1533CCF40>\n",
            "SUCCESS - saved https://www.researchgate.net/publication/343504533/figure/fig4/AS:962816924188675@1606564851537/The-forest-green-lizard-Calotes-calotes-is-large-among-the-lizard-species-measuring.jpg - as ./images\\lizard\\688cc8ac7f.jpg\n",
            "SUCCESS - saved https://ichef.bbci.co.uk/news/976/cpsprodpb/137ED/production/_120735897_standard_lagartijacotahuasi3.jpg.jpg - as ./images\\lizard\\d41a56389c.jpg\n",
            "SUCCESS - saved https://encrypted-tbn0.gstatic.com/images?q=tbn:ANd9GcRKSAY1LKhrnaoaMZZGpizBSGpdqBA3jA73Yw&usqp=CAU - as ./images\\lizard\\94be78c79f.jpg\n",
            "SUCCESS - saved https://images.theconversation.com/files/59035/original/kmnxsvdk-1410782483.jpg?ixlib=rb-1.1.0&q=45&auto=format&w=1200&h=1200.0&fit=crop - as ./images\\lizard\\406c52cea7.jpg\n",
            "SUCCESS - saved https://imgk.timesnownews.com/story/Dreaming_about_a_lizard.jpg?tr=w-400,h-300,fo-auto - as ./images\\lizard\\d762c14751.jpg\n",
            "SUCCESS - saved https://encrypted-tbn0.gstatic.com/images?q=tbn:ANd9GcQfaLpszf6gGdkUGWgTLE85UxMadh_7GgtHNw&usqp=CAU - as ./images\\lizard\\fb22bc8b67.jpg\n",
            "SUCCESS - saved https://encrypted-tbn0.gstatic.com/images?q=tbn:ANd9GcThxmTmfs-31n-B8vPj5cHGpBE1ZAdJgingIg&usqp=CAU - as ./images\\lizard\\9f696eaa14.jpg\n",
            "SUCCESS - saved https://cdn.britannica.com/37/125637-050-775F1B98/Agama.jpg - as ./images\\lizard\\8da575dfda.jpg\n",
            "SUCCESS - saved https://m.media-amazon.com/images/I/51h5igYz+HL._AC_SL1001_.jpg - as ./images\\lizard\\0bfe56fcf7.jpg\n",
            "SUCCESS - saved https://media.nationalgeographic.org/assets/photos/119/306/59c1ae6c-30e9-4f00-ad77-7c98de37aaa9.jpg - as ./images\\lizard\\b9b233a686.jpg\n",
            "SUCCESS - saved https://static.toiimg.com/thumb/msid-77426382,width-1200,height-900,resizemode-4/.jpg - as ./images\\lizard\\1e9951a848.jpg\n",
            "SUCCESS - saved https://thumbs.dreamstime.com/b/monitor-lizard-2421761.jpg - as ./images\\lizard\\f52a61bfd0.jpg\n",
            "SUCCESS - saved https://encrypted-tbn0.gstatic.com/images?q=tbn:ANd9GcTOOoLXvwF9ASTy06uYzGJmPXEqoif6WKjgdA&usqp=CAU - as ./images\\lizard\\7cc4a71d4e.jpg\n",
            "SUCCESS - saved https://cdn.theatlantic.com/thumbor/2gA_MXdVrn4dQyGZsuGaKieY82Q=/0x0:2500x1406/1600x900/media/img/mt/2021/07/KCM9CJ_1/original.jpg - as ./images\\lizard\\1776c80071.jpg\n",
            "SUCCESS - saved https://encrypted-tbn0.gstatic.com/images?q=tbn:ANd9GcTJYQnTxz3v95pGe7frgFcIXz7KuKU4hPHhWg&usqp=CAU - as ./images\\lizard\\4f32e31d7c.jpg\n",
            "SUCCESS - saved https://encrypted-tbn0.gstatic.com/images?q=tbn:ANd9GcThe1G12b6pYaa5bOLNDhgPbK7HDTV_bRhaEw&usqp=CAU - as ./images\\lizard\\d02473ecf9.jpg\n",
            "SUCCESS - saved https://encrypted-tbn0.gstatic.com/images?q=tbn:ANd9GcQdiUe9dJOQJaxsOUJq0WakhZeH9tO2H5m5XQ&usqp=CAU - as ./images\\lizard\\4cef0b6e86.jpg\n",
            "SUCCESS - saved https://nhm.org/sites/default/files/styles/featured_callout/public/2019-03/lizard1.jpg?h=e24e47ff - as ./images\\lizard\\8f23b79a25.jpg\n",
            "SUCCESS - saved https://encrypted-tbn0.gstatic.com/images?q=tbn:ANd9GcSst4RGxWCKXX3fhtzLF5AmTpBG5JdLuRE8gA&usqp=CAU - as ./images\\lizard\\d65dc80281.jpg\n",
            "SUCCESS - saved https://encrypted-tbn0.gstatic.com/images?q=tbn:ANd9GcR9c4yOULJKVaY2yj_iXTkTIsKiHeopry12Bg&usqp=CAU - as ./images\\lizard\\845173eef3.jpg\n",
            "SUCCESS - saved https://cdn.cdnparenting.com/articles/2019/01/14165204/746212957-H.jpg - as ./images\\lizard\\74fbf4975a.jpg\n",
            "SUCCESS - saved https://animals.sandiegozoo.org/sites/default/files/2016-11/animals_hero_lizards.jpg - as ./images\\lizard\\8b7c1c9e03.jpg\n",
            "SUCCESS - saved https://images.theconversation.com/files/1272/original/Varanus_paratype_Arvin.C.Diesmos.jpg?ixlib=rb-1.1.0&q=45&auto=format&w=1200&h=675.0&fit=crop - as ./images\\lizard\\3e9736224f.jpg\n",
            "SUCCESS - saved https://c.files.bbci.co.uk/C2BD/production/_120735894_standard_lagartijacotahuasi1.jpg.jpg - as ./images\\lizard\\832417913f.jpg\n",
            "ERROR - Could not save https://upload.wikimedia.org/wikipedia/commons/2/29/Lizard.jpg - cannot identify image file <_io.BytesIO object at 0x000001B1534CC860>\n",
            "SUCCESS - saved https://encrypted-tbn0.gstatic.com/images?q=tbn:ANd9GcQCE1_sS-IVp_LpjD_EGHwBS28gTVFjYxG3KA&usqp=CAU - as ./images\\lizard\\e4b3cccba8.jpg\n",
            "SUCCESS - saved https://encrypted-tbn0.gstatic.com/images?q=tbn:ANd9GcQFNGZ4jq7qxJ-XLp-N1v-dSNGlR7YNLvjzCA&usqp=CAU - as ./images\\lizard\\11aa2140f1.jpg\n",
            "SUCCESS - saved http://imagescdn.gettyimagesbank.com/500/06/968/714/0/91894678.jpg - as ./images\\lizard\\34c2c80dfe.jpg\n",
            "SUCCESS - saved https://encrypted-tbn0.gstatic.com/images?q=tbn:ANd9GcQd4dB5OzdlTptsEGbsmJsHC0BxNklf0z9rcQ&usqp=CAU - as ./images\\lizard\\f50e2427eb.jpg\n",
            "SUCCESS - saved https://encrypted-tbn0.gstatic.com/images?q=tbn:ANd9GcS3-mGa-MJ6JAyg6oLvOi036ntp23ky1BIZpA&usqp=CAU - as ./images\\lizard\\79463ad151.jpg\n",
            "SUCCESS - saved https://encrypted-tbn0.gstatic.com/images?q=tbn:ANd9GcQ7LaNUNPLXhobs6DPR7PnlwwrqQcavwXYwTQ&usqp=CAU - as ./images\\lizard\\07d7d42645.jpg\n",
            "SUCCESS - saved https://www.wildlifetrusts.org/sites/default/files/styles/node_hero_default/public/2018-08/wildlifetrusts_40664461209.jpg?h=5ffc7882&itok=95nkhDTu - as ./images\\lizard\\3dfcc927ea.jpg\n",
            "SUCCESS - saved https://cdn.w600.comps.canstockphoto.co.kr/%EC%B9%B4%EC%9D%B4%EB%A7%8C-amazon-lizard-%EC%82%AC%EC%A7%84_csp12480972.jpg - as ./images\\lizard\\592c7b56f2.jpg\n",
            "SUCCESS - saved https://encrypted-tbn0.gstatic.com/images?q=tbn:ANd9GcRCBNYg5IwVIpbj7Cwvvso6b40UMThKi-xH5Q&usqp=CAU - as ./images\\lizard\\6d1ad50f78.jpg\n",
            "SUCCESS - saved https://encrypted-tbn0.gstatic.com/images?q=tbn:ANd9GcTGO0R25_k4qe5NdKTuH-Q3777p6t0tnYkAeQ&usqp=CAU - as ./images\\lizard\\e9e5bebb2a.jpg\n",
            "SUCCESS - saved https://cdn.theatlantic.com/thumbor/yoZ4vYWz6ZJa93jbobVRubYwwVI=/215x0:2964x2062/1200x900/media/img/mt/2021/06/173039267a_huge/original.jpg - as ./images\\lizard\\5c7719af84.jpg\n",
            "SUCCESS - saved https://c.ndtvimg.com/2021-04/18srufi8_monitor-lizard-generic_625x300_08_April_21.jpg - as ./images\\lizard\\027a135d0c.jpg\n",
            "SUCCESS - saved https://encrypted-tbn0.gstatic.com/images?q=tbn:ANd9GcQ8LgNK-DfYJ-WD2C9sIyfuseuanXk0gavOsg&usqp=CAU - as ./images\\lizard\\0bdb1546b2.jpg\n",
            "SUCCESS - saved https://encrypted-tbn0.gstatic.com/images?q=tbn:ANd9GcTKaBLJmKuEgyoIytvucA3g3n0x1toHevgSMg&usqp=CAU - as ./images\\lizard\\517bc9cd42.jpg\n",
            "SUCCESS - saved https://encrypted-tbn0.gstatic.com/images?q=tbn:ANd9GcQ1owPfoAynBqCRgRgH1vrN2VSfavXENAmSCQ&usqp=CAU - as ./images\\lizard\\bce82fedfd.jpg\n",
            "SUCCESS - saved https://encrypted-tbn0.gstatic.com/images?q=tbn:ANd9GcRdyJt6Jztue5-2QiC5cDmccAdZznpuIc5HXg&usqp=CAU - as ./images\\lizard\\f4e68c0fb0.jpg\n",
            "SUCCESS - saved https://encrypted-tbn0.gstatic.com/images?q=tbn:ANd9GcRedfmxWxMBHzXfjTqPYJ81Dy18WFlKPL4qyQ&usqp=CAU - as ./images\\lizard\\1c237030b7.jpg\n",
            "SUCCESS - saved https://encrypted-tbn0.gstatic.com/images?q=tbn:ANd9GcRDJlDE0VcSs_SMlwFDlgLm3AT3i5A219DcuQ&usqp=CAU - as ./images\\lizard\\5afe37e61a.jpg\n",
            "SUCCESS - saved https://encrypted-tbn0.gstatic.com/images?q=tbn:ANd9GcRrJ3PQP1Lw4EQm5k9MVc4pMMinGmWaC_aptA&usqp=CAU - as ./images\\lizard\\8a3fb23950.jpg\n",
            "SUCCESS - saved https://www.eekwi.org/sites/default/files/2019-12/green-lizard.jpg - as ./images\\lizard\\c3338aa6c2.jpg\n",
            "SUCCESS - saved https://i.guim.co.uk/img/media/e0d077790054d39d7df2a19f5699b18521ec86fe/0_83_2447_1468/master/2447.jpg?width=1200&quality=85&auto=format&fit=max&s=d5e18081111c654a1ce18a7e19da337b - as ./images\\lizard\\4b0bc33314.jpg\n"
          ]
        },
        {
          "name": "stdout",
          "output_type": "stream",
          "text": [
            "SUCCESS - saved https://encrypted-tbn0.gstatic.com/images?q=tbn:ANd9GcTAjG_18GMWbJNoVodBjolMu_b9gOdCMTtQZA&usqp=CAU - as ./images\\lizard\\0dd05ac382.jpg\n",
            "SUCCESS - saved https://encrypted-tbn0.gstatic.com/images?q=tbn:ANd9GcQHdXQqp3pjup0IKPT6jc3tah-lnNlwEL0EOA&usqp=CAU - as ./images\\lizard\\2151593343.jpg\n",
            "SUCCESS - saved https://mdc.mo.gov/sites/default/files/styles/species_banner/public/mo_nature/media/images/2010/06/northern_fence_lizard.jpg?h=d6289c78&itok=BN6mmLHH - as ./images\\lizard\\b70fd42072.jpg\n",
            "ERROR - Could not save https://www.rd.com/wp-content/uploads/2019/07/shutterstock_1450023254-scaled.jpg - cannot identify image file <_io.BytesIO object at 0x000001B1533CCF40>\n",
            "SUCCESS - saved https://res.cloudinary.com/dk-find-out/image/upload/q_80,w_1920,f_auto/DCTM_Penguin_UK_DK_AL674118_du57mv_lq8rif.jpg - as ./images\\lizard\\341249709f.jpg\n",
            "SUCCESS - saved https://static01.nyt.com/images/2020/04/27/science/27TB-LIZARDS-promo/27TB-LIZARDS-promo-mediumSquareAt3X.jpg - as ./images\\lizard\\f628c3f11c.jpg\n",
            "SUCCESS - saved https://encrypted-tbn0.gstatic.com/images?q=tbn:ANd9GcQgVy_RjV89P4mtUObhp3mlz28HKGgx2-hjAg&usqp=CAU - as ./images\\lizard\\f627615015.jpg\n",
            "SUCCESS - saved https://encrypted-tbn0.gstatic.com/images?q=tbn:ANd9GcRDbdL_RN5jh_HB8J1pdIRJdVP1YaUPouUC4w&usqp=CAU - as ./images\\lizard\\e78a242459.jpg\n",
            "SUCCESS - saved https://news.uga.edu/wp-content/uploads/2020/09/Lizard-1-1024x682.jpeg - as ./images\\lizard\\4f1f0ead9d.jpg\n"
          ]
        }
      ]
    }
  ]
}
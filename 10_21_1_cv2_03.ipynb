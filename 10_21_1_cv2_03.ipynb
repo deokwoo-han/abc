{
  "nbformat": 4,
  "nbformat_minor": 5,
  "metadata": {
    "kernelspec": {
      "display_name": "Python KOSA",
      "language": "python",
      "name": "kosa"
    },
    "language_info": {
      "codemirror_mode": {
        "name": "ipython",
        "version": 3
      },
      "file_extension": ".py",
      "mimetype": "text/x-python",
      "name": "python",
      "nbconvert_exporter": "python",
      "pygments_lexer": "ipython3",
      "version": "3.8.12"
    },
    "colab": {
      "name": "10.21-1 cv2_03.ipynb",
      "provenance": [],
      "collapsed_sections": [],
      "include_colab_link": true
    }
  },
  "cells": [
    {
      "cell_type": "markdown",
      "metadata": {
        "id": "view-in-github",
        "colab_type": "text"
      },
      "source": [
        "<a href=\"https://colab.research.google.com/github/deokwoo-han/abc/blob/master/10_21_1_cv2_03.ipynb\" target=\"_parent\"><img src=\"https://colab.research.google.com/assets/colab-badge.svg\" alt=\"Open In Colab\"/></a>"
      ]
    },
    {
      "cell_type": "code",
      "metadata": {
        "id": "321148ed-e86d-425a-9671-05a1de13d08d"
      },
      "source": [
        "import os"
      ],
      "id": "321148ed-e86d-425a-9671-05a1de13d08d",
      "execution_count": null,
      "outputs": []
    },
    {
      "cell_type": "code",
      "metadata": {
        "id": "32b6d0ed-e10e-4528-aca5-9ae42ab68440",
        "outputId": "21924a13-8805-4f28-8ebb-657dccb9b18d"
      },
      "source": [
        "import sys\n",
        "print(sys.version)"
      ],
      "id": "32b6d0ed-e10e-4528-aca5-9ae42ab68440",
      "execution_count": null,
      "outputs": [
        {
          "name": "stdout",
          "output_type": "stream",
          "text": [
            "3.8.12 (default, Oct 12 2021, 03:01:40) [MSC v.1916 64 bit (AMD64)]\n"
          ]
        }
      ]
    },
    {
      "cell_type": "code",
      "metadata": {
        "id": "eff5cff9-87ad-4890-85a6-f388e1896473"
      },
      "source": [
        "import cv2"
      ],
      "id": "eff5cff9-87ad-4890-85a6-f388e1896473",
      "execution_count": null,
      "outputs": []
    },
    {
      "cell_type": "code",
      "metadata": {
        "id": "4d406ed4-4cc8-45de-8b4e-567dcedeff47",
        "outputId": "7c14e716-1999-430d-87cd-c5a6e3910d41"
      },
      "source": [
        "cv2.__version__"
      ],
      "id": "4d406ed4-4cc8-45de-8b4e-567dcedeff47",
      "execution_count": null,
      "outputs": [
        {
          "data": {
            "text/plain": [
              "'4.4.0'"
            ]
          },
          "execution_count": 4,
          "metadata": {},
          "output_type": "execute_result"
        }
      ]
    },
    {
      "cell_type": "code",
      "metadata": {
        "id": "c493fc4b-9aef-409a-b900-bb3999f8a2d4"
      },
      "source": [
        "src = cv2.imread('.\\\\lotte.jpg')"
      ],
      "id": "c493fc4b-9aef-409a-b900-bb3999f8a2d4",
      "execution_count": null,
      "outputs": []
    },
    {
      "cell_type": "code",
      "metadata": {
        "id": "02a7896c-94ae-4292-92c4-5b19a5eb7845"
      },
      "source": [
        " b,g,r = cv2.split(src)"
      ],
      "id": "02a7896c-94ae-4292-92c4-5b19a5eb7845",
      "execution_count": null,
      "outputs": []
    },
    {
      "cell_type": "code",
      "metadata": {
        "id": "1a798d39-0018-47be-84bc-35ee1ead8ac8",
        "outputId": "03d47d0b-5793-436c-c083-03d88174efb4"
      },
      "source": [
        "src.shape #rgb값만 뽑음"
      ],
      "id": "1a798d39-0018-47be-84bc-35ee1ead8ac8",
      "execution_count": null,
      "outputs": [
        {
          "data": {
            "text/plain": [
              "(3024, 4032, 3)"
            ]
          },
          "execution_count": 7,
          "metadata": {},
          "output_type": "execute_result"
        }
      ]
    },
    {
      "cell_type": "code",
      "metadata": {
        "id": "8fc1fd6e-ef72-4d8d-afe8-304f3131aeee"
      },
      "source": [
        "#b[0:100, 0:100]#어레이 값"
      ],
      "id": "8fc1fd6e-ef72-4d8d-afe8-304f3131aeee",
      "execution_count": null,
      "outputs": []
    },
    {
      "cell_type": "code",
      "metadata": {
        "id": "5a491554-e87f-4cb8-ba9b-bb974a838ca3",
        "outputId": "b7706f27-d8cd-4ca0-b878-97d048989cda"
      },
      "source": [
        "b[100:100]"
      ],
      "id": "5a491554-e87f-4cb8-ba9b-bb974a838ca3",
      "execution_count": null,
      "outputs": [
        {
          "data": {
            "text/plain": [
              "array([], shape=(0, 4032), dtype=uint8)"
            ]
          },
          "execution_count": 9,
          "metadata": {},
          "output_type": "execute_result"
        }
      ]
    },
    {
      "cell_type": "code",
      "metadata": {
        "id": "2527be0a-e49a-40d6-8ea2-1a1043bcbe3f",
        "outputId": "68fe0a86-4c8d-459e-e14a-0cc17ad34325"
      },
      "source": [
        "b.shape#채널이 하나 없어짐"
      ],
      "id": "2527be0a-e49a-40d6-8ea2-1a1043bcbe3f",
      "execution_count": null,
      "outputs": [
        {
          "data": {
            "text/plain": [
              "(3024, 4032)"
            ]
          },
          "execution_count": 10,
          "metadata": {},
          "output_type": "execute_result"
        }
      ]
    },
    {
      "cell_type": "code",
      "metadata": {
        "id": "c085d392-95cb-4235-b144-efefd15142dd",
        "outputId": "d565bcf5-00e8-412c-8ef2-6de6bcfd792b"
      },
      "source": [
        "g.shape"
      ],
      "id": "c085d392-95cb-4235-b144-efefd15142dd",
      "execution_count": null,
      "outputs": [
        {
          "data": {
            "text/plain": [
              "(3024, 4032)"
            ]
          },
          "execution_count": 11,
          "metadata": {},
          "output_type": "execute_result"
        }
      ]
    },
    {
      "cell_type": "code",
      "metadata": {
        "id": "dbe2bf26-acaa-428e-a13b-7a1bd888b869",
        "outputId": "9b4a7625-2be9-4788-cf65-a462dfa44344"
      },
      "source": [
        "r.shape"
      ],
      "id": "dbe2bf26-acaa-428e-a13b-7a1bd888b869",
      "execution_count": null,
      "outputs": [
        {
          "data": {
            "text/plain": [
              "(3024, 4032)"
            ]
          },
          "execution_count": 12,
          "metadata": {},
          "output_type": "execute_result"
        }
      ]
    },
    {
      "cell_type": "code",
      "metadata": {
        "id": "2964b507-7643-4823-8c39-63705d2f90b6"
      },
      "source": [
        "reverse_img = cv2.merge((r,g,b))\n",
        "dst = cv2.resize(reverse_img, dsize=(640, 480), interpolation = cv2.INTER_NEAREST)"
      ],
      "id": "2964b507-7643-4823-8c39-63705d2f90b6",
      "execution_count": null,
      "outputs": []
    },
    {
      "cell_type": "code",
      "metadata": {
        "id": "028e51f8-4b37-4c52-a907-f54ae6a8fc66"
      },
      "source": [
        "#dst = cv.resize(src, dsize[, dst[, fx[, fy[, interpolation]]]])\n",
        "dst1 = cv2.resize(src, dsize=(640, 480), interpolation = cv2.INTER_NEAREST)#INTER_AREA)"
      ],
      "id": "028e51f8-4b37-4c52-a907-f54ae6a8fc66",
      "execution_count": null,
      "outputs": []
    },
    {
      "cell_type": "code",
      "metadata": {
        "id": "8b0d8740-9d06-4761-a24d-7cb5e72a41ff"
      },
      "source": [
        "dst2 = cv2.resize(src, dsize=(0,0), fx=0.2, fy=0.2,  interpolation = cv2.INTER_NEAREST) "
      ],
      "id": "8b0d8740-9d06-4761-a24d-7cb5e72a41ff",
      "execution_count": null,
      "outputs": []
    },
    {
      "cell_type": "code",
      "metadata": {
        "id": "6b8ada10-e74e-4f2d-b1d6-a4a86889760a"
      },
      "source": [
        "dst3 = cv2.resize(src, dsize=(0,0), fx=0.2, fy=0.2,  interpolation = cv2.INTER_AREA) #900사이즈?"
      ],
      "id": "6b8ada10-e74e-4f2d-b1d6-a4a86889760a",
      "execution_count": null,
      "outputs": []
    },
    {
      "cell_type": "code",
      "metadata": {
        "id": "c6697d0f-fc2b-4b2a-886c-e6f823bcb53d",
        "outputId": "ce03dad0-8756-4a90-84e5-e4715ad3bf2a"
      },
      "source": [
        "type(src)"
      ],
      "id": "c6697d0f-fc2b-4b2a-886c-e6f823bcb53d",
      "execution_count": null,
      "outputs": [
        {
          "data": {
            "text/plain": [
              "numpy.ndarray"
            ]
          },
          "execution_count": 17,
          "metadata": {},
          "output_type": "execute_result"
        }
      ]
    },
    {
      "cell_type": "code",
      "metadata": {
        "id": "d32a66fa-31f2-4045-a5c2-944c4c7872d8",
        "outputId": "9439e037-fcea-46a5-9b04-3b8739891e98"
      },
      "source": [
        "src.shape"
      ],
      "id": "d32a66fa-31f2-4045-a5c2-944c4c7872d8",
      "execution_count": null,
      "outputs": [
        {
          "data": {
            "text/plain": [
              "(3024, 4032, 3)"
            ]
          },
          "execution_count": 18,
          "metadata": {},
          "output_type": "execute_result"
        }
      ]
    },
    {
      "cell_type": "code",
      "metadata": {
        "id": "4ccf5527-9062-4fd3-81d0-06b6f9142f4a",
        "outputId": "d57cfa7a-59b9-4dbc-a94a-25f45e1eab14"
      },
      "source": [
        "dst1.shape"
      ],
      "id": "4ccf5527-9062-4fd3-81d0-06b6f9142f4a",
      "execution_count": null,
      "outputs": [
        {
          "data": {
            "text/plain": [
              "(480, 640, 3)"
            ]
          },
          "execution_count": 19,
          "metadata": {},
          "output_type": "execute_result"
        }
      ]
    },
    {
      "cell_type": "code",
      "metadata": {
        "id": "ca3dcbf7-eeb3-46a0-88cf-06e2c08b9e34",
        "outputId": "1390f806-b630-45c9-9e24-23a1eee29001"
      },
      "source": [
        "dst2.shape"
      ],
      "id": "ca3dcbf7-eeb3-46a0-88cf-06e2c08b9e34",
      "execution_count": null,
      "outputs": [
        {
          "data": {
            "text/plain": [
              "(302, 403, 3)"
            ]
          },
          "execution_count": 20,
          "metadata": {},
          "output_type": "execute_result"
        }
      ]
    },
    {
      "cell_type": "code",
      "metadata": {
        "id": "d4e75ba8-aad2-4db7-b186-a5b629543395"
      },
      "source": [
        "#crop1 = src[100:500,250:800]"
      ],
      "id": "d4e75ba8-aad2-4db7-b186-a5b629543395",
      "execution_count": null,
      "outputs": []
    },
    {
      "cell_type": "code",
      "metadata": {
        "id": "0128a41d-83ae-45d9-bf28-b5fb45482e88"
      },
      "source": [
        "#upside_down = cv2.flip(src, -1)"
      ],
      "id": "0128a41d-83ae-45d9-bf28-b5fb45482e88",
      "execution_count": null,
      "outputs": []
    },
    {
      "cell_type": "code",
      "metadata": {
        "id": "9c8f3755-300d-4fcf-ad59-dbdcdf52a28d",
        "outputId": "47d6a598-5796-4d1f-b673-0ab0d07fa120"
      },
      "source": [
        "cv2.imshow('Image-rgb', dst) #푸르댕댕\n",
        "cv2.imshow('Image', dst1)\n",
        "cv2.imshow('Image - nearest', dst2)\n",
        "cv2.imshow('Image - area', dst3)\n",
        "cv2.imwrite('.\\\\lotte-image.jpg',dst3)\n",
        "#cv2.imshow('Crop 1', crop1)\n",
        "#cv2.imshow('Upside Down', upside_down)\n",
        "#윈도우 화면, 본래 창 바깥에도 뜸, 코랩은 곤란(불가능함)\n",
        "cv2.waitKey(10000) "
      ],
      "id": "9c8f3755-300d-4fcf-ad59-dbdcdf52a28d",
      "execution_count": null,
      "outputs": [
        {
          "data": {
            "text/plain": [
              "-1"
            ]
          },
          "execution_count": 23,
          "metadata": {},
          "output_type": "execute_result"
        }
      ]
    },
    {
      "cell_type": "code",
      "metadata": {
        "id": "22958707-c574-4dd4-bcf6-fb4ff5fd77ff"
      },
      "source": [
        "#cv2.waitKey(7000) # 0 forever #인도코끼리, 살아있는 코끼리... 0을 눌러\n",
        "#팝업창을 코랩에선 못함"
      ],
      "id": "22958707-c574-4dd4-bcf6-fb4ff5fd77ff",
      "execution_count": null,
      "outputs": []
    },
    {
      "cell_type": "code",
      "metadata": {
        "id": "3a48c3c1-cbed-4a35-8a46-132cfedcfa3d"
      },
      "source": [
        "cv2.destroyAllWindows() "
      ],
      "id": "3a48c3c1-cbed-4a35-8a46-132cfedcfa3d",
      "execution_count": null,
      "outputs": []
    }
  ]
}
{
  "nbformat": 4,
  "nbformat_minor": 5,
  "metadata": {
    "kernelspec": {
      "display_name": "Python KOSA",
      "language": "python",
      "name": "kosa"
    },
    "language_info": {
      "codemirror_mode": {
        "name": "ipython",
        "version": 3
      },
      "file_extension": ".py",
      "mimetype": "text/x-python",
      "name": "python",
      "nbconvert_exporter": "python",
      "pygments_lexer": "ipython3",
      "version": "3.8.12"
    },
    "colab": {
      "name": "10.25-2 cv2_01-1025.ipynb",
      "provenance": [],
      "collapsed_sections": [],
      "include_colab_link": true
    }
  },
  "cells": [
    {
      "cell_type": "markdown",
      "metadata": {
        "id": "view-in-github",
        "colab_type": "text"
      },
      "source": [
        "<a href=\"https://colab.research.google.com/github/deokwoo-han/abc/blob/master/10_25_2_cv2_01_1025.ipynb\" target=\"_parent\"><img src=\"https://colab.research.google.com/assets/colab-badge.svg\" alt=\"Open In Colab\"/></a>"
      ]
    },
    {
      "cell_type": "code",
      "metadata": {
        "id": "970ed83f-d0d7-43f4-8e8e-f394cd36e4ca"
      },
      "source": [
        "import cv2\n",
        "import numpy as np"
      ],
      "id": "970ed83f-d0d7-43f4-8e8e-f394cd36e4ca",
      "execution_count": null,
      "outputs": []
    },
    {
      "cell_type": "code",
      "metadata": {
        "id": "03bc1ff8-efdf-48f5-8167-ad3943fa1205"
      },
      "source": [
        "src1 = cv2.imread('.\\\\images\\\\bicycle.png', cv2.IMREAD_UNCHANGED)#자전거\n",
        "#src1 = cv2.imread('.\\\\images\\\\messi5.jpg')\n",
        "#src2 = cv2.imread('.\\\\images\\\\opencv-logo-white.png')"
      ],
      "id": "03bc1ff8-efdf-48f5-8167-ad3943fa1205",
      "execution_count": null,
      "outputs": []
    },
    {
      "cell_type": "code",
      "metadata": {
        "id": "2b5fafb0-6623-4dcf-9e66-fa99f5425654"
      },
      "source": [
        "#src2 = cv2.cvtColor(src1, cv2.COLOR_BGR2RGB)"
      ],
      "id": "2b5fafb0-6623-4dcf-9e66-fa99f5425654",
      "execution_count": null,
      "outputs": []
    },
    {
      "cell_type": "code",
      "metadata": {
        "id": "34d295c3-c1e2-4824-b805-67fe12d8c9d4"
      },
      "source": [
        "src1 = cv2.resize(src1, dsize=(0,0), fx=.3, fy=.3, interpolation = cv2.INTER_AREA)"
      ],
      "id": "34d295c3-c1e2-4824-b805-67fe12d8c9d4",
      "execution_count": null,
      "outputs": []
    },
    {
      "cell_type": "code",
      "metadata": {
        "id": "ee588a44-3f58-45de-8180-32c82ef143ad"
      },
      "source": [
        "src2 = cv2.cvtColor(src1, cv2.COLOR_BGR2RGB)"
      ],
      "id": "ee588a44-3f58-45de-8180-32c82ef143ad",
      "execution_count": null,
      "outputs": []
    },
    {
      "cell_type": "markdown",
      "metadata": {
        "id": "85349ba8-f56d-420b-8a7f-6997159da970"
      },
      "source": [
        "RGB(251, 208, 22)\n",
        "RGB(255, 213, 5)"
      ],
      "id": "85349ba8-f56d-420b-8a7f-6997159da970"
    },
    {
      "cell_type": "code",
      "metadata": {
        "id": "358cab34-0aa7-47d7-bd0f-270e6bac0359"
      },
      "source": [
        "low_yellow = np.array([58, 129, 243]) #로우값과 하이값이 세팅 59, 129, 246\n",
        "high_yellow = np.array([71, 136, 247])#낮은 것을 로우로? 70 135 244 #틀\n",
        "\n",
        "#low_yellow = np.array([251, 208, 5])\n",
        "#high_yellow = np.array([255, 213, 22])#낮은 것을 로우로? #바퀴\n",
        "#로우 값을 5로 하고 22로 해야 #밴드 윗을 네스크? "
      ],
      "id": "358cab34-0aa7-47d7-bd0f-270e6bac0359",
      "execution_count": null,
      "outputs": []
    },
    {
      "cell_type": "code",
      "metadata": {
        "id": "b761f20f-dbb8-4371-98b4-8c1cae2578d5"
      },
      "source": [
        "mask = cv2.inRange(src2, low_yellow, high_yellow)\n",
        "#문제? bgr, 코드는 rgb"
      ],
      "id": "b761f20f-dbb8-4371-98b4-8c1cae2578d5",
      "execution_count": null,
      "outputs": []
    },
    {
      "cell_type": "code",
      "metadata": {
        "id": "d76420ea-d201-4b72-b81e-e4342d69ddb5"
      },
      "source": [
        "#mask_inv = cv2.bitwise_not(mask) #인버전"
      ],
      "id": "d76420ea-d201-4b72-b81e-e4342d69ddb5",
      "execution_count": null,
      "outputs": []
    },
    {
      "cell_type": "code",
      "metadata": {
        "id": "f2cba918-69da-4798-b6a3-668429ca0b26"
      },
      "source": [
        "src1_sub = cv2.bitwise_and(src1, src1, mask = mask)"
      ],
      "id": "f2cba918-69da-4798-b6a3-668429ca0b26",
      "execution_count": null,
      "outputs": []
    },
    {
      "cell_type": "code",
      "metadata": {
        "id": "96b830d0-db8f-4f3a-9fab-1ec17465be6f"
      },
      "source": [
        "cv2.imshow('Bicycle1', src1)\n",
        "#cv2.imshow('Bicycle2', src2)\n",
        "cv2.imshow('Mask', mask)#0과 1 값으로... 하얀 곳만\n",
        "cv2.imshow('Substraction', src1_sub) #하얀 곳만 나오게 빼버림, 125하면 초록 만 나옴 #앤드?\n",
        "#바퀴 프레임만 빼려고 하니 노란색이 됨, 백그라운드를 0으로 만들려고 한다면....\n",
        "#인버스 한 것을 넣으면 프레임만\n",
        "cv2.waitKey(0)\n",
        "cv2.destroyAllWindows()#장님 코끼리 만지기 마냥 어렴풋이 넣어 가는..."
      ],
      "id": "96b830d0-db8f-4f3a-9fab-1ec17465be6f",
      "execution_count": null,
      "outputs": []
    },
    {
      "cell_type": "code",
      "metadata": {
        "id": "0722070b-eeea-4d50-bb42-2f315efec717"
      },
      "source": [
        "#이미지 뒤집기? 앤드 연산?"
      ],
      "id": "0722070b-eeea-4d50-bb42-2f315efec717",
      "execution_count": null,
      "outputs": []
    }
  ]
}
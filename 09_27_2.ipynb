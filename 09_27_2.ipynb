{
  "nbformat": 4,
  "nbformat_minor": 0,
  "metadata": {
    "colab": {
      "name": "09.27-2.ipynb",
      "provenance": [],
      "collapsed_sections": [],
      "authorship_tag": "ABX9TyNAU9a7i1q81rP1T6YjhpOm",
      "include_colab_link": true
    },
    "kernelspec": {
      "name": "python3",
      "display_name": "Python 3"
    },
    "language_info": {
      "name": "python"
    }
  },
  "cells": [
    {
      "cell_type": "markdown",
      "metadata": {
        "id": "view-in-github",
        "colab_type": "text"
      },
      "source": [
        "<a href=\"https://colab.research.google.com/github/deokwoo-han/abc/blob/master/09_27_2.ipynb\" target=\"_parent\"><img src=\"https://colab.research.google.com/assets/colab-badge.svg\" alt=\"Open In Colab\"/></a>"
      ]
    },
    {
      "cell_type": "code",
      "metadata": {
        "id": "TBnPRWRD0B7A"
      },
      "source": [
        "import pandas as pd"
      ],
      "execution_count": null,
      "outputs": []
    },
    {
      "cell_type": "code",
      "metadata": {
        "id": "-NAZ6NKK0G03"
      },
      "source": [
        "df = pd.read_csv('credit_cards_dataset.csv')"
      ],
      "execution_count": null,
      "outputs": []
    },
    {
      "cell_type": "code",
      "metadata": {
        "colab": {
          "base_uri": "https://localhost:8080/",
          "height": 163
        },
        "id": "cMRX8gWV0Nx4",
        "outputId": "29438802-3758-4bf9-ed7f-3b357628921b"
      },
      "source": [
        "df.tail(3)"
      ],
      "execution_count": null,
      "outputs": [
        {
          "output_type": "execute_result",
          "data": {
            "text/html": [
              "<div>\n",
              "<style scoped>\n",
              "    .dataframe tbody tr th:only-of-type {\n",
              "        vertical-align: middle;\n",
              "    }\n",
              "\n",
              "    .dataframe tbody tr th {\n",
              "        vertical-align: top;\n",
              "    }\n",
              "\n",
              "    .dataframe thead th {\n",
              "        text-align: right;\n",
              "    }\n",
              "</style>\n",
              "<table border=\"1\" class=\"dataframe\">\n",
              "  <thead>\n",
              "    <tr style=\"text-align: right;\">\n",
              "      <th></th>\n",
              "      <th>ID</th>\n",
              "      <th>LIMIT_BAL</th>\n",
              "      <th>SEX</th>\n",
              "      <th>EDUCATION</th>\n",
              "      <th>MARRIAGE</th>\n",
              "      <th>AGE</th>\n",
              "      <th>PAY_0</th>\n",
              "      <th>PAY_2</th>\n",
              "      <th>PAY_3</th>\n",
              "      <th>PAY_4</th>\n",
              "      <th>PAY_5</th>\n",
              "      <th>PAY_6</th>\n",
              "      <th>BILL_AMT1</th>\n",
              "      <th>BILL_AMT2</th>\n",
              "      <th>BILL_AMT3</th>\n",
              "      <th>BILL_AMT4</th>\n",
              "      <th>BILL_AMT5</th>\n",
              "      <th>BILL_AMT6</th>\n",
              "      <th>PAY_AMT1</th>\n",
              "      <th>PAY_AMT2</th>\n",
              "      <th>PAY_AMT3</th>\n",
              "      <th>PAY_AMT4</th>\n",
              "      <th>PAY_AMT5</th>\n",
              "      <th>PAY_AMT6</th>\n",
              "      <th>default.payment.next.month</th>\n",
              "    </tr>\n",
              "  </thead>\n",
              "  <tbody>\n",
              "    <tr>\n",
              "      <th>29997</th>\n",
              "      <td>29998</td>\n",
              "      <td>30000.0</td>\n",
              "      <td>1</td>\n",
              "      <td>2</td>\n",
              "      <td>2</td>\n",
              "      <td>37</td>\n",
              "      <td>4</td>\n",
              "      <td>3</td>\n",
              "      <td>2</td>\n",
              "      <td>-1</td>\n",
              "      <td>0</td>\n",
              "      <td>0</td>\n",
              "      <td>3565.0</td>\n",
              "      <td>3356.0</td>\n",
              "      <td>2758.0</td>\n",
              "      <td>20878.0</td>\n",
              "      <td>20582.0</td>\n",
              "      <td>19357.0</td>\n",
              "      <td>0.0</td>\n",
              "      <td>0.0</td>\n",
              "      <td>22000.0</td>\n",
              "      <td>4200.0</td>\n",
              "      <td>2000.0</td>\n",
              "      <td>3100.0</td>\n",
              "      <td>1</td>\n",
              "    </tr>\n",
              "    <tr>\n",
              "      <th>29998</th>\n",
              "      <td>29999</td>\n",
              "      <td>80000.0</td>\n",
              "      <td>1</td>\n",
              "      <td>3</td>\n",
              "      <td>1</td>\n",
              "      <td>41</td>\n",
              "      <td>1</td>\n",
              "      <td>-1</td>\n",
              "      <td>0</td>\n",
              "      <td>0</td>\n",
              "      <td>0</td>\n",
              "      <td>-1</td>\n",
              "      <td>-1645.0</td>\n",
              "      <td>78379.0</td>\n",
              "      <td>76304.0</td>\n",
              "      <td>52774.0</td>\n",
              "      <td>11855.0</td>\n",
              "      <td>48944.0</td>\n",
              "      <td>85900.0</td>\n",
              "      <td>3409.0</td>\n",
              "      <td>1178.0</td>\n",
              "      <td>1926.0</td>\n",
              "      <td>52964.0</td>\n",
              "      <td>1804.0</td>\n",
              "      <td>1</td>\n",
              "    </tr>\n",
              "    <tr>\n",
              "      <th>29999</th>\n",
              "      <td>30000</td>\n",
              "      <td>50000.0</td>\n",
              "      <td>1</td>\n",
              "      <td>2</td>\n",
              "      <td>1</td>\n",
              "      <td>46</td>\n",
              "      <td>0</td>\n",
              "      <td>0</td>\n",
              "      <td>0</td>\n",
              "      <td>0</td>\n",
              "      <td>0</td>\n",
              "      <td>0</td>\n",
              "      <td>47929.0</td>\n",
              "      <td>48905.0</td>\n",
              "      <td>49764.0</td>\n",
              "      <td>36535.0</td>\n",
              "      <td>32428.0</td>\n",
              "      <td>15313.0</td>\n",
              "      <td>2078.0</td>\n",
              "      <td>1800.0</td>\n",
              "      <td>1430.0</td>\n",
              "      <td>1000.0</td>\n",
              "      <td>1000.0</td>\n",
              "      <td>1000.0</td>\n",
              "      <td>1</td>\n",
              "    </tr>\n",
              "  </tbody>\n",
              "</table>\n",
              "</div>"
            ],
            "text/plain": [
              "          ID  LIMIT_BAL  SEX  ...  PAY_AMT5  PAY_AMT6  default.payment.next.month\n",
              "29997  29998    30000.0    1  ...    2000.0    3100.0                           1\n",
              "29998  29999    80000.0    1  ...   52964.0    1804.0                           1\n",
              "29999  30000    50000.0    1  ...    1000.0    1000.0                           1\n",
              "\n",
              "[3 rows x 25 columns]"
            ]
          },
          "metadata": {},
          "execution_count": 3
        }
      ]
    },
    {
      "cell_type": "code",
      "metadata": {
        "id": "cdNu95jB0N4f"
      },
      "source": [
        "import xgboost as xgb"
      ],
      "execution_count": null,
      "outputs": []
    },
    {
      "cell_type": "code",
      "metadata": {
        "id": "Cz-nwS9G1A2h"
      },
      "source": [
        ""
      ],
      "execution_count": null,
      "outputs": []
    },
    {
      "cell_type": "code",
      "metadata": {
        "id": "hyL4RJ0D1RD9"
      },
      "source": [
        "X = df.drop(['default.payment.next.month'], axis=1).values"
      ],
      "execution_count": null,
      "outputs": []
    },
    {
      "cell_type": "code",
      "metadata": {
        "colab": {
          "base_uri": "https://localhost:8080/"
        },
        "id": "ehCcRQWA2eqw",
        "outputId": "86278cbd-20c1-40ae-e527-e02d3e8a1abf"
      },
      "source": [
        "X[:, 0:3]"
      ],
      "execution_count": null,
      "outputs": [
        {
          "output_type": "execute_result",
          "data": {
            "text/plain": [
              "array([[1.0000e+00, 2.0000e+04, 2.0000e+00],\n",
              "       [2.0000e+00, 1.2000e+05, 2.0000e+00],\n",
              "       [3.0000e+00, 9.0000e+04, 2.0000e+00],\n",
              "       ...,\n",
              "       [2.9998e+04, 3.0000e+04, 1.0000e+00],\n",
              "       [2.9999e+04, 8.0000e+04, 1.0000e+00],\n",
              "       [3.0000e+04, 5.0000e+04, 1.0000e+00]])"
            ]
          },
          "metadata": {},
          "execution_count": 6
        }
      ]
    },
    {
      "cell_type": "code",
      "metadata": {
        "colab": {
          "base_uri": "https://localhost:8080/"
        },
        "id": "CiUhVlNM2BU4",
        "outputId": "addb65b9-2bd1-41ba-fbcf-fc7474329842"
      },
      "source": [
        "X[:,-4:-1]"
      ],
      "execution_count": null,
      "outputs": [
        {
          "output_type": "execute_result",
          "data": {
            "text/plain": [
              "array([[    0.,     0.,     0.],\n",
              "       [ 1000.,  1000.,     0.],\n",
              "       [ 1000.,  1000.,  1000.],\n",
              "       ...,\n",
              "       [22000.,  4200.,  2000.],\n",
              "       [ 1178.,  1926., 52964.],\n",
              "       [ 1430.,  1000.,  1000.]])"
            ]
          },
          "metadata": {},
          "execution_count": 7
        }
      ]
    },
    {
      "cell_type": "code",
      "metadata": {
        "colab": {
          "base_uri": "https://localhost:8080/"
        },
        "id": "PkK1t-ys2mA4",
        "outputId": "f1bbd619-0ad7-41c0-ae76-aa848e542022"
      },
      "source": [
        "X[-1, :]"
      ],
      "execution_count": null,
      "outputs": [
        {
          "output_type": "execute_result",
          "data": {
            "text/plain": [
              "array([3.0000e+04, 5.0000e+04, 1.0000e+00, 2.0000e+00, 1.0000e+00,\n",
              "       4.6000e+01, 0.0000e+00, 0.0000e+00, 0.0000e+00, 0.0000e+00,\n",
              "       0.0000e+00, 0.0000e+00, 4.7929e+04, 4.8905e+04, 4.9764e+04,\n",
              "       3.6535e+04, 3.2428e+04, 1.5313e+04, 2.0780e+03, 1.8000e+03,\n",
              "       1.4300e+03, 1.0000e+03, 1.0000e+03, 1.0000e+03])"
            ]
          },
          "metadata": {},
          "execution_count": 8
        }
      ]
    },
    {
      "cell_type": "code",
      "metadata": {
        "colab": {
          "base_uri": "https://localhost:8080/"
        },
        "id": "gemhKrtu2uCQ",
        "outputId": "d3941a64-5ee7-4514-e494-fc9552b0689b"
      },
      "source": [
        "X[-4:-1,:]"
      ],
      "execution_count": null,
      "outputs": [
        {
          "output_type": "execute_result",
          "data": {
            "text/plain": [
              "array([[ 2.9997e+04,  1.5000e+05,  1.0000e+00,  3.0000e+00,  2.0000e+00,\n",
              "         4.3000e+01, -1.0000e+00, -1.0000e+00, -1.0000e+00, -1.0000e+00,\n",
              "         0.0000e+00,  0.0000e+00,  1.6830e+03,  1.8280e+03,  3.5020e+03,\n",
              "         8.9790e+03,  5.1900e+03,  0.0000e+00,  1.8370e+03,  3.5260e+03,\n",
              "         8.9980e+03,  1.2900e+02,  0.0000e+00,  0.0000e+00],\n",
              "       [ 2.9998e+04,  3.0000e+04,  1.0000e+00,  2.0000e+00,  2.0000e+00,\n",
              "         3.7000e+01,  4.0000e+00,  3.0000e+00,  2.0000e+00, -1.0000e+00,\n",
              "         0.0000e+00,  0.0000e+00,  3.5650e+03,  3.3560e+03,  2.7580e+03,\n",
              "         2.0878e+04,  2.0582e+04,  1.9357e+04,  0.0000e+00,  0.0000e+00,\n",
              "         2.2000e+04,  4.2000e+03,  2.0000e+03,  3.1000e+03],\n",
              "       [ 2.9999e+04,  8.0000e+04,  1.0000e+00,  3.0000e+00,  1.0000e+00,\n",
              "         4.1000e+01,  1.0000e+00, -1.0000e+00,  0.0000e+00,  0.0000e+00,\n",
              "         0.0000e+00, -1.0000e+00, -1.6450e+03,  7.8379e+04,  7.6304e+04,\n",
              "         5.2774e+04,  1.1855e+04,  4.8944e+04,  8.5900e+04,  3.4090e+03,\n",
              "         1.1780e+03,  1.9260e+03,  5.2964e+04,  1.8040e+03]])"
            ]
          },
          "metadata": {},
          "execution_count": 9
        }
      ]
    },
    {
      "cell_type": "code",
      "metadata": {
        "id": "KjVgJ7no1UeL"
      },
      "source": [
        "y = df['default.payment.next.month'].values"
      ],
      "execution_count": null,
      "outputs": []
    },
    {
      "cell_type": "code",
      "metadata": {
        "id": "tQId7m1g9f3r"
      },
      "source": [
        "#https://scikit-learn.org/stable/modules/generated/sklearn.model_selection.train_test_split.html"
      ],
      "execution_count": null,
      "outputs": []
    },
    {
      "cell_type": "code",
      "metadata": {
        "id": "XsbSohpt3gzM"
      },
      "source": [
        "from sklearn.model_selection import train_test_split#매뉴얼 보기"
      ],
      "execution_count": null,
      "outputs": []
    },
    {
      "cell_type": "code",
      "metadata": {
        "id": "eXAABM7M3Fsy"
      },
      "source": [
        "X_train, X_test, Y_train, Y_test = train_test_split(X, y, train_size=0.7, random_state=12345)#이때 쓰는 랜덤 테이블이 고정된 시드값\n",
        "#12345"
      ],
      "execution_count": null,
      "outputs": []
    },
    {
      "cell_type": "code",
      "metadata": {
        "colab": {
          "base_uri": "https://localhost:8080/"
        },
        "id": "-f8Qof_O4EdJ",
        "outputId": "c8e3e0a0-54cf-4917-b6a7-61114522d5ab"
      },
      "source": [
        "X_train.shape"
      ],
      "execution_count": null,
      "outputs": [
        {
          "output_type": "execute_result",
          "data": {
            "text/plain": [
              "(21000, 24)"
            ]
          },
          "metadata": {},
          "execution_count": 14
        }
      ]
    },
    {
      "cell_type": "code",
      "metadata": {
        "colab": {
          "base_uri": "https://localhost:8080/"
        },
        "id": "Usdt3ixm4Efr",
        "outputId": "b762d7c6-4385-4280-e796-7988ab8569d8"
      },
      "source": [
        "X_train.shape[0]"
      ],
      "execution_count": null,
      "outputs": [
        {
          "output_type": "execute_result",
          "data": {
            "text/plain": [
              "21000"
            ]
          },
          "metadata": {},
          "execution_count": 15
        }
      ]
    },
    {
      "cell_type": "code",
      "metadata": {
        "colab": {
          "base_uri": "https://localhost:8080/"
        },
        "id": "SfP5Yaku4Eh4",
        "outputId": "71d42d21-629c-481c-b5d6-02fd5f4aaf07"
      },
      "source": [
        "X_train.shape[1]#shape의 컬럼값을 보는 법"
      ],
      "execution_count": null,
      "outputs": [
        {
          "output_type": "execute_result",
          "data": {
            "text/plain": [
              "24"
            ]
          },
          "metadata": {},
          "execution_count": 16
        }
      ]
    },
    {
      "cell_type": "code",
      "metadata": {
        "colab": {
          "base_uri": "https://localhost:8080/"
        },
        "id": "HhFleRt84Ej9",
        "outputId": "a17c0f93-b820-4c44-a67d-457becf81ca5"
      },
      "source": [
        "X_test.shape[1]"
      ],
      "execution_count": null,
      "outputs": [
        {
          "output_type": "execute_result",
          "data": {
            "text/plain": [
              "24"
            ]
          },
          "metadata": {},
          "execution_count": 17
        }
      ]
    },
    {
      "cell_type": "code",
      "metadata": {
        "colab": {
          "base_uri": "https://localhost:8080/"
        },
        "id": "HvVMzbyw4oQh",
        "outputId": "80e9b4ad-0d0c-4869-b07d-084c05baa388"
      },
      "source": [
        "X_test.shape[0]"
      ],
      "execution_count": null,
      "outputs": [
        {
          "output_type": "execute_result",
          "data": {
            "text/plain": [
              "9000"
            ]
          },
          "metadata": {},
          "execution_count": 18
        }
      ]
    },
    {
      "cell_type": "code",
      "metadata": {
        "colab": {
          "base_uri": "https://localhost:8080/"
        },
        "id": "3RqHFl9Y4wmp",
        "outputId": "52652309-1d9e-4745-9679-f53877c44589"
      },
      "source": [
        "Y_train.shape"
      ],
      "execution_count": null,
      "outputs": [
        {
          "output_type": "execute_result",
          "data": {
            "text/plain": [
              "(21000,)"
            ]
          },
          "metadata": {},
          "execution_count": 19
        }
      ]
    },
    {
      "cell_type": "code",
      "metadata": {
        "colab": {
          "base_uri": "https://localhost:8080/"
        },
        "id": "_jc9ZCIR4wo5",
        "outputId": "df0e690e-ba23-49ca-86af-77fc104e6b71"
      },
      "source": [
        "Y_test.shape"
      ],
      "execution_count": null,
      "outputs": [
        {
          "output_type": "execute_result",
          "data": {
            "text/plain": [
              "(9000,)"
            ]
          },
          "metadata": {},
          "execution_count": 20
        }
      ]
    },
    {
      "cell_type": "code",
      "metadata": {
        "id": "a5y7lKHE1A6o"
      },
      "source": [
        "#XGB Dmatrix 설정"
      ],
      "execution_count": null,
      "outputs": []
    },
    {
      "cell_type": "code",
      "metadata": {
        "id": "bXE-PVpA1A4o"
      },
      "source": [
        "dtrain = xgb.DMatrix(X_train, label=Y_train)"
      ],
      "execution_count": null,
      "outputs": []
    },
    {
      "cell_type": "code",
      "metadata": {
        "id": "ury8sVahGI4u"
      },
      "source": [
        ""
      ],
      "execution_count": null,
      "outputs": []
    },
    {
      "cell_type": "code",
      "metadata": {
        "colab": {
          "base_uri": "https://localhost:8080/"
        },
        "id": "OO79lPL-5nIh",
        "outputId": "cd09b1fd-fc93-4f97-9660-eefb976ebdbe"
      },
      "source": [
        "type(dtrain)"
      ],
      "execution_count": null,
      "outputs": [
        {
          "output_type": "execute_result",
          "data": {
            "text/plain": [
              "xgboost.core.DMatrix"
            ]
          },
          "metadata": {},
          "execution_count": 23
        }
      ]
    },
    {
      "cell_type": "code",
      "metadata": {
        "id": "4gSnhmBH5hER"
      },
      "source": [
        "dtest = xgb.DMatrix(X_test, Y_test)"
      ],
      "execution_count": null,
      "outputs": []
    },
    {
      "cell_type": "code",
      "metadata": {
        "colab": {
          "base_uri": "https://localhost:8080/"
        },
        "id": "P9gGeQ1-5pyD",
        "outputId": "42a45016-dd37-40f3-9612-771a7ea62dc7"
      },
      "source": [
        "type(dtest)"
      ],
      "execution_count": null,
      "outputs": [
        {
          "output_type": "execute_result",
          "data": {
            "text/plain": [
              "xgboost.core.DMatrix"
            ]
          },
          "metadata": {},
          "execution_count": 25
        }
      ]
    },
    {
      "cell_type": "code",
      "metadata": {
        "colab": {
          "base_uri": "https://localhost:8080/"
        },
        "id": "A6g6w_ej5zPB",
        "outputId": "f63ce374-ba63-4ca8-f5b6-e51349c1abdf"
      },
      "source": [
        "dtrain"
      ],
      "execution_count": null,
      "outputs": [
        {
          "output_type": "execute_result",
          "data": {
            "text/plain": [
              "<xgboost.core.DMatrix at 0x7f282da70dd0>"
            ]
          },
          "metadata": {},
          "execution_count": 26
        }
      ]
    },
    {
      "cell_type": "code",
      "metadata": {
        "id": "Dsw2xbgI536K"
      },
      "source": [
        "#ndarray는 아님 dmatrix? \n",
        "#https://xgboost.readthedocs.io/en/latest/python/python_intro.html"
      ],
      "execution_count": null,
      "outputs": []
    },
    {
      "cell_type": "code",
      "metadata": {
        "id": "wCxJBLCK6ExV"
      },
      "source": [
        "param = {'max_depth': 10, 'eta': 0.01, 'objective': 'binary:logistic'}\n",
        "param['nthread'] = 4\n",
        "param['eval_metric'] = 'auc'"
      ],
      "execution_count": null,
      "outputs": []
    },
    {
      "cell_type": "code",
      "metadata": {
        "id": "uPaEhDRv6ZCJ"
      },
      "source": [
        "evallist = [(dtest, 'eval'), (dtrain, 'train')]"
      ],
      "execution_count": null,
      "outputs": []
    },
    {
      "cell_type": "code",
      "metadata": {
        "colab": {
          "base_uri": "https://localhost:8080/"
        },
        "id": "U8HaEeaM6J-U",
        "outputId": "e55c1936-3835-4348-c762-08adcd512bfa"
      },
      "source": [
        "num_round = 200\n",
        "bst = xgb.train(param, dtrain, num_round, evallist)"
      ],
      "execution_count": null,
      "outputs": [
        {
          "output_type": "stream",
          "name": "stdout",
          "text": [
            "[0]\teval-auc:0.748744\ttrain-auc:0.816506\n",
            "[1]\teval-auc:0.75057\ttrain-auc:0.816945\n",
            "[2]\teval-auc:0.752557\ttrain-auc:0.81945\n",
            "[3]\teval-auc:0.7526\ttrain-auc:0.82066\n",
            "[4]\teval-auc:0.752553\ttrain-auc:0.821054\n",
            "[5]\teval-auc:0.755837\ttrain-auc:0.829044\n",
            "[6]\teval-auc:0.757128\ttrain-auc:0.829003\n",
            "[7]\teval-auc:0.758011\ttrain-auc:0.832349\n",
            "[8]\teval-auc:0.761514\ttrain-auc:0.836774\n",
            "[9]\teval-auc:0.761362\ttrain-auc:0.836421\n",
            "[10]\teval-auc:0.762159\ttrain-auc:0.838219\n",
            "[11]\teval-auc:0.762403\ttrain-auc:0.839287\n",
            "[12]\teval-auc:0.763928\ttrain-auc:0.840075\n",
            "[13]\teval-auc:0.764459\ttrain-auc:0.840646\n",
            "[14]\teval-auc:0.764367\ttrain-auc:0.840674\n",
            "[15]\teval-auc:0.765057\ttrain-auc:0.841301\n",
            "[16]\teval-auc:0.765243\ttrain-auc:0.841373\n",
            "[17]\teval-auc:0.765804\ttrain-auc:0.842087\n",
            "[18]\teval-auc:0.76648\ttrain-auc:0.842928\n",
            "[19]\teval-auc:0.766312\ttrain-auc:0.842765\n",
            "[20]\teval-auc:0.766516\ttrain-auc:0.842993\n",
            "[21]\teval-auc:0.766816\ttrain-auc:0.843683\n",
            "[22]\teval-auc:0.766645\ttrain-auc:0.8439\n",
            "[23]\teval-auc:0.766501\ttrain-auc:0.84456\n",
            "[24]\teval-auc:0.767005\ttrain-auc:0.844927\n",
            "[25]\teval-auc:0.766886\ttrain-auc:0.845002\n",
            "[26]\teval-auc:0.766961\ttrain-auc:0.845928\n",
            "[27]\teval-auc:0.767276\ttrain-auc:0.846805\n",
            "[28]\teval-auc:0.767298\ttrain-auc:0.847225\n",
            "[29]\teval-auc:0.76763\ttrain-auc:0.848526\n",
            "[30]\teval-auc:0.767638\ttrain-auc:0.848507\n",
            "[31]\teval-auc:0.767864\ttrain-auc:0.849125\n",
            "[32]\teval-auc:0.768051\ttrain-auc:0.849998\n",
            "[33]\teval-auc:0.767968\ttrain-auc:0.850604\n",
            "[34]\teval-auc:0.768313\ttrain-auc:0.851079\n",
            "[35]\teval-auc:0.768564\ttrain-auc:0.851061\n",
            "[36]\teval-auc:0.768591\ttrain-auc:0.851804\n",
            "[37]\teval-auc:0.768686\ttrain-auc:0.852624\n",
            "[38]\teval-auc:0.768852\ttrain-auc:0.853037\n",
            "[39]\teval-auc:0.768905\ttrain-auc:0.853133\n",
            "[40]\teval-auc:0.768889\ttrain-auc:0.853704\n",
            "[41]\teval-auc:0.768962\ttrain-auc:0.854281\n",
            "[42]\teval-auc:0.76905\ttrain-auc:0.854665\n",
            "[43]\teval-auc:0.769188\ttrain-auc:0.854624\n",
            "[44]\teval-auc:0.769306\ttrain-auc:0.855164\n",
            "[45]\teval-auc:0.769268\ttrain-auc:0.855736\n",
            "[46]\teval-auc:0.76943\ttrain-auc:0.856089\n",
            "[47]\teval-auc:0.769466\ttrain-auc:0.856538\n",
            "[48]\teval-auc:0.769581\ttrain-auc:0.856599\n",
            "[49]\teval-auc:0.76961\ttrain-auc:0.857006\n",
            "[50]\teval-auc:0.769658\ttrain-auc:0.857288\n",
            "[51]\teval-auc:0.769565\ttrain-auc:0.857783\n",
            "[52]\teval-auc:0.76987\ttrain-auc:0.858336\n",
            "[53]\teval-auc:0.76995\ttrain-auc:0.858899\n",
            "[54]\teval-auc:0.76997\ttrain-auc:0.859081\n",
            "[55]\teval-auc:0.77021\ttrain-auc:0.859519\n",
            "[56]\teval-auc:0.770084\ttrain-auc:0.860031\n",
            "[57]\teval-auc:0.770147\ttrain-auc:0.860398\n",
            "[58]\teval-auc:0.7702\ttrain-auc:0.860816\n",
            "[59]\teval-auc:0.770341\ttrain-auc:0.861207\n",
            "[60]\teval-auc:0.770349\ttrain-auc:0.861673\n",
            "[61]\teval-auc:0.77032\ttrain-auc:0.861956\n",
            "[62]\teval-auc:0.770262\ttrain-auc:0.862294\n",
            "[63]\teval-auc:0.770365\ttrain-auc:0.862595\n",
            "[64]\teval-auc:0.770456\ttrain-auc:0.862981\n",
            "[65]\teval-auc:0.770384\ttrain-auc:0.863375\n",
            "[66]\teval-auc:0.770414\ttrain-auc:0.863706\n",
            "[67]\teval-auc:0.770401\ttrain-auc:0.864115\n",
            "[68]\teval-auc:0.770491\ttrain-auc:0.86447\n",
            "[69]\teval-auc:0.770514\ttrain-auc:0.864727\n",
            "[70]\teval-auc:0.770464\ttrain-auc:0.865003\n",
            "[71]\teval-auc:0.7704\ttrain-auc:0.865301\n",
            "[72]\teval-auc:0.770552\ttrain-auc:0.865686\n",
            "[73]\teval-auc:0.770504\ttrain-auc:0.865986\n",
            "[74]\teval-auc:0.770529\ttrain-auc:0.866256\n",
            "[75]\teval-auc:0.770557\ttrain-auc:0.866546\n",
            "[76]\teval-auc:0.770611\ttrain-auc:0.866861\n",
            "[77]\teval-auc:0.770678\ttrain-auc:0.867176\n",
            "[78]\teval-auc:0.770704\ttrain-auc:0.867335\n",
            "[79]\teval-auc:0.770759\ttrain-auc:0.867594\n",
            "[80]\teval-auc:0.770705\ttrain-auc:0.867881\n",
            "[81]\teval-auc:0.770802\ttrain-auc:0.868098\n",
            "[82]\teval-auc:0.770842\ttrain-auc:0.868478\n",
            "[83]\teval-auc:0.770807\ttrain-auc:0.868682\n",
            "[84]\teval-auc:0.770862\ttrain-auc:0.868932\n",
            "[85]\teval-auc:0.770906\ttrain-auc:0.869202\n",
            "[86]\teval-auc:0.771063\ttrain-auc:0.869611\n",
            "[87]\teval-auc:0.771078\ttrain-auc:0.869832\n",
            "[88]\teval-auc:0.771187\ttrain-auc:0.870097\n",
            "[89]\teval-auc:0.771253\ttrain-auc:0.870309\n",
            "[90]\teval-auc:0.771368\ttrain-auc:0.870735\n",
            "[91]\teval-auc:0.771356\ttrain-auc:0.871086\n",
            "[92]\teval-auc:0.771428\ttrain-auc:0.871514\n",
            "[93]\teval-auc:0.771371\ttrain-auc:0.871741\n",
            "[94]\teval-auc:0.771485\ttrain-auc:0.872134\n",
            "[95]\teval-auc:0.771556\ttrain-auc:0.872445\n",
            "[96]\teval-auc:0.771624\ttrain-auc:0.872901\n",
            "[97]\teval-auc:0.771667\ttrain-auc:0.873167\n",
            "[98]\teval-auc:0.771707\ttrain-auc:0.873517\n",
            "[99]\teval-auc:0.771663\ttrain-auc:0.873902\n",
            "[100]\teval-auc:0.771616\ttrain-auc:0.874104\n",
            "[101]\teval-auc:0.771687\ttrain-auc:0.874447\n",
            "[102]\teval-auc:0.771674\ttrain-auc:0.874833\n",
            "[103]\teval-auc:0.7719\ttrain-auc:0.875507\n",
            "[104]\teval-auc:0.77213\ttrain-auc:0.876203\n",
            "[105]\teval-auc:0.772378\ttrain-auc:0.876778\n",
            "[106]\teval-auc:0.772559\ttrain-auc:0.877411\n",
            "[107]\teval-auc:0.772637\ttrain-auc:0.877928\n",
            "[108]\teval-auc:0.772705\ttrain-auc:0.878414\n",
            "[109]\teval-auc:0.772686\ttrain-auc:0.878913\n",
            "[110]\teval-auc:0.772717\ttrain-auc:0.879384\n",
            "[111]\teval-auc:0.772711\ttrain-auc:0.879822\n",
            "[112]\teval-auc:0.772689\ttrain-auc:0.880277\n",
            "[113]\teval-auc:0.772629\ttrain-auc:0.880723\n",
            "[114]\teval-auc:0.772629\ttrain-auc:0.881184\n",
            "[115]\teval-auc:0.772549\ttrain-auc:0.881563\n",
            "[116]\teval-auc:0.772525\ttrain-auc:0.882014\n",
            "[117]\teval-auc:0.772398\ttrain-auc:0.882398\n",
            "[118]\teval-auc:0.772302\ttrain-auc:0.882712\n",
            "[119]\teval-auc:0.772267\ttrain-auc:0.883091\n",
            "[120]\teval-auc:0.772109\ttrain-auc:0.883472\n",
            "[121]\teval-auc:0.771947\ttrain-auc:0.88386\n",
            "[122]\teval-auc:0.771848\ttrain-auc:0.884204\n",
            "[123]\teval-auc:0.771886\ttrain-auc:0.884702\n",
            "[124]\teval-auc:0.771807\ttrain-auc:0.88503\n",
            "[125]\teval-auc:0.771877\ttrain-auc:0.885589\n",
            "[126]\teval-auc:0.771925\ttrain-auc:0.88602\n",
            "[127]\teval-auc:0.772032\ttrain-auc:0.886477\n",
            "[128]\teval-auc:0.77212\ttrain-auc:0.886837\n",
            "[129]\teval-auc:0.772116\ttrain-auc:0.887292\n",
            "[130]\teval-auc:0.771999\ttrain-auc:0.887727\n",
            "[131]\teval-auc:0.772019\ttrain-auc:0.888248\n",
            "[132]\teval-auc:0.77193\ttrain-auc:0.888612\n",
            "[133]\teval-auc:0.771987\ttrain-auc:0.88915\n",
            "[134]\teval-auc:0.772021\ttrain-auc:0.889861\n",
            "[135]\teval-auc:0.772024\ttrain-auc:0.890259\n",
            "[136]\teval-auc:0.772074\ttrain-auc:0.890994\n",
            "[137]\teval-auc:0.772144\ttrain-auc:0.891459\n",
            "[138]\teval-auc:0.772221\ttrain-auc:0.892124\n",
            "[139]\teval-auc:0.772295\ttrain-auc:0.892793\n",
            "[140]\teval-auc:0.772224\ttrain-auc:0.893193\n",
            "[141]\teval-auc:0.772296\ttrain-auc:0.893605\n",
            "[142]\teval-auc:0.772376\ttrain-auc:0.893988\n",
            "[143]\teval-auc:0.77245\ttrain-auc:0.894544\n",
            "[144]\teval-auc:0.772529\ttrain-auc:0.895081\n",
            "[145]\teval-auc:0.772551\ttrain-auc:0.895659\n",
            "[146]\teval-auc:0.772526\ttrain-auc:0.895926\n",
            "[147]\teval-auc:0.772598\ttrain-auc:0.896602\n",
            "[148]\teval-auc:0.772622\ttrain-auc:0.897071\n",
            "[149]\teval-auc:0.772682\ttrain-auc:0.897553\n",
            "[150]\teval-auc:0.772703\ttrain-auc:0.898181\n",
            "[151]\teval-auc:0.772697\ttrain-auc:0.898646\n",
            "[152]\teval-auc:0.772762\ttrain-auc:0.899263\n",
            "[153]\teval-auc:0.772806\ttrain-auc:0.89968\n",
            "[154]\teval-auc:0.772839\ttrain-auc:0.900301\n",
            "[155]\teval-auc:0.772837\ttrain-auc:0.900713\n",
            "[156]\teval-auc:0.772873\ttrain-auc:0.901243\n",
            "[157]\teval-auc:0.772973\ttrain-auc:0.901682\n",
            "[158]\teval-auc:0.772993\ttrain-auc:0.902197\n",
            "[159]\teval-auc:0.773103\ttrain-auc:0.902716\n",
            "[160]\teval-auc:0.773219\ttrain-auc:0.90317\n",
            "[161]\teval-auc:0.773252\ttrain-auc:0.903696\n",
            "[162]\teval-auc:0.773356\ttrain-auc:0.904127\n",
            "[163]\teval-auc:0.773321\ttrain-auc:0.904615\n",
            "[164]\teval-auc:0.773404\ttrain-auc:0.905011\n",
            "[165]\teval-auc:0.773384\ttrain-auc:0.905477\n",
            "[166]\teval-auc:0.773412\ttrain-auc:0.905822\n",
            "[167]\teval-auc:0.77338\ttrain-auc:0.906303\n",
            "[168]\teval-auc:0.773445\ttrain-auc:0.906673\n",
            "[169]\teval-auc:0.773434\ttrain-auc:0.907079\n",
            "[170]\teval-auc:0.773463\ttrain-auc:0.907406\n",
            "[171]\teval-auc:0.773407\ttrain-auc:0.907752\n",
            "[172]\teval-auc:0.773504\ttrain-auc:0.908122\n",
            "[173]\teval-auc:0.773467\ttrain-auc:0.908465\n",
            "[174]\teval-auc:0.773533\ttrain-auc:0.908791\n",
            "[175]\teval-auc:0.77347\ttrain-auc:0.909159\n",
            "[176]\teval-auc:0.773416\ttrain-auc:0.909557\n",
            "[177]\teval-auc:0.773495\ttrain-auc:0.909854\n",
            "[178]\teval-auc:0.773514\ttrain-auc:0.9102\n",
            "[179]\teval-auc:0.773607\ttrain-auc:0.910489\n",
            "[180]\teval-auc:0.773548\ttrain-auc:0.910796\n",
            "[181]\teval-auc:0.773574\ttrain-auc:0.911077\n",
            "[182]\teval-auc:0.773665\ttrain-auc:0.911343\n",
            "[183]\teval-auc:0.773686\ttrain-auc:0.911608\n",
            "[184]\teval-auc:0.773754\ttrain-auc:0.911893\n",
            "[185]\teval-auc:0.773769\ttrain-auc:0.912232\n",
            "[186]\teval-auc:0.77383\ttrain-auc:0.912493\n",
            "[187]\teval-auc:0.773778\ttrain-auc:0.912819\n",
            "[188]\teval-auc:0.773781\ttrain-auc:0.913266\n",
            "[189]\teval-auc:0.77394\ttrain-auc:0.913568\n",
            "[190]\teval-auc:0.773861\ttrain-auc:0.913865\n",
            "[191]\teval-auc:0.773961\ttrain-auc:0.914164\n",
            "[192]\teval-auc:0.773971\ttrain-auc:0.914461\n",
            "[193]\teval-auc:0.774064\ttrain-auc:0.914771\n",
            "[194]\teval-auc:0.773999\ttrain-auc:0.915028\n",
            "[195]\teval-auc:0.774034\ttrain-auc:0.915318\n",
            "[196]\teval-auc:0.774078\ttrain-auc:0.915683\n",
            "[197]\teval-auc:0.774216\ttrain-auc:0.916044\n",
            "[198]\teval-auc:0.774266\ttrain-auc:0.916434\n",
            "[199]\teval-auc:0.774236\ttrain-auc:0.916672\n"
          ]
        }
      ]
    },
    {
      "cell_type": "code",
      "metadata": {
        "id": "sx6vA3wSGTMu"
      },
      "source": [
        "bst.save_model('0001.model')"
      ],
      "execution_count": null,
      "outputs": []
    },
    {
      "cell_type": "code",
      "metadata": {
        "id": "jQXfugV_HTtY"
      },
      "source": [
        "#bst.load_model('./0001.model')#학습된 모델을 바로 올/돌릴 수 있게 됨, 오후에 다시 할 것 저장하고 불러오기"
      ],
      "execution_count": null,
      "outputs": []
    },
    {
      "cell_type": "code",
      "metadata": {
        "id": "NEt2A-M57d-q"
      },
      "source": [
        "#prediction"
      ],
      "execution_count": null,
      "outputs": []
    },
    {
      "cell_type": "code",
      "metadata": {
        "id": "PbqhBlcu7eBa"
      },
      "source": [
        "ypred = bst.predict(dtest)"
      ],
      "execution_count": null,
      "outputs": []
    },
    {
      "cell_type": "code",
      "metadata": {
        "colab": {
          "base_uri": "https://localhost:8080/"
        },
        "id": "4ZT6NikW7eEA",
        "outputId": "686d29f5-6d53-402c-c8d6-d820c29e01e1"
      },
      "source": [
        "type(ypred)"
      ],
      "execution_count": null,
      "outputs": [
        {
          "output_type": "execute_result",
          "data": {
            "text/plain": [
              "numpy.ndarray"
            ]
          },
          "metadata": {},
          "execution_count": 35
        }
      ]
    },
    {
      "cell_type": "code",
      "metadata": {
        "colab": {
          "base_uri": "https://localhost:8080/"
        },
        "id": "He4afToz7vRK",
        "outputId": "6aa8887b-177f-4347-e96b-535b28c270eb"
      },
      "source": [
        "ypred[:3] #0,1,2"
      ],
      "execution_count": null,
      "outputs": [
        {
          "output_type": "execute_result",
          "data": {
            "text/plain": [
              "array([0.7479134 , 0.18873663, 0.18588933], dtype=float32)"
            ]
          },
          "metadata": {},
          "execution_count": 36
        }
      ]
    },
    {
      "cell_type": "code",
      "metadata": {
        "id": "KGLki1li7vTi"
      },
      "source": [
        "#3가지 방법? 라운드 값을 취해서 np."
      ],
      "execution_count": null,
      "outputs": []
    },
    {
      "cell_type": "code",
      "metadata": {
        "id": "FkF2n70AB4HB"
      },
      "source": [
        ""
      ],
      "execution_count": null,
      "outputs": []
    },
    {
      "cell_type": "code",
      "metadata": {
        "id": "WIUULlPW8UKT"
      },
      "source": [
        "import numpy as np"
      ],
      "execution_count": null,
      "outputs": []
    },
    {
      "cell_type": "code",
      "metadata": {
        "id": "SMlhNfJ-8JYK"
      },
      "source": [
        "predictions = np.round(ypred)"
      ],
      "execution_count": null,
      "outputs": []
    },
    {
      "cell_type": "code",
      "metadata": {
        "colab": {
          "base_uri": "https://localhost:8080/"
        },
        "id": "DFWH1NOQ8aQA",
        "outputId": "d4dd4dab-6167-4f73-9723-c987e635aa13"
      },
      "source": [
        "predictions#정답값은 Y_test"
      ],
      "execution_count": null,
      "outputs": [
        {
          "output_type": "execute_result",
          "data": {
            "text/plain": [
              "array([1., 0., 0., ..., 0., 0., 0.], dtype=float32)"
            ]
          },
          "metadata": {},
          "execution_count": 40
        }
      ]
    },
    {
      "cell_type": "code",
      "metadata": {
        "id": "kW0v6Lpg8s89"
      },
      "source": [
        "from sklearn.metrics import recall_score"
      ],
      "execution_count": null,
      "outputs": []
    },
    {
      "cell_type": "code",
      "metadata": {
        "id": "hUn-byDYDQzO"
      },
      "source": [
        ""
      ],
      "execution_count": null,
      "outputs": []
    },
    {
      "cell_type": "code",
      "metadata": {
        "colab": {
          "base_uri": "https://localhost:8080/"
        },
        "id": "-MivBaro8t4r",
        "outputId": "a296b0d3-13f0-4589-950d-418ec8a3f1f3"
      },
      "source": [
        "recall_score(Y_test, predictions)"
      ],
      "execution_count": null,
      "outputs": [
        {
          "output_type": "execute_result",
          "data": {
            "text/plain": [
              "0.3565970453387672"
            ]
          },
          "metadata": {},
          "execution_count": 42
        }
      ]
    },
    {
      "cell_type": "code",
      "metadata": {
        "colab": {
          "base_uri": "https://localhost:8080/",
          "height": 313
        },
        "id": "hV50i_GUAyQX",
        "outputId": "85ec1c49-3d0c-4fe2-8a2c-aada18473268"
      },
      "source": [
        "xgb.plot_importance(bst)"
      ],
      "execution_count": null,
      "outputs": [
        {
          "output_type": "execute_result",
          "data": {
            "text/plain": [
              "<matplotlib.axes._subplots.AxesSubplot at 0x7f282da62c90>"
            ]
          },
          "metadata": {},
          "execution_count": 43
        },
        {
          "output_type": "display_data",
          "data": {
            "image/png": "[encoded data removed]",
            "text/plain": [
              "<Figure size 432x288 with 1 Axes>"
            ]
          },
          "metadata": {
            "needs_background": "light"
          }
        }
      ]
    }
  ]
}
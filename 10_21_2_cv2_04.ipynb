{
  "nbformat": 4,
  "nbformat_minor": 5,
  "metadata": {
    "kernelspec": {
      "display_name": "Python KOSA",
      "language": "python",
      "name": "kosa"
    },
    "language_info": {
      "codemirror_mode": {
        "name": "ipython",
        "version": 3
      },
      "file_extension": ".py",
      "mimetype": "text/x-python",
      "name": "python",
      "nbconvert_exporter": "python",
      "pygments_lexer": "ipython3",
      "version": "3.8.12"
    },
    "colab": {
      "name": "10.21-2 cv2_04.ipynb",
      "provenance": [],
      "collapsed_sections": [],
      "include_colab_link": true
    }
  },
  "cells": [
    {
      "cell_type": "markdown",
      "metadata": {
        "id": "view-in-github",
        "colab_type": "text"
      },
      "source": [
        "<a href=\"https://colab.research.google.com/github/deokwoo-han/abc/blob/master/10_21_2_cv2_04.ipynb\" target=\"_parent\"><img src=\"https://colab.research.google.com/assets/colab-badge.svg\" alt=\"Open In Colab\"/></a>"
      ]
    },
    {
      "cell_type": "code",
      "metadata": {
        "id": "07c579fe-6adf-4ba7-aeb3-69963d6fda6e"
      },
      "source": [
        "import cv2\n",
        "import time"
      ],
      "id": "07c579fe-6adf-4ba7-aeb3-69963d6fda6e",
      "execution_count": null,
      "outputs": []
    },
    {
      "cell_type": "code",
      "metadata": {
        "id": "4b9718b0-676a-4887-8505-0b987b104f17"
      },
      "source": [
        "cap = cv2.VideoCapture(0)#('.\\\\beam_welding.mp4')#(0) #카메라\n",
        "#인풋은 뭐냐에 따라 달라짐 "
      ],
      "id": "4b9718b0-676a-4887-8505-0b987b104f17",
      "execution_count": null,
      "outputs": []
    },
    {
      "cell_type": "code",
      "metadata": {
        "id": "f4866b6c-4321-4258-b427-bc974a0e1bde"
      },
      "source": [
        "prev_time = 0\n",
        "FPS = 3#1초에 1장 1\n",
        "#10 근데 32나 다를바 없음 원본이 1초에 32장이라...\n",
        "#초 당 몇 개씩을 가지고 올 것인지를 결정해야"
      ],
      "id": "f4866b6c-4321-4258-b427-bc974a0e1bde",
      "execution_count": null,
      "outputs": []
    },
    {
      "cell_type": "code",
      "metadata": {
        "id": "7b7385d5-ad56-4aa9-8d4d-8370c2043361",
        "outputId": "6d848da8-182c-42e7-bb71-e4f7a2325f9b"
      },
      "source": [
        "!cd"
      ],
      "id": "7b7385d5-ad56-4aa9-8d4d-8370c2043361",
      "execution_count": null,
      "outputs": [
        {
          "name": "stdout",
          "output_type": "stream",
          "text": [
            "C:\\Users\\COM\n"
          ]
        }
      ]
    },
    {
      "cell_type": "code",
      "metadata": {
        "id": "d7007c20-a860-4175-a278-48a5a6348921"
      },
      "source": [
        "while True:\n",
        "    ret, frame = cap.read()\n",
        "\n",
        "    if not ret:\n",
        "        break\n",
        "        \n",
        "    frame = cv2.resize(frame, (0, 0), fx=0.5, fy=0.5)#0.5, 스팅레이는 1\n",
        "    \n",
        "    current_time = time.time() - prev_time\n",
        "\n",
        "    if (ret is True) and (current_time > 1./ FPS):\n",
        "        prev_time = time.time() #1초보다 크면 아랫단계로\n",
        "     \n",
        "        cv2.imshow('frame', frame)\n",
        "        cv2.imwrite('.\\\\park_frame\\\\remocon{0}.jpg'.format(current_time), frame)#park, remocon, beam\n",
        "\n",
        "    if cv2.waitKey(10) == 27:\n",
        "        break\n",
        "\n",
        "cap.release()\n",
        "cv2.destroyAllWindows()"
      ],
      "id": "d7007c20-a860-4175-a278-48a5a6348921",
      "execution_count": null,
      "outputs": []
    },
    {
      "cell_type": "code",
      "metadata": {
        "id": "240affd0-9053-4cbd-bf01-7aca2458ec53"
      },
      "source": [
        "#cv2.destroyAllWindows()#27은 아스키코드 esc"
      ],
      "id": "240affd0-9053-4cbd-bf01-7aca2458ec53",
      "execution_count": null,
      "outputs": []
    }
  ]
}
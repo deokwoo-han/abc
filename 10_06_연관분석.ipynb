{
  "nbformat": 4,
  "nbformat_minor": 0,
  "metadata": {
    "colab": {
      "name": "10.06 연관분석.ipynb",
      "provenance": [],
      "collapsed_sections": [],
      "authorship_tag": "ABX9TyP2itT7DzUvwKlhieDsKrj8",
      "include_colab_link": true
    },
    "kernelspec": {
      "name": "python3",
      "display_name": "Python 3"
    },
    "language_info": {
      "name": "python"
    }
  },
  "cells": [
    {
      "cell_type": "markdown",
      "metadata": {
        "id": "view-in-github",
        "colab_type": "text"
      },
      "source": [
        "<a href=\"https://colab.research.google.com/github/deokwoo-han/abc/blob/master/10_06_%EC%97%B0%EA%B4%80%EB%B6%84%EC%84%9D.ipynb\" target=\"_parent\"><img src=\"https://colab.research.google.com/assets/colab-badge.svg\" alt=\"Open In Colab\"/></a>"
      ]
    },
    {
      "cell_type": "code",
      "metadata": {
        "id": "dqlkq1WSvjxT"
      },
      "source": [
        "import numpy as np # linear algebra\n",
        "import pandas as pd # data processing, CSV file I/O (e.g. pd.read_csv)\n",
        "import matplotlib.pyplot as plt\n",
        "import seaborn as sns\n",
        "color = sns.color_palette()\n",
        "import sys\n",
        "from itertools import combinations, groupby\n",
        "from collections import Counter\n",
        "from IPython.display import display\n",
        " \n",
        "# 데이터 파일(객체)이 어느정도 사이즈(MB) 인지 확인 하는 함수.\n",
        "def size(obj):\n",
        "    return \"{0:.2f} MB\".format(sys.getsizeof(obj) / (1000 * 1000))\n",
        "\n",
        "%matplotlib inline\n",
        "%config InlineBackend.figure_config = 'retina'\n",
        "\n",
        "#pd.options.mode.chained_assignment = None  # default='warn'"
      ],
      "execution_count": 1,
      "outputs": []
    },
    {
      "cell_type": "markdown",
      "metadata": {
        "id": "AsWQ6fTzje3g"
      },
      "source": [
        "###1. 구글 드라이버 파일 가져오기(시행자 경로에 해당 파일이 있어야 함)"
      ]
    },
    {
      "cell_type": "code",
      "metadata": {
        "colab": {
          "base_uri": "https://localhost:8080/"
        },
        "id": "dRSRKU0PvsuR",
        "outputId": "d36906bc-594c-4cc7-f16a-19fb209953f0"
      },
      "source": [
        "from google.colab import drive\n",
        "drive.mount('/content/drive')"
      ],
      "execution_count": 2,
      "outputs": [
        {
          "output_type": "stream",
          "name": "stdout",
          "text": [
            "Mounted at /content/drive\n"
          ]
        }
      ]
    },
    {
      "cell_type": "code",
      "metadata": {
        "colab": {
          "base_uri": "https://localhost:8080/"
        },
        "id": "Otri1bTFvsxM",
        "outputId": "3af8b706-f818-489e-c094-0a82eef2d9a3"
      },
      "source": [
        "! pwd cd"
      ],
      "execution_count": 3,
      "outputs": [
        {
          "output_type": "stream",
          "name": "stdout",
          "text": [
            "/content\n"
          ]
        }
      ]
    },
    {
      "cell_type": "markdown",
      "metadata": {
        "id": "DGbIS58Hdp9G"
      },
      "source": [
        "###2. 파일 불러와서 데이터 프레임으로 만들기"
      ]
    },
    {
      "cell_type": "code",
      "metadata": {
        "id": "0-7y0jD9vw6K"
      },
      "source": [
        "file_path = './drive/MyDrive/datas'\n",
        "order_products_train = pd.read_csv(file_path + \"/order_products__train.csv\")\n",
        "order_products_prior = pd.read_csv(file_path + \"/order_products__prior.csv\")\n",
        "order = pd.read_csv(file_path + \"/orders.csv\")\n",
        "products = pd.read_csv(file_path + \"/products.csv\")\n",
        "aisles = pd.read_csv(file_path + \"/aisles.csv\")\n",
        "departments = pd.read_csv(file_path + \"/departments.csv\")"
      ],
      "execution_count": 4,
      "outputs": []
    },
    {
      "cell_type": "markdown",
      "metadata": {
        "id": "fNhtDJ0ti0Fa"
      },
      "source": [
        "###3. order_products_prior 데이터프레임 용량 확인"
      ]
    },
    {
      "cell_type": "code",
      "metadata": {
        "id": "nbc6TluaG5Qk"
      },
      "source": [
        "def mem_usage(order_products_prior):\n",
        "    if isinstance(order_products_prior,pd.DataFrame):\n",
        "        usage_b = order_products_prior.memory_usage(deep=True).sum()\n",
        "    else: # we assume if not a df it's a series\n",
        "        usage_b = order_products_prior.memory_usage(deep=True)\n",
        "    usage_mb = usage_b / 1024 ** 2 # convert bytes to megabytes\n",
        "    return \"{:03.2f} MB\".format(usage_mb)"
      ],
      "execution_count": 5,
      "outputs": []
    },
    {
      "cell_type": "code",
      "metadata": {
        "colab": {
          "base_uri": "https://localhost:8080/",
          "height": 35
        },
        "id": "aOOrGqmnG_4T",
        "outputId": "92fbe114-607e-46e9-b871-d4cc791b18f0"
      },
      "source": [
        "mem_usage(order_products_prior)"
      ],
      "execution_count": 6,
      "outputs": [
        {
          "output_type": "execute_result",
          "data": {
            "application/vnd.google.colaboratory.intrinsic+json": {
              "type": "string"
            },
            "text/plain": [
              "'989.82 MB'"
            ]
          },
          "metadata": {},
          "execution_count": 6
        }
      ]
    },
    {
      "cell_type": "markdown",
      "metadata": {
        "id": "rBSu_goZi6O4"
      },
      "source": [
        "###4. order_products_prior int타입 데이터 용량 줄인 후 전체 확인"
      ]
    },
    {
      "cell_type": "code",
      "metadata": {
        "id": "HN8FErFAFY_m"
      },
      "source": [
        "def int_memory_reduce(order_products_prior) :\n",
        "    data_int = order_products_prior.select_dtypes(include=['int'])\n",
        "    converted_int = data_int.apply(pd.to_numeric,downcast='unsigned')\n",
        "    print(f\"Before : {mem_usage(data_int)} -> After : {mem_usage(converted_int)}\")\n",
        "    order_products_prior[converted_int.columns] = converted_int\n",
        "    return order_products_prior"
      ],
      "execution_count": 7,
      "outputs": []
    },
    {
      "cell_type": "code",
      "metadata": {
        "colab": {
          "base_uri": "https://localhost:8080/",
          "height": 442
        },
        "id": "w3bvtgc8Fh-0",
        "outputId": "5235434f-34cb-4d16-947b-8f0a8b5596ac"
      },
      "source": [
        "int_memory_reduce(order_products_prior)"
      ],
      "execution_count": 8,
      "outputs": [
        {
          "output_type": "stream",
          "name": "stdout",
          "text": [
            "Before : 989.82 MB -> After : 247.46 MB\n"
          ]
        },
        {
          "output_type": "execute_result",
          "data": {
            "text/html": [
              "<div>\n",
              "<style scoped>\n",
              "    .dataframe tbody tr th:only-of-type {\n",
              "        vertical-align: middle;\n",
              "    }\n",
              "\n",
              "    .dataframe tbody tr th {\n",
              "        vertical-align: top;\n",
              "    }\n",
              "\n",
              "    .dataframe thead th {\n",
              "        text-align: right;\n",
              "    }\n",
              "</style>\n",
              "<table border=\"1\" class=\"dataframe\">\n",
              "  <thead>\n",
              "    <tr style=\"text-align: right;\">\n",
              "      <th></th>\n",
              "      <th>order_id</th>\n",
              "      <th>product_id</th>\n",
              "      <th>add_to_cart_order</th>\n",
              "      <th>reordered</th>\n",
              "    </tr>\n",
              "  </thead>\n",
              "  <tbody>\n",
              "    <tr>\n",
              "      <th>0</th>\n",
              "      <td>2</td>\n",
              "      <td>33120</td>\n",
              "      <td>1</td>\n",
              "      <td>1</td>\n",
              "    </tr>\n",
              "    <tr>\n",
              "      <th>1</th>\n",
              "      <td>2</td>\n",
              "      <td>28985</td>\n",
              "      <td>2</td>\n",
              "      <td>1</td>\n",
              "    </tr>\n",
              "    <tr>\n",
              "      <th>2</th>\n",
              "      <td>2</td>\n",
              "      <td>9327</td>\n",
              "      <td>3</td>\n",
              "      <td>0</td>\n",
              "    </tr>\n",
              "    <tr>\n",
              "      <th>3</th>\n",
              "      <td>2</td>\n",
              "      <td>45918</td>\n",
              "      <td>4</td>\n",
              "      <td>1</td>\n",
              "    </tr>\n",
              "    <tr>\n",
              "      <th>4</th>\n",
              "      <td>2</td>\n",
              "      <td>30035</td>\n",
              "      <td>5</td>\n",
              "      <td>0</td>\n",
              "    </tr>\n",
              "    <tr>\n",
              "      <th>...</th>\n",
              "      <td>...</td>\n",
              "      <td>...</td>\n",
              "      <td>...</td>\n",
              "      <td>...</td>\n",
              "    </tr>\n",
              "    <tr>\n",
              "      <th>32434484</th>\n",
              "      <td>3421083</td>\n",
              "      <td>39678</td>\n",
              "      <td>6</td>\n",
              "      <td>1</td>\n",
              "    </tr>\n",
              "    <tr>\n",
              "      <th>32434485</th>\n",
              "      <td>3421083</td>\n",
              "      <td>11352</td>\n",
              "      <td>7</td>\n",
              "      <td>0</td>\n",
              "    </tr>\n",
              "    <tr>\n",
              "      <th>32434486</th>\n",
              "      <td>3421083</td>\n",
              "      <td>4600</td>\n",
              "      <td>8</td>\n",
              "      <td>0</td>\n",
              "    </tr>\n",
              "    <tr>\n",
              "      <th>32434487</th>\n",
              "      <td>3421083</td>\n",
              "      <td>24852</td>\n",
              "      <td>9</td>\n",
              "      <td>1</td>\n",
              "    </tr>\n",
              "    <tr>\n",
              "      <th>32434488</th>\n",
              "      <td>3421083</td>\n",
              "      <td>5020</td>\n",
              "      <td>10</td>\n",
              "      <td>1</td>\n",
              "    </tr>\n",
              "  </tbody>\n",
              "</table>\n",
              "<p>32434489 rows × 4 columns</p>\n",
              "</div>"
            ],
            "text/plain": [
              "          order_id  product_id  add_to_cart_order  reordered\n",
              "0                2       33120                  1          1\n",
              "1                2       28985                  2          1\n",
              "2                2        9327                  3          0\n",
              "3                2       45918                  4          1\n",
              "4                2       30035                  5          0\n",
              "...            ...         ...                ...        ...\n",
              "32434484   3421083       39678                  6          1\n",
              "32434485   3421083       11352                  7          0\n",
              "32434486   3421083        4600                  8          0\n",
              "32434487   3421083       24852                  9          1\n",
              "32434488   3421083        5020                 10          1\n",
              "\n",
              "[32434489 rows x 4 columns]"
            ]
          },
          "metadata": {},
          "execution_count": 8
        }
      ]
    },
    {
      "cell_type": "code",
      "metadata": {
        "id": "MFEuMLrtvw-L",
        "colab": {
          "base_uri": "https://localhost:8080/",
          "height": 224
        },
        "outputId": "7740d7b4-74b6-4511-c0bd-7740553b7488"
      },
      "source": [
        "print('order_products_prior -- dimensions: {0};   size: {1}'.format(order_products_prior.shape, size(order_products_prior)))\n",
        "display(order_products_prior.head())"
      ],
      "execution_count": 9,
      "outputs": [
        {
          "output_type": "stream",
          "name": "stdout",
          "text": [
            "order_products_prior -- dimensions: (32434489, 4);   size: 259.48 MB\n"
          ]
        },
        {
          "output_type": "display_data",
          "data": {
            "text/html": [
              "<div>\n",
              "<style scoped>\n",
              "    .dataframe tbody tr th:only-of-type {\n",
              "        vertical-align: middle;\n",
              "    }\n",
              "\n",
              "    .dataframe tbody tr th {\n",
              "        vertical-align: top;\n",
              "    }\n",
              "\n",
              "    .dataframe thead th {\n",
              "        text-align: right;\n",
              "    }\n",
              "</style>\n",
              "<table border=\"1\" class=\"dataframe\">\n",
              "  <thead>\n",
              "    <tr style=\"text-align: right;\">\n",
              "      <th></th>\n",
              "      <th>order_id</th>\n",
              "      <th>product_id</th>\n",
              "      <th>add_to_cart_order</th>\n",
              "      <th>reordered</th>\n",
              "    </tr>\n",
              "  </thead>\n",
              "  <tbody>\n",
              "    <tr>\n",
              "      <th>0</th>\n",
              "      <td>2</td>\n",
              "      <td>33120</td>\n",
              "      <td>1</td>\n",
              "      <td>1</td>\n",
              "    </tr>\n",
              "    <tr>\n",
              "      <th>1</th>\n",
              "      <td>2</td>\n",
              "      <td>28985</td>\n",
              "      <td>2</td>\n",
              "      <td>1</td>\n",
              "    </tr>\n",
              "    <tr>\n",
              "      <th>2</th>\n",
              "      <td>2</td>\n",
              "      <td>9327</td>\n",
              "      <td>3</td>\n",
              "      <td>0</td>\n",
              "    </tr>\n",
              "    <tr>\n",
              "      <th>3</th>\n",
              "      <td>2</td>\n",
              "      <td>45918</td>\n",
              "      <td>4</td>\n",
              "      <td>1</td>\n",
              "    </tr>\n",
              "    <tr>\n",
              "      <th>4</th>\n",
              "      <td>2</td>\n",
              "      <td>30035</td>\n",
              "      <td>5</td>\n",
              "      <td>0</td>\n",
              "    </tr>\n",
              "  </tbody>\n",
              "</table>\n",
              "</div>"
            ],
            "text/plain": [
              "   order_id  product_id  add_to_cart_order  reordered\n",
              "0         2       33120                  1          1\n",
              "1         2       28985                  2          1\n",
              "2         2        9327                  3          0\n",
              "3         2       45918                  4          1\n",
              "4         2       30035                  5          0"
            ]
          },
          "metadata": {}
        }
      ]
    },
    {
      "cell_type": "markdown",
      "metadata": {
        "id": "PYIcszVPj5Ho"
      },
      "source": [
        "###5. orders 데이터 프레임으로 바꿔서 order_id와 product_id -> item_id만 남겨놓기"
      ]
    },
    {
      "cell_type": "code",
      "metadata": {
        "colab": {
          "base_uri": "https://localhost:8080/"
        },
        "id": "HYyiu6cjvxAB",
        "outputId": "f94e73f7-2c5a-444c-8cc8-2b2a3072ce04"
      },
      "source": [
        "orders = order_products_prior.set_index('order_id')['product_id'].rename('item_id')\n",
        "print('dimensions: {0};   size: {1};   unique_orders: {2};   unique_items: {3}'\n",
        "      .format(orders.shape, size(orders), len(orders.index.unique()), len(orders.value_counts())))"
      ],
      "execution_count": 10,
      "outputs": [
        {
          "output_type": "stream",
          "name": "stdout",
          "text": [
            "dimensions: (32434489,);   size: 324.34 MB;   unique_orders: 3214874;   unique_items: 49677\n"
          ]
        }
      ]
    },
    {
      "cell_type": "code",
      "metadata": {
        "colab": {
          "base_uri": "https://localhost:8080/"
        },
        "id": "PdMtDeqNvxDc",
        "outputId": "3ede5a9f-5ea2-4282-e1cc-fc333a22387b"
      },
      "source": [
        "orders"
      ],
      "execution_count": 11,
      "outputs": [
        {
          "output_type": "execute_result",
          "data": {
            "text/plain": [
              "order_id\n",
              "2          33120\n",
              "2          28985\n",
              "2           9327\n",
              "2          45918\n",
              "2          30035\n",
              "           ...  \n",
              "3421083    39678\n",
              "3421083    11352\n",
              "3421083     4600\n",
              "3421083    24852\n",
              "3421083     5020\n",
              "Name: item_id, Length: 32434489, dtype: uint16"
            ]
          },
          "metadata": {},
          "execution_count": 11
        }
      ]
    },
    {
      "cell_type": "code",
      "metadata": {
        "colab": {
          "base_uri": "https://localhost:8080/"
        },
        "id": "jzW8NohyBoqR",
        "outputId": "47ada3f4-3960-468d-a18d-530d3cd80dac"
      },
      "source": [
        "orders.shape"
      ],
      "execution_count": 12,
      "outputs": [
        {
          "output_type": "execute_result",
          "data": {
            "text/plain": [
              "(32434489,)"
            ]
          },
          "metadata": {},
          "execution_count": 12
        }
      ]
    },
    {
      "cell_type": "code",
      "metadata": {
        "id": "Ao2aCv6Oyxi9",
        "colab": {
          "base_uri": "https://localhost:8080/"
        },
        "outputId": "8e469d6f-140f-4a8b-a24d-ef38557d987f"
      },
      "source": [
        "orders.dtypes"
      ],
      "execution_count": 13,
      "outputs": [
        {
          "output_type": "execute_result",
          "data": {
            "text/plain": [
              "dtype('uint16')"
            ]
          },
          "metadata": {},
          "execution_count": 13
        }
      ]
    },
    {
      "cell_type": "markdown",
      "metadata": {
        "id": "K9TuAbOd5LmN"
      },
      "source": [
        "###6. 연관 규칙 함수들"
      ]
    },
    {
      "cell_type": "code",
      "metadata": {
        "id": "bqsK0S2u3thf"
      },
      "source": [
        "# 단일 제품 또는 제품 집합 빈도수 반환\n",
        "def freq(iterable):\n",
        "    if type(iterable) == pd.core.series.Series:\n",
        "        return iterable.value_counts().rename(\"freq\")\n",
        "    else: \n",
        "        return pd.Series(Counter(iterable)).rename(\"freq\")\n",
        "     \n",
        "# 고유 주문번호 갯수 반환\n",
        "def order_count(order_item):\n",
        "    return len(set(order_item.index))\n",
        " \n",
        "# 한번에 한 제품 집합을 생성하는 generator 반환\n",
        "def get_item_pairs(order_item):\n",
        "    order_item = order_item.reset_index().values\n",
        "    for order_id, order_object in groupby(order_item, lambda x: x[0]):\n",
        "        item_list = [item[1] for item in order_object]\n",
        "               \n",
        "        for item_pair in combinations(item_list, 2):\n",
        "            yield item_pair            \n",
        " \n",
        "# 제품에 대한 빈도수 및 지지도 반환\n",
        "def merge_item_stats(item_pairs, item_stats):\n",
        "    return (item_pairs\n",
        "                .merge(item_stats.rename(columns={'freq': 'freqA', 'support': 'supportA'}), left_on='item_A', right_index=True)\n",
        "                .merge(item_stats.rename(columns={'freq': 'freqB', 'support': 'supportB'}), left_on='item_B', right_index=True))\n",
        " \n",
        "# 제품 이름 반환\n",
        "def merge_item_name(rules, item_name):\n",
        "    columns = ['itemA','itemB','freqAB','supportAB','freqA','supportA','freqB','supportB', \n",
        "               'confidenceAtoB','confidenceBtoA','lift']\n",
        "    rules = (rules\n",
        "                .merge(item_name.rename(columns={'item_name': 'itemA'}), left_on='item_A', right_on='item_id')\n",
        "                .merge(item_name.rename(columns={'item_name': 'itemB'}), left_on='item_B', right_on='item_id'))   \n",
        "    return rules[columns]"
      ],
      "execution_count": 14,
      "outputs": []
    },
    {
      "cell_type": "code",
      "metadata": {
        "id": "99xWhGl53sTD"
      },
      "source": [
        "# 주문 정보(주문번호를 인덱스로 하고 상품번호를 Value로하는 Series)와 최소 지지도를 입력받아 연관 규칙 반환\n",
        "def association_rules(order_item, min_support):\n",
        " \n",
        "    print(\"Starting order_item: {:22d}\".format(len(order_item)))\n",
        " \n",
        "    # 빈도수와 지지도를 계산\n",
        "    item_stats             = freq(order_item).to_frame(\"freq\")\n",
        "    item_stats['support']  = item_stats['freq'] / order_count(order_item) * 100\n",
        " \n",
        "    # 최소 지지도를 만족하지 못하는 제품은 제외\n",
        "    qualifying_items       = item_stats[item_stats['support'] >= min_support].index\n",
        "    order_item             = order_item[order_item.isin(qualifying_items)]\n",
        " \n",
        "    print(\"Items with support >= {}: {:15d}\".format(min_support, len(qualifying_items)))\n",
        "    print(\"Remaining order_item: {:21d}\".format(len(order_item)))\n",
        " \n",
        "    # 2개 미만의 제품 주문 정보는 제외\n",
        "    order_size             = freq(order_item.index)\n",
        "    qualifying_orders      = order_size[order_size >= 2].index\n",
        "    order_item             = order_item[order_item.index.isin(qualifying_orders)]\n",
        " \n",
        "    print(\"Remaining orders with 2+ items: {:11d}\".format(len(qualifying_orders)))\n",
        "    print(\"Remaining order_item: {:21d}\".format(len(order_item)))\n",
        " \n",
        "    # 빈도수와 지지도를 다시 계산\n",
        "    item_stats             = freq(order_item).to_frame(\"freq\")\n",
        "    item_stats['support']  = item_stats['freq'] / order_count(order_item) * 100\n",
        " \n",
        "    # 제품 집합에 대한 generator를 생성\n",
        "    item_pair_gen          = get_item_pairs(order_item)\n",
        " \n",
        "    # 제품 집합의 빈도수와 지지도를 계산\n",
        "    item_pairs              = freq(item_pair_gen).to_frame(\"freqAB\")\n",
        "    item_pairs['supportAB'] = item_pairs['freqAB'] / len(qualifying_orders) * 100\n",
        " \n",
        "    print(\"Item pairs: {:31d}\".format(len(item_pairs)))\n",
        " \n",
        "    # 최소 지지도를 만족하지 못하는 제품 집합을 제외\n",
        "    item_pairs              = item_pairs[item_pairs['supportAB'] >= min_support]\n",
        " \n",
        "    print(\"Item pairs with support >= {}: {:10d}\\n\".format(min_support, len(item_pairs)))\n",
        " \n",
        "    # 계산된 연관 규칙을 계산된 지표들과 함께 테이블로 생성\n",
        "    item_pairs = item_pairs.reset_index().rename(columns={'level_0': 'item_A', 'level_1': 'item_B'})\n",
        "    item_pairs = merge_item_stats(item_pairs, item_stats)\n",
        "     \n",
        "    item_pairs['confidenceAtoB'] = item_pairs['supportAB'] / item_pairs['supportA']\n",
        "    item_pairs['confidenceBtoA'] = item_pairs['supportAB'] / item_pairs['supportB']\n",
        "    item_pairs['lift']           = item_pairs['supportAB'] / (item_pairs['supportA'] * item_pairs['supportB'])\n",
        "     \n",
        "    # 향상도를 내림차순으로 정렬하여 연관 규칙 결과를 반환\n",
        "    return item_pairs.sort_values('lift', ascending=False)"
      ],
      "execution_count": 15,
      "outputs": []
    },
    {
      "cell_type": "markdown",
      "metadata": {
        "id": "NfmFGzJzhzfU"
      },
      "source": [
        "###7. 찾아낸 연관규칙 개수와 찾는 데 걸린 시간"
      ]
    },
    {
      "cell_type": "code",
      "metadata": {
        "colab": {
          "base_uri": "https://localhost:8080/"
        },
        "id": "djCf4BuGzDP8",
        "outputId": "f6ca3eb5-35bb-4d41-a916-a9dab1a5a7af"
      },
      "source": [
        "%%time\n",
        "rules = association_rules(orders, 0.01)"
      ],
      "execution_count": 16,
      "outputs": [
        {
          "output_type": "stream",
          "name": "stdout",
          "text": [
            "Starting order_item:               32434489\n",
            "Items with support >= 0.01:           10906\n",
            "Remaining order_item:              29843570\n",
            "Remaining orders with 2+ items:     3013325\n",
            "Remaining order_item:              29662716\n",
            "Item pairs:                        30622410\n",
            "Item pairs with support >= 0.01:      48751\n",
            "\n",
            "CPU times: user 5min 18s, sys: 5.63 s, total: 5min 23s\n",
            "Wall time: 5min 23s\n"
          ]
        }
      ]
    },
    {
      "cell_type": "markdown",
      "metadata": {
        "id": "4kBwkyhih3lZ"
      },
      "source": [
        "###8. A제품과 B제품 간의 연관 규칙 결과 테이블(향상도 순)"
      ]
    },
    {
      "cell_type": "markdown",
      "metadata": {
        "id": "Qlu0XbCTr85F"
      },
      "source": [
        "freqAB: 제품 A, B 동시 구매 빈도수\n",
        "\n",
        "supportAB: 전체 주문 내역 중 제품 A, B 동시 구매비율\n",
        "\n",
        "freqA: 제품 A 구매 빈도수\n",
        "\n",
        "supportA: 전체 주문 내역 중 제품 A 구매비율\n",
        "\n",
        "freqB: 제품 B 구매 빈도수\n",
        "\n",
        "supportB: 전체 주문 내역 중 제품 B 구매비율\n",
        "\n",
        "confidenceAtoB: 제품 A가 구매되었을 때 제품 B가 추가로 구매될 조건부확률\n",
        "\n",
        "confidenceBtoA: 제품 B가 구매되었을 때 제품 A가 추가로 구매될 조건부확률\n",
        "\n",
        "lift: 동시 구매 여부를 알기 위해 서로 간의 연관성을 파악하는 향상도(1보다 높을 경우 itemA, itemB 두 품목 간의 긍정적 관계, 낮을 경우 두 품목 간의 부정적 관계, 1일 경우 관계 없음)\n",
        "\n"
      ]
    },
    {
      "cell_type": "code",
      "metadata": {
        "id": "srsqp_EZzDTR",
        "colab": {
          "base_uri": "https://localhost:8080/",
          "height": 930
        },
        "outputId": "ed9f2584-d40b-4001-a4ef-c7e05e4db518"
      },
      "source": [
        "item_name   = pd.read_csv(file_path + \"/products.csv\")\n",
        "item_name   = item_name.rename(columns={'product_id':'item_id', 'product_name':'item_name'})\n",
        "rules_final = merge_item_name(rules, item_name).sort_values('lift', ascending=False)\n",
        "display(rules_final)"
      ],
      "execution_count": 17,
      "outputs": [
        {
          "output_type": "display_data",
          "data": {
            "text/html": [
              "<div>\n",
              "<style scoped>\n",
              "    .dataframe tbody tr th:only-of-type {\n",
              "        vertical-align: middle;\n",
              "    }\n",
              "\n",
              "    .dataframe tbody tr th {\n",
              "        vertical-align: top;\n",
              "    }\n",
              "\n",
              "    .dataframe thead th {\n",
              "        text-align: right;\n",
              "    }\n",
              "</style>\n",
              "<table border=\"1\" class=\"dataframe\">\n",
              "  <thead>\n",
              "    <tr style=\"text-align: right;\">\n",
              "      <th></th>\n",
              "      <th>itemA</th>\n",
              "      <th>itemB</th>\n",
              "      <th>freqAB</th>\n",
              "      <th>supportAB</th>\n",
              "      <th>freqA</th>\n",
              "      <th>supportA</th>\n",
              "      <th>freqB</th>\n",
              "      <th>supportB</th>\n",
              "      <th>confidenceAtoB</th>\n",
              "      <th>confidenceBtoA</th>\n",
              "      <th>lift</th>\n",
              "    </tr>\n",
              "  </thead>\n",
              "  <tbody>\n",
              "    <tr>\n",
              "      <th>0</th>\n",
              "      <td>Organic Strawberry Chia Lowfat 2% Cottage Cheese</td>\n",
              "      <td>Organic Cottage Cheese Blueberry Acai Chia</td>\n",
              "      <td>306</td>\n",
              "      <td>0.010155</td>\n",
              "      <td>1163</td>\n",
              "      <td>0.038595</td>\n",
              "      <td>839</td>\n",
              "      <td>0.027843</td>\n",
              "      <td>0.263113</td>\n",
              "      <td>0.364720</td>\n",
              "      <td>9.449868</td>\n",
              "    </tr>\n",
              "    <tr>\n",
              "      <th>1</th>\n",
              "      <td>Grain Free Chicken Formula Cat Food</td>\n",
              "      <td>Grain Free Turkey Formula Cat Food</td>\n",
              "      <td>318</td>\n",
              "      <td>0.010553</td>\n",
              "      <td>1809</td>\n",
              "      <td>0.060033</td>\n",
              "      <td>879</td>\n",
              "      <td>0.029170</td>\n",
              "      <td>0.175788</td>\n",
              "      <td>0.361775</td>\n",
              "      <td>6.026229</td>\n",
              "    </tr>\n",
              "    <tr>\n",
              "      <th>3</th>\n",
              "      <td>Organic Fruit Yogurt Smoothie Mixed Berry</td>\n",
              "      <td>Apple Blueberry Fruit Yogurt Smoothie</td>\n",
              "      <td>349</td>\n",
              "      <td>0.011582</td>\n",
              "      <td>1518</td>\n",
              "      <td>0.050376</td>\n",
              "      <td>1249</td>\n",
              "      <td>0.041449</td>\n",
              "      <td>0.229908</td>\n",
              "      <td>0.279424</td>\n",
              "      <td>5.546732</td>\n",
              "    </tr>\n",
              "    <tr>\n",
              "      <th>9</th>\n",
              "      <td>Nonfat Strawberry With Fruit On The Bottom Gre...</td>\n",
              "      <td>0% Greek, Blueberry on the Bottom Yogurt</td>\n",
              "      <td>409</td>\n",
              "      <td>0.013573</td>\n",
              "      <td>1666</td>\n",
              "      <td>0.055288</td>\n",
              "      <td>1391</td>\n",
              "      <td>0.046162</td>\n",
              "      <td>0.245498</td>\n",
              "      <td>0.294033</td>\n",
              "      <td>5.318230</td>\n",
              "    </tr>\n",
              "    <tr>\n",
              "      <th>10</th>\n",
              "      <td>Organic Grapefruit Ginger Sparkling Yerba Mate</td>\n",
              "      <td>Cranberry Pomegranate Sparkling Yerba Mate</td>\n",
              "      <td>351</td>\n",
              "      <td>0.011648</td>\n",
              "      <td>1731</td>\n",
              "      <td>0.057445</td>\n",
              "      <td>1149</td>\n",
              "      <td>0.038131</td>\n",
              "      <td>0.202773</td>\n",
              "      <td>0.305483</td>\n",
              "      <td>5.317849</td>\n",
              "    </tr>\n",
              "    <tr>\n",
              "      <th>...</th>\n",
              "      <td>...</td>\n",
              "      <td>...</td>\n",
              "      <td>...</td>\n",
              "      <td>...</td>\n",
              "      <td>...</td>\n",
              "      <td>...</td>\n",
              "      <td>...</td>\n",
              "      <td>...</td>\n",
              "      <td>...</td>\n",
              "      <td>...</td>\n",
              "      <td>...</td>\n",
              "    </tr>\n",
              "    <tr>\n",
              "      <th>7271</th>\n",
              "      <td>Organic Strawberries</td>\n",
              "      <td>Strawberries</td>\n",
              "      <td>640</td>\n",
              "      <td>0.021239</td>\n",
              "      <td>263416</td>\n",
              "      <td>8.741706</td>\n",
              "      <td>141805</td>\n",
              "      <td>4.705931</td>\n",
              "      <td>0.002430</td>\n",
              "      <td>0.004513</td>\n",
              "      <td>0.000516</td>\n",
              "    </tr>\n",
              "    <tr>\n",
              "      <th>6763</th>\n",
              "      <td>Organic Hass Avocado</td>\n",
              "      <td>Organic Avocado</td>\n",
              "      <td>464</td>\n",
              "      <td>0.015398</td>\n",
              "      <td>212785</td>\n",
              "      <td>7.061469</td>\n",
              "      <td>176241</td>\n",
              "      <td>5.848722</td>\n",
              "      <td>0.002181</td>\n",
              "      <td>0.002633</td>\n",
              "      <td>0.000373</td>\n",
              "    </tr>\n",
              "    <tr>\n",
              "      <th>4387</th>\n",
              "      <td>Organic Avocado</td>\n",
              "      <td>Organic Hass Avocado</td>\n",
              "      <td>443</td>\n",
              "      <td>0.014701</td>\n",
              "      <td>176241</td>\n",
              "      <td>5.848722</td>\n",
              "      <td>212785</td>\n",
              "      <td>7.061469</td>\n",
              "      <td>0.002514</td>\n",
              "      <td>0.002082</td>\n",
              "      <td>0.000356</td>\n",
              "    </tr>\n",
              "    <tr>\n",
              "      <th>2596</th>\n",
              "      <td>Banana</td>\n",
              "      <td>Bag of Organic Bananas</td>\n",
              "      <td>654</td>\n",
              "      <td>0.021704</td>\n",
              "      <td>470096</td>\n",
              "      <td>15.600574</td>\n",
              "      <td>376367</td>\n",
              "      <td>12.490090</td>\n",
              "      <td>0.001391</td>\n",
              "      <td>0.001738</td>\n",
              "      <td>0.000111</td>\n",
              "    </tr>\n",
              "    <tr>\n",
              "      <th>670</th>\n",
              "      <td>Bag of Organic Bananas</td>\n",
              "      <td>Banana</td>\n",
              "      <td>522</td>\n",
              "      <td>0.017323</td>\n",
              "      <td>376367</td>\n",
              "      <td>12.490090</td>\n",
              "      <td>470096</td>\n",
              "      <td>15.600574</td>\n",
              "      <td>0.001387</td>\n",
              "      <td>0.001110</td>\n",
              "      <td>0.000089</td>\n",
              "    </tr>\n",
              "  </tbody>\n",
              "</table>\n",
              "<p>48751 rows × 11 columns</p>\n",
              "</div>"
            ],
            "text/plain": [
              "                                                  itemA  ...      lift\n",
              "0      Organic Strawberry Chia Lowfat 2% Cottage Cheese  ...  9.449868\n",
              "1                   Grain Free Chicken Formula Cat Food  ...  6.026229\n",
              "3             Organic Fruit Yogurt Smoothie Mixed Berry  ...  5.546732\n",
              "9     Nonfat Strawberry With Fruit On The Bottom Gre...  ...  5.318230\n",
              "10       Organic Grapefruit Ginger Sparkling Yerba Mate  ...  5.317849\n",
              "...                                                 ...  ...       ...\n",
              "7271                               Organic Strawberries  ...  0.000516\n",
              "6763                               Organic Hass Avocado  ...  0.000373\n",
              "4387                                    Organic Avocado  ...  0.000356\n",
              "2596                                             Banana  ...  0.000111\n",
              "670                              Bag of Organic Bananas  ...  0.000089\n",
              "\n",
              "[48751 rows x 11 columns]"
            ]
          },
          "metadata": {}
        }
      ]
    },
    {
      "cell_type": "code",
      "metadata": {
        "colab": {
          "base_uri": "https://localhost:8080/",
          "height": 1000
        },
        "id": "2Ygz8Ts--4aI",
        "outputId": "4f88929e-004b-470e-fe8b-5fcec84576bf"
      },
      "source": [
        "rules_final.head(20)"
      ],
      "execution_count": 18,
      "outputs": [
        {
          "output_type": "execute_result",
          "data": {
            "text/html": [
              "<div>\n",
              "<style scoped>\n",
              "    .dataframe tbody tr th:only-of-type {\n",
              "        vertical-align: middle;\n",
              "    }\n",
              "\n",
              "    .dataframe tbody tr th {\n",
              "        vertical-align: top;\n",
              "    }\n",
              "\n",
              "    .dataframe thead th {\n",
              "        text-align: right;\n",
              "    }\n",
              "</style>\n",
              "<table border=\"1\" class=\"dataframe\">\n",
              "  <thead>\n",
              "    <tr style=\"text-align: right;\">\n",
              "      <th></th>\n",
              "      <th>itemA</th>\n",
              "      <th>itemB</th>\n",
              "      <th>freqAB</th>\n",
              "      <th>supportAB</th>\n",
              "      <th>freqA</th>\n",
              "      <th>supportA</th>\n",
              "      <th>freqB</th>\n",
              "      <th>supportB</th>\n",
              "      <th>confidenceAtoB</th>\n",
              "      <th>confidenceBtoA</th>\n",
              "      <th>lift</th>\n",
              "    </tr>\n",
              "  </thead>\n",
              "  <tbody>\n",
              "    <tr>\n",
              "      <th>0</th>\n",
              "      <td>Organic Strawberry Chia Lowfat 2% Cottage Cheese</td>\n",
              "      <td>Organic Cottage Cheese Blueberry Acai Chia</td>\n",
              "      <td>306</td>\n",
              "      <td>0.010155</td>\n",
              "      <td>1163</td>\n",
              "      <td>0.038595</td>\n",
              "      <td>839</td>\n",
              "      <td>0.027843</td>\n",
              "      <td>0.263113</td>\n",
              "      <td>0.364720</td>\n",
              "      <td>9.449868</td>\n",
              "    </tr>\n",
              "    <tr>\n",
              "      <th>1</th>\n",
              "      <td>Grain Free Chicken Formula Cat Food</td>\n",
              "      <td>Grain Free Turkey Formula Cat Food</td>\n",
              "      <td>318</td>\n",
              "      <td>0.010553</td>\n",
              "      <td>1809</td>\n",
              "      <td>0.060033</td>\n",
              "      <td>879</td>\n",
              "      <td>0.029170</td>\n",
              "      <td>0.175788</td>\n",
              "      <td>0.361775</td>\n",
              "      <td>6.026229</td>\n",
              "    </tr>\n",
              "    <tr>\n",
              "      <th>3</th>\n",
              "      <td>Organic Fruit Yogurt Smoothie Mixed Berry</td>\n",
              "      <td>Apple Blueberry Fruit Yogurt Smoothie</td>\n",
              "      <td>349</td>\n",
              "      <td>0.011582</td>\n",
              "      <td>1518</td>\n",
              "      <td>0.050376</td>\n",
              "      <td>1249</td>\n",
              "      <td>0.041449</td>\n",
              "      <td>0.229908</td>\n",
              "      <td>0.279424</td>\n",
              "      <td>5.546732</td>\n",
              "    </tr>\n",
              "    <tr>\n",
              "      <th>9</th>\n",
              "      <td>Nonfat Strawberry With Fruit On The Bottom Gre...</td>\n",
              "      <td>0% Greek, Blueberry on the Bottom Yogurt</td>\n",
              "      <td>409</td>\n",
              "      <td>0.013573</td>\n",
              "      <td>1666</td>\n",
              "      <td>0.055288</td>\n",
              "      <td>1391</td>\n",
              "      <td>0.046162</td>\n",
              "      <td>0.245498</td>\n",
              "      <td>0.294033</td>\n",
              "      <td>5.318230</td>\n",
              "    </tr>\n",
              "    <tr>\n",
              "      <th>10</th>\n",
              "      <td>Organic Grapefruit Ginger Sparkling Yerba Mate</td>\n",
              "      <td>Cranberry Pomegranate Sparkling Yerba Mate</td>\n",
              "      <td>351</td>\n",
              "      <td>0.011648</td>\n",
              "      <td>1731</td>\n",
              "      <td>0.057445</td>\n",
              "      <td>1149</td>\n",
              "      <td>0.038131</td>\n",
              "      <td>0.202773</td>\n",
              "      <td>0.305483</td>\n",
              "      <td>5.317849</td>\n",
              "    </tr>\n",
              "    <tr>\n",
              "      <th>11</th>\n",
              "      <td>Baby Food Pouch - Roasted Carrot Spinach &amp; Beans</td>\n",
              "      <td>Baby Food Pouch - Butternut Squash, Carrot &amp; C...</td>\n",
              "      <td>332</td>\n",
              "      <td>0.011018</td>\n",
              "      <td>1503</td>\n",
              "      <td>0.049878</td>\n",
              "      <td>1290</td>\n",
              "      <td>0.042810</td>\n",
              "      <td>0.220892</td>\n",
              "      <td>0.257364</td>\n",
              "      <td>5.159830</td>\n",
              "    </tr>\n",
              "    <tr>\n",
              "      <th>12</th>\n",
              "      <td>Unsweetened Whole Milk Mixed Berry Greek Yogurt</td>\n",
              "      <td>Unsweetened Whole Milk Blueberry Greek Yogurt</td>\n",
              "      <td>438</td>\n",
              "      <td>0.014535</td>\n",
              "      <td>1622</td>\n",
              "      <td>0.053828</td>\n",
              "      <td>1621</td>\n",
              "      <td>0.053794</td>\n",
              "      <td>0.270037</td>\n",
              "      <td>0.270204</td>\n",
              "      <td>5.019798</td>\n",
              "    </tr>\n",
              "    <tr>\n",
              "      <th>23</th>\n",
              "      <td>Uncured Cracked Pepper Beef</td>\n",
              "      <td>Chipotle Beef &amp; Pork Realstick</td>\n",
              "      <td>410</td>\n",
              "      <td>0.013606</td>\n",
              "      <td>1839</td>\n",
              "      <td>0.061029</td>\n",
              "      <td>1370</td>\n",
              "      <td>0.045465</td>\n",
              "      <td>0.222947</td>\n",
              "      <td>0.299270</td>\n",
              "      <td>4.903741</td>\n",
              "    </tr>\n",
              "    <tr>\n",
              "      <th>24</th>\n",
              "      <td>Organic Mango Yogurt</td>\n",
              "      <td>Organic Whole Milk Washington Black Cherry Yogurt</td>\n",
              "      <td>334</td>\n",
              "      <td>0.011084</td>\n",
              "      <td>1675</td>\n",
              "      <td>0.055586</td>\n",
              "      <td>1390</td>\n",
              "      <td>0.046128</td>\n",
              "      <td>0.199403</td>\n",
              "      <td>0.240288</td>\n",
              "      <td>4.322777</td>\n",
              "    </tr>\n",
              "    <tr>\n",
              "      <th>2</th>\n",
              "      <td>Grain Free Chicken Formula Cat Food</td>\n",
              "      <td>Grain Free Turkey &amp; Salmon Formula Cat Food</td>\n",
              "      <td>391</td>\n",
              "      <td>0.012976</td>\n",
              "      <td>1809</td>\n",
              "      <td>0.060033</td>\n",
              "      <td>1553</td>\n",
              "      <td>0.051538</td>\n",
              "      <td>0.216142</td>\n",
              "      <td>0.251771</td>\n",
              "      <td>4.193848</td>\n",
              "    </tr>\n",
              "    <tr>\n",
              "      <th>25</th>\n",
              "      <td>Raspberry Essence Water</td>\n",
              "      <td>Unsweetened Pomegranate Essence Water</td>\n",
              "      <td>366</td>\n",
              "      <td>0.012146</td>\n",
              "      <td>2025</td>\n",
              "      <td>0.067202</td>\n",
              "      <td>1304</td>\n",
              "      <td>0.043274</td>\n",
              "      <td>0.180741</td>\n",
              "      <td>0.280675</td>\n",
              "      <td>4.176615</td>\n",
              "    </tr>\n",
              "    <tr>\n",
              "      <th>13</th>\n",
              "      <td>Unsweetened Whole Milk Strawberry Yogurt</td>\n",
              "      <td>Unsweetened Whole Milk Blueberry Greek Yogurt</td>\n",
              "      <td>440</td>\n",
              "      <td>0.014602</td>\n",
              "      <td>1965</td>\n",
              "      <td>0.065210</td>\n",
              "      <td>1621</td>\n",
              "      <td>0.053794</td>\n",
              "      <td>0.223919</td>\n",
              "      <td>0.271437</td>\n",
              "      <td>4.162489</td>\n",
              "    </tr>\n",
              "    <tr>\n",
              "      <th>14</th>\n",
              "      <td>Unsweetened Whole Milk Peach Greek Yogurt</td>\n",
              "      <td>Unsweetened Whole Milk Blueberry Greek Yogurt</td>\n",
              "      <td>421</td>\n",
              "      <td>0.013971</td>\n",
              "      <td>1922</td>\n",
              "      <td>0.063783</td>\n",
              "      <td>1621</td>\n",
              "      <td>0.053794</td>\n",
              "      <td>0.219043</td>\n",
              "      <td>0.259716</td>\n",
              "      <td>4.071849</td>\n",
              "    </tr>\n",
              "    <tr>\n",
              "      <th>44</th>\n",
              "      <td>Oh My Yog! Pacific Coast Strawberry Trilayer Y...</td>\n",
              "      <td>Oh My Yog! Organic Wild Quebec Blueberry Cream...</td>\n",
              "      <td>860</td>\n",
              "      <td>0.028540</td>\n",
              "      <td>2857</td>\n",
              "      <td>0.094812</td>\n",
              "      <td>2271</td>\n",
              "      <td>0.075365</td>\n",
              "      <td>0.301015</td>\n",
              "      <td>0.378688</td>\n",
              "      <td>3.994083</td>\n",
              "    </tr>\n",
              "    <tr>\n",
              "      <th>55</th>\n",
              "      <td>Mighty 4 Kale, Strawberry, Amaranth &amp; Greek Yo...</td>\n",
              "      <td>Mighty 4 Essential Tots Spinach, Kiwi, Barley ...</td>\n",
              "      <td>390</td>\n",
              "      <td>0.012943</td>\n",
              "      <td>2206</td>\n",
              "      <td>0.073208</td>\n",
              "      <td>1337</td>\n",
              "      <td>0.044370</td>\n",
              "      <td>0.176791</td>\n",
              "      <td>0.291698</td>\n",
              "      <td>3.984498</td>\n",
              "    </tr>\n",
              "    <tr>\n",
              "      <th>20</th>\n",
              "      <td>Unsweetened Whole Milk Peach Greek Yogurt</td>\n",
              "      <td>Unsweetened Whole Milk Strawberry Yogurt</td>\n",
              "      <td>499</td>\n",
              "      <td>0.016560</td>\n",
              "      <td>1922</td>\n",
              "      <td>0.063783</td>\n",
              "      <td>1965</td>\n",
              "      <td>0.065210</td>\n",
              "      <td>0.259625</td>\n",
              "      <td>0.253944</td>\n",
              "      <td>3.981352</td>\n",
              "    </tr>\n",
              "    <tr>\n",
              "      <th>65</th>\n",
              "      <td>0% Greek, Blueberry on the Bottom Yogurt</td>\n",
              "      <td>Nonfat Strawberry With Fruit On The Bottom Gre...</td>\n",
              "      <td>305</td>\n",
              "      <td>0.010122</td>\n",
              "      <td>1391</td>\n",
              "      <td>0.046162</td>\n",
              "      <td>1666</td>\n",
              "      <td>0.055288</td>\n",
              "      <td>0.219267</td>\n",
              "      <td>0.183073</td>\n",
              "      <td>3.965918</td>\n",
              "    </tr>\n",
              "    <tr>\n",
              "      <th>15</th>\n",
              "      <td>Unsweetened Whole Milk Mixed Berry Greek Yogurt</td>\n",
              "      <td>Unsweetened Whole Milk Peach Greek Yogurt</td>\n",
              "      <td>410</td>\n",
              "      <td>0.013606</td>\n",
              "      <td>1622</td>\n",
              "      <td>0.053828</td>\n",
              "      <td>1922</td>\n",
              "      <td>0.063783</td>\n",
              "      <td>0.252774</td>\n",
              "      <td>0.213319</td>\n",
              "      <td>3.963014</td>\n",
              "    </tr>\n",
              "    <tr>\n",
              "      <th>43</th>\n",
              "      <td>Unsweetened Whole Milk Peach Greek Yogurt</td>\n",
              "      <td>Unsweetened Whole Milk Mixed Berry Greek Yogurt</td>\n",
              "      <td>407</td>\n",
              "      <td>0.013507</td>\n",
              "      <td>1922</td>\n",
              "      <td>0.063783</td>\n",
              "      <td>1622</td>\n",
              "      <td>0.053828</td>\n",
              "      <td>0.211759</td>\n",
              "      <td>0.250925</td>\n",
              "      <td>3.934016</td>\n",
              "    </tr>\n",
              "    <tr>\n",
              "      <th>26</th>\n",
              "      <td>Unsweetened Blackberry Water</td>\n",
              "      <td>Unsweetened Pomegranate Essence Water</td>\n",
              "      <td>494</td>\n",
              "      <td>0.016394</td>\n",
              "      <td>3114</td>\n",
              "      <td>0.103341</td>\n",
              "      <td>1304</td>\n",
              "      <td>0.043274</td>\n",
              "      <td>0.158638</td>\n",
              "      <td>0.378834</td>\n",
              "      <td>3.665867</td>\n",
              "    </tr>\n",
              "  </tbody>\n",
              "</table>\n",
              "</div>"
            ],
            "text/plain": [
              "                                                itemA  ...      lift\n",
              "0    Organic Strawberry Chia Lowfat 2% Cottage Cheese  ...  9.449868\n",
              "1                 Grain Free Chicken Formula Cat Food  ...  6.026229\n",
              "3           Organic Fruit Yogurt Smoothie Mixed Berry  ...  5.546732\n",
              "9   Nonfat Strawberry With Fruit On The Bottom Gre...  ...  5.318230\n",
              "10     Organic Grapefruit Ginger Sparkling Yerba Mate  ...  5.317849\n",
              "11   Baby Food Pouch - Roasted Carrot Spinach & Beans  ...  5.159830\n",
              "12    Unsweetened Whole Milk Mixed Berry Greek Yogurt  ...  5.019798\n",
              "23                        Uncured Cracked Pepper Beef  ...  4.903741\n",
              "24                               Organic Mango Yogurt  ...  4.322777\n",
              "2                 Grain Free Chicken Formula Cat Food  ...  4.193848\n",
              "25                            Raspberry Essence Water  ...  4.176615\n",
              "13           Unsweetened Whole Milk Strawberry Yogurt  ...  4.162489\n",
              "14          Unsweetened Whole Milk Peach Greek Yogurt  ...  4.071849\n",
              "44  Oh My Yog! Pacific Coast Strawberry Trilayer Y...  ...  3.994083\n",
              "55  Mighty 4 Kale, Strawberry, Amaranth & Greek Yo...  ...  3.984498\n",
              "20          Unsweetened Whole Milk Peach Greek Yogurt  ...  3.981352\n",
              "65           0% Greek, Blueberry on the Bottom Yogurt  ...  3.965918\n",
              "15    Unsweetened Whole Milk Mixed Berry Greek Yogurt  ...  3.963014\n",
              "43          Unsweetened Whole Milk Peach Greek Yogurt  ...  3.934016\n",
              "26                       Unsweetened Blackberry Water  ...  3.665867\n",
              "\n",
              "[20 rows x 11 columns]"
            ]
          },
          "metadata": {},
          "execution_count": 18
        }
      ]
    },
    {
      "cell_type": "markdown",
      "metadata": {
        "id": "1d4RWNVR-e4I"
      },
      "source": [
        "###9. 데이터프레임 CSV화"
      ]
    },
    {
      "cell_type": "code",
      "metadata": {
        "id": "VnAVIbvroNBy"
      },
      "source": [
        "rules_final.to_csv('sample1.csv')"
      ],
      "execution_count": 19,
      "outputs": []
    },
    {
      "cell_type": "markdown",
      "metadata": {
        "id": "v3YVA3CbdsCJ"
      },
      "source": [
        "향상도를 통한 연관 규칙 분석을 이용해 브랜드 있는 유기농(오가닉) 제품을 살 경우 일반 제품을 사는 경우와 그 역의 사례 또한 극히 적음(아보카도 예외)을 불 수 있으며, 반대로 같은 이름으로 시작하는 유기농 제품이나 일반 제품을 동시 구매하는 사례는 높은 향상도 순위를 보였다. \n",
        "\n",
        "결론적으로 유기농 브랜드 제품을 사는 소비자군과 일반 제품을 사는 소비자군이 크게 겹쳐지지 않는 것으로 보인다."
      ]
    }
  ]
}
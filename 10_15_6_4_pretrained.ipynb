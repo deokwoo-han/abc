{
  "nbformat": 4,
  "nbformat_minor": 0,
  "metadata": {
    "kernelspec": {
      "display_name": "Python 3",
      "language": "python",
      "name": "python3"
    },
    "language_info": {
      "codemirror_mode": {
        "name": "ipython",
        "version": 3
      },
      "file_extension": ".py",
      "mimetype": "text/x-python",
      "name": "python",
      "nbconvert_exporter": "python",
      "pygments_lexer": "ipython3",
      "version": "3.7.6"
    },
    "colab": {
      "name": "10.15-6 4-pretrained.ipynb",
      "provenance": [],
      "collapsed_sections": [],
      "include_colab_link": true
    },
    "accelerator": "GPU"
  },
  "cells": [
    {
      "cell_type": "markdown",
      "metadata": {
        "id": "view-in-github",
        "colab_type": "text"
      },
      "source": [
        "<a href=\"https://colab.research.google.com/github/deokwoo-han/abc/blob/master/10_15_6_4_pretrained.ipynb\" target=\"_parent\"><img src=\"https://colab.research.google.com/assets/colab-badge.svg\" alt=\"Open In Colab\"/></a>"
      ]
    },
    {
      "cell_type": "code",
      "metadata": {
        "id": "22mg_PXnCKsU",
        "colab": {
          "base_uri": "https://localhost:8080/"
        },
        "outputId": "3483dbe2-e14b-42fd-8141-f3f6e0eadeb7"
      },
      "source": [
        "from google.colab import drive\n",
        "drive.mount('/content/drive')"
      ],
      "execution_count": null,
      "outputs": [
        {
          "output_type": "stream",
          "name": "stdout",
          "text": [
            "Mounted at /content/drive\n"
          ]
        }
      ]
    },
    {
      "cell_type": "code",
      "metadata": {
        "id": "6giq8ls1A3jN"
      },
      "source": [
        "%matplotlib inline"
      ],
      "execution_count": null,
      "outputs": []
    },
    {
      "cell_type": "code",
      "metadata": {
        "id": "B9GBtXmwA47m",
        "colab": {
          "base_uri": "https://localhost:8080/"
        },
        "outputId": "484b045e-477f-401b-ae7d-2c2e0d6c74be"
      },
      "source": [
        "!ls -l"
      ],
      "execution_count": null,
      "outputs": [
        {
          "output_type": "stream",
          "name": "stdout",
          "text": [
            "total 8\n",
            "drwx------ 5 root root 4096 Oct 15 07:36 drive\n",
            "drwxr-xr-x 1 root root 4096 Oct  8 13:45 sample_data\n"
          ]
        }
      ]
    },
    {
      "cell_type": "code",
      "metadata": {
        "id": "FWj06i8uA6OO"
      },
      "source": [
        "!cp ./drive/MyDrive/training_data.zip ."
      ],
      "execution_count": null,
      "outputs": []
    },
    {
      "cell_type": "code",
      "metadata": {
        "id": "AEJfrotXA58E"
      },
      "source": [
        "!unzip training_data.zip\n"
      ],
      "execution_count": null,
      "outputs": []
    },
    {
      "cell_type": "code",
      "metadata": {
        "id": "O5M05p_pA5rd"
      },
      "source": [
        ""
      ],
      "execution_count": null,
      "outputs": []
    },
    {
      "cell_type": "code",
      "metadata": {
        "id": "KPy5I5SBA3jW"
      },
      "source": [
        "import glob\n",
        "import numpy as np\n",
        "import matplotlib.pyplot as plt\n",
        "from tensorflow.keras.preprocessing.image import ImageDataGenerator, load_img, img_to_array, array_to_img"
      ],
      "execution_count": null,
      "outputs": []
    },
    {
      "cell_type": "code",
      "metadata": {
        "id": "eZImnfGOA3jX",
        "colab": {
          "base_uri": "https://localhost:8080/"
        },
        "outputId": "560face4-376f-411f-83e3-35d639ef0137"
      },
      "source": [
        "IMG_DIM = (150, 150)\n",
        "\n",
        "train_files = glob.glob('training_data/*')\n",
        "train_imgs = [img_to_array(load_img(img, target_size=IMG_DIM)) for img in train_files]\n",
        "train_imgs = np.array(train_imgs)\n",
        "train_labels = [fn.split('/')[1].split('.')[0].strip() for fn in train_files]\n",
        "\n",
        "validation_files = glob.glob('validation_data/*')\n",
        "validation_imgs = [img_to_array(load_img(img, target_size=IMG_DIM)) for img in validation_files]\n",
        "validation_imgs = np.array(validation_imgs)\n",
        "validation_labels = [fn.split('/')[1].split('.')[0].strip() for fn in validation_files]\n",
        "\n",
        "print('Train dataset shape:', train_imgs.shape, \n",
        "      '\\tValidation dataset shape:', validation_imgs.shape)"
      ],
      "execution_count": null,
      "outputs": [
        {
          "output_type": "stream",
          "name": "stdout",
          "text": [
            "Train dataset shape: (3000, 150, 150, 3) \tValidation dataset shape: (1000, 150, 150, 3)\n"
          ]
        }
      ]
    },
    {
      "cell_type": "code",
      "metadata": {
        "id": "OiDa5o60A3jX"
      },
      "source": [
        "train_imgs_scaled = train_imgs.astype('float32')\n",
        "validation_imgs_scaled = validation_imgs.astype('float32')\n",
        "train_imgs_scaled /= 255\n",
        "validation_imgs_scaled /= 255"
      ],
      "execution_count": null,
      "outputs": []
    },
    {
      "cell_type": "code",
      "metadata": {
        "id": "COLKZn79A3jY",
        "colab": {
          "base_uri": "https://localhost:8080/"
        },
        "outputId": "58419588-8c2d-4375-d2e5-a465464acdcf"
      },
      "source": [
        "batch_size = 50\n",
        "num_classes = 2\n",
        "epochs = 150\n",
        "input_shape = (150, 150, 3)\n",
        "\n",
        "from sklearn.preprocessing import LabelEncoder\n",
        "\n",
        "le = LabelEncoder()\n",
        "le.fit(train_labels)\n",
        "# encode wine type labels\n",
        "train_labels_enc = le.transform(train_labels)\n",
        "validation_labels_enc = le.transform(validation_labels)\n",
        "\n",
        "print(train_labels[0:5], train_labels_enc[0:5])"
      ],
      "execution_count": null,
      "outputs": [
        {
          "output_type": "stream",
          "name": "stdout",
          "text": [
            "['cat', 'cat', 'cat', 'cat', 'cat'] [0 0 0 0 0]\n"
          ]
        }
      ]
    },
    {
      "cell_type": "code",
      "metadata": {
        "id": "9fVVMivMA3jZ",
        "colab": {
          "base_uri": "https://localhost:8080/"
        },
        "outputId": "86c79225-cf22-44f1-b5bf-9ae029ead552"
      },
      "source": [
        "\n",
        "from tensorflow.keras.applications import vgg16\n",
        "from tensorflow.keras.models import Model\n",
        "import tensorflow.keras\n",
        "\n",
        "vgg = vgg16.VGG16(include_top=False, weights='imagenet',\n",
        "                                     input_shape=input_shape)\n",
        "#top이 false면 안테나만 안 가져 오는 것, \n",
        "#덴스 덴스해서 클래스2를 만들어줘야 하니  \n",
        "\n",
        "output = vgg.layers[-1].output\n",
        "output = tensorflow.keras.layers.Flatten()(output)\n",
        "\n",
        "vgg_model = Model(vgg.input, output)\n",
        "vgg_model.trainable = False\n",
        "\n",
        "for layer in vgg_model.layers:\n",
        "    layer.trainable = False\n",
        "\n",
        "vgg_model.summary()\n",
        "#플래튼 이후가 없어짐 false면"
      ],
      "execution_count": null,
      "outputs": [
        {
          "output_type": "stream",
          "name": "stdout",
          "text": [
            "Downloading data from https://storage.googleapis.com/tensorflow/keras-applications/vgg16/vgg16_weights_tf_dim_ordering_tf_kernels_notop.h5\n",
            "58892288/58889256 [==============================] - 1s 0us/step\n",
            "58900480/58889256 [==============================] - 1s 0us/step\n",
            "Model: \"model\"\n",
            "_________________________________________________________________\n",
            "Layer (type)                 Output Shape              Param #   \n",
            "=================================================================\n",
            "input_1 (InputLayer)         [(None, 150, 150, 3)]     0         \n",
            "_________________________________________________________________\n",
            "block1_conv1 (Conv2D)        (None, 150, 150, 64)      1792      \n",
            "_________________________________________________________________\n",
            "block1_conv2 (Conv2D)        (None, 150, 150, 64)      36928     \n",
            "_________________________________________________________________\n",
            "block1_pool (MaxPooling2D)   (None, 75, 75, 64)        0         \n",
            "_________________________________________________________________\n",
            "block2_conv1 (Conv2D)        (None, 75, 75, 128)       73856     \n",
            "_________________________________________________________________\n",
            "block2_conv2 (Conv2D)        (None, 75, 75, 128)       147584    \n",
            "_________________________________________________________________\n",
            "block2_pool (MaxPooling2D)   (None, 37, 37, 128)       0         \n",
            "_________________________________________________________________\n",
            "block3_conv1 (Conv2D)        (None, 37, 37, 256)       295168    \n",
            "_________________________________________________________________\n",
            "block3_conv2 (Conv2D)        (None, 37, 37, 256)       590080    \n",
            "_________________________________________________________________\n",
            "block3_conv3 (Conv2D)        (None, 37, 37, 256)       590080    \n",
            "_________________________________________________________________\n",
            "block3_pool (MaxPooling2D)   (None, 18, 18, 256)       0         \n",
            "_________________________________________________________________\n",
            "block4_conv1 (Conv2D)        (None, 18, 18, 512)       1180160   \n",
            "_________________________________________________________________\n",
            "block4_conv2 (Conv2D)        (None, 18, 18, 512)       2359808   \n",
            "_________________________________________________________________\n",
            "block4_conv3 (Conv2D)        (None, 18, 18, 512)       2359808   \n",
            "_________________________________________________________________\n",
            "block4_pool (MaxPooling2D)   (None, 9, 9, 512)         0         \n",
            "_________________________________________________________________\n",
            "block5_conv1 (Conv2D)        (None, 9, 9, 512)         2359808   \n",
            "_________________________________________________________________\n",
            "block5_conv2 (Conv2D)        (None, 9, 9, 512)         2359808   \n",
            "_________________________________________________________________\n",
            "block5_conv3 (Conv2D)        (None, 9, 9, 512)         2359808   \n",
            "_________________________________________________________________\n",
            "block5_pool (MaxPooling2D)   (None, 4, 4, 512)         0         \n",
            "_________________________________________________________________\n",
            "flatten (Flatten)            (None, 8192)              0         \n",
            "=================================================================\n",
            "Total params: 14,714,688\n",
            "Trainable params: 0\n",
            "Non-trainable params: 14,714,688\n",
            "_________________________________________________________________\n"
          ]
        }
      ]
    },
    {
      "cell_type": "code",
      "metadata": {
        "id": "T9SDjC3EA3jZ",
        "colab": {
          "base_uri": "https://localhost:8080/",
          "height": 1000
        },
        "outputId": "3a29930e-7389-4c81-a195-31738b2d03dd"
      },
      "source": [
        "import pandas as pd\n",
        "pd.set_option('max_colwidth', -1)\n",
        "\n",
        "layers = [(layer, layer.name, layer.trainable) for layer in vgg_model.layers]\n",
        "pd.DataFrame(layers, columns=['Layer Type', 'Layer Name', 'Layer Trainable'])"
      ],
      "execution_count": null,
      "outputs": [
        {
          "output_type": "stream",
          "name": "stderr",
          "text": [
            "/usr/local/lib/python3.7/dist-packages/ipykernel_launcher.py:2: FutureWarning: Passing a negative integer is deprecated in version 1.0 and will not be supported in future version. Instead, use None to not limit the column width.\n",
            "  \n"
          ]
        },
        {
          "output_type": "execute_result",
          "data": {
            "text/html": [
              "<div>\n",
              "<style scoped>\n",
              "    .dataframe tbody tr th:only-of-type {\n",
              "        vertical-align: middle;\n",
              "    }\n",
              "\n",
              "    .dataframe tbody tr th {\n",
              "        vertical-align: top;\n",
              "    }\n",
              "\n",
              "    .dataframe thead th {\n",
              "        text-align: right;\n",
              "    }\n",
              "</style>\n",
              "<table border=\"1\" class=\"dataframe\">\n",
              "  <thead>\n",
              "    <tr style=\"text-align: right;\">\n",
              "      <th></th>\n",
              "      <th>Layer Type</th>\n",
              "      <th>Layer Name</th>\n",
              "      <th>Layer Trainable</th>\n",
              "    </tr>\n",
              "  </thead>\n",
              "  <tbody>\n",
              "    <tr>\n",
              "      <th>0</th>\n",
              "      <td>&lt;keras.engine.input_layer.InputLayer object at 0x7f3bfdb91410&gt;</td>\n",
              "      <td>input_1</td>\n",
              "      <td>False</td>\n",
              "    </tr>\n",
              "    <tr>\n",
              "      <th>1</th>\n",
              "      <td>&lt;keras.layers.convolutional.Conv2D object at 0x7f3bf66f3d10&gt;</td>\n",
              "      <td>block1_conv1</td>\n",
              "      <td>False</td>\n",
              "    </tr>\n",
              "    <tr>\n",
              "      <th>2</th>\n",
              "      <td>&lt;keras.layers.convolutional.Conv2D object at 0x7f3bf6698890&gt;</td>\n",
              "      <td>block1_conv2</td>\n",
              "      <td>False</td>\n",
              "    </tr>\n",
              "    <tr>\n",
              "      <th>3</th>\n",
              "      <td>&lt;keras.layers.pooling.MaxPooling2D object at 0x7f3bf5e33e10&gt;</td>\n",
              "      <td>block1_pool</td>\n",
              "      <td>False</td>\n",
              "    </tr>\n",
              "    <tr>\n",
              "      <th>4</th>\n",
              "      <td>&lt;keras.layers.convolutional.Conv2D object at 0x7f3bf04d94d0&gt;</td>\n",
              "      <td>block2_conv1</td>\n",
              "      <td>False</td>\n",
              "    </tr>\n",
              "    <tr>\n",
              "      <th>5</th>\n",
              "      <td>&lt;keras.layers.convolutional.Conv2D object at 0x7f3bf04e0b90&gt;</td>\n",
              "      <td>block2_conv2</td>\n",
              "      <td>False</td>\n",
              "    </tr>\n",
              "    <tr>\n",
              "      <th>6</th>\n",
              "      <td>&lt;keras.layers.pooling.MaxPooling2D object at 0x7f3bf04e45d0&gt;</td>\n",
              "      <td>block2_pool</td>\n",
              "      <td>False</td>\n",
              "    </tr>\n",
              "    <tr>\n",
              "      <th>7</th>\n",
              "      <td>&lt;keras.layers.convolutional.Conv2D object at 0x7f3bf0465dd0&gt;</td>\n",
              "      <td>block3_conv1</td>\n",
              "      <td>False</td>\n",
              "    </tr>\n",
              "    <tr>\n",
              "      <th>8</th>\n",
              "      <td>&lt;keras.layers.convolutional.Conv2D object at 0x7f3bf046b3d0&gt;</td>\n",
              "      <td>block3_conv2</td>\n",
              "      <td>False</td>\n",
              "    </tr>\n",
              "    <tr>\n",
              "      <th>9</th>\n",
              "      <td>&lt;keras.layers.convolutional.Conv2D object at 0x7f3bf046ebd0&gt;</td>\n",
              "      <td>block3_conv3</td>\n",
              "      <td>False</td>\n",
              "    </tr>\n",
              "    <tr>\n",
              "      <th>10</th>\n",
              "      <td>&lt;keras.layers.pooling.MaxPooling2D object at 0x7f3bf04dabd0&gt;</td>\n",
              "      <td>block3_pool</td>\n",
              "      <td>False</td>\n",
              "    </tr>\n",
              "    <tr>\n",
              "      <th>11</th>\n",
              "      <td>&lt;keras.layers.convolutional.Conv2D object at 0x7f3bf5e33ad0&gt;</td>\n",
              "      <td>block4_conv1</td>\n",
              "      <td>False</td>\n",
              "    </tr>\n",
              "    <tr>\n",
              "      <th>12</th>\n",
              "      <td>&lt;keras.layers.convolutional.Conv2D object at 0x7f3bf0475c50&gt;</td>\n",
              "      <td>block4_conv2</td>\n",
              "      <td>False</td>\n",
              "    </tr>\n",
              "    <tr>\n",
              "      <th>13</th>\n",
              "      <td>&lt;keras.layers.convolutional.Conv2D object at 0x7f3bf04d92d0&gt;</td>\n",
              "      <td>block4_conv3</td>\n",
              "      <td>False</td>\n",
              "    </tr>\n",
              "    <tr>\n",
              "      <th>14</th>\n",
              "      <td>&lt;keras.layers.pooling.MaxPooling2D object at 0x7f3bf047a6d0&gt;</td>\n",
              "      <td>block4_pool</td>\n",
              "      <td>False</td>\n",
              "    </tr>\n",
              "    <tr>\n",
              "      <th>15</th>\n",
              "      <td>&lt;keras.layers.convolutional.Conv2D object at 0x7f3bf047dd50&gt;</td>\n",
              "      <td>block5_conv1</td>\n",
              "      <td>False</td>\n",
              "    </tr>\n",
              "    <tr>\n",
              "      <th>16</th>\n",
              "      <td>&lt;keras.layers.convolutional.Conv2D object at 0x7f3bf0482e10&gt;</td>\n",
              "      <td>block5_conv2</td>\n",
              "      <td>False</td>\n",
              "    </tr>\n",
              "    <tr>\n",
              "      <th>17</th>\n",
              "      <td>&lt;keras.layers.convolutional.Conv2D object at 0x7f3bf047a310&gt;</td>\n",
              "      <td>block5_conv3</td>\n",
              "      <td>False</td>\n",
              "    </tr>\n",
              "    <tr>\n",
              "      <th>18</th>\n",
              "      <td>&lt;keras.layers.pooling.MaxPooling2D object at 0x7f3bf048bf50&gt;</td>\n",
              "      <td>block5_pool</td>\n",
              "      <td>False</td>\n",
              "    </tr>\n",
              "    <tr>\n",
              "      <th>19</th>\n",
              "      <td>&lt;keras.layers.core.Flatten object at 0x7f3bf046b710&gt;</td>\n",
              "      <td>flatten</td>\n",
              "      <td>False</td>\n",
              "    </tr>\n",
              "  </tbody>\n",
              "</table>\n",
              "</div>"
            ],
            "text/plain": [
              "                                                        Layer Type  ... Layer Trainable\n",
              "0   <keras.engine.input_layer.InputLayer object at 0x7f3bfdb91410>  ...  False         \n",
              "1   <keras.layers.convolutional.Conv2D object at 0x7f3bf66f3d10>    ...  False         \n",
              "2   <keras.layers.convolutional.Conv2D object at 0x7f3bf6698890>    ...  False         \n",
              "3   <keras.layers.pooling.MaxPooling2D object at 0x7f3bf5e33e10>    ...  False         \n",
              "4   <keras.layers.convolutional.Conv2D object at 0x7f3bf04d94d0>    ...  False         \n",
              "5   <keras.layers.convolutional.Conv2D object at 0x7f3bf04e0b90>    ...  False         \n",
              "6   <keras.layers.pooling.MaxPooling2D object at 0x7f3bf04e45d0>    ...  False         \n",
              "7   <keras.layers.convolutional.Conv2D object at 0x7f3bf0465dd0>    ...  False         \n",
              "8   <keras.layers.convolutional.Conv2D object at 0x7f3bf046b3d0>    ...  False         \n",
              "9   <keras.layers.convolutional.Conv2D object at 0x7f3bf046ebd0>    ...  False         \n",
              "10  <keras.layers.pooling.MaxPooling2D object at 0x7f3bf04dabd0>    ...  False         \n",
              "11  <keras.layers.convolutional.Conv2D object at 0x7f3bf5e33ad0>    ...  False         \n",
              "12  <keras.layers.convolutional.Conv2D object at 0x7f3bf0475c50>    ...  False         \n",
              "13  <keras.layers.convolutional.Conv2D object at 0x7f3bf04d92d0>    ...  False         \n",
              "14  <keras.layers.pooling.MaxPooling2D object at 0x7f3bf047a6d0>    ...  False         \n",
              "15  <keras.layers.convolutional.Conv2D object at 0x7f3bf047dd50>    ...  False         \n",
              "16  <keras.layers.convolutional.Conv2D object at 0x7f3bf0482e10>    ...  False         \n",
              "17  <keras.layers.convolutional.Conv2D object at 0x7f3bf047a310>    ...  False         \n",
              "18  <keras.layers.pooling.MaxPooling2D object at 0x7f3bf048bf50>    ...  False         \n",
              "19  <keras.layers.core.Flatten object at 0x7f3bf046b710>            ...  False         \n",
              "\n",
              "[20 rows x 3 columns]"
            ]
          },
          "metadata": {},
          "execution_count": 12
        }
      ]
    },
    {
      "cell_type": "code",
      "metadata": {
        "id": "OvJvrtrgA3ja",
        "colab": {
          "base_uri": "https://localhost:8080/"
        },
        "outputId": "a4a67dc5-d8e6-4e68-d31a-d7707686ad9c"
      },
      "source": [
        "print(\"Trainable layers:\", vgg_model.trainable_weights)\n",
        "#트레이너블을 트루로 만들러 갈 것"
      ],
      "execution_count": null,
      "outputs": [
        {
          "output_type": "stream",
          "name": "stdout",
          "text": [
            "Trainable layers: []\n"
          ]
        }
      ]
    },
    {
      "cell_type": "code",
      "metadata": {
        "id": "J_Zbyst4A3ja",
        "colab": {
          "base_uri": "https://localhost:8080/",
          "height": 304
        },
        "outputId": "64816e70-ecc5-43ac-9354-1d013d38fe60"
      },
      "source": [
        "bottleneck_feature_example = vgg.predict(train_imgs_scaled[0:1])\n",
        "print(bottleneck_feature_example.shape)\n",
        "plt.imshow(bottleneck_feature_example[0][:,:,0])#p227\n",
        "#architecture저기서는 7,7인데 왜 여기서는 4,4?\n",
        "#150,150을 맥스풀링을...?8,8 하고 4,4\n",
        "#15, 15#보틀넷 512개 중에 하나를 보여?"
      ],
      "execution_count": null,
      "outputs": [
        {
          "output_type": "stream",
          "name": "stdout",
          "text": [
            "(1, 4, 4, 512)\n"
          ]
        },
        {
          "output_type": "execute_result",
          "data": {
            "text/plain": [
              "<matplotlib.image.AxesImage at 0x7f3b7da7c990>"
            ]
          },
          "metadata": {},
          "execution_count": 14
        },
        {
          "output_type": "display_data",
          "data": {
            "image/png": "[encoded data removed]",
            "text/plain": [
              "<Figure size 432x288 with 1 Axes>"
            ]
          },
          "metadata": {
            "needs_background": "light"
          }
        }
      ]
    },
    {
      "cell_type": "code",
      "metadata": {
        "id": "_8LY2OOaA3jb"
      },
      "source": [
        "def get_bottleneck_features(model, input_imgs):\n",
        "    \n",
        "    features = model.predict(input_imgs, verbose=0)\n",
        "    return features"
      ],
      "execution_count": null,
      "outputs": []
    },
    {
      "cell_type": "code",
      "metadata": {
        "id": "8sekjWocA3jb",
        "colab": {
          "base_uri": "https://localhost:8080/"
        },
        "outputId": "2f5c1188-3d5f-4a5b-f703-5dca30d1ae01"
      },
      "source": [
        "train_features_vgg = get_bottleneck_features(vgg_model, train_imgs_scaled)\n",
        "validation_features_vgg = get_bottleneck_features(vgg_model, validation_imgs_scaled)\n",
        "#같다 붙인 거지 학습 시킨 것을 풀지는 않았음\n",
        "print('Train Bottleneck Features:', train_features_vgg.shape, \n",
        "      '\\tValidation Bottleneck Features:', validation_features_vgg.shape)"
      ],
      "execution_count": null,
      "outputs": [
        {
          "output_type": "stream",
          "name": "stdout",
          "text": [
            "Train Bottleneck Features: (3000, 8192) \tValidation Bottleneck Features: (1000, 8192)\n"
          ]
        }
      ]
    },
    {
      "cell_type": "code",
      "metadata": {
        "id": "oXhFf4HLA3jc",
        "colab": {
          "base_uri": "https://localhost:8080/"
        },
        "outputId": "4aed287d-111d-4e31-c594-91a29433ff0e"
      },
      "source": [
        "from tensorflow.keras.layers import Conv2D, MaxPooling2D, Flatten, Dense, Dropout, InputLayer\n",
        "from tensorflow.keras.models import Sequential\n",
        "from tensorflow.keras import optimizers\n",
        "\n",
        "input_shape = vgg_model.output_shape[1]\n",
        "\n",
        "model = Sequential()\n",
        "model.add(InputLayer(input_shape=(input_shape,)))\n",
        "model.add(Dense(512, activation='relu', input_dim=input_shape))\n",
        "model.add(Dropout(0.3))\n",
        "model.add(Dense(512, activation='relu'))\n",
        "model.add(Dropout(0.3))\n",
        "model.add(Dense(1, activation='sigmoid'))\n",
        "\n",
        "model.compile(loss='binary_crossentropy',\n",
        "              optimizer=optimizers.RMSprop(lr=1e-4),\n",
        "              metrics=['accuracy'])\n",
        "\n",
        "model.summary()#투 카테고리칼이면 마지막에 2"
      ],
      "execution_count": null,
      "outputs": [
        {
          "output_type": "stream",
          "name": "stdout",
          "text": [
            "Model: \"sequential\"\n",
            "_________________________________________________________________\n",
            "Layer (type)                 Output Shape              Param #   \n",
            "=================================================================\n",
            "dense (Dense)                (None, 512)               4194816   \n",
            "_________________________________________________________________\n",
            "dropout (Dropout)            (None, 512)               0         \n",
            "_________________________________________________________________\n",
            "dense_1 (Dense)              (None, 512)               262656    \n",
            "_________________________________________________________________\n",
            "dropout_1 (Dropout)          (None, 512)               0         \n",
            "_________________________________________________________________\n",
            "dense_2 (Dense)              (None, 1)                 513       \n",
            "=================================================================\n",
            "Total params: 4,457,985\n",
            "Trainable params: 4,457,985\n",
            "Non-trainable params: 0\n",
            "_________________________________________________________________\n"
          ]
        },
        {
          "output_type": "stream",
          "name": "stderr",
          "text": [
            "/usr/local/lib/python3.7/dist-packages/keras/optimizer_v2/optimizer_v2.py:356: UserWarning: The `lr` argument is deprecated, use `learning_rate` instead.\n",
            "  \"The `lr` argument is deprecated, use `learning_rate` instead.\")\n"
          ]
        }
      ]
    },
    {
      "cell_type": "code",
      "metadata": {
        "id": "UV-VPb-lA3jc",
        "colab": {
          "base_uri": "https://localhost:8080/"
        },
        "outputId": "b10589f5-a339-4905-827f-2ceb13a2ccf9"
      },
      "source": [
        "history = model.fit(x=train_features_vgg, y=train_labels_enc,\n",
        "                    validation_data=(validation_features_vgg, validation_labels_enc),\n",
        "                    batch_size=batch_size,\n",
        "                    epochs=epochs,\n",
        "                    verbose=1)#학습시키는 것을 dense dense로 시키서... 무지 빠름"
      ],
      "execution_count": null,
      "outputs": [
        {
          "output_type": "stream",
          "name": "stdout",
          "text": [
            "Epoch 1/150\n",
            "60/60 [==============================] - 2s 11ms/step - loss: 0.4857 - accuracy: 0.7590 - val_loss: 0.3089 - val_accuracy: 0.8720\n",
            "Epoch 2/150\n",
            "60/60 [==============================] - 0s 8ms/step - loss: 0.3383 - accuracy: 0.8500 - val_loss: 0.3516 - val_accuracy: 0.8430\n",
            "Epoch 3/150\n",
            "60/60 [==============================] - 1s 9ms/step - loss: 0.2797 - accuracy: 0.8820 - val_loss: 0.2671 - val_accuracy: 0.8860\n",
            "Epoch 4/150\n",
            "60/60 [==============================] - 0s 8ms/step - loss: 0.2287 - accuracy: 0.9067 - val_loss: 0.2613 - val_accuracy: 0.8840\n",
            "Epoch 5/150\n",
            "60/60 [==============================] - 0s 8ms/step - loss: 0.2198 - accuracy: 0.9090 - val_loss: 0.2638 - val_accuracy: 0.8920\n",
            "Epoch 6/150\n",
            "60/60 [==============================] - 0s 8ms/step - loss: 0.1850 - accuracy: 0.9310 - val_loss: 0.2730 - val_accuracy: 0.8940\n",
            "Epoch 7/150\n",
            "60/60 [==============================] - 0s 8ms/step - loss: 0.1500 - accuracy: 0.9383 - val_loss: 0.2792 - val_accuracy: 0.8780\n",
            "Epoch 8/150\n",
            "60/60 [==============================] - 0s 8ms/step - loss: 0.1365 - accuracy: 0.9473 - val_loss: 0.3338 - val_accuracy: 0.8760\n",
            "Epoch 9/150\n",
            "60/60 [==============================] - 0s 8ms/step - loss: 0.1105 - accuracy: 0.9573 - val_loss: 0.2820 - val_accuracy: 0.8960\n",
            "Epoch 10/150\n",
            "60/60 [==============================] - 0s 8ms/step - loss: 0.0885 - accuracy: 0.9670 - val_loss: 0.5061 - val_accuracy: 0.8490\n",
            "Epoch 11/150\n",
            "60/60 [==============================] - 0s 8ms/step - loss: 0.0765 - accuracy: 0.9733 - val_loss: 0.3180 - val_accuracy: 0.8930\n",
            "Epoch 12/150\n",
            "60/60 [==============================] - 0s 8ms/step - loss: 0.0790 - accuracy: 0.9710 - val_loss: 0.3207 - val_accuracy: 0.8880\n",
            "Epoch 13/150\n",
            "60/60 [==============================] - 0s 8ms/step - loss: 0.0529 - accuracy: 0.9810 - val_loss: 0.3398 - val_accuracy: 0.8870\n",
            "Epoch 14/150\n",
            "60/60 [==============================] - 0s 8ms/step - loss: 0.0367 - accuracy: 0.9887 - val_loss: 0.5276 - val_accuracy: 0.8640\n",
            "Epoch 15/150\n",
            "60/60 [==============================] - 0s 8ms/step - loss: 0.0486 - accuracy: 0.9817 - val_loss: 0.3961 - val_accuracy: 0.8930\n",
            "Epoch 16/150\n",
            "60/60 [==============================] - 0s 8ms/step - loss: 0.0300 - accuracy: 0.9900 - val_loss: 0.4075 - val_accuracy: 0.8890\n",
            "Epoch 17/150\n",
            "60/60 [==============================] - 0s 8ms/step - loss: 0.0225 - accuracy: 0.9930 - val_loss: 0.5100 - val_accuracy: 0.8870\n",
            "Epoch 18/150\n",
            "60/60 [==============================] - 0s 8ms/step - loss: 0.0194 - accuracy: 0.9940 - val_loss: 0.7293 - val_accuracy: 0.8550\n",
            "Epoch 19/150\n",
            "60/60 [==============================] - 0s 8ms/step - loss: 0.0180 - accuracy: 0.9950 - val_loss: 0.4554 - val_accuracy: 0.8910\n",
            "Epoch 20/150\n",
            "60/60 [==============================] - 0s 8ms/step - loss: 0.0260 - accuracy: 0.9903 - val_loss: 0.4733 - val_accuracy: 0.8920\n",
            "Epoch 21/150\n",
            "60/60 [==============================] - 0s 8ms/step - loss: 0.0133 - accuracy: 0.9967 - val_loss: 0.8939 - val_accuracy: 0.8330\n",
            "Epoch 22/150\n",
            "60/60 [==============================] - 0s 8ms/step - loss: 0.0269 - accuracy: 0.9887 - val_loss: 0.4959 - val_accuracy: 0.8900\n",
            "Epoch 23/150\n",
            "60/60 [==============================] - 0s 8ms/step - loss: 0.0031 - accuracy: 0.9997 - val_loss: 0.6156 - val_accuracy: 0.8910\n",
            "Epoch 24/150\n",
            "60/60 [==============================] - 0s 8ms/step - loss: 0.0192 - accuracy: 0.9943 - val_loss: 0.6628 - val_accuracy: 0.8790\n",
            "Epoch 25/150\n",
            "60/60 [==============================] - 0s 8ms/step - loss: 0.0100 - accuracy: 0.9963 - val_loss: 0.5832 - val_accuracy: 0.8890\n",
            "Epoch 26/150\n",
            "60/60 [==============================] - 0s 8ms/step - loss: 0.0279 - accuracy: 0.9923 - val_loss: 0.5642 - val_accuracy: 0.8940\n",
            "Epoch 27/150\n",
            "60/60 [==============================] - 0s 8ms/step - loss: 0.0104 - accuracy: 0.9967 - val_loss: 0.5598 - val_accuracy: 0.8910\n",
            "Epoch 28/150\n",
            "60/60 [==============================] - 0s 8ms/step - loss: 0.0204 - accuracy: 0.9940 - val_loss: 0.5798 - val_accuracy: 0.8970\n",
            "Epoch 29/150\n",
            "60/60 [==============================] - 0s 8ms/step - loss: 4.8831e-04 - accuracy: 1.0000 - val_loss: 0.6679 - val_accuracy: 0.8880\n",
            "Epoch 30/150\n",
            "60/60 [==============================] - 0s 8ms/step - loss: 0.0160 - accuracy: 0.9967 - val_loss: 0.6402 - val_accuracy: 0.8890\n",
            "Epoch 31/150\n",
            "60/60 [==============================] - 0s 8ms/step - loss: 0.0095 - accuracy: 0.9963 - val_loss: 0.6845 - val_accuracy: 0.8870\n",
            "Epoch 32/150\n",
            "60/60 [==============================] - 0s 8ms/step - loss: 2.3573e-04 - accuracy: 1.0000 - val_loss: 0.7129 - val_accuracy: 0.8930\n",
            "Epoch 33/150\n",
            "60/60 [==============================] - 0s 8ms/step - loss: 0.0245 - accuracy: 0.9967 - val_loss: 0.6894 - val_accuracy: 0.8920\n",
            "Epoch 34/150\n",
            "60/60 [==============================] - 0s 8ms/step - loss: 0.0195 - accuracy: 0.9963 - val_loss: 0.6968 - val_accuracy: 0.8920\n",
            "Epoch 35/150\n",
            "60/60 [==============================] - 0s 8ms/step - loss: 3.6872e-04 - accuracy: 1.0000 - val_loss: 0.6901 - val_accuracy: 0.8950\n",
            "Epoch 36/150\n",
            "60/60 [==============================] - 0s 8ms/step - loss: 0.0246 - accuracy: 0.9927 - val_loss: 0.7107 - val_accuracy: 0.8880\n",
            "Epoch 37/150\n",
            "60/60 [==============================] - 0s 8ms/step - loss: 0.0168 - accuracy: 0.9930 - val_loss: 1.1128 - val_accuracy: 0.8630\n",
            "Epoch 38/150\n",
            "60/60 [==============================] - 0s 8ms/step - loss: 7.8432e-04 - accuracy: 0.9997 - val_loss: 0.7408 - val_accuracy: 0.8900\n",
            "Epoch 39/150\n",
            "60/60 [==============================] - 0s 8ms/step - loss: 0.0177 - accuracy: 0.9953 - val_loss: 0.7808 - val_accuracy: 0.8940\n",
            "Epoch 40/150\n",
            "60/60 [==============================] - 0s 8ms/step - loss: 9.7841e-05 - accuracy: 1.0000 - val_loss: 0.7707 - val_accuracy: 0.8900\n",
            "Epoch 41/150\n",
            "60/60 [==============================] - 0s 8ms/step - loss: 0.0232 - accuracy: 0.9960 - val_loss: 0.7453 - val_accuracy: 0.8940\n",
            "Epoch 42/150\n",
            "60/60 [==============================] - 0s 8ms/step - loss: 9.7803e-05 - accuracy: 1.0000 - val_loss: 0.7847 - val_accuracy: 0.8910\n",
            "Epoch 43/150\n",
            "60/60 [==============================] - 0s 8ms/step - loss: 0.0272 - accuracy: 0.9963 - val_loss: 0.7992 - val_accuracy: 0.8920\n",
            "Epoch 44/150\n",
            "60/60 [==============================] - 0s 8ms/step - loss: 4.4652e-05 - accuracy: 1.0000 - val_loss: 0.8177 - val_accuracy: 0.8880\n",
            "Epoch 45/150\n",
            "60/60 [==============================] - 0s 8ms/step - loss: 0.0131 - accuracy: 0.9957 - val_loss: 0.8090 - val_accuracy: 0.8910\n",
            "Epoch 46/150\n",
            "60/60 [==============================] - 0s 8ms/step - loss: 2.5009e-04 - accuracy: 1.0000 - val_loss: 0.8069 - val_accuracy: 0.8940\n",
            "Epoch 47/150\n",
            "60/60 [==============================] - 0s 8ms/step - loss: 0.0092 - accuracy: 0.9970 - val_loss: 0.8008 - val_accuracy: 0.8980\n",
            "Epoch 48/150\n",
            "60/60 [==============================] - 0s 8ms/step - loss: 6.7801e-05 - accuracy: 1.0000 - val_loss: 0.8369 - val_accuracy: 0.8900\n",
            "Epoch 49/150\n",
            "60/60 [==============================] - 0s 8ms/step - loss: 0.0220 - accuracy: 0.9957 - val_loss: 0.8158 - val_accuracy: 0.8920\n",
            "Epoch 50/150\n",
            "60/60 [==============================] - 0s 8ms/step - loss: 2.7788e-05 - accuracy: 1.0000 - val_loss: 0.8350 - val_accuracy: 0.8920\n",
            "Epoch 51/150\n",
            "60/60 [==============================] - 0s 8ms/step - loss: 0.0205 - accuracy: 0.9950 - val_loss: 0.8373 - val_accuracy: 0.8860\n",
            "Epoch 52/150\n",
            "60/60 [==============================] - 0s 8ms/step - loss: 6.2147e-05 - accuracy: 1.0000 - val_loss: 0.8677 - val_accuracy: 0.8870\n",
            "Epoch 53/150\n",
            "60/60 [==============================] - 0s 8ms/step - loss: 0.0110 - accuracy: 0.9973 - val_loss: 0.9067 - val_accuracy: 0.8860\n",
            "Epoch 54/150\n",
            "60/60 [==============================] - 0s 8ms/step - loss: 2.0776e-05 - accuracy: 1.0000 - val_loss: 0.9115 - val_accuracy: 0.8890\n",
            "Epoch 55/150\n",
            "60/60 [==============================] - 0s 8ms/step - loss: 0.0152 - accuracy: 0.9957 - val_loss: 0.9247 - val_accuracy: 0.8920\n",
            "Epoch 56/150\n",
            "60/60 [==============================] - 0s 8ms/step - loss: 1.1478e-04 - accuracy: 1.0000 - val_loss: 0.9298 - val_accuracy: 0.8880\n",
            "Epoch 57/150\n",
            "60/60 [==============================] - 0s 7ms/step - loss: 0.0315 - accuracy: 0.9963 - val_loss: 1.1615 - val_accuracy: 0.8790\n",
            "Epoch 58/150\n",
            "60/60 [==============================] - 0s 8ms/step - loss: 2.3528e-04 - accuracy: 1.0000 - val_loss: 0.9542 - val_accuracy: 0.8910\n",
            "Epoch 59/150\n",
            "60/60 [==============================] - 0s 8ms/step - loss: 2.0216e-05 - accuracy: 1.0000 - val_loss: 0.9569 - val_accuracy: 0.8890\n",
            "Epoch 60/150\n",
            "60/60 [==============================] - 0s 8ms/step - loss: 0.0283 - accuracy: 0.9943 - val_loss: 1.0028 - val_accuracy: 0.8870\n",
            "Epoch 61/150\n",
            "60/60 [==============================] - 0s 8ms/step - loss: 2.6526e-05 - accuracy: 1.0000 - val_loss: 0.9182 - val_accuracy: 0.8900\n",
            "Epoch 62/150\n",
            "60/60 [==============================] - 0s 8ms/step - loss: 0.0077 - accuracy: 0.9970 - val_loss: 1.0037 - val_accuracy: 0.8840\n",
            "Epoch 63/150\n",
            "60/60 [==============================] - 0s 8ms/step - loss: 3.6164e-05 - accuracy: 1.0000 - val_loss: 0.9218 - val_accuracy: 0.8880\n",
            "Epoch 64/150\n",
            "60/60 [==============================] - 0s 8ms/step - loss: 2.2031e-05 - accuracy: 1.0000 - val_loss: 1.0006 - val_accuracy: 0.8850\n",
            "Epoch 65/150\n",
            "60/60 [==============================] - 0s 8ms/step - loss: 0.0226 - accuracy: 0.9943 - val_loss: 1.1549 - val_accuracy: 0.8840\n",
            "Epoch 66/150\n",
            "60/60 [==============================] - 0s 8ms/step - loss: 2.7098e-05 - accuracy: 1.0000 - val_loss: 1.0689 - val_accuracy: 0.8860\n",
            "Epoch 67/150\n",
            "60/60 [==============================] - 0s 7ms/step - loss: 0.0128 - accuracy: 0.9967 - val_loss: 1.0437 - val_accuracy: 0.8910\n",
            "Epoch 68/150\n",
            "60/60 [==============================] - 0s 8ms/step - loss: 4.8754e-05 - accuracy: 1.0000 - val_loss: 1.0732 - val_accuracy: 0.8830\n",
            "Epoch 69/150\n",
            "60/60 [==============================] - 0s 8ms/step - loss: 5.5096e-06 - accuracy: 1.0000 - val_loss: 1.1055 - val_accuracy: 0.8880\n",
            "Epoch 70/150\n",
            "60/60 [==============================] - 0s 8ms/step - loss: 0.0268 - accuracy: 0.9953 - val_loss: 1.0488 - val_accuracy: 0.8860\n",
            "Epoch 71/150\n",
            "60/60 [==============================] - 0s 8ms/step - loss: 9.5454e-06 - accuracy: 1.0000 - val_loss: 1.0383 - val_accuracy: 0.8880\n",
            "Epoch 72/150\n",
            "60/60 [==============================] - 0s 8ms/step - loss: 0.0167 - accuracy: 0.9970 - val_loss: 1.1909 - val_accuracy: 0.8780\n",
            "Epoch 73/150\n",
            "60/60 [==============================] - 0s 8ms/step - loss: 3.4311e-05 - accuracy: 1.0000 - val_loss: 1.0350 - val_accuracy: 0.8930\n",
            "Epoch 74/150\n",
            "60/60 [==============================] - 0s 8ms/step - loss: 8.5975e-06 - accuracy: 1.0000 - val_loss: 1.0690 - val_accuracy: 0.8900\n",
            "Epoch 75/150\n",
            "60/60 [==============================] - 0s 8ms/step - loss: 0.0062 - accuracy: 0.9973 - val_loss: 1.0241 - val_accuracy: 0.8940\n",
            "Epoch 76/150\n",
            "60/60 [==============================] - 0s 8ms/step - loss: 2.8916e-06 - accuracy: 1.0000 - val_loss: 1.0839 - val_accuracy: 0.8870\n",
            "Epoch 77/150\n",
            "60/60 [==============================] - 0s 8ms/step - loss: 0.0111 - accuracy: 0.9970 - val_loss: 1.0862 - val_accuracy: 0.8850\n",
            "Epoch 78/150\n",
            "60/60 [==============================] - 0s 8ms/step - loss: 8.7248e-06 - accuracy: 1.0000 - val_loss: 1.0704 - val_accuracy: 0.8860\n",
            "Epoch 79/150\n",
            "60/60 [==============================] - 0s 8ms/step - loss: 1.1528e-04 - accuracy: 1.0000 - val_loss: 1.1170 - val_accuracy: 0.8860\n",
            "Epoch 80/150\n",
            "60/60 [==============================] - 0s 8ms/step - loss: 0.0054 - accuracy: 0.9980 - val_loss: 1.1673 - val_accuracy: 0.8800\n",
            "Epoch 81/150\n",
            "60/60 [==============================] - 0s 8ms/step - loss: 6.4394e-06 - accuracy: 1.0000 - val_loss: 1.1266 - val_accuracy: 0.8870\n",
            "Epoch 82/150\n",
            "60/60 [==============================] - 0s 8ms/step - loss: 1.9237e-05 - accuracy: 1.0000 - val_loss: 1.1107 - val_accuracy: 0.8880\n",
            "Epoch 83/150\n",
            "60/60 [==============================] - 0s 8ms/step - loss: 0.0191 - accuracy: 0.9967 - val_loss: 1.1738 - val_accuracy: 0.8820\n",
            "Epoch 84/150\n",
            "60/60 [==============================] - 0s 8ms/step - loss: 4.5947e-06 - accuracy: 1.0000 - val_loss: 1.1136 - val_accuracy: 0.8920\n",
            "Epoch 85/150\n",
            "60/60 [==============================] - 0s 8ms/step - loss: 2.0030e-06 - accuracy: 1.0000 - val_loss: 1.1520 - val_accuracy: 0.8870\n",
            "Epoch 86/150\n",
            "60/60 [==============================] - 0s 8ms/step - loss: 0.0235 - accuracy: 0.9967 - val_loss: 1.1631 - val_accuracy: 0.8880\n",
            "Epoch 87/150\n",
            "60/60 [==============================] - 0s 8ms/step - loss: 4.1904e-06 - accuracy: 1.0000 - val_loss: 1.1305 - val_accuracy: 0.8900\n",
            "Epoch 88/150\n",
            "60/60 [==============================] - 0s 8ms/step - loss: 1.3627e-06 - accuracy: 1.0000 - val_loss: 1.1565 - val_accuracy: 0.8850\n",
            "Epoch 89/150\n",
            "60/60 [==============================] - 0s 8ms/step - loss: 4.2098e-07 - accuracy: 1.0000 - val_loss: 1.1752 - val_accuracy: 0.8860\n",
            "Epoch 90/150\n",
            "60/60 [==============================] - 0s 8ms/step - loss: 0.0105 - accuracy: 0.9963 - val_loss: 1.1174 - val_accuracy: 0.8900\n",
            "Epoch 91/150\n",
            "60/60 [==============================] - 0s 8ms/step - loss: 4.7748e-06 - accuracy: 1.0000 - val_loss: 1.1209 - val_accuracy: 0.8870\n",
            "Epoch 92/150\n",
            "60/60 [==============================] - 0s 8ms/step - loss: 1.9335e-06 - accuracy: 1.0000 - val_loss: 1.1399 - val_accuracy: 0.8870\n",
            "Epoch 93/150\n",
            "60/60 [==============================] - 0s 8ms/step - loss: 6.5587e-04 - accuracy: 0.9997 - val_loss: 1.2252 - val_accuracy: 0.8840\n",
            "Epoch 94/150\n",
            "60/60 [==============================] - 0s 8ms/step - loss: 1.8430e-05 - accuracy: 1.0000 - val_loss: 1.2456 - val_accuracy: 0.8910\n",
            "Epoch 95/150\n",
            "60/60 [==============================] - 0s 8ms/step - loss: 0.0051 - accuracy: 0.9987 - val_loss: 1.3388 - val_accuracy: 0.8820\n",
            "Epoch 96/150\n",
            "60/60 [==============================] - 0s 8ms/step - loss: 2.6230e-05 - accuracy: 1.0000 - val_loss: 1.2395 - val_accuracy: 0.8880\n",
            "Epoch 97/150\n",
            "60/60 [==============================] - 0s 8ms/step - loss: 1.4227e-04 - accuracy: 1.0000 - val_loss: 1.2509 - val_accuracy: 0.8850\n",
            "Epoch 98/150\n",
            "60/60 [==============================] - 0s 8ms/step - loss: 3.1125e-06 - accuracy: 1.0000 - val_loss: 1.2924 - val_accuracy: 0.8840\n",
            "Epoch 99/150\n",
            "60/60 [==============================] - 0s 8ms/step - loss: 0.0077 - accuracy: 0.9977 - val_loss: 1.4026 - val_accuracy: 0.8780\n",
            "Epoch 100/150\n",
            "60/60 [==============================] - 0s 8ms/step - loss: 2.4909e-05 - accuracy: 1.0000 - val_loss: 1.2844 - val_accuracy: 0.8880\n",
            "Epoch 101/150\n",
            "60/60 [==============================] - 0s 8ms/step - loss: 1.6566e-06 - accuracy: 1.0000 - val_loss: 1.3285 - val_accuracy: 0.8860\n",
            "Epoch 102/150\n",
            "60/60 [==============================] - 0s 8ms/step - loss: 0.0176 - accuracy: 0.9963 - val_loss: 1.3464 - val_accuracy: 0.8810\n",
            "Epoch 103/150\n",
            "60/60 [==============================] - 0s 8ms/step - loss: 1.2988e-06 - accuracy: 1.0000 - val_loss: 1.3032 - val_accuracy: 0.8830\n",
            "Epoch 104/150\n",
            "60/60 [==============================] - 0s 8ms/step - loss: 1.6939e-06 - accuracy: 1.0000 - val_loss: 1.3243 - val_accuracy: 0.8770\n",
            "Epoch 105/150\n",
            "60/60 [==============================] - 0s 8ms/step - loss: 0.0014 - accuracy: 0.9990 - val_loss: 1.3159 - val_accuracy: 0.8880\n",
            "Epoch 106/150\n",
            "60/60 [==============================] - 1s 8ms/step - loss: 2.9321e-06 - accuracy: 1.0000 - val_loss: 1.3299 - val_accuracy: 0.8890\n",
            "Epoch 107/150\n",
            "60/60 [==============================] - 0s 8ms/step - loss: 3.0585e-07 - accuracy: 1.0000 - val_loss: 1.3339 - val_accuracy: 0.8860\n",
            "Epoch 108/150\n",
            "60/60 [==============================] - 0s 8ms/step - loss: 1.0810e-04 - accuracy: 1.0000 - val_loss: 1.3752 - val_accuracy: 0.8860\n",
            "Epoch 109/150\n",
            "60/60 [==============================] - 0s 8ms/step - loss: 1.0060e-05 - accuracy: 1.0000 - val_loss: 1.3615 - val_accuracy: 0.8860\n",
            "Epoch 110/150\n",
            "60/60 [==============================] - 0s 8ms/step - loss: 0.0138 - accuracy: 0.9960 - val_loss: 1.3542 - val_accuracy: 0.8840\n",
            "Epoch 111/150\n",
            "60/60 [==============================] - 0s 8ms/step - loss: 6.2768e-07 - accuracy: 1.0000 - val_loss: 1.3551 - val_accuracy: 0.8840\n",
            "Epoch 112/150\n",
            "60/60 [==============================] - 0s 8ms/step - loss: 2.6035e-06 - accuracy: 1.0000 - val_loss: 1.3576 - val_accuracy: 0.8850\n",
            "Epoch 113/150\n",
            "60/60 [==============================] - 0s 8ms/step - loss: 5.7291e-05 - accuracy: 1.0000 - val_loss: 1.3913 - val_accuracy: 0.8830\n",
            "Epoch 114/150\n",
            "60/60 [==============================] - 0s 8ms/step - loss: 0.0095 - accuracy: 0.9977 - val_loss: 1.3480 - val_accuracy: 0.8900\n",
            "Epoch 115/150\n",
            "60/60 [==============================] - 0s 8ms/step - loss: 2.2850e-05 - accuracy: 1.0000 - val_loss: 1.3416 - val_accuracy: 0.8930\n",
            "Epoch 116/150\n",
            "60/60 [==============================] - 0s 8ms/step - loss: 4.0389e-07 - accuracy: 1.0000 - val_loss: 1.4073 - val_accuracy: 0.8880\n",
            "Epoch 117/150\n",
            "60/60 [==============================] - 0s 8ms/step - loss: 0.0082 - accuracy: 0.9970 - val_loss: 1.3783 - val_accuracy: 0.8860\n",
            "Epoch 118/150\n",
            "60/60 [==============================] - 0s 8ms/step - loss: 8.4094e-06 - accuracy: 1.0000 - val_loss: 1.3174 - val_accuracy: 0.8900\n",
            "Epoch 119/150\n",
            "60/60 [==============================] - 0s 8ms/step - loss: 1.4089e-06 - accuracy: 1.0000 - val_loss: 1.3541 - val_accuracy: 0.8930\n",
            "Epoch 120/150\n",
            "60/60 [==============================] - 0s 8ms/step - loss: 0.0148 - accuracy: 0.9960 - val_loss: 1.3058 - val_accuracy: 0.8910\n",
            "Epoch 121/150\n",
            "60/60 [==============================] - 0s 8ms/step - loss: 4.5303e-07 - accuracy: 1.0000 - val_loss: 1.3125 - val_accuracy: 0.8920\n",
            "Epoch 122/150\n",
            "60/60 [==============================] - 0s 8ms/step - loss: 1.0725e-06 - accuracy: 1.0000 - val_loss: 1.2719 - val_accuracy: 0.8930\n",
            "Epoch 123/150\n",
            "60/60 [==============================] - 0s 8ms/step - loss: 0.0028 - accuracy: 0.9997 - val_loss: 1.3853 - val_accuracy: 0.8910\n",
            "Epoch 124/150\n",
            "60/60 [==============================] - 0s 8ms/step - loss: 1.2105e-06 - accuracy: 1.0000 - val_loss: 1.3715 - val_accuracy: 0.8900\n",
            "Epoch 125/150\n",
            "60/60 [==============================] - 0s 8ms/step - loss: 2.1147e-07 - accuracy: 1.0000 - val_loss: 1.4211 - val_accuracy: 0.8900\n",
            "Epoch 126/150\n",
            "60/60 [==============================] - 0s 8ms/step - loss: 0.0063 - accuracy: 0.9977 - val_loss: 1.3828 - val_accuracy: 0.8930\n",
            "Epoch 127/150\n",
            "60/60 [==============================] - 0s 8ms/step - loss: 4.4994e-07 - accuracy: 1.0000 - val_loss: 1.4098 - val_accuracy: 0.8830\n",
            "Epoch 128/150\n",
            "60/60 [==============================] - 0s 8ms/step - loss: 4.4167e-05 - accuracy: 1.0000 - val_loss: 2.6327 - val_accuracy: 0.8240\n",
            "Epoch 129/150\n",
            "60/60 [==============================] - 0s 8ms/step - loss: 0.0013 - accuracy: 0.9993 - val_loss: 1.4371 - val_accuracy: 0.8900\n",
            "Epoch 130/150\n",
            "60/60 [==============================] - 0s 8ms/step - loss: 1.6861e-06 - accuracy: 1.0000 - val_loss: 1.5068 - val_accuracy: 0.8900\n",
            "Epoch 131/150\n",
            "60/60 [==============================] - 0s 8ms/step - loss: 0.0016 - accuracy: 0.9990 - val_loss: 1.4488 - val_accuracy: 0.8910\n",
            "Epoch 132/150\n",
            "60/60 [==============================] - 0s 8ms/step - loss: 1.0123e-06 - accuracy: 1.0000 - val_loss: 1.4799 - val_accuracy: 0.8870\n",
            "Epoch 133/150\n",
            "60/60 [==============================] - 0s 8ms/step - loss: 9.7359e-07 - accuracy: 1.0000 - val_loss: 1.4530 - val_accuracy: 0.8910\n",
            "Epoch 134/150\n",
            "60/60 [==============================] - 0s 8ms/step - loss: 4.6428e-08 - accuracy: 1.0000 - val_loss: 1.4656 - val_accuracy: 0.8930\n",
            "Epoch 135/150\n",
            "60/60 [==============================] - 0s 8ms/step - loss: 0.0098 - accuracy: 0.9980 - val_loss: 1.4846 - val_accuracy: 0.8840\n",
            "Epoch 136/150\n",
            "60/60 [==============================] - 0s 8ms/step - loss: 9.0602e-07 - accuracy: 1.0000 - val_loss: 1.4377 - val_accuracy: 0.8910\n",
            "Epoch 137/150\n",
            "60/60 [==============================] - 0s 8ms/step - loss: 1.2392e-07 - accuracy: 1.0000 - val_loss: 1.4388 - val_accuracy: 0.8930\n",
            "Epoch 138/150\n",
            "60/60 [==============================] - 0s 8ms/step - loss: 9.1477e-08 - accuracy: 1.0000 - val_loss: 1.4333 - val_accuracy: 0.8910\n",
            "Epoch 139/150\n",
            "60/60 [==============================] - 0s 8ms/step - loss: 6.2834e-05 - accuracy: 1.0000 - val_loss: 1.4588 - val_accuracy: 0.8890\n",
            "Epoch 140/150\n",
            "60/60 [==============================] - 0s 8ms/step - loss: 6.2199e-07 - accuracy: 1.0000 - val_loss: 1.4651 - val_accuracy: 0.8890\n",
            "Epoch 141/150\n",
            "60/60 [==============================] - 0s 8ms/step - loss: 0.0019 - accuracy: 0.9993 - val_loss: 1.4323 - val_accuracy: 0.8900\n",
            "Epoch 142/150\n",
            "60/60 [==============================] - 0s 8ms/step - loss: 4.5083e-08 - accuracy: 1.0000 - val_loss: 1.4387 - val_accuracy: 0.8880\n",
            "Epoch 143/150\n",
            "60/60 [==============================] - 0s 8ms/step - loss: 2.2237e-07 - accuracy: 1.0000 - val_loss: 1.4825 - val_accuracy: 0.8890\n",
            "Epoch 144/150\n",
            "60/60 [==============================] - 0s 8ms/step - loss: 1.2276e-07 - accuracy: 1.0000 - val_loss: 1.4995 - val_accuracy: 0.8850\n",
            "Epoch 145/150\n",
            "60/60 [==============================] - 0s 8ms/step - loss: 0.0160 - accuracy: 0.9953 - val_loss: 1.5790 - val_accuracy: 0.8840\n",
            "Epoch 146/150\n",
            "60/60 [==============================] - 0s 8ms/step - loss: 4.0542e-07 - accuracy: 1.0000 - val_loss: 1.5605 - val_accuracy: 0.8850\n",
            "Epoch 147/150\n",
            "60/60 [==============================] - 0s 8ms/step - loss: 1.8491e-07 - accuracy: 1.0000 - val_loss: 1.4946 - val_accuracy: 0.8870\n",
            "Epoch 148/150\n",
            "60/60 [==============================] - 0s 8ms/step - loss: 1.1957e-08 - accuracy: 1.0000 - val_loss: 1.4849 - val_accuracy: 0.8870\n",
            "Epoch 149/150\n",
            "60/60 [==============================] - 1s 8ms/step - loss: 9.6365e-05 - accuracy: 1.0000 - val_loss: 1.4823 - val_accuracy: 0.8840\n",
            "Epoch 150/150\n",
            "60/60 [==============================] - 0s 8ms/step - loss: 5.9730e-06 - accuracy: 1.0000 - val_loss: 1.4909 - val_accuracy: 0.8840\n"
          ]
        }
      ]
    },
    {
      "cell_type": "code",
      "metadata": {
        "id": "P0Fk-e8wA3jd",
        "colab": {
          "base_uri": "https://localhost:8080/",
          "height": 275
        },
        "outputId": "7a600345-ed75-45f6-f484-ff367fce0223"
      },
      "source": [
        "f, (ax1, ax2) = plt.subplots(1, 2, figsize=(12, 4))\n",
        "t = f.suptitle('Pre-trained CNN (Transfer Learning) Performance', fontsize=12)\n",
        "f.subplots_adjust(top=0.85, wspace=0.3)\n",
        "\n",
        "epoch_list = list(range(1,151))\n",
        "ax1.plot(epoch_list, history.history['accuracy'], label='Train Accuracy')\n",
        "ax1.plot(epoch_list, history.history['val_accuracy'], label='Validation Accuracy')\n",
        "ax1.set_xticks(np.arange(0, 151, 5))\n",
        "ax1.set_ylabel('Accuracy Value')\n",
        "ax1.set_xlabel('Epoch')\n",
        "ax1.set_title('Accuracy')\n",
        "l1 = ax1.legend(loc=\"best\")\n",
        "\n",
        "ax2.plot(epoch_list, history.history['loss'], label='Train Loss')\n",
        "ax2.plot(epoch_list, history.history['val_loss'], label='Validation Loss')\n",
        "ax2.set_xticks(np.arange(0, 151, 5))\n",
        "ax2.set_ylabel('Loss Value')\n",
        "ax2.set_xlabel('Epoch')\n",
        "ax2.set_title('Loss')\n",
        "l2 = ax2.legend(loc=\"best\")"
      ],
      "execution_count": null,
      "outputs": [
        {
          "output_type": "display_data",
          "data": {
            "image/png": "[encoded data removed]",
            "text/plain": [
              "<Figure size 864x288 with 2 Axes>"
            ]
          },
          "metadata": {
            "needs_background": "light"
          }
        }
      ]
    },
    {
      "cell_type": "code",
      "metadata": {
        "id": "wHLV0XfKA3jd"
      },
      "source": [
        "model.save('4-pretrained_cnn.h5')"
      ],
      "execution_count": null,
      "outputs": []
    }
  ]
}
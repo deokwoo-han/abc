{
  "nbformat": 4,
  "nbformat_minor": 5,
  "metadata": {
    "kernelspec": {
      "display_name": "Python KOSA",
      "language": "python",
      "name": "kosa"
    },
    "language_info": {
      "codemirror_mode": {
        "name": "ipython",
        "version": 3
      },
      "file_extension": ".py",
      "mimetype": "text/x-python",
      "name": "python",
      "nbconvert_exporter": "python",
      "pygments_lexer": "ipython3",
      "version": "3.8.12"
    },
    "colab": {
      "name": "10.25-1 cv2_01-1021.ipynb",
      "provenance": [],
      "collapsed_sections": [],
      "include_colab_link": true
    }
  },
  "cells": [
    {
      "cell_type": "markdown",
      "metadata": {
        "id": "view-in-github",
        "colab_type": "text"
      },
      "source": [
        "<a href=\"https://colab.research.google.com/github/deokwoo-han/abc/blob/master/10_25_1_cv2_01_1021.ipynb\" target=\"_parent\"><img src=\"https://colab.research.google.com/assets/colab-badge.svg\" alt=\"Open In Colab\"/></a>"
      ]
    },
    {
      "cell_type": "code",
      "metadata": {
        "id": "17848014-eedd-4af2-b42b-f44069db4f22",
        "outputId": "f155db9d-57f9-4fcd-91b5-be7125a8d171"
      },
      "source": [
        "import sys\n",
        "print(sys.version)"
      ],
      "id": "17848014-eedd-4af2-b42b-f44069db4f22",
      "execution_count": null,
      "outputs": [
        {
          "name": "stdout",
          "output_type": "stream",
          "text": [
            "3.8.12 (default, Oct 12 2021, 03:01:40) [MSC v.1916 64 bit (AMD64)]\n"
          ]
        }
      ]
    },
    {
      "cell_type": "code",
      "metadata": {
        "id": "045bb924-5710-45b8-bf5a-6044e1bdbf99"
      },
      "source": [
        "import cv2"
      ],
      "id": "045bb924-5710-45b8-bf5a-6044e1bdbf99",
      "execution_count": null,
      "outputs": []
    },
    {
      "cell_type": "code",
      "metadata": {
        "id": "07dfd0a3-8a6d-4ed4-a5d0-f15c3a2198d7",
        "outputId": "368fbc1c-1037-4751-b135-84a6b8537889"
      },
      "source": [
        "cv2.__version__"
      ],
      "id": "07dfd0a3-8a6d-4ed4-a5d0-f15c3a2198d7",
      "execution_count": null,
      "outputs": [
        {
          "data": {
            "text/plain": [
              "'4.4.0'"
            ]
          },
          "execution_count": 5,
          "metadata": {},
          "output_type": "execute_result"
        }
      ]
    },
    {
      "cell_type": "code",
      "metadata": {
        "id": "4caf3e37-bed1-409d-80bc-e831f084f00c",
        "outputId": "d10474e5-a1c2-4ba0-9796-bf91cb5ef509"
      },
      "source": [
        "!cd"
      ],
      "id": "4caf3e37-bed1-409d-80bc-e831f084f00c",
      "execution_count": null,
      "outputs": [
        {
          "name": "stdout",
          "output_type": "stream",
          "text": [
            "C:\\Users\\COM\\KOSA_Vision_Exercise-main\n"
          ]
        }
      ]
    },
    {
      "cell_type": "code",
      "metadata": {
        "id": "c1eeb856-a698-432e-8750-a7429d7be0b2",
        "outputId": "9e1e64d2-d757-46fe-ef45-2c382bb73f85"
      },
      "source": [
        "!dir ..\\\\banana*.png"
      ],
      "id": "c1eeb856-a698-432e-8750-a7429d7be0b2",
      "execution_count": null,
      "outputs": [
        {
          "name": "stdout",
          "output_type": "stream",
          "text": [
            " C 드라이브의 볼륨에는 이름이 없습니다.\n",
            " 볼륨 일련 번호: 8C8A-9FA0\n",
            "\n",
            " C:\\Users\\COM 디렉터리\n",
            "\n",
            "2021-10-25  오전 09:32             6,553 banana3.png\n",
            "               1개 파일               6,553 바이트\n",
            "               0개 디렉터리  139,771,138,048 바이트 남음\n"
          ]
        }
      ]
    },
    {
      "cell_type": "code",
      "metadata": {
        "id": "8a82772e-d479-4f9b-8964-7daf03c4cb69"
      },
      "source": [
        "src = cv2.imread('..\\\\banana3.png')"
      ],
      "id": "8a82772e-d479-4f9b-8964-7daf03c4cb69",
      "execution_count": null,
      "outputs": []
    },
    {
      "cell_type": "code",
      "metadata": {
        "id": "8e7a2d30-c213-478b-bdbd-d12d788928e0",
        "outputId": "7c1efd5e-f913-40b1-b420-9734c03a58e5"
      },
      "source": [
        "src.shape"
      ],
      "id": "8e7a2d30-c213-478b-bdbd-d12d788928e0",
      "execution_count": null,
      "outputs": [
        {
          "data": {
            "text/plain": [
              "(194, 259, 3)"
            ]
          },
          "execution_count": 9,
          "metadata": {},
          "output_type": "execute_result"
        }
      ]
    },
    {
      "cell_type": "code",
      "metadata": {
        "id": "a25049ae-64e9-43d8-bf93-70be835a6924"
      },
      "source": [
        "cv2.imshow('banana window', src)#아래를 바로"
      ],
      "id": "a25049ae-64e9-43d8-bf93-70be835a6924",
      "execution_count": null,
      "outputs": []
    },
    {
      "cell_type": "code",
      "metadata": {
        "id": "61ac1db9-4e4a-4b36-bb65-d72c5060e50b"
      },
      "source": [
        "cv2.waitKey(0) # 0 forever #opencv는 카메라만드는 사람들이 만들어서 bgr\n",
        "cv2.destroyAllWindows()"
      ],
      "id": "61ac1db9-4e4a-4b36-bb65-d72c5060e50b",
      "execution_count": null,
      "outputs": []
    },
    {
      "cell_type": "code",
      "metadata": {
        "id": "a4a0cf4c-9726-4826-8939-6ab1fe433b4d"
      },
      "source": [
        "import matplotlib.pyplot as plt"
      ],
      "id": "a4a0cf4c-9726-4826-8939-6ab1fe433b4d",
      "execution_count": null,
      "outputs": []
    },
    {
      "cell_type": "code",
      "metadata": {
        "id": "743f0647-bc6f-4a7b-baa5-815d57147658"
      },
      "source": [
        "plt.imshow(src) #r과 b가 바뀜\n",
        "plt.show()#카메라 하는 사람들과 가까웠음"
      ],
      "id": "743f0647-bc6f-4a7b-baa5-815d57147658",
      "execution_count": null,
      "outputs": []
    },
    {
      "cell_type": "code",
      "metadata": {
        "id": "c8c8af01-dc22-4c1e-83fc-db4d55406d5d"
      },
      "source": [
        "src = cv2.imread('.\\\\images\\\\opencv-logo-white.png', -1)#[...,::-1]#bgr을 rgb\n",
        "#24비트여서 알파 채널이 없다?\n",
        "#bgr과 rgb에 의해 노란색이 바뀐다"
      ],
      "id": "c8c8af01-dc22-4c1e-83fc-db4d55406d5d",
      "execution_count": null,
      "outputs": []
    },
    {
      "cell_type": "code",
      "metadata": {
        "id": "c0862226-cc5a-447b-9cdd-292caab3889a"
      },
      "source": [
        "plt.imshow(src) #r과 b가 바뀜\n",
        "plt.show()#카메라 하는 사람들과 가까웠음"
      ],
      "id": "c0862226-cc5a-447b-9cdd-292caab3889a",
      "execution_count": null,
      "outputs": []
    },
    {
      "cell_type": "code",
      "metadata": {
        "id": "7228aa00-a81f-4c78-b7e5-76677ddf3ddd"
      },
      "source": [
        "src = cv2.imread('.\\\\images\\\\opencv-logo-white.png')[...,::-1]#bgr을 rgb\n",
        "#24비트여서 알파 채널이 없다?\n",
        "#bgr과 rgb에 의해 노란색이 바뀐다"
      ],
      "id": "7228aa00-a81f-4c78-b7e5-76677ddf3ddd",
      "execution_count": null,
      "outputs": []
    },
    {
      "cell_type": "code",
      "metadata": {
        "id": "15c1a00d-0893-440e-9013-f480f9655f16"
      },
      "source": [
        "plt.imshow(src) #r과 b가 바뀜\n",
        "plt.show()#카메라 하는 사람들과 가까웠음 #bgr"
      ],
      "id": "15c1a00d-0893-440e-9013-f480f9655f16",
      "execution_count": null,
      "outputs": []
    },
    {
      "cell_type": "code",
      "metadata": {
        "id": "2900dd0f-f9b3-406b-9f7a-a8bcbeaba01e"
      },
      "source": [
        ""
      ],
      "id": "2900dd0f-f9b3-406b-9f7a-a8bcbeaba01e",
      "execution_count": null,
      "outputs": []
    },
    {
      "cell_type": "code",
      "metadata": {
        "id": "397fb4da-294d-4c5d-83f6-47399982c0e2"
      },
      "source": [
        ""
      ],
      "id": "397fb4da-294d-4c5d-83f6-47399982c0e2",
      "execution_count": null,
      "outputs": []
    },
    {
      "cell_type": "code",
      "metadata": {
        "id": "970ed83f-d0d7-43f4-8e8e-f394cd36e4ca"
      },
      "source": [
        "import cv2"
      ],
      "id": "970ed83f-d0d7-43f4-8e8e-f394cd36e4ca",
      "execution_count": null,
      "outputs": []
    },
    {
      "cell_type": "code",
      "metadata": {
        "id": "03bc1ff8-efdf-48f5-8167-ad3943fa1205"
      },
      "source": [
        "src1 = cv2.imread('.\\\\images\\\\bicycle.png')#자전거\n",
        "#src1 = cv2.imread('.\\\\images\\\\messi5.jpg')\n",
        "#src2 = cv2.imread('.\\\\images\\\\opencv-logo-white.png')"
      ],
      "id": "03bc1ff8-efdf-48f5-8167-ad3943fa1205",
      "execution_count": null,
      "outputs": []
    },
    {
      "cell_type": "code",
      "metadata": {
        "id": "34d295c3-c1e2-4824-b805-67fe12d8c9d4"
      },
      "source": [
        "src1 = cv2.resize(src1, dsize=(0,0), fx=.3, fy=.3, interpolation = cv2.INTER_AREA)"
      ],
      "id": "34d295c3-c1e2-4824-b805-67fe12d8c9d4",
      "execution_count": null,
      "outputs": []
    },
    {
      "cell_type": "code",
      "metadata": {
        "id": "fa4fbe7d-97ac-46cd-952b-463a2604127b"
      },
      "source": [
        "#cv2.imshow('opencv logo window', src2)"
      ],
      "id": "fa4fbe7d-97ac-46cd-952b-463a2604127b",
      "execution_count": null,
      "outputs": []
    },
    {
      "cell_type": "code",
      "metadata": {
        "id": "067e3daf-b956-40f6-81b3-837f4e04e132"
      },
      "source": [
        "#cv2.waitKey(0) \n",
        "#cv2.destroyAllWindows()"
      ],
      "id": "067e3daf-b956-40f6-81b3-837f4e04e132",
      "execution_count": null,
      "outputs": []
    },
    {
      "cell_type": "code",
      "metadata": {
        "id": "591b7160-b69e-4622-9b93-7abc6349a2a6"
      },
      "source": [
        "rows, cols, channels = src1.shape #세 채널로 읽은 다음\n",
        "#238 높이, 180 폭"
      ],
      "id": "591b7160-b69e-4622-9b93-7abc6349a2a6",
      "execution_count": null,
      "outputs": []
    },
    {
      "cell_type": "code",
      "metadata": {
        "id": "045c6f79-788a-4980-8869-406cf0cda752",
        "outputId": "0333008a-f392-4bc1-c2a6-46f24bb91b40"
      },
      "source": [
        "print(rows, cols, channels)"
      ],
      "id": "045c6f79-788a-4980-8869-406cf0cda752",
      "execution_count": null,
      "outputs": [
        {
          "name": "stdout",
          "output_type": "stream",
          "text": [
            "460 614 3\n"
          ]
        }
      ]
    },
    {
      "cell_type": "code",
      "metadata": {
        "id": "2fff0aa0-368e-4268-9388-bfc27572720a"
      },
      "source": [
        "gray = cv2.cvtColor(src1, 6)#cv2.COLOR_BGR2GRAY)#그레이트 스케일 메소드?\n",
        "#세 계 채널이 0과 1"
      ],
      "id": "2fff0aa0-368e-4268-9388-bfc27572720a",
      "execution_count": null,
      "outputs": []
    },
    {
      "cell_type": "code",
      "metadata": {
        "id": "01ab82a9-57eb-40a3-922e-4b64fe051d8d",
        "outputId": "8ec2c284-7395-4713-e3ea-29b10346196d"
      },
      "source": [
        "gray.shape #명암이 밝고 적고의 차이?"
      ],
      "id": "01ab82a9-57eb-40a3-922e-4b64fe051d8d",
      "execution_count": null,
      "outputs": [
        {
          "data": {
            "text/plain": [
              "(460, 614)"
            ]
          },
          "execution_count": 7,
          "metadata": {},
          "output_type": "execute_result"
        }
      ]
    },
    {
      "cell_type": "code",
      "metadata": {
        "id": "20db8d5c-ecca-4db1-9323-30f133eb3d51"
      },
      "source": [
        "_ , mask = cv2.threshold(gray, 135, 255, cv2.THRESH_BINARY)#빨간거 파란거는 이미지 값을 125->80 정도로?"
      ],
      "id": "20db8d5c-ecca-4db1-9323-30f133eb3d51",
      "execution_count": null,
      "outputs": []
    },
    {
      "cell_type": "code",
      "metadata": {
        "id": "d76420ea-d201-4b72-b81e-e4342d69ddb5"
      },
      "source": [
        "mask_inv = cv2.bitwise_not(mask) #인버전"
      ],
      "id": "d76420ea-d201-4b72-b81e-e4342d69ddb5",
      "execution_count": null,
      "outputs": []
    },
    {
      "cell_type": "code",
      "metadata": {
        "id": "f2cba918-69da-4798-b6a3-668429ca0b26"
      },
      "source": [
        "src1_sub = cv2.bitwise_and(src1, src1, mask = mask_inv)"
      ],
      "id": "f2cba918-69da-4798-b6a3-668429ca0b26",
      "execution_count": null,
      "outputs": []
    },
    {
      "cell_type": "code",
      "metadata": {
        "id": "96b830d0-db8f-4f3a-9fab-1ec17465be6f"
      },
      "source": [
        "cv2.imshow('opencv logo window', src1)\n",
        "cv2.imshow('Gray', gray)\n",
        "cv2.imshow('Mask', mask)#0과 1 값으로... 하얀 곳만\n",
        "#cv2.imshow('Mask Inversion', mask_inv) #0과 1값이 바뀜\n",
        "cv2.imshow('Substraction', src1_sub) #하얀 곳만 나오게 빼버림, 125하면 초록 만 나옴 #앤드?\n",
        "#바퀴 프레임만 빼려고 하니 노란색이 됨, 백그라운드를 0으로 만들려고 한다면....\n",
        "#인버스 한 것을 넣으면 프레임만\n",
        "cv2.waitKey(0)\n",
        "cv2.destroyAllWindows()#장님 코끼리 만지기 마냥 어렴풋이 넣어 가는..."
      ],
      "id": "96b830d0-db8f-4f3a-9fab-1ec17465be6f",
      "execution_count": null,
      "outputs": []
    },
    {
      "cell_type": "code",
      "metadata": {
        "id": "0722070b-eeea-4d50-bb42-2f315efec717"
      },
      "source": [
        "#이미지 뒤집기? 앤드 연산?"
      ],
      "id": "0722070b-eeea-4d50-bb42-2f315efec717",
      "execution_count": null,
      "outputs": []
    },
    {
      "cell_type": "code",
      "metadata": {
        "id": "3a216768-53b5-4416-b9f7-bfa4a937f0bf"
      },
      "source": [
        ""
      ],
      "id": "3a216768-53b5-4416-b9f7-bfa4a937f0bf",
      "execution_count": null,
      "outputs": []
    },
    {
      "cell_type": "code",
      "metadata": {
        "id": "a185e6de-2388-496e-9b6b-9a4a0a80ae3b"
      },
      "source": [
        ""
      ],
      "id": "a185e6de-2388-496e-9b6b-9a4a0a80ae3b",
      "execution_count": null,
      "outputs": []
    },
    {
      "cell_type": "code",
      "metadata": {
        "id": "49ad9c92-f5d6-4cea-ac09-d7785eca8983"
      },
      "source": [
        ""
      ],
      "id": "49ad9c92-f5d6-4cea-ac09-d7785eca8983",
      "execution_count": null,
      "outputs": []
    },
    {
      "cell_type": "code",
      "metadata": {
        "id": "f3b2695a-d89d-475a-9a44-d80851489ba7"
      },
      "source": [
        ""
      ],
      "id": "f3b2695a-d89d-475a-9a44-d80851489ba7",
      "execution_count": null,
      "outputs": []
    },
    {
      "cell_type": "code",
      "metadata": {
        "id": "bd3f8b58-c0df-4145-aab3-9915d4c88a51"
      },
      "source": [
        ""
      ],
      "id": "bd3f8b58-c0df-4145-aab3-9915d4c88a51",
      "execution_count": null,
      "outputs": []
    },
    {
      "cell_type": "code",
      "metadata": {
        "id": "bb607659-d16a-48de-99f6-aa8631addcf1"
      },
      "source": [
        "b,g,r = cv2.split(src)"
      ],
      "id": "bb607659-d16a-48de-99f6-aa8631addcf1",
      "execution_count": null,
      "outputs": []
    },
    {
      "cell_type": "code",
      "metadata": {
        "id": "7ad9050b-e392-4c30-89c8-05db10f35f58"
      },
      "source": [
        "reverse_img = cv2.merge((r,g,b))"
      ],
      "id": "7ad9050b-e392-4c30-89c8-05db10f35f58",
      "execution_count": null,
      "outputs": []
    },
    {
      "cell_type": "code",
      "metadata": {
        "id": "cbd1c40a-20d5-4f50-b715-af01fb481766"
      },
      "source": [
        "dst = cv2.resize(reverse_img, dsize=(640, 480), interpolation = cv2.INTER_NEAREST)"
      ],
      "id": "cbd1c40a-20d5-4f50-b715-af01fb481766",
      "execution_count": null,
      "outputs": []
    },
    {
      "cell_type": "code",
      "metadata": {
        "id": "0992325a-ef84-4c90-bde2-8a135aee2b72"
      },
      "source": [
        "dst2 = cv2.resize(src, dsize=(0,0), fx=1, fy=1, interpolation = cv2.INTER_NEAREST)"
      ],
      "id": "0992325a-ef84-4c90-bde2-8a135aee2b72",
      "execution_count": null,
      "outputs": []
    },
    {
      "cell_type": "code",
      "metadata": {
        "tags": [],
        "id": "4372bb92-34a4-4b43-9043-850375ea86ee"
      },
      "source": [
        "#dst3 = cv2.resize(src, dsize=(0,0), fx=0.3, fy=0.3, interpolation = cv2.INTER_AREA)"
      ],
      "id": "4372bb92-34a4-4b43-9043-850375ea86ee",
      "execution_count": null,
      "outputs": []
    },
    {
      "cell_type": "code",
      "metadata": {
        "id": "da3a7d97-330a-4a6a-a0f3-f8138b9b6fa7"
      },
      "source": [
        "#dst = cv2.resize(src, dsize[, dst[, fx[, fy[, interpolation]]]]\t)"
      ],
      "id": "da3a7d97-330a-4a6a-a0f3-f8138b9b6fa7",
      "execution_count": null,
      "outputs": []
    },
    {
      "cell_type": "code",
      "metadata": {
        "id": "88f11da0-01e5-4196-b4f0-e7790346d61a"
      },
      "source": [
        "src.shape"
      ],
      "id": "88f11da0-01e5-4196-b4f0-e7790346d61a",
      "execution_count": null,
      "outputs": []
    },
    {
      "cell_type": "code",
      "metadata": {
        "id": "e1fd0472-09e5-4bdc-b768-a5055089314d"
      },
      "source": [
        "#upside_down = cv2.flip(src, -1)"
      ],
      "id": "e1fd0472-09e5-4bdc-b768-a5055089314d",
      "execution_count": null,
      "outputs": []
    },
    {
      "cell_type": "code",
      "metadata": {
        "id": "5c4becb2-882c-4fbc-b875-d371ba7bc26f"
      },
      "source": [
        "cv2.imshow('Image', dst)\n",
        "cv2.imshow('Image - nearest', dst2)\n",
        "#cv2.imshow('Image - area', dst3)\n",
        "#cv2.imwrite('.\\\\lotte-image.jpg',dst3)\n",
        "cv2.waitKey(0) # 0 forever \n",
        "cv2.destroyAllWindows()"
      ],
      "id": "5c4becb2-882c-4fbc-b875-d371ba7bc26f",
      "execution_count": null,
      "outputs": []
    },
    {
      "cell_type": "code",
      "metadata": {
        "id": "aebbbc5c-8c1b-4983-97e6-e4cf5e535db2"
      },
      "source": [
        "!cd"
      ],
      "id": "aebbbc5c-8c1b-4983-97e6-e4cf5e535db2",
      "execution_count": null,
      "outputs": []
    }
  ]
}